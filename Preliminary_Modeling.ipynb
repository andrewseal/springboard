{
 "cells": [
  {
   "cell_type": "markdown",
   "id": "5e708ec4",
   "metadata": {},
   "source": [
    "# Step 1:  Imports"
   ]
  },
  {
   "cell_type": "code",
   "execution_count": 1,
   "id": "cf4295c5",
   "metadata": {},
   "outputs": [],
   "source": [
    "import pandas as pd\n",
    "from sklearn.feature_extraction.text import CountVectorizer\n",
    "from sklearn.model_selection import train_test_split, cross_validate, GridSearchCV, learning_curve\n",
    "import numpy as np\n",
    "import matplotlib.pyplot as plt\n",
    "from sklearn.naive_bayes import MultinomialNB\n",
    "from sklearn import tree, metrics\n",
    "\n",
    "from sklearn.pipeline import Pipeline, FeatureUnion\n",
    "\n",
    "from sklearn.linear_model import LogisticRegression"
   ]
  },
  {
   "cell_type": "markdown",
   "id": "e3cb716c",
   "metadata": {},
   "source": [
    "# Step 2:  Load the Data"
   ]
  },
  {
   "cell_type": "code",
   "execution_count": 2,
   "id": "8b995b8c",
   "metadata": {},
   "outputs": [],
   "source": [
    "df = pd.read_csv('Suicide_Detection_Cleaned.csv')"
   ]
  },
  {
   "cell_type": "code",
   "execution_count": 3,
   "id": "05664333",
   "metadata": {},
   "outputs": [
    {
     "data": {
      "text/html": [
       "<div>\n",
       "<style scoped>\n",
       "    .dataframe tbody tr th:only-of-type {\n",
       "        vertical-align: middle;\n",
       "    }\n",
       "\n",
       "    .dataframe tbody tr th {\n",
       "        vertical-align: top;\n",
       "    }\n",
       "\n",
       "    .dataframe thead th {\n",
       "        text-align: right;\n",
       "    }\n",
       "</style>\n",
       "<table border=\"1\" class=\"dataframe\">\n",
       "  <thead>\n",
       "    <tr style=\"text-align: right;\">\n",
       "      <th></th>\n",
       "      <th>Unnamed: 0</th>\n",
       "      <th>Unnamed: 0.1</th>\n",
       "      <th>Unnamed: 0.1.1</th>\n",
       "      <th>text</th>\n",
       "      <th>class</th>\n",
       "      <th>clean</th>\n",
       "      <th>word</th>\n",
       "      <th>clean_text</th>\n",
       "      <th>length</th>\n",
       "      <th>sentiment</th>\n",
       "      <th>flesch_kincaid</th>\n",
       "      <th>repetition</th>\n",
       "    </tr>\n",
       "  </thead>\n",
       "  <tbody>\n",
       "    <tr>\n",
       "      <th>0</th>\n",
       "      <td>0</td>\n",
       "      <td>0</td>\n",
       "      <td>2</td>\n",
       "      <td>Ex Wife Threatening SuicideRecently I left my ...</td>\n",
       "      <td>suicide</td>\n",
       "      <td>ex wife threatening suiciderecently i left my ...</td>\n",
       "      <td>['ex', 'wife', 'threatening', 'suiciderecently...</td>\n",
       "      <td>ex wife threatening suiciderecently left wife ...</td>\n",
       "      <td>345</td>\n",
       "      <td>0.100000</td>\n",
       "      <td>24.4</td>\n",
       "      <td>0</td>\n",
       "    </tr>\n",
       "    <tr>\n",
       "      <th>1</th>\n",
       "      <td>1</td>\n",
       "      <td>1</td>\n",
       "      <td>3</td>\n",
       "      <td>Am I weird I don't get affected by compliments...</td>\n",
       "      <td>non-suicide</td>\n",
       "      <td>am i weird i do not get affected by compliment...</td>\n",
       "      <td>['weird', 'affected', 'compliment', 'coming', ...</td>\n",
       "      <td>weird affected compliment coming know irl feel...</td>\n",
       "      <td>69</td>\n",
       "      <td>0.100000</td>\n",
       "      <td>8.4</td>\n",
       "      <td>0</td>\n",
       "    </tr>\n",
       "    <tr>\n",
       "      <th>2</th>\n",
       "      <td>2</td>\n",
       "      <td>2</td>\n",
       "      <td>4</td>\n",
       "      <td>Finally 2020 is almost over... So I can never ...</td>\n",
       "      <td>non-suicide</td>\n",
       "      <td>finally  is almost over so i can never hear  h...</td>\n",
       "      <td>['finally', 'hear', 'bad', 'year', 'swear', 'f...</td>\n",
       "      <td>finally hear bad year swear fucking god annoying</td>\n",
       "      <td>48</td>\n",
       "      <td>-0.525000</td>\n",
       "      <td>6.4</td>\n",
       "      <td>0</td>\n",
       "    </tr>\n",
       "    <tr>\n",
       "      <th>3</th>\n",
       "      <td>3</td>\n",
       "      <td>3</td>\n",
       "      <td>8</td>\n",
       "      <td>i need helpjust help me im crying so hard</td>\n",
       "      <td>suicide</td>\n",
       "      <td>i need helpjust help me im crying so hard</td>\n",
       "      <td>['need', 'helpjust', 'help', 'im', 'cry', 'hard']</td>\n",
       "      <td>need helpjust help im cry hard</td>\n",
       "      <td>30</td>\n",
       "      <td>-0.291667</td>\n",
       "      <td>-1.5</td>\n",
       "      <td>0</td>\n",
       "    </tr>\n",
       "    <tr>\n",
       "      <th>4</th>\n",
       "      <td>4</td>\n",
       "      <td>4</td>\n",
       "      <td>9</td>\n",
       "      <td>I’m so lostHello, my name is Adam (16) and I’v...</td>\n",
       "      <td>suicide</td>\n",
       "      <td>i am so losthello my name is adam  and i have ...</td>\n",
       "      <td>['losthello', 'adam', 'struggling', 'year', 'a...</td>\n",
       "      <td>losthello adam struggling year afraid past yea...</td>\n",
       "      <td>1281</td>\n",
       "      <td>-0.228461</td>\n",
       "      <td>74.7</td>\n",
       "      <td>2</td>\n",
       "    </tr>\n",
       "  </tbody>\n",
       "</table>\n",
       "</div>"
      ],
      "text/plain": [
       "   Unnamed: 0  Unnamed: 0.1  Unnamed: 0.1.1  \\\n",
       "0           0             0               2   \n",
       "1           1             1               3   \n",
       "2           2             2               4   \n",
       "3           3             3               8   \n",
       "4           4             4               9   \n",
       "\n",
       "                                                text        class  \\\n",
       "0  Ex Wife Threatening SuicideRecently I left my ...      suicide   \n",
       "1  Am I weird I don't get affected by compliments...  non-suicide   \n",
       "2  Finally 2020 is almost over... So I can never ...  non-suicide   \n",
       "3          i need helpjust help me im crying so hard      suicide   \n",
       "4  I’m so lostHello, my name is Adam (16) and I’v...      suicide   \n",
       "\n",
       "                                               clean  \\\n",
       "0  ex wife threatening suiciderecently i left my ...   \n",
       "1  am i weird i do not get affected by compliment...   \n",
       "2  finally  is almost over so i can never hear  h...   \n",
       "3          i need helpjust help me im crying so hard   \n",
       "4  i am so losthello my name is adam  and i have ...   \n",
       "\n",
       "                                                word  \\\n",
       "0  ['ex', 'wife', 'threatening', 'suiciderecently...   \n",
       "1  ['weird', 'affected', 'compliment', 'coming', ...   \n",
       "2  ['finally', 'hear', 'bad', 'year', 'swear', 'f...   \n",
       "3  ['need', 'helpjust', 'help', 'im', 'cry', 'hard']   \n",
       "4  ['losthello', 'adam', 'struggling', 'year', 'a...   \n",
       "\n",
       "                                          clean_text  length  sentiment  \\\n",
       "0  ex wife threatening suiciderecently left wife ...     345   0.100000   \n",
       "1  weird affected compliment coming know irl feel...      69   0.100000   \n",
       "2   finally hear bad year swear fucking god annoying      48  -0.525000   \n",
       "3                     need helpjust help im cry hard      30  -0.291667   \n",
       "4  losthello adam struggling year afraid past yea...    1281  -0.228461   \n",
       "\n",
       "   flesch_kincaid  repetition  \n",
       "0            24.4           0  \n",
       "1             8.4           0  \n",
       "2             6.4           0  \n",
       "3            -1.5           0  \n",
       "4            74.7           2  "
      ]
     },
     "execution_count": 3,
     "metadata": {},
     "output_type": "execute_result"
    }
   ],
   "source": [
    "df.head(5)"
   ]
  },
  {
   "cell_type": "code",
   "execution_count": 4,
   "id": "43c0f537",
   "metadata": {},
   "outputs": [],
   "source": [
    "df = df.dropna()"
   ]
  },
  {
   "cell_type": "code",
   "execution_count": 5,
   "id": "5d830114",
   "metadata": {
    "scrolled": true
   },
   "outputs": [
    {
     "name": "stderr",
     "output_type": "stream",
     "text": [
      "C:\\Users\\BETH&A~1\\AppData\\Local\\Temp/ipykernel_3544/3149362354.py:1: SettingWithCopyWarning: \n",
      "A value is trying to be set on a copy of a slice from a DataFrame\n",
      "\n",
      "See the caveats in the documentation: https://pandas.pydata.org/pandas-docs/stable/user_guide/indexing.html#returning-a-view-versus-a-copy\n",
      "  df['class'][df['class'] == 'suicide'] = 1\n",
      "C:\\Users\\BETH&A~1\\AppData\\Local\\Temp/ipykernel_3544/3149362354.py:2: SettingWithCopyWarning: \n",
      "A value is trying to be set on a copy of a slice from a DataFrame\n",
      "\n",
      "See the caveats in the documentation: https://pandas.pydata.org/pandas-docs/stable/user_guide/indexing.html#returning-a-view-versus-a-copy\n",
      "  df['class'][df['class'] == 'non-suicide'] = 0\n"
     ]
    }
   ],
   "source": [
    "df['class'][df['class'] == 'suicide'] = 1\n",
    "df['class'][df['class'] == 'non-suicide'] = 0"
   ]
  },
  {
   "cell_type": "code",
   "execution_count": 6,
   "id": "de416d23",
   "metadata": {},
   "outputs": [],
   "source": [
    "df['class'] = df['class'].astype(int)"
   ]
  },
  {
   "cell_type": "code",
   "execution_count": 7,
   "id": "6e099278",
   "metadata": {},
   "outputs": [
    {
     "name": "stdout",
     "output_type": "stream",
     "text": [
      "<class 'pandas.core.frame.DataFrame'>\n",
      "Int64Index: 232049 entries, 0 to 232048\n",
      "Data columns (total 12 columns):\n",
      " #   Column          Non-Null Count   Dtype  \n",
      "---  ------          --------------   -----  \n",
      " 0   Unnamed: 0      232049 non-null  int64  \n",
      " 1   Unnamed: 0.1    232049 non-null  int64  \n",
      " 2   Unnamed: 0.1.1  232049 non-null  int64  \n",
      " 3   text            232049 non-null  object \n",
      " 4   class           232049 non-null  int32  \n",
      " 5   clean           232049 non-null  object \n",
      " 6   word            232049 non-null  object \n",
      " 7   clean_text      232049 non-null  object \n",
      " 8   length          232049 non-null  int64  \n",
      " 9   sentiment       232049 non-null  float64\n",
      " 10  flesch_kincaid  232049 non-null  float64\n",
      " 11  repetition      232049 non-null  int64  \n",
      "dtypes: float64(2), int32(1), int64(5), object(4)\n",
      "memory usage: 22.1+ MB\n"
     ]
    }
   ],
   "source": [
    "df.info()"
   ]
  },
  {
   "cell_type": "markdown",
   "id": "0608e71d",
   "metadata": {},
   "source": [
    "It looks like we have 232,052 rows of data and no columns are null.  With that we have no data to impute. "
   ]
  },
  {
   "cell_type": "markdown",
   "id": "41fb25dd",
   "metadata": {},
   "source": [
    "# Step 3: Look at correlations"
   ]
  },
  {
   "cell_type": "markdown",
   "id": "b6d10e87",
   "metadata": {},
   "source": [
    "In the previous step we created variables for reading level, length, repetition and sentiment.  Are they measuring the same thing?"
   ]
  },
  {
   "cell_type": "code",
   "execution_count": 8,
   "id": "2ab62ea9",
   "metadata": {},
   "outputs": [
    {
     "data": {
      "text/html": [
       "<div>\n",
       "<style scoped>\n",
       "    .dataframe tbody tr th:only-of-type {\n",
       "        vertical-align: middle;\n",
       "    }\n",
       "\n",
       "    .dataframe tbody tr th {\n",
       "        vertical-align: top;\n",
       "    }\n",
       "\n",
       "    .dataframe thead th {\n",
       "        text-align: right;\n",
       "    }\n",
       "</style>\n",
       "<table border=\"1\" class=\"dataframe\">\n",
       "  <thead>\n",
       "    <tr style=\"text-align: right;\">\n",
       "      <th></th>\n",
       "      <th>length</th>\n",
       "      <th>sentiment</th>\n",
       "      <th>flesch_kincaid</th>\n",
       "      <th>repetition</th>\n",
       "      <th>class</th>\n",
       "    </tr>\n",
       "  </thead>\n",
       "  <tbody>\n",
       "    <tr>\n",
       "      <th>0</th>\n",
       "      <td>345</td>\n",
       "      <td>0.100000</td>\n",
       "      <td>24.4</td>\n",
       "      <td>0</td>\n",
       "      <td>1</td>\n",
       "    </tr>\n",
       "    <tr>\n",
       "      <th>1</th>\n",
       "      <td>69</td>\n",
       "      <td>0.100000</td>\n",
       "      <td>8.4</td>\n",
       "      <td>0</td>\n",
       "      <td>0</td>\n",
       "    </tr>\n",
       "    <tr>\n",
       "      <th>2</th>\n",
       "      <td>48</td>\n",
       "      <td>-0.525000</td>\n",
       "      <td>6.4</td>\n",
       "      <td>0</td>\n",
       "      <td>0</td>\n",
       "    </tr>\n",
       "    <tr>\n",
       "      <th>3</th>\n",
       "      <td>30</td>\n",
       "      <td>-0.291667</td>\n",
       "      <td>-1.5</td>\n",
       "      <td>0</td>\n",
       "      <td>1</td>\n",
       "    </tr>\n",
       "    <tr>\n",
       "      <th>4</th>\n",
       "      <td>1281</td>\n",
       "      <td>-0.228461</td>\n",
       "      <td>74.7</td>\n",
       "      <td>2</td>\n",
       "      <td>1</td>\n",
       "    </tr>\n",
       "  </tbody>\n",
       "</table>\n",
       "</div>"
      ],
      "text/plain": [
       "   length  sentiment  flesch_kincaid  repetition  class\n",
       "0     345   0.100000            24.4           0      1\n",
       "1      69   0.100000             8.4           0      0\n",
       "2      48  -0.525000             6.4           0      0\n",
       "3      30  -0.291667            -1.5           0      1\n",
       "4    1281  -0.228461            74.7           2      1"
      ]
     },
     "execution_count": 8,
     "metadata": {},
     "output_type": "execute_result"
    }
   ],
   "source": [
    "df1 = df[['length', 'sentiment', 'flesch_kincaid', 'repetition', 'class']]\n",
    "df1.head()"
   ]
  },
  {
   "cell_type": "code",
   "execution_count": 9,
   "id": "b859dc5e",
   "metadata": {},
   "outputs": [
    {
     "data": {
      "text/html": [
       "<div>\n",
       "<style scoped>\n",
       "    .dataframe tbody tr th:only-of-type {\n",
       "        vertical-align: middle;\n",
       "    }\n",
       "\n",
       "    .dataframe tbody tr th {\n",
       "        vertical-align: top;\n",
       "    }\n",
       "\n",
       "    .dataframe thead th {\n",
       "        text-align: right;\n",
       "    }\n",
       "</style>\n",
       "<table border=\"1\" class=\"dataframe\">\n",
       "  <thead>\n",
       "    <tr style=\"text-align: right;\">\n",
       "      <th></th>\n",
       "      <th>length</th>\n",
       "      <th>sentiment</th>\n",
       "      <th>flesch_kincaid</th>\n",
       "      <th>repetition</th>\n",
       "      <th>class</th>\n",
       "    </tr>\n",
       "  </thead>\n",
       "  <tbody>\n",
       "    <tr>\n",
       "      <th>length</th>\n",
       "      <td>1.000000</td>\n",
       "      <td>-0.002195</td>\n",
       "      <td>0.885668</td>\n",
       "      <td>0.090969</td>\n",
       "      <td>0.093813</td>\n",
       "    </tr>\n",
       "    <tr>\n",
       "      <th>sentiment</th>\n",
       "      <td>-0.002195</td>\n",
       "      <td>1.000000</td>\n",
       "      <td>-0.000907</td>\n",
       "      <td>-0.000690</td>\n",
       "      <td>-0.098727</td>\n",
       "    </tr>\n",
       "    <tr>\n",
       "      <th>flesch_kincaid</th>\n",
       "      <td>0.885668</td>\n",
       "      <td>-0.000907</td>\n",
       "      <td>1.000000</td>\n",
       "      <td>0.022114</td>\n",
       "      <td>0.008996</td>\n",
       "    </tr>\n",
       "    <tr>\n",
       "      <th>repetition</th>\n",
       "      <td>0.090969</td>\n",
       "      <td>-0.000690</td>\n",
       "      <td>0.022114</td>\n",
       "      <td>1.000000</td>\n",
       "      <td>-0.013508</td>\n",
       "    </tr>\n",
       "    <tr>\n",
       "      <th>class</th>\n",
       "      <td>0.093813</td>\n",
       "      <td>-0.098727</td>\n",
       "      <td>0.008996</td>\n",
       "      <td>-0.013508</td>\n",
       "      <td>1.000000</td>\n",
       "    </tr>\n",
       "  </tbody>\n",
       "</table>\n",
       "</div>"
      ],
      "text/plain": [
       "                  length  sentiment  flesch_kincaid  repetition     class\n",
       "length          1.000000  -0.002195        0.885668    0.090969  0.093813\n",
       "sentiment      -0.002195   1.000000       -0.000907   -0.000690 -0.098727\n",
       "flesch_kincaid  0.885668  -0.000907        1.000000    0.022114  0.008996\n",
       "repetition      0.090969  -0.000690        0.022114    1.000000 -0.013508\n",
       "class           0.093813  -0.098727        0.008996   -0.013508  1.000000"
      ]
     },
     "execution_count": 9,
     "metadata": {},
     "output_type": "execute_result"
    }
   ],
   "source": [
    "df1.corr()"
   ]
  },
  {
   "cell_type": "markdown",
   "id": "4eb2846b",
   "metadata": {},
   "source": [
    "We can see that reading level and length of post are highly correlated.  However since the correlation is less than 0.95, I think we can keep both variables.\n"
   ]
  },
  {
   "cell_type": "markdown",
   "id": "cb563bb6",
   "metadata": {},
   "source": [
    "# Naive Bayes with Count Vectorizer - Text Only"
   ]
  },
  {
   "cell_type": "code",
   "execution_count": 10,
   "id": "a24ce348",
   "metadata": {},
   "outputs": [],
   "source": [
    "vectorizer = CountVectorizer(min_df=3)\n",
    "X = vectorizer.fit_transform(df['clean_text'])\n",
    "X = X.tocsc() \n",
    "y = df['class']"
   ]
  },
  {
   "cell_type": "code",
   "execution_count": 11,
   "id": "44f23f45",
   "metadata": {},
   "outputs": [],
   "source": [
    "X_train1, X_test1, y_train1, y_test1 = train_test_split(X, y, test_size=0.25, random_state=12)"
   ]
  },
  {
   "cell_type": "code",
   "execution_count": 12,
   "id": "e4ddfff4",
   "metadata": {},
   "outputs": [
    {
     "data": {
      "text/html": [
       "<style>#sk-container-id-1 {color: black;background-color: white;}#sk-container-id-1 pre{padding: 0;}#sk-container-id-1 div.sk-toggleable {background-color: white;}#sk-container-id-1 label.sk-toggleable__label {cursor: pointer;display: block;width: 100%;margin-bottom: 0;padding: 0.3em;box-sizing: border-box;text-align: center;}#sk-container-id-1 label.sk-toggleable__label-arrow:before {content: \"▸\";float: left;margin-right: 0.25em;color: #696969;}#sk-container-id-1 label.sk-toggleable__label-arrow:hover:before {color: black;}#sk-container-id-1 div.sk-estimator:hover label.sk-toggleable__label-arrow:before {color: black;}#sk-container-id-1 div.sk-toggleable__content {max-height: 0;max-width: 0;overflow: hidden;text-align: left;background-color: #f0f8ff;}#sk-container-id-1 div.sk-toggleable__content pre {margin: 0.2em;color: black;border-radius: 0.25em;background-color: #f0f8ff;}#sk-container-id-1 input.sk-toggleable__control:checked~div.sk-toggleable__content {max-height: 200px;max-width: 100%;overflow: auto;}#sk-container-id-1 input.sk-toggleable__control:checked~label.sk-toggleable__label-arrow:before {content: \"▾\";}#sk-container-id-1 div.sk-estimator input.sk-toggleable__control:checked~label.sk-toggleable__label {background-color: #d4ebff;}#sk-container-id-1 div.sk-label input.sk-toggleable__control:checked~label.sk-toggleable__label {background-color: #d4ebff;}#sk-container-id-1 input.sk-hidden--visually {border: 0;clip: rect(1px 1px 1px 1px);clip: rect(1px, 1px, 1px, 1px);height: 1px;margin: -1px;overflow: hidden;padding: 0;position: absolute;width: 1px;}#sk-container-id-1 div.sk-estimator {font-family: monospace;background-color: #f0f8ff;border: 1px dotted black;border-radius: 0.25em;box-sizing: border-box;margin-bottom: 0.5em;}#sk-container-id-1 div.sk-estimator:hover {background-color: #d4ebff;}#sk-container-id-1 div.sk-parallel-item::after {content: \"\";width: 100%;border-bottom: 1px solid gray;flex-grow: 1;}#sk-container-id-1 div.sk-label:hover label.sk-toggleable__label {background-color: #d4ebff;}#sk-container-id-1 div.sk-serial::before {content: \"\";position: absolute;border-left: 1px solid gray;box-sizing: border-box;top: 0;bottom: 0;left: 50%;z-index: 0;}#sk-container-id-1 div.sk-serial {display: flex;flex-direction: column;align-items: center;background-color: white;padding-right: 0.2em;padding-left: 0.2em;position: relative;}#sk-container-id-1 div.sk-item {position: relative;z-index: 1;}#sk-container-id-1 div.sk-parallel {display: flex;align-items: stretch;justify-content: center;background-color: white;position: relative;}#sk-container-id-1 div.sk-item::before, #sk-container-id-1 div.sk-parallel-item::before {content: \"\";position: absolute;border-left: 1px solid gray;box-sizing: border-box;top: 0;bottom: 0;left: 50%;z-index: -1;}#sk-container-id-1 div.sk-parallel-item {display: flex;flex-direction: column;z-index: 1;position: relative;background-color: white;}#sk-container-id-1 div.sk-parallel-item:first-child::after {align-self: flex-end;width: 50%;}#sk-container-id-1 div.sk-parallel-item:last-child::after {align-self: flex-start;width: 50%;}#sk-container-id-1 div.sk-parallel-item:only-child::after {width: 0;}#sk-container-id-1 div.sk-dashed-wrapped {border: 1px dashed gray;margin: 0 0.4em 0.5em 0.4em;box-sizing: border-box;padding-bottom: 0.4em;background-color: white;}#sk-container-id-1 div.sk-label label {font-family: monospace;font-weight: bold;display: inline-block;line-height: 1.2em;}#sk-container-id-1 div.sk-label-container {text-align: center;}#sk-container-id-1 div.sk-container {/* jupyter's `normalize.less` sets `[hidden] { display: none; }` but bootstrap.min.css set `[hidden] { display: none !important; }` so we also need the `!important` here to be able to override the default hidden behavior on the sphinx rendered scikit-learn.org. See: https://github.com/scikit-learn/scikit-learn/issues/21755 */display: inline-block !important;position: relative;}#sk-container-id-1 div.sk-text-repr-fallback {display: none;}</style><div id=\"sk-container-id-1\" class=\"sk-top-container\"><div class=\"sk-text-repr-fallback\"><pre>MultinomialNB()</pre><b>In a Jupyter environment, please rerun this cell to show the HTML representation or trust the notebook. <br />On GitHub, the HTML representation is unable to render, please try loading this page with nbviewer.org.</b></div><div class=\"sk-container\" hidden><div class=\"sk-item\"><div class=\"sk-estimator sk-toggleable\"><input class=\"sk-toggleable__control sk-hidden--visually\" id=\"sk-estimator-id-1\" type=\"checkbox\" checked><label for=\"sk-estimator-id-1\" class=\"sk-toggleable__label sk-toggleable__label-arrow\">MultinomialNB</label><div class=\"sk-toggleable__content\"><pre>MultinomialNB()</pre></div></div></div></div></div>"
      ],
      "text/plain": [
       "MultinomialNB()"
      ]
     },
     "execution_count": 12,
     "metadata": {},
     "output_type": "execute_result"
    }
   ],
   "source": [
    "nbcv = MultinomialNB()\n",
    "nbcv.fit(X_train1, y_train1)"
   ]
  },
  {
   "cell_type": "code",
   "execution_count": 13,
   "id": "b304dd60",
   "metadata": {},
   "outputs": [],
   "source": [
    "y_train_pred1 = nbcv.predict(X_train1)\n",
    "y_pred1 = nbcv.predict(X_test1)"
   ]
  },
  {
   "cell_type": "code",
   "execution_count": 14,
   "id": "804e0df4",
   "metadata": {},
   "outputs": [
    {
     "data": {
      "text/html": [
       "<style>#sk-container-id-2 {color: black;background-color: white;}#sk-container-id-2 pre{padding: 0;}#sk-container-id-2 div.sk-toggleable {background-color: white;}#sk-container-id-2 label.sk-toggleable__label {cursor: pointer;display: block;width: 100%;margin-bottom: 0;padding: 0.3em;box-sizing: border-box;text-align: center;}#sk-container-id-2 label.sk-toggleable__label-arrow:before {content: \"▸\";float: left;margin-right: 0.25em;color: #696969;}#sk-container-id-2 label.sk-toggleable__label-arrow:hover:before {color: black;}#sk-container-id-2 div.sk-estimator:hover label.sk-toggleable__label-arrow:before {color: black;}#sk-container-id-2 div.sk-toggleable__content {max-height: 0;max-width: 0;overflow: hidden;text-align: left;background-color: #f0f8ff;}#sk-container-id-2 div.sk-toggleable__content pre {margin: 0.2em;color: black;border-radius: 0.25em;background-color: #f0f8ff;}#sk-container-id-2 input.sk-toggleable__control:checked~div.sk-toggleable__content {max-height: 200px;max-width: 100%;overflow: auto;}#sk-container-id-2 input.sk-toggleable__control:checked~label.sk-toggleable__label-arrow:before {content: \"▾\";}#sk-container-id-2 div.sk-estimator input.sk-toggleable__control:checked~label.sk-toggleable__label {background-color: #d4ebff;}#sk-container-id-2 div.sk-label input.sk-toggleable__control:checked~label.sk-toggleable__label {background-color: #d4ebff;}#sk-container-id-2 input.sk-hidden--visually {border: 0;clip: rect(1px 1px 1px 1px);clip: rect(1px, 1px, 1px, 1px);height: 1px;margin: -1px;overflow: hidden;padding: 0;position: absolute;width: 1px;}#sk-container-id-2 div.sk-estimator {font-family: monospace;background-color: #f0f8ff;border: 1px dotted black;border-radius: 0.25em;box-sizing: border-box;margin-bottom: 0.5em;}#sk-container-id-2 div.sk-estimator:hover {background-color: #d4ebff;}#sk-container-id-2 div.sk-parallel-item::after {content: \"\";width: 100%;border-bottom: 1px solid gray;flex-grow: 1;}#sk-container-id-2 div.sk-label:hover label.sk-toggleable__label {background-color: #d4ebff;}#sk-container-id-2 div.sk-serial::before {content: \"\";position: absolute;border-left: 1px solid gray;box-sizing: border-box;top: 0;bottom: 0;left: 50%;z-index: 0;}#sk-container-id-2 div.sk-serial {display: flex;flex-direction: column;align-items: center;background-color: white;padding-right: 0.2em;padding-left: 0.2em;position: relative;}#sk-container-id-2 div.sk-item {position: relative;z-index: 1;}#sk-container-id-2 div.sk-parallel {display: flex;align-items: stretch;justify-content: center;background-color: white;position: relative;}#sk-container-id-2 div.sk-item::before, #sk-container-id-2 div.sk-parallel-item::before {content: \"\";position: absolute;border-left: 1px solid gray;box-sizing: border-box;top: 0;bottom: 0;left: 50%;z-index: -1;}#sk-container-id-2 div.sk-parallel-item {display: flex;flex-direction: column;z-index: 1;position: relative;background-color: white;}#sk-container-id-2 div.sk-parallel-item:first-child::after {align-self: flex-end;width: 50%;}#sk-container-id-2 div.sk-parallel-item:last-child::after {align-self: flex-start;width: 50%;}#sk-container-id-2 div.sk-parallel-item:only-child::after {width: 0;}#sk-container-id-2 div.sk-dashed-wrapped {border: 1px dashed gray;margin: 0 0.4em 0.5em 0.4em;box-sizing: border-box;padding-bottom: 0.4em;background-color: white;}#sk-container-id-2 div.sk-label label {font-family: monospace;font-weight: bold;display: inline-block;line-height: 1.2em;}#sk-container-id-2 div.sk-label-container {text-align: center;}#sk-container-id-2 div.sk-container {/* jupyter's `normalize.less` sets `[hidden] { display: none; }` but bootstrap.min.css set `[hidden] { display: none !important; }` so we also need the `!important` here to be able to override the default hidden behavior on the sphinx rendered scikit-learn.org. See: https://github.com/scikit-learn/scikit-learn/issues/21755 */display: inline-block !important;position: relative;}#sk-container-id-2 div.sk-text-repr-fallback {display: none;}</style><div id=\"sk-container-id-2\" class=\"sk-top-container\"><div class=\"sk-text-repr-fallback\"><pre>GridSearchCV(cv=5, estimator=MultinomialNB(),\n",
       "             param_grid={&#x27;alpha&#x27;: [0.025, 0.05, 0.1, 0.2, 0.4, 0.5, 0.75, 1, 2,\n",
       "                                   5, 8]})</pre><b>In a Jupyter environment, please rerun this cell to show the HTML representation or trust the notebook. <br />On GitHub, the HTML representation is unable to render, please try loading this page with nbviewer.org.</b></div><div class=\"sk-container\" hidden><div class=\"sk-item sk-dashed-wrapped\"><div class=\"sk-label-container\"><div class=\"sk-label sk-toggleable\"><input class=\"sk-toggleable__control sk-hidden--visually\" id=\"sk-estimator-id-2\" type=\"checkbox\" ><label for=\"sk-estimator-id-2\" class=\"sk-toggleable__label sk-toggleable__label-arrow\">GridSearchCV</label><div class=\"sk-toggleable__content\"><pre>GridSearchCV(cv=5, estimator=MultinomialNB(),\n",
       "             param_grid={&#x27;alpha&#x27;: [0.025, 0.05, 0.1, 0.2, 0.4, 0.5, 0.75, 1, 2,\n",
       "                                   5, 8]})</pre></div></div></div><div class=\"sk-parallel\"><div class=\"sk-parallel-item\"><div class=\"sk-item\"><div class=\"sk-label-container\"><div class=\"sk-label sk-toggleable\"><input class=\"sk-toggleable__control sk-hidden--visually\" id=\"sk-estimator-id-3\" type=\"checkbox\" ><label for=\"sk-estimator-id-3\" class=\"sk-toggleable__label sk-toggleable__label-arrow\">estimator: MultinomialNB</label><div class=\"sk-toggleable__content\"><pre>MultinomialNB()</pre></div></div></div><div class=\"sk-serial\"><div class=\"sk-item\"><div class=\"sk-estimator sk-toggleable\"><input class=\"sk-toggleable__control sk-hidden--visually\" id=\"sk-estimator-id-4\" type=\"checkbox\" ><label for=\"sk-estimator-id-4\" class=\"sk-toggleable__label sk-toggleable__label-arrow\">MultinomialNB</label><div class=\"sk-toggleable__content\"><pre>MultinomialNB()</pre></div></div></div></div></div></div></div></div></div></div>"
      ],
      "text/plain": [
       "GridSearchCV(cv=5, estimator=MultinomialNB(),\n",
       "             param_grid={'alpha': [0.025, 0.05, 0.1, 0.2, 0.4, 0.5, 0.75, 1, 2,\n",
       "                                   5, 8]})"
      ]
     },
     "execution_count": 14,
     "metadata": {},
     "output_type": "execute_result"
    }
   ],
   "source": [
    "n_est = [0.025, 0.05, 0.1, 0.2, 0.4, 0.5, 0.75, 1, 2, 5, 8]\n",
    "#n_est = [int(n) for n in np.logspace(start=0, stop=3, num=30)]\n",
    "param_grid = {'alpha':n_est}\n",
    "nbcv = MultinomialNB()\n",
    "nbcv_cv= GridSearchCV(nbcv,param_grid,cv=5)\n",
    "nbcv_cv.fit(X_train1, y_train1)"
   ]
  },
  {
   "cell_type": "code",
   "execution_count": 15,
   "id": "563230c1",
   "metadata": {},
   "outputs": [
    {
     "data": {
      "text/plain": [
       "[0.025, 0.05, 0.1, 0.2, 0.4, 0.5, 0.75, 1, 2, 5, 8]"
      ]
     },
     "execution_count": 15,
     "metadata": {},
     "output_type": "execute_result"
    }
   ],
   "source": [
    "n_est"
   ]
  },
  {
   "cell_type": "code",
   "execution_count": 16,
   "id": "8c548ac4",
   "metadata": {},
   "outputs": [
    {
     "name": "stdout",
     "output_type": "stream",
     "text": [
      "Best Score:0.9113229505100977\n",
      "Best Parameters: {'alpha': 0.1}\n"
     ]
    }
   ],
   "source": [
    "print(\"Best Score:\" + str(nbcv_cv.best_score_))\n",
    "print(\"Best Parameters: \" + str(nbcv_cv.best_params_))"
   ]
  },
  {
   "cell_type": "code",
   "execution_count": 17,
   "id": "c513534e",
   "metadata": {
    "scrolled": true
   },
   "outputs": [
    {
     "data": {
      "text/html": [
       "<style>#sk-container-id-3 {color: black;background-color: white;}#sk-container-id-3 pre{padding: 0;}#sk-container-id-3 div.sk-toggleable {background-color: white;}#sk-container-id-3 label.sk-toggleable__label {cursor: pointer;display: block;width: 100%;margin-bottom: 0;padding: 0.3em;box-sizing: border-box;text-align: center;}#sk-container-id-3 label.sk-toggleable__label-arrow:before {content: \"▸\";float: left;margin-right: 0.25em;color: #696969;}#sk-container-id-3 label.sk-toggleable__label-arrow:hover:before {color: black;}#sk-container-id-3 div.sk-estimator:hover label.sk-toggleable__label-arrow:before {color: black;}#sk-container-id-3 div.sk-toggleable__content {max-height: 0;max-width: 0;overflow: hidden;text-align: left;background-color: #f0f8ff;}#sk-container-id-3 div.sk-toggleable__content pre {margin: 0.2em;color: black;border-radius: 0.25em;background-color: #f0f8ff;}#sk-container-id-3 input.sk-toggleable__control:checked~div.sk-toggleable__content {max-height: 200px;max-width: 100%;overflow: auto;}#sk-container-id-3 input.sk-toggleable__control:checked~label.sk-toggleable__label-arrow:before {content: \"▾\";}#sk-container-id-3 div.sk-estimator input.sk-toggleable__control:checked~label.sk-toggleable__label {background-color: #d4ebff;}#sk-container-id-3 div.sk-label input.sk-toggleable__control:checked~label.sk-toggleable__label {background-color: #d4ebff;}#sk-container-id-3 input.sk-hidden--visually {border: 0;clip: rect(1px 1px 1px 1px);clip: rect(1px, 1px, 1px, 1px);height: 1px;margin: -1px;overflow: hidden;padding: 0;position: absolute;width: 1px;}#sk-container-id-3 div.sk-estimator {font-family: monospace;background-color: #f0f8ff;border: 1px dotted black;border-radius: 0.25em;box-sizing: border-box;margin-bottom: 0.5em;}#sk-container-id-3 div.sk-estimator:hover {background-color: #d4ebff;}#sk-container-id-3 div.sk-parallel-item::after {content: \"\";width: 100%;border-bottom: 1px solid gray;flex-grow: 1;}#sk-container-id-3 div.sk-label:hover label.sk-toggleable__label {background-color: #d4ebff;}#sk-container-id-3 div.sk-serial::before {content: \"\";position: absolute;border-left: 1px solid gray;box-sizing: border-box;top: 0;bottom: 0;left: 50%;z-index: 0;}#sk-container-id-3 div.sk-serial {display: flex;flex-direction: column;align-items: center;background-color: white;padding-right: 0.2em;padding-left: 0.2em;position: relative;}#sk-container-id-3 div.sk-item {position: relative;z-index: 1;}#sk-container-id-3 div.sk-parallel {display: flex;align-items: stretch;justify-content: center;background-color: white;position: relative;}#sk-container-id-3 div.sk-item::before, #sk-container-id-3 div.sk-parallel-item::before {content: \"\";position: absolute;border-left: 1px solid gray;box-sizing: border-box;top: 0;bottom: 0;left: 50%;z-index: -1;}#sk-container-id-3 div.sk-parallel-item {display: flex;flex-direction: column;z-index: 1;position: relative;background-color: white;}#sk-container-id-3 div.sk-parallel-item:first-child::after {align-self: flex-end;width: 50%;}#sk-container-id-3 div.sk-parallel-item:last-child::after {align-self: flex-start;width: 50%;}#sk-container-id-3 div.sk-parallel-item:only-child::after {width: 0;}#sk-container-id-3 div.sk-dashed-wrapped {border: 1px dashed gray;margin: 0 0.4em 0.5em 0.4em;box-sizing: border-box;padding-bottom: 0.4em;background-color: white;}#sk-container-id-3 div.sk-label label {font-family: monospace;font-weight: bold;display: inline-block;line-height: 1.2em;}#sk-container-id-3 div.sk-label-container {text-align: center;}#sk-container-id-3 div.sk-container {/* jupyter's `normalize.less` sets `[hidden] { display: none; }` but bootstrap.min.css set `[hidden] { display: none !important; }` so we also need the `!important` here to be able to override the default hidden behavior on the sphinx rendered scikit-learn.org. See: https://github.com/scikit-learn/scikit-learn/issues/21755 */display: inline-block !important;position: relative;}#sk-container-id-3 div.sk-text-repr-fallback {display: none;}</style><div id=\"sk-container-id-3\" class=\"sk-top-container\"><div class=\"sk-text-repr-fallback\"><pre>MultinomialNB(alpha=0.2)</pre><b>In a Jupyter environment, please rerun this cell to show the HTML representation or trust the notebook. <br />On GitHub, the HTML representation is unable to render, please try loading this page with nbviewer.org.</b></div><div class=\"sk-container\" hidden><div class=\"sk-item\"><div class=\"sk-estimator sk-toggleable\"><input class=\"sk-toggleable__control sk-hidden--visually\" id=\"sk-estimator-id-5\" type=\"checkbox\" checked><label for=\"sk-estimator-id-5\" class=\"sk-toggleable__label sk-toggleable__label-arrow\">MultinomialNB</label><div class=\"sk-toggleable__content\"><pre>MultinomialNB(alpha=0.2)</pre></div></div></div></div></div>"
      ],
      "text/plain": [
       "MultinomialNB(alpha=0.2)"
      ]
     },
     "execution_count": 17,
     "metadata": {},
     "output_type": "execute_result"
    }
   ],
   "source": [
    "nbcv = MultinomialNB(alpha = 0.2)\n",
    "nbcv.fit(X_train1, y_train1)"
   ]
  },
  {
   "cell_type": "code",
   "execution_count": 18,
   "id": "34d286c0",
   "metadata": {},
   "outputs": [],
   "source": [
    "y_train_pred1 = nbcv.predict(X_train1)\n",
    "y_pred1 = nbcv.predict(X_test1)"
   ]
  },
  {
   "cell_type": "code",
   "execution_count": 19,
   "id": "9b6cf406",
   "metadata": {},
   "outputs": [],
   "source": [
    "training_accuracy_nbcv = nbcv.score(X_train1, y_train1)\n",
    "test_accuracy_nbcv = nbcv.score(X_test1, y_test1)"
   ]
  },
  {
   "cell_type": "code",
   "execution_count": 20,
   "id": "239a1d14",
   "metadata": {},
   "outputs": [
    {
     "name": "stdout",
     "output_type": "stream",
     "text": [
      "Accuracy on training data: 0.918362\n",
      "Accuracy on test data:     0.912347\n"
     ]
    }
   ],
   "source": [
    "print(\"Accuracy on training data: {:2f}\".format(training_accuracy_nbcv))\n",
    "print(\"Accuracy on test data:     {:2f}\".format(test_accuracy_nbcv))"
   ]
  },
  {
   "cell_type": "code",
   "execution_count": 21,
   "id": "988ac373",
   "metadata": {},
   "outputs": [
    {
     "name": "stdout",
     "output_type": "stream",
     "text": [
      "Accuracy: 0.9123472325168497\n",
      "Balanced accuracy: 0.9124044626011576\n",
      "Precision score 0.8801413472558258\n",
      "Recall score 0.9544309041322885\n",
      "F1 score 0.9157819771774954\n",
      "ROC_AUC Score 0.9124044626011576\n"
     ]
    }
   ],
   "source": [
    "from sklearn import tree, metrics\n",
    "accuracy_nbcv = metrics.accuracy_score(y_test1,y_pred1)\n",
    "balanced_accuracy_nbcv = metrics.balanced_accuracy_score(y_test1,y_pred1)\n",
    "precision_nbcv = metrics.precision_score(y_test1,y_pred1, pos_label = 1)\n",
    "recall_nbcv = metrics.recall_score(y_test1,y_pred1, pos_label = 1)\n",
    "f1_nbcv = metrics.f1_score(y_test1, y_pred1, pos_label = 1)\n",
    "roc_auc_nbcv = metrics.roc_auc_score(y_test1, y_pred1)\n",
    "print(\"Accuracy:\", accuracy_nbcv)\n",
    "print(\"Balanced accuracy:\", balanced_accuracy_nbcv)\n",
    "print('Precision score' , precision_nbcv)\n",
    "print('Recall score' , recall_nbcv)\n",
    "print('F1 score' , f1_nbcv)\n",
    "print('ROC_AUC Score' , roc_auc_nbcv)"
   ]
  },
  {
   "cell_type": "code",
   "execution_count": 22,
   "id": "7ef12b7d",
   "metadata": {},
   "outputs": [
    {
     "name": "stdout",
     "output_type": "stream",
     "text": [
      "True Suicide: 27647\n",
      "False Suicide: 3765\n",
      "True Non-Suicide: 25281\n",
      "False Non-Suicide: 1320\n"
     ]
    }
   ],
   "source": [
    "from sklearn.metrics import confusion_matrix\n",
    "tn_nbcv, fp_nbcv, fn_nbcv, tp_nbcv = confusion_matrix(y_test1, y_pred1).ravel()\n",
    "print(f'True Suicide: {tp_nbcv}')\n",
    "print(f'False Suicide: {fp_nbcv}')\n",
    "print(f'True Non-Suicide: {tn_nbcv}')\n",
    "print(f'False Non-Suicide: {fn_nbcv}')"
   ]
  },
  {
   "cell_type": "code",
   "execution_count": 23,
   "id": "eefbf7b3",
   "metadata": {},
   "outputs": [
    {
     "data": {
      "text/html": [
       "<div>\n",
       "<style scoped>\n",
       "    .dataframe tbody tr th:only-of-type {\n",
       "        vertical-align: middle;\n",
       "    }\n",
       "\n",
       "    .dataframe tbody tr th {\n",
       "        vertical-align: top;\n",
       "    }\n",
       "\n",
       "    .dataframe thead th {\n",
       "        text-align: right;\n",
       "    }\n",
       "</style>\n",
       "<table border=\"1\" class=\"dataframe\">\n",
       "  <thead>\n",
       "    <tr style=\"text-align: right;\">\n",
       "      <th></th>\n",
       "      <th>Predicted Non-Suicide</th>\n",
       "      <th>Predicted Suicide</th>\n",
       "    </tr>\n",
       "  </thead>\n",
       "  <tbody>\n",
       "    <tr>\n",
       "      <th>Actual Non-Suicide</th>\n",
       "      <td>25281</td>\n",
       "      <td>3765</td>\n",
       "    </tr>\n",
       "    <tr>\n",
       "      <th>Actual Suicide</th>\n",
       "      <td>1320</td>\n",
       "      <td>27647</td>\n",
       "    </tr>\n",
       "  </tbody>\n",
       "</table>\n",
       "</div>"
      ],
      "text/plain": [
       "                    Predicted Non-Suicide  Predicted Suicide\n",
       "Actual Non-Suicide                  25281               3765\n",
       "Actual Suicide                       1320              27647"
      ]
     },
     "execution_count": 23,
     "metadata": {},
     "output_type": "execute_result"
    }
   ],
   "source": [
    "pd.DataFrame(confusion_matrix(y_test1, y_pred1), columns=['Predicted Non-Suicide', \"Predicted Suicide\"], index=['Actual Non-Suicide', 'Actual Suicide'])"
   ]
  },
  {
   "cell_type": "code",
   "execution_count": 24,
   "id": "171ae73f",
   "metadata": {},
   "outputs": [
    {
     "data": {
      "image/png": "[encoded data removed]",
      "text/plain": [
       "<Figure size 576x432 with 1 Axes>"
      ]
     },
     "metadata": {
      "needs_background": "light"
     },
     "output_type": "display_data"
    }
   ],
   "source": [
    "y_pred_proba1 = nbcv.predict_proba(X_test1)[::,1]\n",
    "fpr1, tpr1, _ = metrics.roc_curve(y_test1,  y_pred_proba1)\n",
    "plt.rcParams.update({'figure.figsize': (8, 6.0)})\n",
    "#create ROC curve\n",
    "plt.plot(fpr1,tpr1)\n",
    "plt.plot([0, 1], [0, 1],'r--')\n",
    "plt.title(\"ROC_AUC CURVE Naive Bayes with Count Vectorizer\")\n",
    "plt.ylabel('True Positive Rate')\n",
    "plt.xlabel('False Positive Rate')\n",
    "plt.tight_layout()\n",
    "plt.savefig('ROC_AUC Naive Bayes with Count Vectorizer.png')"
   ]
  },
  {
   "cell_type": "markdown",
   "id": "fa029149",
   "metadata": {},
   "source": [
    "# Naive Bayes with Count Vectorizer - All Features"
   ]
  },
  {
   "cell_type": "code",
   "execution_count": 25,
   "id": "34416696",
   "metadata": {},
   "outputs": [],
   "source": [
    "from sklearn.preprocessing import StandardScaler, MinMaxScaler, RobustScaler, MaxAbsScaler\n",
    "scaler = MinMaxScaler()\n",
    "scaler.fit(df1)\n",
    "df_scaled = scaler.transform(df1)\n",
    "scaled_features_df = pd.DataFrame(df_scaled, index=df1.index, columns=df1.columns)"
   ]
  },
  {
   "cell_type": "code",
   "execution_count": 26,
   "id": "5bc70f18",
   "metadata": {},
   "outputs": [
    {
     "data": {
      "text/html": [
       "<div>\n",
       "<style scoped>\n",
       "    .dataframe tbody tr th:only-of-type {\n",
       "        vertical-align: middle;\n",
       "    }\n",
       "\n",
       "    .dataframe tbody tr th {\n",
       "        vertical-align: top;\n",
       "    }\n",
       "\n",
       "    .dataframe thead th {\n",
       "        text-align: right;\n",
       "    }\n",
       "</style>\n",
       "<table border=\"1\" class=\"dataframe\">\n",
       "  <thead>\n",
       "    <tr style=\"text-align: right;\">\n",
       "      <th></th>\n",
       "      <th>length</th>\n",
       "      <th>sentiment</th>\n",
       "      <th>flesch_kincaid</th>\n",
       "      <th>repetition</th>\n",
       "      <th>class</th>\n",
       "    </tr>\n",
       "  </thead>\n",
       "  <tbody>\n",
       "    <tr>\n",
       "      <th>0</th>\n",
       "      <td>0.000574</td>\n",
       "      <td>0.550000</td>\n",
       "      <td>0.000138</td>\n",
       "      <td>0.000000</td>\n",
       "      <td>1.0</td>\n",
       "    </tr>\n",
       "    <tr>\n",
       "      <th>1</th>\n",
       "      <td>0.000113</td>\n",
       "      <td>0.550000</td>\n",
       "      <td>0.000083</td>\n",
       "      <td>0.000000</td>\n",
       "      <td>0.0</td>\n",
       "    </tr>\n",
       "    <tr>\n",
       "      <th>2</th>\n",
       "      <td>0.000078</td>\n",
       "      <td>0.237500</td>\n",
       "      <td>0.000076</td>\n",
       "      <td>0.000000</td>\n",
       "      <td>0.0</td>\n",
       "    </tr>\n",
       "    <tr>\n",
       "      <th>3</th>\n",
       "      <td>0.000048</td>\n",
       "      <td>0.354167</td>\n",
       "      <td>0.000049</td>\n",
       "      <td>0.000000</td>\n",
       "      <td>1.0</td>\n",
       "    </tr>\n",
       "    <tr>\n",
       "      <th>4</th>\n",
       "      <td>0.002135</td>\n",
       "      <td>0.385769</td>\n",
       "      <td>0.000310</td>\n",
       "      <td>0.000257</td>\n",
       "      <td>1.0</td>\n",
       "    </tr>\n",
       "  </tbody>\n",
       "</table>\n",
       "</div>"
      ],
      "text/plain": [
       "     length  sentiment  flesch_kincaid  repetition  class\n",
       "0  0.000574   0.550000        0.000138    0.000000    1.0\n",
       "1  0.000113   0.550000        0.000083    0.000000    0.0\n",
       "2  0.000078   0.237500        0.000076    0.000000    0.0\n",
       "3  0.000048   0.354167        0.000049    0.000000    1.0\n",
       "4  0.002135   0.385769        0.000310    0.000257    1.0"
      ]
     },
     "execution_count": 26,
     "metadata": {},
     "output_type": "execute_result"
    }
   ],
   "source": [
    "scaled_features_df.head()"
   ]
  },
  {
   "cell_type": "code",
   "execution_count": 27,
   "id": "cf1745af",
   "metadata": {},
   "outputs": [
    {
     "data": {
      "text/plain": [
       "0.0"
      ]
     },
     "execution_count": 27,
     "metadata": {},
     "output_type": "execute_result"
    }
   ],
   "source": [
    "scaled_features_df['length'].min()"
   ]
  },
  {
   "cell_type": "code",
   "execution_count": 28,
   "id": "35bf1265",
   "metadata": {},
   "outputs": [],
   "source": [
    "#y = df[['SalePrice']]\n",
    "try_this = scaled_features_df.drop(columns=['class'])"
   ]
  },
  {
   "cell_type": "code",
   "execution_count": 29,
   "id": "3f1bd393",
   "metadata": {},
   "outputs": [
    {
     "name": "stderr",
     "output_type": "stream",
     "text": [
      "C:\\Users\\BETH&A~1\\AppData\\Local\\Temp/ipykernel_3544/2777764568.py:7: FutureWarning: Support for multi-dimensional indexing (e.g. `obj[:, None]`) is deprecated and will be removed in a future version.  Convert to a numpy array before indexing instead.\n",
      "  reading_level = scaled_features_df['flesch_kincaid'][:, None]\n",
      "C:\\Users\\BETH&A~1\\AppData\\Local\\Temp/ipykernel_3544/2777764568.py:8: FutureWarning: Support for multi-dimensional indexing (e.g. `obj[:, None]`) is deprecated and will be removed in a future version.  Convert to a numpy array before indexing instead.\n",
      "  repetition = scaled_features_df['repetition'][:, None]\n"
     ]
    }
   ],
   "source": [
    "from scipy.sparse import hstack\n",
    "vectorizer = CountVectorizer(min_df=3)\n",
    "text_matrix = vectorizer.fit_transform(df['clean_text'])\n",
    "text_matrix = text_matrix.tocsc() \n",
    "length = scaled_features_df['length'].values[:, None]\n",
    "sentiment = scaled_features_df['sentiment'].values[:, None]\n",
    "reading_level = scaled_features_df['flesch_kincaid'][:, None]\n",
    "repetition = scaled_features_df['repetition'][:, None]\n",
    "first = hstack((text_matrix, length))\n",
    "second = hstack((first, sentiment))\n",
    "third = hstack((second, reading_level))\n",
    "X = hstack((third, sentiment))\n",
    "\n",
    "y = df['class']"
   ]
  },
  {
   "cell_type": "code",
   "execution_count": 30,
   "id": "31277304",
   "metadata": {},
   "outputs": [],
   "source": [
    "X_train2, X_test2, y_train2, y_test2 = train_test_split(X, y, test_size=0.25, random_state=12)"
   ]
  },
  {
   "cell_type": "code",
   "execution_count": 31,
   "id": "03683569",
   "metadata": {},
   "outputs": [
    {
     "data": {
      "text/html": [
       "<style>#sk-container-id-4 {color: black;background-color: white;}#sk-container-id-4 pre{padding: 0;}#sk-container-id-4 div.sk-toggleable {background-color: white;}#sk-container-id-4 label.sk-toggleable__label {cursor: pointer;display: block;width: 100%;margin-bottom: 0;padding: 0.3em;box-sizing: border-box;text-align: center;}#sk-container-id-4 label.sk-toggleable__label-arrow:before {content: \"▸\";float: left;margin-right: 0.25em;color: #696969;}#sk-container-id-4 label.sk-toggleable__label-arrow:hover:before {color: black;}#sk-container-id-4 div.sk-estimator:hover label.sk-toggleable__label-arrow:before {color: black;}#sk-container-id-4 div.sk-toggleable__content {max-height: 0;max-width: 0;overflow: hidden;text-align: left;background-color: #f0f8ff;}#sk-container-id-4 div.sk-toggleable__content pre {margin: 0.2em;color: black;border-radius: 0.25em;background-color: #f0f8ff;}#sk-container-id-4 input.sk-toggleable__control:checked~div.sk-toggleable__content {max-height: 200px;max-width: 100%;overflow: auto;}#sk-container-id-4 input.sk-toggleable__control:checked~label.sk-toggleable__label-arrow:before {content: \"▾\";}#sk-container-id-4 div.sk-estimator input.sk-toggleable__control:checked~label.sk-toggleable__label {background-color: #d4ebff;}#sk-container-id-4 div.sk-label input.sk-toggleable__control:checked~label.sk-toggleable__label {background-color: #d4ebff;}#sk-container-id-4 input.sk-hidden--visually {border: 0;clip: rect(1px 1px 1px 1px);clip: rect(1px, 1px, 1px, 1px);height: 1px;margin: -1px;overflow: hidden;padding: 0;position: absolute;width: 1px;}#sk-container-id-4 div.sk-estimator {font-family: monospace;background-color: #f0f8ff;border: 1px dotted black;border-radius: 0.25em;box-sizing: border-box;margin-bottom: 0.5em;}#sk-container-id-4 div.sk-estimator:hover {background-color: #d4ebff;}#sk-container-id-4 div.sk-parallel-item::after {content: \"\";width: 100%;border-bottom: 1px solid gray;flex-grow: 1;}#sk-container-id-4 div.sk-label:hover label.sk-toggleable__label {background-color: #d4ebff;}#sk-container-id-4 div.sk-serial::before {content: \"\";position: absolute;border-left: 1px solid gray;box-sizing: border-box;top: 0;bottom: 0;left: 50%;z-index: 0;}#sk-container-id-4 div.sk-serial {display: flex;flex-direction: column;align-items: center;background-color: white;padding-right: 0.2em;padding-left: 0.2em;position: relative;}#sk-container-id-4 div.sk-item {position: relative;z-index: 1;}#sk-container-id-4 div.sk-parallel {display: flex;align-items: stretch;justify-content: center;background-color: white;position: relative;}#sk-container-id-4 div.sk-item::before, #sk-container-id-4 div.sk-parallel-item::before {content: \"\";position: absolute;border-left: 1px solid gray;box-sizing: border-box;top: 0;bottom: 0;left: 50%;z-index: -1;}#sk-container-id-4 div.sk-parallel-item {display: flex;flex-direction: column;z-index: 1;position: relative;background-color: white;}#sk-container-id-4 div.sk-parallel-item:first-child::after {align-self: flex-end;width: 50%;}#sk-container-id-4 div.sk-parallel-item:last-child::after {align-self: flex-start;width: 50%;}#sk-container-id-4 div.sk-parallel-item:only-child::after {width: 0;}#sk-container-id-4 div.sk-dashed-wrapped {border: 1px dashed gray;margin: 0 0.4em 0.5em 0.4em;box-sizing: border-box;padding-bottom: 0.4em;background-color: white;}#sk-container-id-4 div.sk-label label {font-family: monospace;font-weight: bold;display: inline-block;line-height: 1.2em;}#sk-container-id-4 div.sk-label-container {text-align: center;}#sk-container-id-4 div.sk-container {/* jupyter's `normalize.less` sets `[hidden] { display: none; }` but bootstrap.min.css set `[hidden] { display: none !important; }` so we also need the `!important` here to be able to override the default hidden behavior on the sphinx rendered scikit-learn.org. See: https://github.com/scikit-learn/scikit-learn/issues/21755 */display: inline-block !important;position: relative;}#sk-container-id-4 div.sk-text-repr-fallback {display: none;}</style><div id=\"sk-container-id-4\" class=\"sk-top-container\"><div class=\"sk-text-repr-fallback\"><pre>GridSearchCV(cv=5, estimator=MultinomialNB(),\n",
       "             param_grid={&#x27;alpha&#x27;: [0.025, 0.05, 0.1, 0.2, 0.4, 0.5, 0.75, 1, 2,\n",
       "                                   5, 8]})</pre><b>In a Jupyter environment, please rerun this cell to show the HTML representation or trust the notebook. <br />On GitHub, the HTML representation is unable to render, please try loading this page with nbviewer.org.</b></div><div class=\"sk-container\" hidden><div class=\"sk-item sk-dashed-wrapped\"><div class=\"sk-label-container\"><div class=\"sk-label sk-toggleable\"><input class=\"sk-toggleable__control sk-hidden--visually\" id=\"sk-estimator-id-6\" type=\"checkbox\" ><label for=\"sk-estimator-id-6\" class=\"sk-toggleable__label sk-toggleable__label-arrow\">GridSearchCV</label><div class=\"sk-toggleable__content\"><pre>GridSearchCV(cv=5, estimator=MultinomialNB(),\n",
       "             param_grid={&#x27;alpha&#x27;: [0.025, 0.05, 0.1, 0.2, 0.4, 0.5, 0.75, 1, 2,\n",
       "                                   5, 8]})</pre></div></div></div><div class=\"sk-parallel\"><div class=\"sk-parallel-item\"><div class=\"sk-item\"><div class=\"sk-label-container\"><div class=\"sk-label sk-toggleable\"><input class=\"sk-toggleable__control sk-hidden--visually\" id=\"sk-estimator-id-7\" type=\"checkbox\" ><label for=\"sk-estimator-id-7\" class=\"sk-toggleable__label sk-toggleable__label-arrow\">estimator: MultinomialNB</label><div class=\"sk-toggleable__content\"><pre>MultinomialNB()</pre></div></div></div><div class=\"sk-serial\"><div class=\"sk-item\"><div class=\"sk-estimator sk-toggleable\"><input class=\"sk-toggleable__control sk-hidden--visually\" id=\"sk-estimator-id-8\" type=\"checkbox\" ><label for=\"sk-estimator-id-8\" class=\"sk-toggleable__label sk-toggleable__label-arrow\">MultinomialNB</label><div class=\"sk-toggleable__content\"><pre>MultinomialNB()</pre></div></div></div></div></div></div></div></div></div></div>"
      ],
      "text/plain": [
       "GridSearchCV(cv=5, estimator=MultinomialNB(),\n",
       "             param_grid={'alpha': [0.025, 0.05, 0.1, 0.2, 0.4, 0.5, 0.75, 1, 2,\n",
       "                                   5, 8]})"
      ]
     },
     "execution_count": 31,
     "metadata": {},
     "output_type": "execute_result"
    }
   ],
   "source": [
    "n_est = [0.025, 0.05, 0.1, 0.2, 0.4, 0.5, 0.75, 1, 2, 5, 8]\n",
    "#n_est = [int(n) for n in np.logspace(start=0, stop=3, num=30)]\n",
    "param_grid = {'alpha':n_est}\n",
    "nbcv = MultinomialNB()\n",
    "nbcv_cv= GridSearchCV(nbcv,param_grid,cv=5)\n",
    "nbcv_cv.fit(X_train2, y_train2)"
   ]
  },
  {
   "cell_type": "code",
   "execution_count": 32,
   "id": "16cd97f3",
   "metadata": {},
   "outputs": [
    {
     "name": "stdout",
     "output_type": "stream",
     "text": [
      "Best Score:0.9181835980178633\n",
      "Best Parameters: {'alpha': 0.05}\n"
     ]
    }
   ],
   "source": [
    "print(\"Best Score:\" + str(nbcv_cv.best_score_))\n",
    "print(\"Best Parameters: \" + str(nbcv_cv.best_params_))"
   ]
  },
  {
   "cell_type": "code",
   "execution_count": 33,
   "id": "0c25a895",
   "metadata": {},
   "outputs": [
    {
     "data": {
      "text/html": [
       "<style>#sk-container-id-5 {color: black;background-color: white;}#sk-container-id-5 pre{padding: 0;}#sk-container-id-5 div.sk-toggleable {background-color: white;}#sk-container-id-5 label.sk-toggleable__label {cursor: pointer;display: block;width: 100%;margin-bottom: 0;padding: 0.3em;box-sizing: border-box;text-align: center;}#sk-container-id-5 label.sk-toggleable__label-arrow:before {content: \"▸\";float: left;margin-right: 0.25em;color: #696969;}#sk-container-id-5 label.sk-toggleable__label-arrow:hover:before {color: black;}#sk-container-id-5 div.sk-estimator:hover label.sk-toggleable__label-arrow:before {color: black;}#sk-container-id-5 div.sk-toggleable__content {max-height: 0;max-width: 0;overflow: hidden;text-align: left;background-color: #f0f8ff;}#sk-container-id-5 div.sk-toggleable__content pre {margin: 0.2em;color: black;border-radius: 0.25em;background-color: #f0f8ff;}#sk-container-id-5 input.sk-toggleable__control:checked~div.sk-toggleable__content {max-height: 200px;max-width: 100%;overflow: auto;}#sk-container-id-5 input.sk-toggleable__control:checked~label.sk-toggleable__label-arrow:before {content: \"▾\";}#sk-container-id-5 div.sk-estimator input.sk-toggleable__control:checked~label.sk-toggleable__label {background-color: #d4ebff;}#sk-container-id-5 div.sk-label input.sk-toggleable__control:checked~label.sk-toggleable__label {background-color: #d4ebff;}#sk-container-id-5 input.sk-hidden--visually {border: 0;clip: rect(1px 1px 1px 1px);clip: rect(1px, 1px, 1px, 1px);height: 1px;margin: -1px;overflow: hidden;padding: 0;position: absolute;width: 1px;}#sk-container-id-5 div.sk-estimator {font-family: monospace;background-color: #f0f8ff;border: 1px dotted black;border-radius: 0.25em;box-sizing: border-box;margin-bottom: 0.5em;}#sk-container-id-5 div.sk-estimator:hover {background-color: #d4ebff;}#sk-container-id-5 div.sk-parallel-item::after {content: \"\";width: 100%;border-bottom: 1px solid gray;flex-grow: 1;}#sk-container-id-5 div.sk-label:hover label.sk-toggleable__label {background-color: #d4ebff;}#sk-container-id-5 div.sk-serial::before {content: \"\";position: absolute;border-left: 1px solid gray;box-sizing: border-box;top: 0;bottom: 0;left: 50%;z-index: 0;}#sk-container-id-5 div.sk-serial {display: flex;flex-direction: column;align-items: center;background-color: white;padding-right: 0.2em;padding-left: 0.2em;position: relative;}#sk-container-id-5 div.sk-item {position: relative;z-index: 1;}#sk-container-id-5 div.sk-parallel {display: flex;align-items: stretch;justify-content: center;background-color: white;position: relative;}#sk-container-id-5 div.sk-item::before, #sk-container-id-5 div.sk-parallel-item::before {content: \"\";position: absolute;border-left: 1px solid gray;box-sizing: border-box;top: 0;bottom: 0;left: 50%;z-index: -1;}#sk-container-id-5 div.sk-parallel-item {display: flex;flex-direction: column;z-index: 1;position: relative;background-color: white;}#sk-container-id-5 div.sk-parallel-item:first-child::after {align-self: flex-end;width: 50%;}#sk-container-id-5 div.sk-parallel-item:last-child::after {align-self: flex-start;width: 50%;}#sk-container-id-5 div.sk-parallel-item:only-child::after {width: 0;}#sk-container-id-5 div.sk-dashed-wrapped {border: 1px dashed gray;margin: 0 0.4em 0.5em 0.4em;box-sizing: border-box;padding-bottom: 0.4em;background-color: white;}#sk-container-id-5 div.sk-label label {font-family: monospace;font-weight: bold;display: inline-block;line-height: 1.2em;}#sk-container-id-5 div.sk-label-container {text-align: center;}#sk-container-id-5 div.sk-container {/* jupyter's `normalize.less` sets `[hidden] { display: none; }` but bootstrap.min.css set `[hidden] { display: none !important; }` so we also need the `!important` here to be able to override the default hidden behavior on the sphinx rendered scikit-learn.org. See: https://github.com/scikit-learn/scikit-learn/issues/21755 */display: inline-block !important;position: relative;}#sk-container-id-5 div.sk-text-repr-fallback {display: none;}</style><div id=\"sk-container-id-5\" class=\"sk-top-container\"><div class=\"sk-text-repr-fallback\"><pre>MultinomialNB(alpha=0.05)</pre><b>In a Jupyter environment, please rerun this cell to show the HTML representation or trust the notebook. <br />On GitHub, the HTML representation is unable to render, please try loading this page with nbviewer.org.</b></div><div class=\"sk-container\" hidden><div class=\"sk-item\"><div class=\"sk-estimator sk-toggleable\"><input class=\"sk-toggleable__control sk-hidden--visually\" id=\"sk-estimator-id-9\" type=\"checkbox\" checked><label for=\"sk-estimator-id-9\" class=\"sk-toggleable__label sk-toggleable__label-arrow\">MultinomialNB</label><div class=\"sk-toggleable__content\"><pre>MultinomialNB(alpha=0.05)</pre></div></div></div></div></div>"
      ],
      "text/plain": [
       "MultinomialNB(alpha=0.05)"
      ]
     },
     "execution_count": 33,
     "metadata": {},
     "output_type": "execute_result"
    }
   ],
   "source": [
    "nbcvi = MultinomialNB(alpha = 0.05)\n",
    "nbcvi.fit(X_train2, y_train2)"
   ]
  },
  {
   "cell_type": "code",
   "execution_count": 34,
   "id": "94f0f9f8",
   "metadata": {},
   "outputs": [],
   "source": [
    "y_train_pred2 = nbcvi.predict(X_train2)\n",
    "y_pred2 = nbcvi.predict(X_test2)"
   ]
  },
  {
   "cell_type": "code",
   "execution_count": 35,
   "id": "a84b1287",
   "metadata": {},
   "outputs": [],
   "source": [
    "training_accuracy_nbcv = nbcvi.score(X_train2, y_train2)\n",
    "test_accuracy_nbcv = nbcvi.score(X_test2, y_test2)"
   ]
  },
  {
   "cell_type": "code",
   "execution_count": 36,
   "id": "b49abbbe",
   "metadata": {},
   "outputs": [
    {
     "name": "stdout",
     "output_type": "stream",
     "text": [
      "Accuracy on training data: 0.926429\n",
      "Accuracy on test data:     0.919863\n"
     ]
    }
   ],
   "source": [
    "print(\"Accuracy on training data: {:2f}\".format(training_accuracy_nbcv))\n",
    "print(\"Accuracy on test data:     {:2f}\".format(test_accuracy_nbcv))"
   ]
  },
  {
   "cell_type": "code",
   "execution_count": 37,
   "id": "a8cd2c98",
   "metadata": {},
   "outputs": [
    {
     "name": "stdout",
     "output_type": "stream",
     "text": [
      "Accuracy: 0.9198627893747953\n",
      "Balanced accuracy: 0.9198987194875261\n",
      "Precision score 0.89860346184107\n",
      "Recall score 0.9462837021438189\n",
      "F1 score 0.9218274453094786\n",
      "ROC_AUC Score 0.9198987194875261\n"
     ]
    }
   ],
   "source": [
    "accuracy_nbcvi = metrics.accuracy_score(y_test2,y_pred2)\n",
    "balanced_accuracy_nbcvi = metrics.balanced_accuracy_score(y_test2,y_pred2)\n",
    "precision_nbcvi = metrics.precision_score(y_test2,y_pred2, pos_label = 1)\n",
    "recall_nbcvi = metrics.recall_score(y_test2,y_pred2, pos_label = 1)\n",
    "f1_nbcvi = metrics.f1_score(y_test2, y_pred2, pos_label = 1)\n",
    "roc_auc_nbcvi = metrics.roc_auc_score(y_test2, y_pred2)\n",
    "print(\"Accuracy:\", accuracy_nbcvi)\n",
    "print(\"Balanced accuracy:\", balanced_accuracy_nbcvi)\n",
    "print('Precision score' , precision_nbcvi)\n",
    "print('Recall score' , recall_nbcvi)\n",
    "print('F1 score' , f1_nbcvi)\n",
    "print('ROC_AUC Score' , roc_auc_nbcvi)"
   ]
  },
  {
   "cell_type": "code",
   "execution_count": 38,
   "id": "bbb40d86",
   "metadata": {},
   "outputs": [
    {
     "name": "stdout",
     "output_type": "stream",
     "text": [
      "True Suicide: 27411\n",
      "False Suicide: 3093\n",
      "True Non-Suicide: 25953\n",
      "False Non-Suicide: 1556\n"
     ]
    }
   ],
   "source": [
    "from sklearn.metrics import confusion_matrix\n",
    "tn_nbcvi, fp_nbcvi, fn_nbcvi, tp_nbcvi = confusion_matrix(y_test2, y_pred2).ravel()\n",
    "print(f'True Suicide: {tp_nbcvi}')\n",
    "print(f'False Suicide: {fp_nbcvi}')\n",
    "print(f'True Non-Suicide: {tn_nbcvi}')\n",
    "print(f'False Non-Suicide: {fn_nbcvi}')"
   ]
  },
  {
   "cell_type": "code",
   "execution_count": 39,
   "id": "2f0ba6ee",
   "metadata": {},
   "outputs": [
    {
     "data": {
      "text/html": [
       "<div>\n",
       "<style scoped>\n",
       "    .dataframe tbody tr th:only-of-type {\n",
       "        vertical-align: middle;\n",
       "    }\n",
       "\n",
       "    .dataframe tbody tr th {\n",
       "        vertical-align: top;\n",
       "    }\n",
       "\n",
       "    .dataframe thead th {\n",
       "        text-align: right;\n",
       "    }\n",
       "</style>\n",
       "<table border=\"1\" class=\"dataframe\">\n",
       "  <thead>\n",
       "    <tr style=\"text-align: right;\">\n",
       "      <th></th>\n",
       "      <th>Predicted Non-Suicide</th>\n",
       "      <th>Predicted Suicide</th>\n",
       "    </tr>\n",
       "  </thead>\n",
       "  <tbody>\n",
       "    <tr>\n",
       "      <th>Actual Non-Suicide</th>\n",
       "      <td>25953</td>\n",
       "      <td>3093</td>\n",
       "    </tr>\n",
       "    <tr>\n",
       "      <th>Actual Suicide</th>\n",
       "      <td>1556</td>\n",
       "      <td>27411</td>\n",
       "    </tr>\n",
       "  </tbody>\n",
       "</table>\n",
       "</div>"
      ],
      "text/plain": [
       "                    Predicted Non-Suicide  Predicted Suicide\n",
       "Actual Non-Suicide                  25953               3093\n",
       "Actual Suicide                       1556              27411"
      ]
     },
     "execution_count": 39,
     "metadata": {},
     "output_type": "execute_result"
    }
   ],
   "source": [
    "pd.DataFrame(confusion_matrix(y_test2, y_pred2), columns=['Predicted Non-Suicide', \"Predicted Suicide\"], index=['Actual Non-Suicide', 'Actual Suicide'])"
   ]
  },
  {
   "cell_type": "code",
   "execution_count": 40,
   "id": "d0589156",
   "metadata": {},
   "outputs": [
    {
     "data": {
      "image/png": "[encoded data removed]",
      "text/plain": [
       "<Figure size 576x432 with 1 Axes>"
      ]
     },
     "metadata": {
      "needs_background": "light"
     },
     "output_type": "display_data"
    }
   ],
   "source": [
    "y_pred_proba2 = nbcvi.predict_proba(X_test2)[::,1]\n",
    "fpr2, tpr2, _ = metrics.roc_curve(y_test2,  y_pred_proba2)\n",
    "plt.rcParams.update({'figure.figsize': (8, 6.0)})\n",
    "#create ROC curve\n",
    "plt.plot(fpr2,tpr2)\n",
    "plt.plot([0, 1], [0, 1],'r--')\n",
    "plt.title(\"ROC_AUC CURVE Naive Bayes with Count Vectorizer All Features\")\n",
    "plt.ylabel('True Positive Rate')\n",
    "plt.xlabel('False Positive Rate')\n",
    "plt.tight_layout()\n",
    "plt.savefig('ROC_AUC Naive Bayes with Count Vectorizer All features.png')"
   ]
  },
  {
   "cell_type": "markdown",
   "id": "e0d206dc",
   "metadata": {},
   "source": [
    "# Nave Bayes with TF-IDF - Text Only"
   ]
  },
  {
   "cell_type": "code",
   "execution_count": 41,
   "id": "c0b8172f",
   "metadata": {},
   "outputs": [],
   "source": [
    "from sklearn.feature_extraction.text import TfidfVectorizer\n",
    "vectorizor_tfid = TfidfVectorizer(min_df=0)\n",
    "X_tfid1 = vectorizor_tfid.fit_transform(df['text'])\n",
    "X_tfid1 = X_tfid1.tocsc() \n",
    "y_tfid1 = df['class']"
   ]
  },
  {
   "cell_type": "code",
   "execution_count": 42,
   "id": "79d41723",
   "metadata": {},
   "outputs": [
    {
     "data": {
      "text/plain": [
       "<232049x168114 sparse matrix of type '<class 'numpy.float64'>'\n",
       "\twith 16433728 stored elements in Compressed Sparse Column format>"
      ]
     },
     "execution_count": 42,
     "metadata": {},
     "output_type": "execute_result"
    }
   ],
   "source": [
    "X_tfid1"
   ]
  },
  {
   "cell_type": "code",
   "execution_count": 43,
   "id": "7ef9127b",
   "metadata": {},
   "outputs": [],
   "source": [
    "X_train3, X_test3, y_train3, y_test3 = train_test_split(X_tfid1, y_tfid1, test_size=0.25, random_state=12)"
   ]
  },
  {
   "cell_type": "code",
   "execution_count": 44,
   "id": "f6d2dd91",
   "metadata": {},
   "outputs": [
    {
     "data": {
      "text/html": [
       "<style>#sk-container-id-6 {color: black;background-color: white;}#sk-container-id-6 pre{padding: 0;}#sk-container-id-6 div.sk-toggleable {background-color: white;}#sk-container-id-6 label.sk-toggleable__label {cursor: pointer;display: block;width: 100%;margin-bottom: 0;padding: 0.3em;box-sizing: border-box;text-align: center;}#sk-container-id-6 label.sk-toggleable__label-arrow:before {content: \"▸\";float: left;margin-right: 0.25em;color: #696969;}#sk-container-id-6 label.sk-toggleable__label-arrow:hover:before {color: black;}#sk-container-id-6 div.sk-estimator:hover label.sk-toggleable__label-arrow:before {color: black;}#sk-container-id-6 div.sk-toggleable__content {max-height: 0;max-width: 0;overflow: hidden;text-align: left;background-color: #f0f8ff;}#sk-container-id-6 div.sk-toggleable__content pre {margin: 0.2em;color: black;border-radius: 0.25em;background-color: #f0f8ff;}#sk-container-id-6 input.sk-toggleable__control:checked~div.sk-toggleable__content {max-height: 200px;max-width: 100%;overflow: auto;}#sk-container-id-6 input.sk-toggleable__control:checked~label.sk-toggleable__label-arrow:before {content: \"▾\";}#sk-container-id-6 div.sk-estimator input.sk-toggleable__control:checked~label.sk-toggleable__label {background-color: #d4ebff;}#sk-container-id-6 div.sk-label input.sk-toggleable__control:checked~label.sk-toggleable__label {background-color: #d4ebff;}#sk-container-id-6 input.sk-hidden--visually {border: 0;clip: rect(1px 1px 1px 1px);clip: rect(1px, 1px, 1px, 1px);height: 1px;margin: -1px;overflow: hidden;padding: 0;position: absolute;width: 1px;}#sk-container-id-6 div.sk-estimator {font-family: monospace;background-color: #f0f8ff;border: 1px dotted black;border-radius: 0.25em;box-sizing: border-box;margin-bottom: 0.5em;}#sk-container-id-6 div.sk-estimator:hover {background-color: #d4ebff;}#sk-container-id-6 div.sk-parallel-item::after {content: \"\";width: 100%;border-bottom: 1px solid gray;flex-grow: 1;}#sk-container-id-6 div.sk-label:hover label.sk-toggleable__label {background-color: #d4ebff;}#sk-container-id-6 div.sk-serial::before {content: \"\";position: absolute;border-left: 1px solid gray;box-sizing: border-box;top: 0;bottom: 0;left: 50%;z-index: 0;}#sk-container-id-6 div.sk-serial {display: flex;flex-direction: column;align-items: center;background-color: white;padding-right: 0.2em;padding-left: 0.2em;position: relative;}#sk-container-id-6 div.sk-item {position: relative;z-index: 1;}#sk-container-id-6 div.sk-parallel {display: flex;align-items: stretch;justify-content: center;background-color: white;position: relative;}#sk-container-id-6 div.sk-item::before, #sk-container-id-6 div.sk-parallel-item::before {content: \"\";position: absolute;border-left: 1px solid gray;box-sizing: border-box;top: 0;bottom: 0;left: 50%;z-index: -1;}#sk-container-id-6 div.sk-parallel-item {display: flex;flex-direction: column;z-index: 1;position: relative;background-color: white;}#sk-container-id-6 div.sk-parallel-item:first-child::after {align-self: flex-end;width: 50%;}#sk-container-id-6 div.sk-parallel-item:last-child::after {align-self: flex-start;width: 50%;}#sk-container-id-6 div.sk-parallel-item:only-child::after {width: 0;}#sk-container-id-6 div.sk-dashed-wrapped {border: 1px dashed gray;margin: 0 0.4em 0.5em 0.4em;box-sizing: border-box;padding-bottom: 0.4em;background-color: white;}#sk-container-id-6 div.sk-label label {font-family: monospace;font-weight: bold;display: inline-block;line-height: 1.2em;}#sk-container-id-6 div.sk-label-container {text-align: center;}#sk-container-id-6 div.sk-container {/* jupyter's `normalize.less` sets `[hidden] { display: none; }` but bootstrap.min.css set `[hidden] { display: none !important; }` so we also need the `!important` here to be able to override the default hidden behavior on the sphinx rendered scikit-learn.org. See: https://github.com/scikit-learn/scikit-learn/issues/21755 */display: inline-block !important;position: relative;}#sk-container-id-6 div.sk-text-repr-fallback {display: none;}</style><div id=\"sk-container-id-6\" class=\"sk-top-container\"><div class=\"sk-text-repr-fallback\"><pre>MultinomialNB()</pre><b>In a Jupyter environment, please rerun this cell to show the HTML representation or trust the notebook. <br />On GitHub, the HTML representation is unable to render, please try loading this page with nbviewer.org.</b></div><div class=\"sk-container\" hidden><div class=\"sk-item\"><div class=\"sk-estimator sk-toggleable\"><input class=\"sk-toggleable__control sk-hidden--visually\" id=\"sk-estimator-id-10\" type=\"checkbox\" checked><label for=\"sk-estimator-id-10\" class=\"sk-toggleable__label sk-toggleable__label-arrow\">MultinomialNB</label><div class=\"sk-toggleable__content\"><pre>MultinomialNB()</pre></div></div></div></div></div>"
      ],
      "text/plain": [
       "MultinomialNB()"
      ]
     },
     "execution_count": 44,
     "metadata": {},
     "output_type": "execute_result"
    }
   ],
   "source": [
    "nb_tfidf = MultinomialNB()\n",
    "nb_tfidf.fit(X_train3, y_train3)"
   ]
  },
  {
   "cell_type": "code",
   "execution_count": 45,
   "id": "df7f84f1",
   "metadata": {},
   "outputs": [
    {
     "data": {
      "text/html": [
       "<style>#sk-container-id-7 {color: black;background-color: white;}#sk-container-id-7 pre{padding: 0;}#sk-container-id-7 div.sk-toggleable {background-color: white;}#sk-container-id-7 label.sk-toggleable__label {cursor: pointer;display: block;width: 100%;margin-bottom: 0;padding: 0.3em;box-sizing: border-box;text-align: center;}#sk-container-id-7 label.sk-toggleable__label-arrow:before {content: \"▸\";float: left;margin-right: 0.25em;color: #696969;}#sk-container-id-7 label.sk-toggleable__label-arrow:hover:before {color: black;}#sk-container-id-7 div.sk-estimator:hover label.sk-toggleable__label-arrow:before {color: black;}#sk-container-id-7 div.sk-toggleable__content {max-height: 0;max-width: 0;overflow: hidden;text-align: left;background-color: #f0f8ff;}#sk-container-id-7 div.sk-toggleable__content pre {margin: 0.2em;color: black;border-radius: 0.25em;background-color: #f0f8ff;}#sk-container-id-7 input.sk-toggleable__control:checked~div.sk-toggleable__content {max-height: 200px;max-width: 100%;overflow: auto;}#sk-container-id-7 input.sk-toggleable__control:checked~label.sk-toggleable__label-arrow:before {content: \"▾\";}#sk-container-id-7 div.sk-estimator input.sk-toggleable__control:checked~label.sk-toggleable__label {background-color: #d4ebff;}#sk-container-id-7 div.sk-label input.sk-toggleable__control:checked~label.sk-toggleable__label {background-color: #d4ebff;}#sk-container-id-7 input.sk-hidden--visually {border: 0;clip: rect(1px 1px 1px 1px);clip: rect(1px, 1px, 1px, 1px);height: 1px;margin: -1px;overflow: hidden;padding: 0;position: absolute;width: 1px;}#sk-container-id-7 div.sk-estimator {font-family: monospace;background-color: #f0f8ff;border: 1px dotted black;border-radius: 0.25em;box-sizing: border-box;margin-bottom: 0.5em;}#sk-container-id-7 div.sk-estimator:hover {background-color: #d4ebff;}#sk-container-id-7 div.sk-parallel-item::after {content: \"\";width: 100%;border-bottom: 1px solid gray;flex-grow: 1;}#sk-container-id-7 div.sk-label:hover label.sk-toggleable__label {background-color: #d4ebff;}#sk-container-id-7 div.sk-serial::before {content: \"\";position: absolute;border-left: 1px solid gray;box-sizing: border-box;top: 0;bottom: 0;left: 50%;z-index: 0;}#sk-container-id-7 div.sk-serial {display: flex;flex-direction: column;align-items: center;background-color: white;padding-right: 0.2em;padding-left: 0.2em;position: relative;}#sk-container-id-7 div.sk-item {position: relative;z-index: 1;}#sk-container-id-7 div.sk-parallel {display: flex;align-items: stretch;justify-content: center;background-color: white;position: relative;}#sk-container-id-7 div.sk-item::before, #sk-container-id-7 div.sk-parallel-item::before {content: \"\";position: absolute;border-left: 1px solid gray;box-sizing: border-box;top: 0;bottom: 0;left: 50%;z-index: -1;}#sk-container-id-7 div.sk-parallel-item {display: flex;flex-direction: column;z-index: 1;position: relative;background-color: white;}#sk-container-id-7 div.sk-parallel-item:first-child::after {align-self: flex-end;width: 50%;}#sk-container-id-7 div.sk-parallel-item:last-child::after {align-self: flex-start;width: 50%;}#sk-container-id-7 div.sk-parallel-item:only-child::after {width: 0;}#sk-container-id-7 div.sk-dashed-wrapped {border: 1px dashed gray;margin: 0 0.4em 0.5em 0.4em;box-sizing: border-box;padding-bottom: 0.4em;background-color: white;}#sk-container-id-7 div.sk-label label {font-family: monospace;font-weight: bold;display: inline-block;line-height: 1.2em;}#sk-container-id-7 div.sk-label-container {text-align: center;}#sk-container-id-7 div.sk-container {/* jupyter's `normalize.less` sets `[hidden] { display: none; }` but bootstrap.min.css set `[hidden] { display: none !important; }` so we also need the `!important` here to be able to override the default hidden behavior on the sphinx rendered scikit-learn.org. See: https://github.com/scikit-learn/scikit-learn/issues/21755 */display: inline-block !important;position: relative;}#sk-container-id-7 div.sk-text-repr-fallback {display: none;}</style><div id=\"sk-container-id-7\" class=\"sk-top-container\"><div class=\"sk-text-repr-fallback\"><pre>GridSearchCV(cv=5, estimator=MultinomialNB(),\n",
       "             param_grid={&#x27;alpha&#x27;: [0.025, 0.05, 0.1, 0.2, 0.4, 0.5, 0.75, 1, 2,\n",
       "                                   5, 8]})</pre><b>In a Jupyter environment, please rerun this cell to show the HTML representation or trust the notebook. <br />On GitHub, the HTML representation is unable to render, please try loading this page with nbviewer.org.</b></div><div class=\"sk-container\" hidden><div class=\"sk-item sk-dashed-wrapped\"><div class=\"sk-label-container\"><div class=\"sk-label sk-toggleable\"><input class=\"sk-toggleable__control sk-hidden--visually\" id=\"sk-estimator-id-11\" type=\"checkbox\" ><label for=\"sk-estimator-id-11\" class=\"sk-toggleable__label sk-toggleable__label-arrow\">GridSearchCV</label><div class=\"sk-toggleable__content\"><pre>GridSearchCV(cv=5, estimator=MultinomialNB(),\n",
       "             param_grid={&#x27;alpha&#x27;: [0.025, 0.05, 0.1, 0.2, 0.4, 0.5, 0.75, 1, 2,\n",
       "                                   5, 8]})</pre></div></div></div><div class=\"sk-parallel\"><div class=\"sk-parallel-item\"><div class=\"sk-item\"><div class=\"sk-label-container\"><div class=\"sk-label sk-toggleable\"><input class=\"sk-toggleable__control sk-hidden--visually\" id=\"sk-estimator-id-12\" type=\"checkbox\" ><label for=\"sk-estimator-id-12\" class=\"sk-toggleable__label sk-toggleable__label-arrow\">estimator: MultinomialNB</label><div class=\"sk-toggleable__content\"><pre>MultinomialNB()</pre></div></div></div><div class=\"sk-serial\"><div class=\"sk-item\"><div class=\"sk-estimator sk-toggleable\"><input class=\"sk-toggleable__control sk-hidden--visually\" id=\"sk-estimator-id-13\" type=\"checkbox\" ><label for=\"sk-estimator-id-13\" class=\"sk-toggleable__label sk-toggleable__label-arrow\">MultinomialNB</label><div class=\"sk-toggleable__content\"><pre>MultinomialNB()</pre></div></div></div></div></div></div></div></div></div></div>"
      ],
      "text/plain": [
       "GridSearchCV(cv=5, estimator=MultinomialNB(),\n",
       "             param_grid={'alpha': [0.025, 0.05, 0.1, 0.2, 0.4, 0.5, 0.75, 1, 2,\n",
       "                                   5, 8]})"
      ]
     },
     "execution_count": 45,
     "metadata": {},
     "output_type": "execute_result"
    }
   ],
   "source": [
    "n_est = [0.025, 0.05, 0.1, 0.2, 0.4, 0.5, 0.75, 1, 2, 5, 8]\n",
    "#n_est = [int(n) for n in np.logspace(start=0, stop=3, num=30)]\n",
    "param_grid = {'alpha':n_est}\n",
    "nb_tfidf = MultinomialNB()\n",
    "nb_tfidf_cv= GridSearchCV(nb_tfidf,param_grid,cv=5)\n",
    "nb_tfidf_cv.fit(X_train3, y_train3)"
   ]
  },
  {
   "cell_type": "code",
   "execution_count": 46,
   "id": "c573f43a",
   "metadata": {},
   "outputs": [
    {
     "name": "stdout",
     "output_type": "stream",
     "text": [
      "Best Score:0.9069100765895891\n",
      "Best Parameters: {'alpha': 0.05}\n"
     ]
    }
   ],
   "source": [
    "print(\"Best Score:\" + str(nb_tfidf_cv.best_score_))\n",
    "print(\"Best Parameters: \" + str(nb_tfidf_cv.best_params_))"
   ]
  },
  {
   "cell_type": "code",
   "execution_count": 47,
   "id": "a937f194",
   "metadata": {},
   "outputs": [
    {
     "data": {
      "text/html": [
       "<style>#sk-container-id-8 {color: black;background-color: white;}#sk-container-id-8 pre{padding: 0;}#sk-container-id-8 div.sk-toggleable {background-color: white;}#sk-container-id-8 label.sk-toggleable__label {cursor: pointer;display: block;width: 100%;margin-bottom: 0;padding: 0.3em;box-sizing: border-box;text-align: center;}#sk-container-id-8 label.sk-toggleable__label-arrow:before {content: \"▸\";float: left;margin-right: 0.25em;color: #696969;}#sk-container-id-8 label.sk-toggleable__label-arrow:hover:before {color: black;}#sk-container-id-8 div.sk-estimator:hover label.sk-toggleable__label-arrow:before {color: black;}#sk-container-id-8 div.sk-toggleable__content {max-height: 0;max-width: 0;overflow: hidden;text-align: left;background-color: #f0f8ff;}#sk-container-id-8 div.sk-toggleable__content pre {margin: 0.2em;color: black;border-radius: 0.25em;background-color: #f0f8ff;}#sk-container-id-8 input.sk-toggleable__control:checked~div.sk-toggleable__content {max-height: 200px;max-width: 100%;overflow: auto;}#sk-container-id-8 input.sk-toggleable__control:checked~label.sk-toggleable__label-arrow:before {content: \"▾\";}#sk-container-id-8 div.sk-estimator input.sk-toggleable__control:checked~label.sk-toggleable__label {background-color: #d4ebff;}#sk-container-id-8 div.sk-label input.sk-toggleable__control:checked~label.sk-toggleable__label {background-color: #d4ebff;}#sk-container-id-8 input.sk-hidden--visually {border: 0;clip: rect(1px 1px 1px 1px);clip: rect(1px, 1px, 1px, 1px);height: 1px;margin: -1px;overflow: hidden;padding: 0;position: absolute;width: 1px;}#sk-container-id-8 div.sk-estimator {font-family: monospace;background-color: #f0f8ff;border: 1px dotted black;border-radius: 0.25em;box-sizing: border-box;margin-bottom: 0.5em;}#sk-container-id-8 div.sk-estimator:hover {background-color: #d4ebff;}#sk-container-id-8 div.sk-parallel-item::after {content: \"\";width: 100%;border-bottom: 1px solid gray;flex-grow: 1;}#sk-container-id-8 div.sk-label:hover label.sk-toggleable__label {background-color: #d4ebff;}#sk-container-id-8 div.sk-serial::before {content: \"\";position: absolute;border-left: 1px solid gray;box-sizing: border-box;top: 0;bottom: 0;left: 50%;z-index: 0;}#sk-container-id-8 div.sk-serial {display: flex;flex-direction: column;align-items: center;background-color: white;padding-right: 0.2em;padding-left: 0.2em;position: relative;}#sk-container-id-8 div.sk-item {position: relative;z-index: 1;}#sk-container-id-8 div.sk-parallel {display: flex;align-items: stretch;justify-content: center;background-color: white;position: relative;}#sk-container-id-8 div.sk-item::before, #sk-container-id-8 div.sk-parallel-item::before {content: \"\";position: absolute;border-left: 1px solid gray;box-sizing: border-box;top: 0;bottom: 0;left: 50%;z-index: -1;}#sk-container-id-8 div.sk-parallel-item {display: flex;flex-direction: column;z-index: 1;position: relative;background-color: white;}#sk-container-id-8 div.sk-parallel-item:first-child::after {align-self: flex-end;width: 50%;}#sk-container-id-8 div.sk-parallel-item:last-child::after {align-self: flex-start;width: 50%;}#sk-container-id-8 div.sk-parallel-item:only-child::after {width: 0;}#sk-container-id-8 div.sk-dashed-wrapped {border: 1px dashed gray;margin: 0 0.4em 0.5em 0.4em;box-sizing: border-box;padding-bottom: 0.4em;background-color: white;}#sk-container-id-8 div.sk-label label {font-family: monospace;font-weight: bold;display: inline-block;line-height: 1.2em;}#sk-container-id-8 div.sk-label-container {text-align: center;}#sk-container-id-8 div.sk-container {/* jupyter's `normalize.less` sets `[hidden] { display: none; }` but bootstrap.min.css set `[hidden] { display: none !important; }` so we also need the `!important` here to be able to override the default hidden behavior on the sphinx rendered scikit-learn.org. See: https://github.com/scikit-learn/scikit-learn/issues/21755 */display: inline-block !important;position: relative;}#sk-container-id-8 div.sk-text-repr-fallback {display: none;}</style><div id=\"sk-container-id-8\" class=\"sk-top-container\"><div class=\"sk-text-repr-fallback\"><pre>MultinomialNB(alpha=0.05)</pre><b>In a Jupyter environment, please rerun this cell to show the HTML representation or trust the notebook. <br />On GitHub, the HTML representation is unable to render, please try loading this page with nbviewer.org.</b></div><div class=\"sk-container\" hidden><div class=\"sk-item\"><div class=\"sk-estimator sk-toggleable\"><input class=\"sk-toggleable__control sk-hidden--visually\" id=\"sk-estimator-id-14\" type=\"checkbox\" checked><label for=\"sk-estimator-id-14\" class=\"sk-toggleable__label sk-toggleable__label-arrow\">MultinomialNB</label><div class=\"sk-toggleable__content\"><pre>MultinomialNB(alpha=0.05)</pre></div></div></div></div></div>"
      ],
      "text/plain": [
       "MultinomialNB(alpha=0.05)"
      ]
     },
     "execution_count": 47,
     "metadata": {},
     "output_type": "execute_result"
    }
   ],
   "source": [
    "\n",
    "nb_tfidf = MultinomialNB(alpha = 0.05)\n",
    "nb_tfidf.fit(X_train3, y_train3)"
   ]
  },
  {
   "cell_type": "code",
   "execution_count": 48,
   "id": "0c0fcf92",
   "metadata": {},
   "outputs": [],
   "source": [
    "y_train_pred3 = nb_tfidf.predict(X_train3)\n",
    "y_pred3 = nb_tfidf.predict(X_test3)"
   ]
  },
  {
   "cell_type": "code",
   "execution_count": 49,
   "id": "70a0a568",
   "metadata": {},
   "outputs": [],
   "source": [
    "training_accuracy_nb_tfid = nb_tfidf.score(X_train3, y_train3)\n",
    "test_accuracy_nb_tfid = nb_tfidf.score(X_test3, y_test3)"
   ]
  },
  {
   "cell_type": "code",
   "execution_count": 50,
   "id": "536190df",
   "metadata": {},
   "outputs": [
    {
     "name": "stdout",
     "output_type": "stream",
     "text": [
      "Accuracy on training data: 0.931181\n",
      "Accuracy on test data:     0.907124\n"
     ]
    }
   ],
   "source": [
    "print(\"Accuracy on training data: {:2f}\".format(training_accuracy_nb_tfid))\n",
    "print(\"Accuracy on test data:     {:2f}\".format(test_accuracy_nb_tfid))"
   ]
  },
  {
   "cell_type": "code",
   "execution_count": 51,
   "id": "a8753017",
   "metadata": {},
   "outputs": [
    {
     "name": "stdout",
     "output_type": "stream",
     "text": [
      "Accuracy: 0.9071242652508921\n",
      "Balanced accuracy: 0.9071876122247166\n",
      "Precision score 0.8722255548890222\n",
      "Recall score 0.953705941243484\n",
      "F1 score 0.9111477572559367\n",
      "ROC_AUC Score 0.9071876122247164\n"
     ]
    }
   ],
   "source": [
    "from sklearn import tree, metrics\n",
    "accuracy_nb_tfidf = metrics.accuracy_score(y_test3,y_pred3)\n",
    "balanced_accuracy_nb_tfidf = metrics.balanced_accuracy_score(y_test3,y_pred3)\n",
    "precision_nb_tfidf = metrics.precision_score(y_test3,y_pred3, pos_label = 1)\n",
    "recall_nb_tfidf = metrics.recall_score(y_test3,y_pred3, pos_label = 1)\n",
    "f1_nb_tfidf = metrics.f1_score(y_test3, y_pred3, pos_label = 1)\n",
    "roc_auc_nb_tfidf = metrics.roc_auc_score(y_test3, y_pred3)\n",
    "print(\"Accuracy:\", accuracy_nb_tfidf)\n",
    "print(\"Balanced accuracy:\", balanced_accuracy_nb_tfidf)\n",
    "print('Precision score' , precision_nb_tfidf)\n",
    "print('Recall score' , recall_nb_tfidf)\n",
    "print('F1 score' , f1_nb_tfidf)\n",
    "print('ROC_AUC Score' , roc_auc_nb_tfidf)\n",
    "\n"
   ]
  },
  {
   "cell_type": "code",
   "execution_count": 52,
   "id": "d2276b90",
   "metadata": {},
   "outputs": [
    {
     "name": "stdout",
     "output_type": "stream",
     "text": [
      "True Suicide: 27626\n",
      "False Suicide: 4047\n",
      "True Non-Suicide: 24999\n",
      "False Non-Suicide: 1341\n"
     ]
    }
   ],
   "source": [
    "from sklearn.metrics import confusion_matrix\n",
    "tn_nb_tfidf, fp_nb_tfidf, fn_nb_tfidf, tp_nb_tfidf = confusion_matrix(y_test3, y_pred3).ravel()\n",
    "print(f'True Suicide: {tp_nb_tfidf}')\n",
    "print(f'False Suicide: {fp_nb_tfidf}')\n",
    "print(f'True Non-Suicide: {tn_nb_tfidf}')\n",
    "print(f'False Non-Suicide: {fn_nb_tfidf}')"
   ]
  },
  {
   "cell_type": "code",
   "execution_count": 53,
   "id": "0ad3d922",
   "metadata": {},
   "outputs": [
    {
     "data": {
      "text/html": [
       "<div>\n",
       "<style scoped>\n",
       "    .dataframe tbody tr th:only-of-type {\n",
       "        vertical-align: middle;\n",
       "    }\n",
       "\n",
       "    .dataframe tbody tr th {\n",
       "        vertical-align: top;\n",
       "    }\n",
       "\n",
       "    .dataframe thead th {\n",
       "        text-align: right;\n",
       "    }\n",
       "</style>\n",
       "<table border=\"1\" class=\"dataframe\">\n",
       "  <thead>\n",
       "    <tr style=\"text-align: right;\">\n",
       "      <th></th>\n",
       "      <th>Predicted Non-Suicide</th>\n",
       "      <th>Predicted Suicide</th>\n",
       "    </tr>\n",
       "  </thead>\n",
       "  <tbody>\n",
       "    <tr>\n",
       "      <th>Actual Non-Suicide</th>\n",
       "      <td>24999</td>\n",
       "      <td>4047</td>\n",
       "    </tr>\n",
       "    <tr>\n",
       "      <th>Actual Suicide</th>\n",
       "      <td>1341</td>\n",
       "      <td>27626</td>\n",
       "    </tr>\n",
       "  </tbody>\n",
       "</table>\n",
       "</div>"
      ],
      "text/plain": [
       "                    Predicted Non-Suicide  Predicted Suicide\n",
       "Actual Non-Suicide                  24999               4047\n",
       "Actual Suicide                       1341              27626"
      ]
     },
     "execution_count": 53,
     "metadata": {},
     "output_type": "execute_result"
    }
   ],
   "source": [
    "pd.DataFrame(confusion_matrix(y_test3, y_pred3), columns=['Predicted Non-Suicide', \"Predicted Suicide\"], index=['Actual Non-Suicide', 'Actual Suicide'])"
   ]
  },
  {
   "cell_type": "code",
   "execution_count": 54,
   "id": "f8012c02",
   "metadata": {},
   "outputs": [
    {
     "data": {
      "image/png": "[encoded data removed]",
      "text/plain": [
       "<Figure size 576x432 with 1 Axes>"
      ]
     },
     "metadata": {
      "needs_background": "light"
     },
     "output_type": "display_data"
    }
   ],
   "source": [
    "y_pred_proba3 = nb_tfidf.predict_proba(X_test3)[::,1]\n",
    "fpr3, tpr3, _ = metrics.roc_curve(y_test3,  y_pred_proba3)\n",
    "plt.rcParams.update({'figure.figsize': (8, 6.0)})\n",
    "#create ROC curve\n",
    "plt.plot(fpr3,tpr3)\n",
    "plt.plot([0, 1], [0, 1],'r--')\n",
    "plt.title(\"ROC_AUC CURVE Naive Bayes with TF-IDF Vectorizer - Text Only\")\n",
    "plt.ylabel('True Positive Rate')\n",
    "plt.xlabel('False Positive Rate')\n",
    "plt.tight_layout()\n",
    "plt.savefig('ROC_AUC Curve Naive Bayes with TF-IDF Vectoizer_Text_Only.png')"
   ]
  },
  {
   "cell_type": "markdown",
   "id": "5a1d493b",
   "metadata": {},
   "source": [
    "# Naive Bayes - TF-IDF - All Features"
   ]
  },
  {
   "cell_type": "code",
   "execution_count": 55,
   "id": "15ecb9bb",
   "metadata": {},
   "outputs": [
    {
     "name": "stderr",
     "output_type": "stream",
     "text": [
      "C:\\Users\\BETH&A~1\\AppData\\Local\\Temp/ipykernel_3544/250637267.py:7: FutureWarning: Support for multi-dimensional indexing (e.g. `obj[:, None]`) is deprecated and will be removed in a future version.  Convert to a numpy array before indexing instead.\n",
      "  reading_level = scaled_features_df['flesch_kincaid'][:, None]\n",
      "C:\\Users\\BETH&A~1\\AppData\\Local\\Temp/ipykernel_3544/250637267.py:8: FutureWarning: Support for multi-dimensional indexing (e.g. `obj[:, None]`) is deprecated and will be removed in a future version.  Convert to a numpy array before indexing instead.\n",
      "  repetition = scaled_features_df['repetition'][:, None]\n"
     ]
    }
   ],
   "source": [
    "from sklearn.feature_extraction.text import TfidfVectorizer\n",
    "vectorizor_tfid = TfidfVectorizer(min_df=0)\n",
    "text_matrix1 = vectorizor_tfid.fit_transform(df['text'])\n",
    "text_matrix1 = text_matrix1.tocsc() \n",
    "length = scaled_features_df['length'].values[:, None]\n",
    "sentiment = scaled_features_df['sentiment'].values[:, None]\n",
    "reading_level = scaled_features_df['flesch_kincaid'][:, None]\n",
    "repetition = scaled_features_df['repetition'][:, None]\n",
    "first = hstack((text_matrix1, length))\n",
    "second = hstack((first, sentiment))\n",
    "third = hstack((second, reading_level))\n",
    "X_tfid11 = hstack((third, sentiment))\n",
    "\n",
    "y_tfid11 = df['class']"
   ]
  },
  {
   "cell_type": "code",
   "execution_count": 56,
   "id": "58612fca",
   "metadata": {},
   "outputs": [],
   "source": [
    "X_train4, X_test4, y_train4, y_test4 = train_test_split(X_tfid11, y_tfid11, test_size=0.25, random_state=12)"
   ]
  },
  {
   "cell_type": "code",
   "execution_count": 57,
   "id": "7a8e4a9d",
   "metadata": {},
   "outputs": [
    {
     "data": {
      "text/html": [
       "<style>#sk-container-id-9 {color: black;background-color: white;}#sk-container-id-9 pre{padding: 0;}#sk-container-id-9 div.sk-toggleable {background-color: white;}#sk-container-id-9 label.sk-toggleable__label {cursor: pointer;display: block;width: 100%;margin-bottom: 0;padding: 0.3em;box-sizing: border-box;text-align: center;}#sk-container-id-9 label.sk-toggleable__label-arrow:before {content: \"▸\";float: left;margin-right: 0.25em;color: #696969;}#sk-container-id-9 label.sk-toggleable__label-arrow:hover:before {color: black;}#sk-container-id-9 div.sk-estimator:hover label.sk-toggleable__label-arrow:before {color: black;}#sk-container-id-9 div.sk-toggleable__content {max-height: 0;max-width: 0;overflow: hidden;text-align: left;background-color: #f0f8ff;}#sk-container-id-9 div.sk-toggleable__content pre {margin: 0.2em;color: black;border-radius: 0.25em;background-color: #f0f8ff;}#sk-container-id-9 input.sk-toggleable__control:checked~div.sk-toggleable__content {max-height: 200px;max-width: 100%;overflow: auto;}#sk-container-id-9 input.sk-toggleable__control:checked~label.sk-toggleable__label-arrow:before {content: \"▾\";}#sk-container-id-9 div.sk-estimator input.sk-toggleable__control:checked~label.sk-toggleable__label {background-color: #d4ebff;}#sk-container-id-9 div.sk-label input.sk-toggleable__control:checked~label.sk-toggleable__label {background-color: #d4ebff;}#sk-container-id-9 input.sk-hidden--visually {border: 0;clip: rect(1px 1px 1px 1px);clip: rect(1px, 1px, 1px, 1px);height: 1px;margin: -1px;overflow: hidden;padding: 0;position: absolute;width: 1px;}#sk-container-id-9 div.sk-estimator {font-family: monospace;background-color: #f0f8ff;border: 1px dotted black;border-radius: 0.25em;box-sizing: border-box;margin-bottom: 0.5em;}#sk-container-id-9 div.sk-estimator:hover {background-color: #d4ebff;}#sk-container-id-9 div.sk-parallel-item::after {content: \"\";width: 100%;border-bottom: 1px solid gray;flex-grow: 1;}#sk-container-id-9 div.sk-label:hover label.sk-toggleable__label {background-color: #d4ebff;}#sk-container-id-9 div.sk-serial::before {content: \"\";position: absolute;border-left: 1px solid gray;box-sizing: border-box;top: 0;bottom: 0;left: 50%;z-index: 0;}#sk-container-id-9 div.sk-serial {display: flex;flex-direction: column;align-items: center;background-color: white;padding-right: 0.2em;padding-left: 0.2em;position: relative;}#sk-container-id-9 div.sk-item {position: relative;z-index: 1;}#sk-container-id-9 div.sk-parallel {display: flex;align-items: stretch;justify-content: center;background-color: white;position: relative;}#sk-container-id-9 div.sk-item::before, #sk-container-id-9 div.sk-parallel-item::before {content: \"\";position: absolute;border-left: 1px solid gray;box-sizing: border-box;top: 0;bottom: 0;left: 50%;z-index: -1;}#sk-container-id-9 div.sk-parallel-item {display: flex;flex-direction: column;z-index: 1;position: relative;background-color: white;}#sk-container-id-9 div.sk-parallel-item:first-child::after {align-self: flex-end;width: 50%;}#sk-container-id-9 div.sk-parallel-item:last-child::after {align-self: flex-start;width: 50%;}#sk-container-id-9 div.sk-parallel-item:only-child::after {width: 0;}#sk-container-id-9 div.sk-dashed-wrapped {border: 1px dashed gray;margin: 0 0.4em 0.5em 0.4em;box-sizing: border-box;padding-bottom: 0.4em;background-color: white;}#sk-container-id-9 div.sk-label label {font-family: monospace;font-weight: bold;display: inline-block;line-height: 1.2em;}#sk-container-id-9 div.sk-label-container {text-align: center;}#sk-container-id-9 div.sk-container {/* jupyter's `normalize.less` sets `[hidden] { display: none; }` but bootstrap.min.css set `[hidden] { display: none !important; }` so we also need the `!important` here to be able to override the default hidden behavior on the sphinx rendered scikit-learn.org. See: https://github.com/scikit-learn/scikit-learn/issues/21755 */display: inline-block !important;position: relative;}#sk-container-id-9 div.sk-text-repr-fallback {display: none;}</style><div id=\"sk-container-id-9\" class=\"sk-top-container\"><div class=\"sk-text-repr-fallback\"><pre>GridSearchCV(cv=5, estimator=MultinomialNB(),\n",
       "             param_grid={&#x27;alpha&#x27;: [0.025, 0.05, 0.1, 0.2, 0.4, 0.5, 0.75, 1, 2,\n",
       "                                   5, 8]})</pre><b>In a Jupyter environment, please rerun this cell to show the HTML representation or trust the notebook. <br />On GitHub, the HTML representation is unable to render, please try loading this page with nbviewer.org.</b></div><div class=\"sk-container\" hidden><div class=\"sk-item sk-dashed-wrapped\"><div class=\"sk-label-container\"><div class=\"sk-label sk-toggleable\"><input class=\"sk-toggleable__control sk-hidden--visually\" id=\"sk-estimator-id-15\" type=\"checkbox\" ><label for=\"sk-estimator-id-15\" class=\"sk-toggleable__label sk-toggleable__label-arrow\">GridSearchCV</label><div class=\"sk-toggleable__content\"><pre>GridSearchCV(cv=5, estimator=MultinomialNB(),\n",
       "             param_grid={&#x27;alpha&#x27;: [0.025, 0.05, 0.1, 0.2, 0.4, 0.5, 0.75, 1, 2,\n",
       "                                   5, 8]})</pre></div></div></div><div class=\"sk-parallel\"><div class=\"sk-parallel-item\"><div class=\"sk-item\"><div class=\"sk-label-container\"><div class=\"sk-label sk-toggleable\"><input class=\"sk-toggleable__control sk-hidden--visually\" id=\"sk-estimator-id-16\" type=\"checkbox\" ><label for=\"sk-estimator-id-16\" class=\"sk-toggleable__label sk-toggleable__label-arrow\">estimator: MultinomialNB</label><div class=\"sk-toggleable__content\"><pre>MultinomialNB()</pre></div></div></div><div class=\"sk-serial\"><div class=\"sk-item\"><div class=\"sk-estimator sk-toggleable\"><input class=\"sk-toggleable__control sk-hidden--visually\" id=\"sk-estimator-id-17\" type=\"checkbox\" ><label for=\"sk-estimator-id-17\" class=\"sk-toggleable__label sk-toggleable__label-arrow\">MultinomialNB</label><div class=\"sk-toggleable__content\"><pre>MultinomialNB()</pre></div></div></div></div></div></div></div></div></div></div>"
      ],
      "text/plain": [
       "GridSearchCV(cv=5, estimator=MultinomialNB(),\n",
       "             param_grid={'alpha': [0.025, 0.05, 0.1, 0.2, 0.4, 0.5, 0.75, 1, 2,\n",
       "                                   5, 8]})"
      ]
     },
     "execution_count": 57,
     "metadata": {},
     "output_type": "execute_result"
    }
   ],
   "source": [
    "n_est = [0.025, 0.05, 0.1, 0.2, 0.4, 0.5, 0.75, 1, 2, 5, 8]\n",
    "#n_est = [int(n) for n in np.logspace(start=0, stop=3, num=30)]\n",
    "param_grid = {'alpha':n_est}\n",
    "nb_tfidf = MultinomialNB()\n",
    "nb_tfidf_cv= GridSearchCV(nb_tfidf,param_grid,cv=5)\n",
    "nb_tfidf_cv.fit(X_train4, y_train4)"
   ]
  },
  {
   "cell_type": "code",
   "execution_count": 58,
   "id": "f495ded0",
   "metadata": {},
   "outputs": [
    {
     "name": "stdout",
     "output_type": "stream",
     "text": [
      "Best Score:0.909616417369875\n",
      "Best Parameters: {'alpha': 0.05}\n"
     ]
    }
   ],
   "source": [
    "print(\"Best Score:\" + str(nb_tfidf_cv.best_score_))\n",
    "print(\"Best Parameters: \" + str(nb_tfidf_cv.best_params_))"
   ]
  },
  {
   "cell_type": "code",
   "execution_count": 59,
   "id": "3abf1478",
   "metadata": {},
   "outputs": [
    {
     "data": {
      "text/html": [
       "<style>#sk-container-id-10 {color: black;background-color: white;}#sk-container-id-10 pre{padding: 0;}#sk-container-id-10 div.sk-toggleable {background-color: white;}#sk-container-id-10 label.sk-toggleable__label {cursor: pointer;display: block;width: 100%;margin-bottom: 0;padding: 0.3em;box-sizing: border-box;text-align: center;}#sk-container-id-10 label.sk-toggleable__label-arrow:before {content: \"▸\";float: left;margin-right: 0.25em;color: #696969;}#sk-container-id-10 label.sk-toggleable__label-arrow:hover:before {color: black;}#sk-container-id-10 div.sk-estimator:hover label.sk-toggleable__label-arrow:before {color: black;}#sk-container-id-10 div.sk-toggleable__content {max-height: 0;max-width: 0;overflow: hidden;text-align: left;background-color: #f0f8ff;}#sk-container-id-10 div.sk-toggleable__content pre {margin: 0.2em;color: black;border-radius: 0.25em;background-color: #f0f8ff;}#sk-container-id-10 input.sk-toggleable__control:checked~div.sk-toggleable__content {max-height: 200px;max-width: 100%;overflow: auto;}#sk-container-id-10 input.sk-toggleable__control:checked~label.sk-toggleable__label-arrow:before {content: \"▾\";}#sk-container-id-10 div.sk-estimator input.sk-toggleable__control:checked~label.sk-toggleable__label {background-color: #d4ebff;}#sk-container-id-10 div.sk-label input.sk-toggleable__control:checked~label.sk-toggleable__label {background-color: #d4ebff;}#sk-container-id-10 input.sk-hidden--visually {border: 0;clip: rect(1px 1px 1px 1px);clip: rect(1px, 1px, 1px, 1px);height: 1px;margin: -1px;overflow: hidden;padding: 0;position: absolute;width: 1px;}#sk-container-id-10 div.sk-estimator {font-family: monospace;background-color: #f0f8ff;border: 1px dotted black;border-radius: 0.25em;box-sizing: border-box;margin-bottom: 0.5em;}#sk-container-id-10 div.sk-estimator:hover {background-color: #d4ebff;}#sk-container-id-10 div.sk-parallel-item::after {content: \"\";width: 100%;border-bottom: 1px solid gray;flex-grow: 1;}#sk-container-id-10 div.sk-label:hover label.sk-toggleable__label {background-color: #d4ebff;}#sk-container-id-10 div.sk-serial::before {content: \"\";position: absolute;border-left: 1px solid gray;box-sizing: border-box;top: 0;bottom: 0;left: 50%;z-index: 0;}#sk-container-id-10 div.sk-serial {display: flex;flex-direction: column;align-items: center;background-color: white;padding-right: 0.2em;padding-left: 0.2em;position: relative;}#sk-container-id-10 div.sk-item {position: relative;z-index: 1;}#sk-container-id-10 div.sk-parallel {display: flex;align-items: stretch;justify-content: center;background-color: white;position: relative;}#sk-container-id-10 div.sk-item::before, #sk-container-id-10 div.sk-parallel-item::before {content: \"\";position: absolute;border-left: 1px solid gray;box-sizing: border-box;top: 0;bottom: 0;left: 50%;z-index: -1;}#sk-container-id-10 div.sk-parallel-item {display: flex;flex-direction: column;z-index: 1;position: relative;background-color: white;}#sk-container-id-10 div.sk-parallel-item:first-child::after {align-self: flex-end;width: 50%;}#sk-container-id-10 div.sk-parallel-item:last-child::after {align-self: flex-start;width: 50%;}#sk-container-id-10 div.sk-parallel-item:only-child::after {width: 0;}#sk-container-id-10 div.sk-dashed-wrapped {border: 1px dashed gray;margin: 0 0.4em 0.5em 0.4em;box-sizing: border-box;padding-bottom: 0.4em;background-color: white;}#sk-container-id-10 div.sk-label label {font-family: monospace;font-weight: bold;display: inline-block;line-height: 1.2em;}#sk-container-id-10 div.sk-label-container {text-align: center;}#sk-container-id-10 div.sk-container {/* jupyter's `normalize.less` sets `[hidden] { display: none; }` but bootstrap.min.css set `[hidden] { display: none !important; }` so we also need the `!important` here to be able to override the default hidden behavior on the sphinx rendered scikit-learn.org. See: https://github.com/scikit-learn/scikit-learn/issues/21755 */display: inline-block !important;position: relative;}#sk-container-id-10 div.sk-text-repr-fallback {display: none;}</style><div id=\"sk-container-id-10\" class=\"sk-top-container\"><div class=\"sk-text-repr-fallback\"><pre>MultinomialNB(alpha=0.05)</pre><b>In a Jupyter environment, please rerun this cell to show the HTML representation or trust the notebook. <br />On GitHub, the HTML representation is unable to render, please try loading this page with nbviewer.org.</b></div><div class=\"sk-container\" hidden><div class=\"sk-item\"><div class=\"sk-estimator sk-toggleable\"><input class=\"sk-toggleable__control sk-hidden--visually\" id=\"sk-estimator-id-18\" type=\"checkbox\" checked><label for=\"sk-estimator-id-18\" class=\"sk-toggleable__label sk-toggleable__label-arrow\">MultinomialNB</label><div class=\"sk-toggleable__content\"><pre>MultinomialNB(alpha=0.05)</pre></div></div></div></div></div>"
      ],
      "text/plain": [
       "MultinomialNB(alpha=0.05)"
      ]
     },
     "execution_count": 59,
     "metadata": {},
     "output_type": "execute_result"
    }
   ],
   "source": [
    "nb_tfidf = MultinomialNB(alpha = 0.05)\n",
    "nb_tfidf.fit(X_train4, y_train4)"
   ]
  },
  {
   "cell_type": "code",
   "execution_count": 60,
   "id": "c98ca412",
   "metadata": {},
   "outputs": [],
   "source": [
    "y_train_pred4 = nb_tfidf.predict(X_train4)\n",
    "y_pred4 = nb_tfidf.predict(X_test4)"
   ]
  },
  {
   "cell_type": "code",
   "execution_count": 61,
   "id": "8d41f2f6",
   "metadata": {},
   "outputs": [],
   "source": [
    "training_accuracy_nb_tfid = nb_tfidf.score(X_train4, y_train4)\n",
    "test_accuracy_nb_tfid = nb_tfidf.score(X_test4, y_test4)"
   ]
  },
  {
   "cell_type": "code",
   "execution_count": 62,
   "id": "288825b9",
   "metadata": {},
   "outputs": [
    {
     "name": "stdout",
     "output_type": "stream",
     "text": [
      "Accuracy on training data: 0.933755\n",
      "Accuracy on test data:     0.910503\n"
     ]
    }
   ],
   "source": [
    "print(\"Accuracy on training data: {:2f}\".format(training_accuracy_nb_tfid))\n",
    "print(\"Accuracy on test data:     {:2f}\".format(test_accuracy_nb_tfid))"
   ]
  },
  {
   "cell_type": "code",
   "execution_count": 63,
   "id": "45ec6559",
   "metadata": {},
   "outputs": [
    {
     "name": "stdout",
     "output_type": "stream",
     "text": [
      "Accuracy: 0.9105028183338217\n",
      "Balanced accuracy: 0.9105574394429525\n",
      "Precision score 0.879780198715696\n",
      "Recall score 0.9506680015189699\n",
      "F1 score 0.9138514634631979\n",
      "ROC_AUC Score 0.9105574394429525\n"
     ]
    }
   ],
   "source": [
    "accuracy_nb_tfidfi = metrics.accuracy_score(y_test4,y_pred4)\n",
    "balanced_accuracy_nb_tfidfi = metrics.balanced_accuracy_score(y_test4,y_pred4)\n",
    "precision_nb_tfidfi = metrics.precision_score(y_test4,y_pred4, pos_label = 1)\n",
    "recall_nb_tfidfi = metrics.recall_score(y_test4,y_pred4, pos_label = 1)\n",
    "f1_nb_tfidfi = metrics.f1_score(y_test4, y_pred4, pos_label = 1)\n",
    "roc_auc_nb_tfidfi = metrics.roc_auc_score(y_test4, y_pred4)\n",
    "print(\"Accuracy:\", accuracy_nb_tfidfi)\n",
    "print(\"Balanced accuracy:\", balanced_accuracy_nb_tfidfi)\n",
    "print('Precision score' , precision_nb_tfidfi)\n",
    "print('Recall score' , recall_nb_tfidfi)\n",
    "print('F1 score' , f1_nb_tfidfi)\n",
    "print('ROC_AUC Score' , roc_auc_nb_tfidfi)"
   ]
  },
  {
   "cell_type": "code",
   "execution_count": 64,
   "id": "d712cccf",
   "metadata": {},
   "outputs": [
    {
     "name": "stdout",
     "output_type": "stream",
     "text": [
      "True Suicide: 27538\n",
      "False Suicide: 3763\n",
      "True Non-Suicide: 25283\n",
      "False Non-Suicide: 1429\n"
     ]
    }
   ],
   "source": [
    "from sklearn.metrics import confusion_matrix\n",
    "tn_nb_tfidfi, fp_nb_tfidfi, fn_nb_tfidfi, tp_nb_tfidfi = confusion_matrix(y_test4, y_pred4).ravel()\n",
    "print(f'True Suicide: {tp_nb_tfidfi}')\n",
    "print(f'False Suicide: {fp_nb_tfidfi}')\n",
    "print(f'True Non-Suicide: {tn_nb_tfidfi}')\n",
    "print(f'False Non-Suicide: {fn_nb_tfidfi}')"
   ]
  },
  {
   "cell_type": "code",
   "execution_count": 65,
   "id": "9dd2db13",
   "metadata": {},
   "outputs": [
    {
     "data": {
      "text/html": [
       "<div>\n",
       "<style scoped>\n",
       "    .dataframe tbody tr th:only-of-type {\n",
       "        vertical-align: middle;\n",
       "    }\n",
       "\n",
       "    .dataframe tbody tr th {\n",
       "        vertical-align: top;\n",
       "    }\n",
       "\n",
       "    .dataframe thead th {\n",
       "        text-align: right;\n",
       "    }\n",
       "</style>\n",
       "<table border=\"1\" class=\"dataframe\">\n",
       "  <thead>\n",
       "    <tr style=\"text-align: right;\">\n",
       "      <th></th>\n",
       "      <th>Predicted Non-Suicide</th>\n",
       "      <th>Predicted Suicide</th>\n",
       "    </tr>\n",
       "  </thead>\n",
       "  <tbody>\n",
       "    <tr>\n",
       "      <th>Actual Non-Suicide</th>\n",
       "      <td>25283</td>\n",
       "      <td>3763</td>\n",
       "    </tr>\n",
       "    <tr>\n",
       "      <th>Actual Suicide</th>\n",
       "      <td>1429</td>\n",
       "      <td>27538</td>\n",
       "    </tr>\n",
       "  </tbody>\n",
       "</table>\n",
       "</div>"
      ],
      "text/plain": [
       "                    Predicted Non-Suicide  Predicted Suicide\n",
       "Actual Non-Suicide                  25283               3763\n",
       "Actual Suicide                       1429              27538"
      ]
     },
     "execution_count": 65,
     "metadata": {},
     "output_type": "execute_result"
    }
   ],
   "source": [
    "pd.DataFrame(confusion_matrix(y_test4, y_pred4), columns=['Predicted Non-Suicide', \"Predicted Suicide\"], index=['Actual Non-Suicide', 'Actual Suicide'])"
   ]
  },
  {
   "cell_type": "code",
   "execution_count": 66,
   "id": "a8ecf968",
   "metadata": {},
   "outputs": [
    {
     "data": {
      "image/png": "[encoded data removed]",
      "text/plain": [
       "<Figure size 576x432 with 1 Axes>"
      ]
     },
     "metadata": {
      "needs_background": "light"
     },
     "output_type": "display_data"
    }
   ],
   "source": [
    "y_pred_proba4 = nb_tfidf.predict_proba(X_test4)[::,1]\n",
    "fpr4, tpr4, _ = metrics.roc_curve(y_test4,  y_pred_proba4)\n",
    "plt.rcParams.update({'figure.figsize': (8, 6.0)})\n",
    "#create ROC curve\n",
    "plt.plot(fpr4,tpr4)\n",
    "plt.plot([0, 1], [0, 1],'r--')\n",
    "plt.title(\"ROC_AUC CURVE Naive Bayes with TF-IDF Vectorizer - All Features\")\n",
    "plt.ylabel('True Positive Rate')\n",
    "plt.xlabel('False Positive Rate')\n",
    "plt.tight_layout()\n",
    "plt.savefig('ROC_AUC Curve Naive Bayes with TF-IDF Vectorizer_All_Features.png')"
   ]
  },
  {
   "cell_type": "markdown",
   "id": "eb9ec198",
   "metadata": {},
   "source": [
    "# Random Forest - Count Vectorizor"
   ]
  },
  {
   "cell_type": "code",
   "execution_count": 67,
   "id": "2aae9ef4",
   "metadata": {},
   "outputs": [],
   "source": [
    "from sklearn.ensemble import RandomForestClassifier\n",
    "# the first model is using Count Vectorizor"
   ]
  },
  {
   "cell_type": "code",
   "execution_count": 68,
   "id": "493efe05",
   "metadata": {},
   "outputs": [],
   "source": [
    "vectorizer = CountVectorizer(min_df=3)\n",
    "X = vectorizer.fit_transform(df['clean_text'].head(1000))\n",
    "X = X.tocsc() \n",
    "y = df['class'].head(1000)"
   ]
  },
  {
   "cell_type": "code",
   "execution_count": 69,
   "id": "8f5beab5",
   "metadata": {},
   "outputs": [],
   "source": [
    "X_train5, X_test5, y_train5, y_test5 = train_test_split(X, y, test_size=0.25, random_state=12)"
   ]
  },
  {
   "cell_type": "code",
   "execution_count": 70,
   "id": "c79b2b5a",
   "metadata": {},
   "outputs": [
    {
     "data": {
      "text/plain": [
       "\"\\nn_est = [int(n) for n in np.logspace(start=2.9, stop=4, num=5)]\\ndepth = [int(x) for x in np.linspace(10, 100, num = 10)]\\nparam_grid = {'n_estimators': n_est, 'max_depth' : depth}\\nrf1 = RandomForestClassifier(random_state = 1519)\\nrf_cv = GridSearchCV(rf1, param_grid, cv = 5)\\nrf_cv.fit(X_train5, y_train5)\\n\""
      ]
     },
     "execution_count": 70,
     "metadata": {},
     "output_type": "execute_result"
    }
   ],
   "source": [
    "'''\n",
    "n_est = [int(n) for n in np.logspace(start=2.9, stop=4, num=5)]\n",
    "depth = [int(x) for x in np.linspace(10, 100, num = 10)]\n",
    "param_grid = {'n_estimators': n_est, 'max_depth' : depth}\n",
    "rf1 = RandomForestClassifier(random_state = 1519)\n",
    "rf_cv = GridSearchCV(rf1, param_grid, cv = 5)\n",
    "rf_cv.fit(X_train5, y_train5)\n",
    "'''"
   ]
  },
  {
   "cell_type": "code",
   "execution_count": 71,
   "id": "1c47ec26",
   "metadata": {},
   "outputs": [],
   "source": [
    "#print(\"Best Score:\" + str(rf_cv.best_score_))\n",
    "#print(\"Best Parameters: \" + str(rf_cv.best_params_))"
   ]
  },
  {
   "cell_type": "code",
   "execution_count": 72,
   "id": "3c9411ce",
   "metadata": {},
   "outputs": [],
   "source": [
    "vectorizer = CountVectorizer(min_df=3)\n",
    "X = vectorizer.fit_transform(df['clean_text'])\n",
    "X = X.tocsc() \n",
    "y = df['class']"
   ]
  },
  {
   "cell_type": "code",
   "execution_count": 73,
   "id": "97d72362",
   "metadata": {},
   "outputs": [],
   "source": [
    "X_train5, X_test5, y_train5, y_test5 = train_test_split(X, y, test_size=0.25, random_state=12)"
   ]
  },
  {
   "cell_type": "code",
   "execution_count": 74,
   "id": "590f3f3b",
   "metadata": {},
   "outputs": [
    {
     "data": {
      "text/html": [
       "<style>#sk-container-id-11 {color: black;background-color: white;}#sk-container-id-11 pre{padding: 0;}#sk-container-id-11 div.sk-toggleable {background-color: white;}#sk-container-id-11 label.sk-toggleable__label {cursor: pointer;display: block;width: 100%;margin-bottom: 0;padding: 0.3em;box-sizing: border-box;text-align: center;}#sk-container-id-11 label.sk-toggleable__label-arrow:before {content: \"▸\";float: left;margin-right: 0.25em;color: #696969;}#sk-container-id-11 label.sk-toggleable__label-arrow:hover:before {color: black;}#sk-container-id-11 div.sk-estimator:hover label.sk-toggleable__label-arrow:before {color: black;}#sk-container-id-11 div.sk-toggleable__content {max-height: 0;max-width: 0;overflow: hidden;text-align: left;background-color: #f0f8ff;}#sk-container-id-11 div.sk-toggleable__content pre {margin: 0.2em;color: black;border-radius: 0.25em;background-color: #f0f8ff;}#sk-container-id-11 input.sk-toggleable__control:checked~div.sk-toggleable__content {max-height: 200px;max-width: 100%;overflow: auto;}#sk-container-id-11 input.sk-toggleable__control:checked~label.sk-toggleable__label-arrow:before {content: \"▾\";}#sk-container-id-11 div.sk-estimator input.sk-toggleable__control:checked~label.sk-toggleable__label {background-color: #d4ebff;}#sk-container-id-11 div.sk-label input.sk-toggleable__control:checked~label.sk-toggleable__label {background-color: #d4ebff;}#sk-container-id-11 input.sk-hidden--visually {border: 0;clip: rect(1px 1px 1px 1px);clip: rect(1px, 1px, 1px, 1px);height: 1px;margin: -1px;overflow: hidden;padding: 0;position: absolute;width: 1px;}#sk-container-id-11 div.sk-estimator {font-family: monospace;background-color: #f0f8ff;border: 1px dotted black;border-radius: 0.25em;box-sizing: border-box;margin-bottom: 0.5em;}#sk-container-id-11 div.sk-estimator:hover {background-color: #d4ebff;}#sk-container-id-11 div.sk-parallel-item::after {content: \"\";width: 100%;border-bottom: 1px solid gray;flex-grow: 1;}#sk-container-id-11 div.sk-label:hover label.sk-toggleable__label {background-color: #d4ebff;}#sk-container-id-11 div.sk-serial::before {content: \"\";position: absolute;border-left: 1px solid gray;box-sizing: border-box;top: 0;bottom: 0;left: 50%;z-index: 0;}#sk-container-id-11 div.sk-serial {display: flex;flex-direction: column;align-items: center;background-color: white;padding-right: 0.2em;padding-left: 0.2em;position: relative;}#sk-container-id-11 div.sk-item {position: relative;z-index: 1;}#sk-container-id-11 div.sk-parallel {display: flex;align-items: stretch;justify-content: center;background-color: white;position: relative;}#sk-container-id-11 div.sk-item::before, #sk-container-id-11 div.sk-parallel-item::before {content: \"\";position: absolute;border-left: 1px solid gray;box-sizing: border-box;top: 0;bottom: 0;left: 50%;z-index: -1;}#sk-container-id-11 div.sk-parallel-item {display: flex;flex-direction: column;z-index: 1;position: relative;background-color: white;}#sk-container-id-11 div.sk-parallel-item:first-child::after {align-self: flex-end;width: 50%;}#sk-container-id-11 div.sk-parallel-item:last-child::after {align-self: flex-start;width: 50%;}#sk-container-id-11 div.sk-parallel-item:only-child::after {width: 0;}#sk-container-id-11 div.sk-dashed-wrapped {border: 1px dashed gray;margin: 0 0.4em 0.5em 0.4em;box-sizing: border-box;padding-bottom: 0.4em;background-color: white;}#sk-container-id-11 div.sk-label label {font-family: monospace;font-weight: bold;display: inline-block;line-height: 1.2em;}#sk-container-id-11 div.sk-label-container {text-align: center;}#sk-container-id-11 div.sk-container {/* jupyter's `normalize.less` sets `[hidden] { display: none; }` but bootstrap.min.css set `[hidden] { display: none !important; }` so we also need the `!important` here to be able to override the default hidden behavior on the sphinx rendered scikit-learn.org. See: https://github.com/scikit-learn/scikit-learn/issues/21755 */display: inline-block !important;position: relative;}#sk-container-id-11 div.sk-text-repr-fallback {display: none;}</style><div id=\"sk-container-id-11\" class=\"sk-top-container\"><div class=\"sk-text-repr-fallback\"><pre>RandomForestClassifier(max_depth=30, n_estimators=794)</pre><b>In a Jupyter environment, please rerun this cell to show the HTML representation or trust the notebook. <br />On GitHub, the HTML representation is unable to render, please try loading this page with nbviewer.org.</b></div><div class=\"sk-container\" hidden><div class=\"sk-item\"><div class=\"sk-estimator sk-toggleable\"><input class=\"sk-toggleable__control sk-hidden--visually\" id=\"sk-estimator-id-19\" type=\"checkbox\" checked><label for=\"sk-estimator-id-19\" class=\"sk-toggleable__label sk-toggleable__label-arrow\">RandomForestClassifier</label><div class=\"sk-toggleable__content\"><pre>RandomForestClassifier(max_depth=30, n_estimators=794)</pre></div></div></div></div></div>"
      ],
      "text/plain": [
       "RandomForestClassifier(max_depth=30, n_estimators=794)"
      ]
     },
     "execution_count": 74,
     "metadata": {},
     "output_type": "execute_result"
    }
   ],
   "source": [
    "rfcv = RandomForestClassifier(n_estimators = 794 , max_depth = 30)\n",
    "rfcv.fit(X_train5, y_train5)"
   ]
  },
  {
   "cell_type": "code",
   "execution_count": 75,
   "id": "89f5e3c1",
   "metadata": {},
   "outputs": [],
   "source": [
    "y_train_pred_rfcv = rfcv.predict(X_train5)\n",
    "y_pred5 = rfcv.predict(X_test5)"
   ]
  },
  {
   "cell_type": "code",
   "execution_count": 76,
   "id": "83c75c31",
   "metadata": {},
   "outputs": [],
   "source": [
    "training_accuracy_rfcv = rfcv.score(X_train5, y_train5)\n",
    "test_accuracy_rfcv = rfcv.score(X_test5, y_pred5)"
   ]
  },
  {
   "cell_type": "code",
   "execution_count": 77,
   "id": "9a55fdce",
   "metadata": {},
   "outputs": [
    {
     "name": "stdout",
     "output_type": "stream",
     "text": [
      "Accuracy on training data: 0.880088\n",
      "Accuracy on test data:     1.000000\n"
     ]
    }
   ],
   "source": [
    "print(\"Accuracy on training data: {:2f}\".format(training_accuracy_rfcv))\n",
    "print(\"Accuracy on test data:     {:2f}\".format(test_accuracy_rfcv))"
   ]
  },
  {
   "cell_type": "code",
   "execution_count": 78,
   "id": "dcfa817d",
   "metadata": {},
   "outputs": [
    {
     "name": "stdout",
     "output_type": "stream",
     "text": [
      "Accuracy: 0.8531018909554755\n",
      "Balanced accuracy: 0.853025611459403\n",
      "Precision score 0.8973143145866532\n",
      "Recall score 0.7970103911347395\n",
      "F1 score 0.8441933596606698\n",
      "ROC_AUC Score 0.8530256114594031\n"
     ]
    }
   ],
   "source": [
    "from sklearn import tree, metrics\n",
    "accuracy_rfcv = metrics.accuracy_score(y_test5,y_pred5)\n",
    "balanced_accuracy_rfcv = metrics.balanced_accuracy_score(y_test5,y_pred5)\n",
    "precision_rfcv = metrics.precision_score(y_test5,y_pred5, pos_label = 1)\n",
    "recall_rfcv = metrics.recall_score(y_test5,y_pred5, pos_label = 1)\n",
    "f1_rfcv = metrics.f1_score(y_test5, y_pred5, pos_label = 1)\n",
    "roc_auc_rfcv = metrics.roc_auc_score(y_test5, y_pred5)\n",
    "print(\"Accuracy:\", accuracy_rfcv)\n",
    "print(\"Balanced accuracy:\", balanced_accuracy_rfcv)\n",
    "print('Precision score' , precision_rfcv)\n",
    "print('Recall score' , recall_rfcv)\n",
    "print('F1 score' , f1_rfcv)\n",
    "print('ROC_AUC Score' , roc_auc_rfcv)\n"
   ]
  },
  {
   "cell_type": "code",
   "execution_count": 79,
   "id": "0c7d9ead",
   "metadata": {},
   "outputs": [
    {
     "name": "stdout",
     "output_type": "stream",
     "text": [
      "True Suicide: 23087\n",
      "False Suicide: 2642\n",
      "True Non-Suicide: 26404\n",
      "False Non-Suicide: 5880\n"
     ]
    }
   ],
   "source": [
    "from sklearn.metrics import confusion_matrix\n",
    "tn_rfcv, fp_rfcv, fn_rfcv, tp_rfcv = confusion_matrix(y_test5, y_pred5).ravel()\n",
    "print(f'True Suicide: {tp_rfcv}')\n",
    "print(f'False Suicide: {fp_rfcv}')\n",
    "print(f'True Non-Suicide: {tn_rfcv}')\n",
    "print(f'False Non-Suicide: {fn_rfcv}')"
   ]
  },
  {
   "cell_type": "code",
   "execution_count": 80,
   "id": "eeeb1941",
   "metadata": {},
   "outputs": [
    {
     "data": {
      "text/html": [
       "<div>\n",
       "<style scoped>\n",
       "    .dataframe tbody tr th:only-of-type {\n",
       "        vertical-align: middle;\n",
       "    }\n",
       "\n",
       "    .dataframe tbody tr th {\n",
       "        vertical-align: top;\n",
       "    }\n",
       "\n",
       "    .dataframe thead th {\n",
       "        text-align: right;\n",
       "    }\n",
       "</style>\n",
       "<table border=\"1\" class=\"dataframe\">\n",
       "  <thead>\n",
       "    <tr style=\"text-align: right;\">\n",
       "      <th></th>\n",
       "      <th>Predicted Non-Suicide</th>\n",
       "      <th>Predicted Suicide</th>\n",
       "    </tr>\n",
       "  </thead>\n",
       "  <tbody>\n",
       "    <tr>\n",
       "      <th>Actual Non-Suicide</th>\n",
       "      <td>26404</td>\n",
       "      <td>2642</td>\n",
       "    </tr>\n",
       "    <tr>\n",
       "      <th>Actual Suicide</th>\n",
       "      <td>5880</td>\n",
       "      <td>23087</td>\n",
       "    </tr>\n",
       "  </tbody>\n",
       "</table>\n",
       "</div>"
      ],
      "text/plain": [
       "                    Predicted Non-Suicide  Predicted Suicide\n",
       "Actual Non-Suicide                  26404               2642\n",
       "Actual Suicide                       5880              23087"
      ]
     },
     "execution_count": 80,
     "metadata": {},
     "output_type": "execute_result"
    }
   ],
   "source": [
    "pd.DataFrame(confusion_matrix(y_test5, y_pred5), columns=['Predicted Non-Suicide', \"Predicted Suicide\"], index=['Actual Non-Suicide', 'Actual Suicide'])"
   ]
  },
  {
   "cell_type": "code",
   "execution_count": 81,
   "id": "ae23da07",
   "metadata": {},
   "outputs": [
    {
     "data": {
      "image/png": "[encoded data removed]",
      "text/plain": [
       "<Figure size 576x432 with 1 Axes>"
      ]
     },
     "metadata": {
      "needs_background": "light"
     },
     "output_type": "display_data"
    }
   ],
   "source": [
    "y_pred_proba5 = rfcv.predict_proba(X_test5)[::,1]\n",
    "fpr5, tpr5, _ = metrics.roc_curve(y_test5,  y_pred_proba5)\n",
    "plt.rcParams.update({'figure.figsize': (8, 6.0)})\n",
    "#create ROC curve\n",
    "plt.plot(fpr5,tpr5)\n",
    "plt.plot([0, 1], [0, 1],'r--')\n",
    "plt.title(\"ROC_AUC CURVE Random Forest with Count Vectorizer - Text Only\")\n",
    "plt.ylabel('True Positive Rate')\n",
    "plt.xlabel('False Positive Rate')\n",
    "plt.tight_layout()\n",
    "plt.savefig('ROC_AUC Curve Random Forest with Count Vectorizer TextOnly.png')"
   ]
  },
  {
   "cell_type": "markdown",
   "id": "e25101fe",
   "metadata": {},
   "source": [
    "# Random Forest - Count Vectorizer All Features"
   ]
  },
  {
   "cell_type": "code",
   "execution_count": 82,
   "id": "47bbd4f7",
   "metadata": {},
   "outputs": [
    {
     "name": "stderr",
     "output_type": "stream",
     "text": [
      "C:\\Users\\BETH&A~1\\AppData\\Local\\Temp/ipykernel_3544/2777764568.py:7: FutureWarning: Support for multi-dimensional indexing (e.g. `obj[:, None]`) is deprecated and will be removed in a future version.  Convert to a numpy array before indexing instead.\n",
      "  reading_level = scaled_features_df['flesch_kincaid'][:, None]\n",
      "C:\\Users\\BETH&A~1\\AppData\\Local\\Temp/ipykernel_3544/2777764568.py:8: FutureWarning: Support for multi-dimensional indexing (e.g. `obj[:, None]`) is deprecated and will be removed in a future version.  Convert to a numpy array before indexing instead.\n",
      "  repetition = scaled_features_df['repetition'][:, None]\n"
     ]
    }
   ],
   "source": [
    "from scipy.sparse import hstack\n",
    "vectorizer = CountVectorizer(min_df=3)\n",
    "text_matrix = vectorizer.fit_transform(df['clean_text'])\n",
    "text_matrix = text_matrix.tocsc() \n",
    "length = scaled_features_df['length'].values[:, None]\n",
    "sentiment = scaled_features_df['sentiment'].values[:, None]\n",
    "reading_level = scaled_features_df['flesch_kincaid'][:, None]\n",
    "repetition = scaled_features_df['repetition'][:, None]\n",
    "first = hstack((text_matrix, length))\n",
    "second = hstack((first, sentiment))\n",
    "third = hstack((second, reading_level))\n",
    "X = hstack((third, sentiment))\n",
    "\n",
    "y = df['class']"
   ]
  },
  {
   "cell_type": "code",
   "execution_count": 83,
   "id": "227717da",
   "metadata": {},
   "outputs": [],
   "source": [
    "X_train6, X_test6, y_train6, y_test6 = train_test_split(X, y, test_size=0.25, random_state=12)"
   ]
  },
  {
   "cell_type": "code",
   "execution_count": 84,
   "id": "9b9666cc",
   "metadata": {},
   "outputs": [
    {
     "name": "stderr",
     "output_type": "stream",
     "text": [
      "C:\\Users\\BETH&A~1\\AppData\\Local\\Temp/ipykernel_3544/372702823.py:7: FutureWarning: Support for multi-dimensional indexing (e.g. `obj[:, None]`) is deprecated and will be removed in a future version.  Convert to a numpy array before indexing instead.\n",
      "  reading_level = scaled_features_df['flesch_kincaid'].head(1000)[:, None]\n",
      "C:\\Users\\BETH&A~1\\AppData\\Local\\Temp/ipykernel_3544/372702823.py:8: FutureWarning: Support for multi-dimensional indexing (e.g. `obj[:, None]`) is deprecated and will be removed in a future version.  Convert to a numpy array before indexing instead.\n",
      "  repetition = scaled_features_df['repetition'].head(1000)[:, None]\n"
     ]
    }
   ],
   "source": [
    "from scipy.sparse import hstack\n",
    "vectorizer = CountVectorizer(min_df=3)\n",
    "text_matrix = vectorizer.fit_transform(df['clean_text'].head(1000))\n",
    "text_matrix = text_matrix.tocsc() \n",
    "length = scaled_features_df['length'].head(1000).values[:, None]\n",
    "sentiment = scaled_features_df['sentiment'].head(1000).values[:, None]\n",
    "reading_level = scaled_features_df['flesch_kincaid'].head(1000)[:, None]\n",
    "repetition = scaled_features_df['repetition'].head(1000)[:, None]\n",
    "first = hstack((text_matrix, length))\n",
    "second = hstack((first, sentiment))\n",
    "third = hstack((second, reading_level))\n",
    "X_param = hstack((third, sentiment))\n",
    "\n",
    "y_param = df['class'].head(1000)"
   ]
  },
  {
   "cell_type": "code",
   "execution_count": 85,
   "id": "dc01e95f",
   "metadata": {},
   "outputs": [],
   "source": [
    "X_train_param, X_test_param, y_train_param, y_test_param = train_test_split(X_param, y_param, test_size=0.25, random_state=12)"
   ]
  },
  {
   "cell_type": "code",
   "execution_count": 86,
   "id": "1f965326",
   "metadata": {},
   "outputs": [
    {
     "data": {
      "text/plain": [
       "\"\\nn_est = [int(n) for n in np.logspace(start=2.9, stop=4, num=5)]\\ndepth = [int(x) for x in np.linspace(10, 100, num = 10)]\\nparam_grid = {'n_estimators': n_est, 'max_depth' : depth}\\nrf1 = RandomForestClassifier(random_state = 1519)\\nrf_cv = GridSearchCV(rf1, param_grid, cv = 5)\\nrf_cv.fit(X_train_param, y_train_param)\\n\""
      ]
     },
     "execution_count": 86,
     "metadata": {},
     "output_type": "execute_result"
    }
   ],
   "source": [
    "'''\n",
    "n_est = [int(n) for n in np.logspace(start=2.9, stop=4, num=5)]\n",
    "depth = [int(x) for x in np.linspace(10, 100, num = 10)]\n",
    "param_grid = {'n_estimators': n_est, 'max_depth' : depth}\n",
    "rf1 = RandomForestClassifier(random_state = 1519)\n",
    "rf_cv = GridSearchCV(rf1, param_grid, cv = 5)\n",
    "rf_cv.fit(X_train_param, y_train_param)\n",
    "'''"
   ]
  },
  {
   "cell_type": "code",
   "execution_count": 87,
   "id": "7da298cf",
   "metadata": {},
   "outputs": [],
   "source": [
    "#print(\"Best Score:\" + str(rf_cv.best_score_))\n",
    "#print(\"Best Parameters: \" + str(rf_cv.best_params_))"
   ]
  },
  {
   "cell_type": "code",
   "execution_count": 88,
   "id": "5778208d",
   "metadata": {},
   "outputs": [
    {
     "data": {
      "text/plain": [
       "[0.025, 0.05, 0.1, 0.2, 0.4, 0.5, 0.75, 1, 2, 5, 8]"
      ]
     },
     "execution_count": 88,
     "metadata": {},
     "output_type": "execute_result"
    }
   ],
   "source": [
    "n_est"
   ]
  },
  {
   "cell_type": "code",
   "execution_count": 89,
   "id": "f7e4562a",
   "metadata": {},
   "outputs": [
    {
     "data": {
      "text/html": [
       "<style>#sk-container-id-12 {color: black;background-color: white;}#sk-container-id-12 pre{padding: 0;}#sk-container-id-12 div.sk-toggleable {background-color: white;}#sk-container-id-12 label.sk-toggleable__label {cursor: pointer;display: block;width: 100%;margin-bottom: 0;padding: 0.3em;box-sizing: border-box;text-align: center;}#sk-container-id-12 label.sk-toggleable__label-arrow:before {content: \"▸\";float: left;margin-right: 0.25em;color: #696969;}#sk-container-id-12 label.sk-toggleable__label-arrow:hover:before {color: black;}#sk-container-id-12 div.sk-estimator:hover label.sk-toggleable__label-arrow:before {color: black;}#sk-container-id-12 div.sk-toggleable__content {max-height: 0;max-width: 0;overflow: hidden;text-align: left;background-color: #f0f8ff;}#sk-container-id-12 div.sk-toggleable__content pre {margin: 0.2em;color: black;border-radius: 0.25em;background-color: #f0f8ff;}#sk-container-id-12 input.sk-toggleable__control:checked~div.sk-toggleable__content {max-height: 200px;max-width: 100%;overflow: auto;}#sk-container-id-12 input.sk-toggleable__control:checked~label.sk-toggleable__label-arrow:before {content: \"▾\";}#sk-container-id-12 div.sk-estimator input.sk-toggleable__control:checked~label.sk-toggleable__label {background-color: #d4ebff;}#sk-container-id-12 div.sk-label input.sk-toggleable__control:checked~label.sk-toggleable__label {background-color: #d4ebff;}#sk-container-id-12 input.sk-hidden--visually {border: 0;clip: rect(1px 1px 1px 1px);clip: rect(1px, 1px, 1px, 1px);height: 1px;margin: -1px;overflow: hidden;padding: 0;position: absolute;width: 1px;}#sk-container-id-12 div.sk-estimator {font-family: monospace;background-color: #f0f8ff;border: 1px dotted black;border-radius: 0.25em;box-sizing: border-box;margin-bottom: 0.5em;}#sk-container-id-12 div.sk-estimator:hover {background-color: #d4ebff;}#sk-container-id-12 div.sk-parallel-item::after {content: \"\";width: 100%;border-bottom: 1px solid gray;flex-grow: 1;}#sk-container-id-12 div.sk-label:hover label.sk-toggleable__label {background-color: #d4ebff;}#sk-container-id-12 div.sk-serial::before {content: \"\";position: absolute;border-left: 1px solid gray;box-sizing: border-box;top: 0;bottom: 0;left: 50%;z-index: 0;}#sk-container-id-12 div.sk-serial {display: flex;flex-direction: column;align-items: center;background-color: white;padding-right: 0.2em;padding-left: 0.2em;position: relative;}#sk-container-id-12 div.sk-item {position: relative;z-index: 1;}#sk-container-id-12 div.sk-parallel {display: flex;align-items: stretch;justify-content: center;background-color: white;position: relative;}#sk-container-id-12 div.sk-item::before, #sk-container-id-12 div.sk-parallel-item::before {content: \"\";position: absolute;border-left: 1px solid gray;box-sizing: border-box;top: 0;bottom: 0;left: 50%;z-index: -1;}#sk-container-id-12 div.sk-parallel-item {display: flex;flex-direction: column;z-index: 1;position: relative;background-color: white;}#sk-container-id-12 div.sk-parallel-item:first-child::after {align-self: flex-end;width: 50%;}#sk-container-id-12 div.sk-parallel-item:last-child::after {align-self: flex-start;width: 50%;}#sk-container-id-12 div.sk-parallel-item:only-child::after {width: 0;}#sk-container-id-12 div.sk-dashed-wrapped {border: 1px dashed gray;margin: 0 0.4em 0.5em 0.4em;box-sizing: border-box;padding-bottom: 0.4em;background-color: white;}#sk-container-id-12 div.sk-label label {font-family: monospace;font-weight: bold;display: inline-block;line-height: 1.2em;}#sk-container-id-12 div.sk-label-container {text-align: center;}#sk-container-id-12 div.sk-container {/* jupyter's `normalize.less` sets `[hidden] { display: none; }` but bootstrap.min.css set `[hidden] { display: none !important; }` so we also need the `!important` here to be able to override the default hidden behavior on the sphinx rendered scikit-learn.org. See: https://github.com/scikit-learn/scikit-learn/issues/21755 */display: inline-block !important;position: relative;}#sk-container-id-12 div.sk-text-repr-fallback {display: none;}</style><div id=\"sk-container-id-12\" class=\"sk-top-container\"><div class=\"sk-text-repr-fallback\"><pre>RandomForestClassifier(max_depth=1496, n_estimators=70)</pre><b>In a Jupyter environment, please rerun this cell to show the HTML representation or trust the notebook. <br />On GitHub, the HTML representation is unable to render, please try loading this page with nbviewer.org.</b></div><div class=\"sk-container\" hidden><div class=\"sk-item\"><div class=\"sk-estimator sk-toggleable\"><input class=\"sk-toggleable__control sk-hidden--visually\" id=\"sk-estimator-id-20\" type=\"checkbox\" checked><label for=\"sk-estimator-id-20\" class=\"sk-toggleable__label sk-toggleable__label-arrow\">RandomForestClassifier</label><div class=\"sk-toggleable__content\"><pre>RandomForestClassifier(max_depth=1496, n_estimators=70)</pre></div></div></div></div></div>"
      ],
      "text/plain": [
       "RandomForestClassifier(max_depth=1496, n_estimators=70)"
      ]
     },
     "execution_count": 89,
     "metadata": {},
     "output_type": "execute_result"
    }
   ],
   "source": [
    "rfcvi = RandomForestClassifier(n_estimators = 70 , max_depth = 1496)\n",
    "rfcvi.fit(X_train6, y_train6)"
   ]
  },
  {
   "cell_type": "code",
   "execution_count": 90,
   "id": "368c7a7e",
   "metadata": {},
   "outputs": [],
   "source": [
    "y_train_pred_rfcvi = rfcvi.predict(X_train6)\n",
    "y_pred6 = rfcvi.predict(X_test6)"
   ]
  },
  {
   "cell_type": "code",
   "execution_count": 91,
   "id": "77be5268",
   "metadata": {},
   "outputs": [],
   "source": [
    "training_accuracy_rfcvi = rfcvi.score(X_train6, y_train6)\n",
    "test_accuracy_rfcvi = rfcvi.score(X_test6, y_pred6)"
   ]
  },
  {
   "cell_type": "code",
   "execution_count": 92,
   "id": "88f4be82",
   "metadata": {},
   "outputs": [
    {
     "name": "stdout",
     "output_type": "stream",
     "text": [
      "Accuracy on training data: 0.999885\n",
      "Accuracy on test data:     1.000000\n"
     ]
    }
   ],
   "source": [
    "print(\"Accuracy on training data: {:2f}\".format(training_accuracy_rfcvi))\n",
    "print(\"Accuracy on test data:     {:2f}\".format(test_accuracy_rfcvi))"
   ]
  },
  {
   "cell_type": "code",
   "execution_count": 93,
   "id": "e2253275",
   "metadata": {},
   "outputs": [
    {
     "name": "stdout",
     "output_type": "stream",
     "text": [
      "Accuracy: 0.8974712564425215\n",
      "Balanced accuracy: 0.897496089029131\n",
      "Precision score 0.8832284487064229\n",
      "Recall score 0.9157316946870577\n",
      "F1 score 0.899186440677966\n",
      "ROC_AUC Score 0.897496089029131\n"
     ]
    }
   ],
   "source": [
    "from sklearn import tree, metrics\n",
    "accuracy_rfcvi = metrics.accuracy_score(y_test6,y_pred6)\n",
    "balanced_accuracy_rfcvi = metrics.balanced_accuracy_score(y_test6,y_pred6)\n",
    "precision_rfcvi = metrics.precision_score(y_test6,y_pred6, pos_label = 1)\n",
    "recall_rfcvi = metrics.recall_score(y_test6,y_pred6, pos_label = 1)\n",
    "f1_rfcvi = metrics.f1_score(y_test6, y_pred6, pos_label = 1)\n",
    "roc_auc_rfcvi = metrics.roc_auc_score(y_test6, y_pred6)\n",
    "print(\"Accuracy:\", accuracy_rfcvi)\n",
    "print(\"Balanced accuracy:\", balanced_accuracy_rfcvi)\n",
    "print('Precision score' , precision_rfcvi)\n",
    "print('Recall score' , recall_rfcvi)\n",
    "print('F1 score' , f1_rfcvi)\n",
    "print('ROC_AUC Score' , roc_auc_rfcvi)\n"
   ]
  },
  {
   "cell_type": "code",
   "execution_count": 94,
   "id": "91d4b90b",
   "metadata": {},
   "outputs": [
    {
     "name": "stdout",
     "output_type": "stream",
     "text": [
      "True Suicide: 26526\n",
      "False Suicide: 3507\n",
      "True Non-Suicide: 25539\n",
      "False Non-Suicide: 2441\n"
     ]
    }
   ],
   "source": [
    "from sklearn.metrics import confusion_matrix\n",
    "tn_rfcvi, fp_rfcvi, fn_rfcvi, tp_rfcvi = confusion_matrix(y_test6, y_pred6).ravel()\n",
    "print(f'True Suicide: {tp_rfcvi}')\n",
    "print(f'False Suicide: {fp_rfcvi}')\n",
    "print(f'True Non-Suicide: {tn_rfcvi}')\n",
    "print(f'False Non-Suicide: {fn_rfcvi}')"
   ]
  },
  {
   "cell_type": "code",
   "execution_count": 95,
   "id": "ad656952",
   "metadata": {},
   "outputs": [
    {
     "data": {
      "text/html": [
       "<div>\n",
       "<style scoped>\n",
       "    .dataframe tbody tr th:only-of-type {\n",
       "        vertical-align: middle;\n",
       "    }\n",
       "\n",
       "    .dataframe tbody tr th {\n",
       "        vertical-align: top;\n",
       "    }\n",
       "\n",
       "    .dataframe thead th {\n",
       "        text-align: right;\n",
       "    }\n",
       "</style>\n",
       "<table border=\"1\" class=\"dataframe\">\n",
       "  <thead>\n",
       "    <tr style=\"text-align: right;\">\n",
       "      <th></th>\n",
       "      <th>Predicted Non-Suicide</th>\n",
       "      <th>Predicted Suicide</th>\n",
       "    </tr>\n",
       "  </thead>\n",
       "  <tbody>\n",
       "    <tr>\n",
       "      <th>Actual Non-Suicide</th>\n",
       "      <td>25539</td>\n",
       "      <td>3507</td>\n",
       "    </tr>\n",
       "    <tr>\n",
       "      <th>Actual Suicide</th>\n",
       "      <td>2441</td>\n",
       "      <td>26526</td>\n",
       "    </tr>\n",
       "  </tbody>\n",
       "</table>\n",
       "</div>"
      ],
      "text/plain": [
       "                    Predicted Non-Suicide  Predicted Suicide\n",
       "Actual Non-Suicide                  25539               3507\n",
       "Actual Suicide                       2441              26526"
      ]
     },
     "execution_count": 95,
     "metadata": {},
     "output_type": "execute_result"
    }
   ],
   "source": [
    "pd.DataFrame(confusion_matrix(y_test6, y_pred6), columns=['Predicted Non-Suicide', \"Predicted Suicide\"], index=['Actual Non-Suicide', 'Actual Suicide'])"
   ]
  },
  {
   "cell_type": "code",
   "execution_count": 96,
   "id": "32a606e4",
   "metadata": {},
   "outputs": [
    {
     "data": {
      "image/png": "[encoded data removed]",
      "text/plain": [
       "<Figure size 576x432 with 1 Axes>"
      ]
     },
     "metadata": {
      "needs_background": "light"
     },
     "output_type": "display_data"
    }
   ],
   "source": [
    "y_pred_proba6 = rfcvi.predict_proba(X_test6)[::,1]\n",
    "fpr6, tpr6, _ = metrics.roc_curve(y_test6,  y_pred_proba6)\n",
    "plt.rcParams.update({'figure.figsize': (8, 6.0)})\n",
    "#create ROC curve\n",
    "plt.plot(fpr6,tpr6)\n",
    "plt.plot([0, 1], [0, 1],'r--')\n",
    "plt.title(\"ROC_AUC CURVE Random Forest with Count Vectorizer - All Features\")\n",
    "plt.ylabel('True Positive Rate')\n",
    "plt.xlabel('False Positive Rate')\n",
    "plt.tight_layout()\n",
    "plt.savefig('ROC_AUC Curve Random Forest with Count Vectorizer All Features.png')"
   ]
  },
  {
   "cell_type": "code",
   "execution_count": null,
   "id": "209d76f1",
   "metadata": {},
   "outputs": [],
   "source": []
  },
  {
   "cell_type": "markdown",
   "id": "528477c1",
   "metadata": {},
   "source": [
    "# Random Forest - TF-IDF - Text Only"
   ]
  },
  {
   "cell_type": "code",
   "execution_count": 97,
   "id": "f7c456b7",
   "metadata": {},
   "outputs": [],
   "source": [
    "from sklearn.feature_extraction.text import TfidfVectorizer\n",
    "vectorizor_tfid = TfidfVectorizer(min_df=0)\n",
    "X_tfid1 = vectorizor_tfid.fit_transform(df['text'])\n",
    "X_tfid1 = X_tfid1.tocsc() \n",
    "y_tfid1 = df['class']"
   ]
  },
  {
   "cell_type": "code",
   "execution_count": 98,
   "id": "1963e581",
   "metadata": {},
   "outputs": [],
   "source": [
    "X_train7, X_test7, y_train7, y_test7 = train_test_split(X_tfid1, y_tfid1, test_size=0.25, random_state=12)"
   ]
  },
  {
   "cell_type": "code",
   "execution_count": 99,
   "id": "e2809cc6",
   "metadata": {},
   "outputs": [],
   "source": [
    "from sklearn.feature_extraction.text import TfidfVectorizer\n",
    "vectorizor_tfid = TfidfVectorizer(min_df=0)\n",
    "X_params = vectorizor_tfid.fit_transform(df['text'].head(1000))\n",
    "X_params = X_params.tocsc() \n",
    "y_params = df['class'].head(1000)"
   ]
  },
  {
   "cell_type": "code",
   "execution_count": 100,
   "id": "14e59f0a",
   "metadata": {},
   "outputs": [],
   "source": [
    "X_train_params7, X_test_params7, y_train_params7, y_test_params7 = train_test_split(X_params, y_params, test_size=0.25, random_state=12)"
   ]
  },
  {
   "cell_type": "code",
   "execution_count": 101,
   "id": "7497b5b1",
   "metadata": {},
   "outputs": [
    {
     "data": {
      "text/plain": [
       "\"\\nn_est = [int(n) for n in np.logspace(start=2.2, stop=4, num=5)]\\ndepth = [int(x) for x in np.linspace(20, 100, num = 7)]\\nparam_grid = {'n_estimators': n_est, 'max_depth' : depth}\\nrf1 = RandomForestClassifier(random_state = 1519)\\nrf_cv = GridSearchCV(rf1, param_grid, cv = 5)\\nrf_cv.fit(X_train_params7, y_train_params7)\\n\""
      ]
     },
     "execution_count": 101,
     "metadata": {},
     "output_type": "execute_result"
    }
   ],
   "source": [
    "'''\n",
    "n_est = [int(n) for n in np.logspace(start=2.2, stop=4, num=5)]\n",
    "depth = [int(x) for x in np.linspace(20, 100, num = 7)]\n",
    "param_grid = {'n_estimators': n_est, 'max_depth' : depth}\n",
    "rf1 = RandomForestClassifier(random_state = 1519)\n",
    "rf_cv = GridSearchCV(rf1, param_grid, cv = 5)\n",
    "rf_cv.fit(X_train_params7, y_train_params7)\n",
    "'''"
   ]
  },
  {
   "cell_type": "code",
   "execution_count": 102,
   "id": "1774c169",
   "metadata": {},
   "outputs": [],
   "source": [
    "#print(\"Best Score:\" + str(rf_cv.best_score_))\n",
    "#print(\"Best Parameters: \" + str(rf_cv.best_params_))"
   ]
  },
  {
   "cell_type": "code",
   "execution_count": null,
   "id": "55d2ce2d",
   "metadata": {},
   "outputs": [],
   "source": []
  },
  {
   "cell_type": "code",
   "execution_count": 103,
   "id": "1a48733c",
   "metadata": {},
   "outputs": [
    {
     "data": {
      "text/html": [
       "<style>#sk-container-id-13 {color: black;background-color: white;}#sk-container-id-13 pre{padding: 0;}#sk-container-id-13 div.sk-toggleable {background-color: white;}#sk-container-id-13 label.sk-toggleable__label {cursor: pointer;display: block;width: 100%;margin-bottom: 0;padding: 0.3em;box-sizing: border-box;text-align: center;}#sk-container-id-13 label.sk-toggleable__label-arrow:before {content: \"▸\";float: left;margin-right: 0.25em;color: #696969;}#sk-container-id-13 label.sk-toggleable__label-arrow:hover:before {color: black;}#sk-container-id-13 div.sk-estimator:hover label.sk-toggleable__label-arrow:before {color: black;}#sk-container-id-13 div.sk-toggleable__content {max-height: 0;max-width: 0;overflow: hidden;text-align: left;background-color: #f0f8ff;}#sk-container-id-13 div.sk-toggleable__content pre {margin: 0.2em;color: black;border-radius: 0.25em;background-color: #f0f8ff;}#sk-container-id-13 input.sk-toggleable__control:checked~div.sk-toggleable__content {max-height: 200px;max-width: 100%;overflow: auto;}#sk-container-id-13 input.sk-toggleable__control:checked~label.sk-toggleable__label-arrow:before {content: \"▾\";}#sk-container-id-13 div.sk-estimator input.sk-toggleable__control:checked~label.sk-toggleable__label {background-color: #d4ebff;}#sk-container-id-13 div.sk-label input.sk-toggleable__control:checked~label.sk-toggleable__label {background-color: #d4ebff;}#sk-container-id-13 input.sk-hidden--visually {border: 0;clip: rect(1px 1px 1px 1px);clip: rect(1px, 1px, 1px, 1px);height: 1px;margin: -1px;overflow: hidden;padding: 0;position: absolute;width: 1px;}#sk-container-id-13 div.sk-estimator {font-family: monospace;background-color: #f0f8ff;border: 1px dotted black;border-radius: 0.25em;box-sizing: border-box;margin-bottom: 0.5em;}#sk-container-id-13 div.sk-estimator:hover {background-color: #d4ebff;}#sk-container-id-13 div.sk-parallel-item::after {content: \"\";width: 100%;border-bottom: 1px solid gray;flex-grow: 1;}#sk-container-id-13 div.sk-label:hover label.sk-toggleable__label {background-color: #d4ebff;}#sk-container-id-13 div.sk-serial::before {content: \"\";position: absolute;border-left: 1px solid gray;box-sizing: border-box;top: 0;bottom: 0;left: 50%;z-index: 0;}#sk-container-id-13 div.sk-serial {display: flex;flex-direction: column;align-items: center;background-color: white;padding-right: 0.2em;padding-left: 0.2em;position: relative;}#sk-container-id-13 div.sk-item {position: relative;z-index: 1;}#sk-container-id-13 div.sk-parallel {display: flex;align-items: stretch;justify-content: center;background-color: white;position: relative;}#sk-container-id-13 div.sk-item::before, #sk-container-id-13 div.sk-parallel-item::before {content: \"\";position: absolute;border-left: 1px solid gray;box-sizing: border-box;top: 0;bottom: 0;left: 50%;z-index: -1;}#sk-container-id-13 div.sk-parallel-item {display: flex;flex-direction: column;z-index: 1;position: relative;background-color: white;}#sk-container-id-13 div.sk-parallel-item:first-child::after {align-self: flex-end;width: 50%;}#sk-container-id-13 div.sk-parallel-item:last-child::after {align-self: flex-start;width: 50%;}#sk-container-id-13 div.sk-parallel-item:only-child::after {width: 0;}#sk-container-id-13 div.sk-dashed-wrapped {border: 1px dashed gray;margin: 0 0.4em 0.5em 0.4em;box-sizing: border-box;padding-bottom: 0.4em;background-color: white;}#sk-container-id-13 div.sk-label label {font-family: monospace;font-weight: bold;display: inline-block;line-height: 1.2em;}#sk-container-id-13 div.sk-label-container {text-align: center;}#sk-container-id-13 div.sk-container {/* jupyter's `normalize.less` sets `[hidden] { display: none; }` but bootstrap.min.css set `[hidden] { display: none !important; }` so we also need the `!important` here to be able to override the default hidden behavior on the sphinx rendered scikit-learn.org. See: https://github.com/scikit-learn/scikit-learn/issues/21755 */display: inline-block !important;position: relative;}#sk-container-id-13 div.sk-text-repr-fallback {display: none;}</style><div id=\"sk-container-id-13\" class=\"sk-top-container\"><div class=\"sk-text-repr-fallback\"><pre>RandomForestClassifier(max_depth=60, n_estimators=1258)</pre><b>In a Jupyter environment, please rerun this cell to show the HTML representation or trust the notebook. <br />On GitHub, the HTML representation is unable to render, please try loading this page with nbviewer.org.</b></div><div class=\"sk-container\" hidden><div class=\"sk-item\"><div class=\"sk-estimator sk-toggleable\"><input class=\"sk-toggleable__control sk-hidden--visually\" id=\"sk-estimator-id-21\" type=\"checkbox\" checked><label for=\"sk-estimator-id-21\" class=\"sk-toggleable__label sk-toggleable__label-arrow\">RandomForestClassifier</label><div class=\"sk-toggleable__content\"><pre>RandomForestClassifier(max_depth=60, n_estimators=1258)</pre></div></div></div></div></div>"
      ],
      "text/plain": [
       "RandomForestClassifier(max_depth=60, n_estimators=1258)"
      ]
     },
     "execution_count": 103,
     "metadata": {},
     "output_type": "execute_result"
    }
   ],
   "source": [
    "rf_tfidf = RandomForestClassifier(max_depth = 60 , n_estimators = 1258)\n",
    "rf_tfidf.fit(X_train7, y_train7)\n"
   ]
  },
  {
   "cell_type": "code",
   "execution_count": 104,
   "id": "103bb89c",
   "metadata": {},
   "outputs": [],
   "source": [
    "y_train_pred7 = rf_tfidf.predict(X_train7)\n",
    "y_pred7 = rf_tfidf.predict(X_test7)"
   ]
  },
  {
   "cell_type": "code",
   "execution_count": 105,
   "id": "e3fd1bcb",
   "metadata": {},
   "outputs": [],
   "source": [
    "training_accuracy_rf_tfid = rf_tfidf.score(X_train7, y_train7)\n",
    "test_accuracy_rf_tfid = rf_tfidf.score(X_test7, y_test7)"
   ]
  },
  {
   "cell_type": "code",
   "execution_count": 106,
   "id": "07ad1849",
   "metadata": {},
   "outputs": [
    {
     "name": "stdout",
     "output_type": "stream",
     "text": [
      "Accuracy on training data: 0.940179\n",
      "Accuracy on test data:     0.861117\n"
     ]
    }
   ],
   "source": [
    "print(\"Accuracy on training data: {:2f}\".format(training_accuracy_rf_tfid))\n",
    "print(\"Accuracy on test data:     {:2f}\".format(test_accuracy_rf_tfid))"
   ]
  },
  {
   "cell_type": "code",
   "execution_count": 107,
   "id": "9bf23193",
   "metadata": {},
   "outputs": [
    {
     "name": "stdout",
     "output_type": "stream",
     "text": [
      "Accuracy: 0.8611173357695688\n",
      "Balanced accuracy: 0.8610693566656604\n",
      "Precision score 0.8881710848741368\n",
      "Recall score 0.8258362964752994\n",
      "F1 score 0.8558701991019839\n",
      "ROC_AUC Score 0.8610693566656605\n"
     ]
    }
   ],
   "source": [
    "from sklearn import tree, metrics\n",
    "\n",
    "accuracy_rf_tfidf = metrics.accuracy_score(y_test7,y_pred7)\n",
    "balanced_accuracy_rf_tfidf = metrics.balanced_accuracy_score(y_test7,y_pred7)\n",
    "precision_rf_tfidf = metrics.precision_score(y_test7,y_pred7, pos_label = 1)\n",
    "recall_rf_tfidf = metrics.recall_score(y_test7,y_pred7, pos_label = 1)\n",
    "f1_rf_tfidf = metrics.f1_score(y_test7, y_pred7, pos_label = 1)\n",
    "roc_auc_rf_tfidf = metrics.roc_auc_score(y_test7, y_pred7)\n",
    "print(\"Accuracy:\", accuracy_rf_tfidf)\n",
    "print(\"Balanced accuracy:\", balanced_accuracy_rf_tfidf)\n",
    "print('Precision score' , precision_rf_tfidf)\n",
    "print('Recall score' , recall_rf_tfidf)\n",
    "print('F1 score' , f1_rf_tfidf)\n",
    "print('ROC_AUC Score' , roc_auc_rf_tfidf)\n",
    "\n"
   ]
  },
  {
   "cell_type": "code",
   "execution_count": 108,
   "id": "2b432992",
   "metadata": {},
   "outputs": [
    {
     "name": "stdout",
     "output_type": "stream",
     "text": [
      "True Suicide: 23922\n",
      "False Suicide: 3012\n",
      "True Non-Suicide: 26034\n",
      "False Non-Suicide: 5045\n"
     ]
    }
   ],
   "source": [
    "from sklearn.metrics import confusion_matrix\n",
    "tn_rf_tfid, fp_rf_tfid, fn_rf_tfid, tp_rf_tfid = confusion_matrix(y_test7, y_pred7).ravel()\n",
    "print(f'True Suicide: {tp_rf_tfid}')\n",
    "print(f'False Suicide: {fp_rf_tfid}')\n",
    "print(f'True Non-Suicide: {tn_rf_tfid}')\n",
    "print(f'False Non-Suicide: {fn_rf_tfid}')"
   ]
  },
  {
   "cell_type": "code",
   "execution_count": 109,
   "id": "46815406",
   "metadata": {},
   "outputs": [
    {
     "data": {
      "text/html": [
       "<div>\n",
       "<style scoped>\n",
       "    .dataframe tbody tr th:only-of-type {\n",
       "        vertical-align: middle;\n",
       "    }\n",
       "\n",
       "    .dataframe tbody tr th {\n",
       "        vertical-align: top;\n",
       "    }\n",
       "\n",
       "    .dataframe thead th {\n",
       "        text-align: right;\n",
       "    }\n",
       "</style>\n",
       "<table border=\"1\" class=\"dataframe\">\n",
       "  <thead>\n",
       "    <tr style=\"text-align: right;\">\n",
       "      <th></th>\n",
       "      <th>Predicted Non-Suicide</th>\n",
       "      <th>Predicted Suicide</th>\n",
       "    </tr>\n",
       "  </thead>\n",
       "  <tbody>\n",
       "    <tr>\n",
       "      <th>Actual Non-Suicide</th>\n",
       "      <td>26034</td>\n",
       "      <td>3012</td>\n",
       "    </tr>\n",
       "    <tr>\n",
       "      <th>Actual Suicide</th>\n",
       "      <td>5045</td>\n",
       "      <td>23922</td>\n",
       "    </tr>\n",
       "  </tbody>\n",
       "</table>\n",
       "</div>"
      ],
      "text/plain": [
       "                    Predicted Non-Suicide  Predicted Suicide\n",
       "Actual Non-Suicide                  26034               3012\n",
       "Actual Suicide                       5045              23922"
      ]
     },
     "execution_count": 109,
     "metadata": {},
     "output_type": "execute_result"
    }
   ],
   "source": [
    "pd.DataFrame(confusion_matrix(y_test7, y_pred7), columns=['Predicted Non-Suicide', \"Predicted Suicide\"], index=['Actual Non-Suicide', 'Actual Suicide'])"
   ]
  },
  {
   "cell_type": "code",
   "execution_count": 110,
   "id": "0275c94b",
   "metadata": {},
   "outputs": [
    {
     "data": {
      "image/png": "[encoded data removed]",
      "text/plain": [
       "<Figure size 576x432 with 1 Axes>"
      ]
     },
     "metadata": {
      "needs_background": "light"
     },
     "output_type": "display_data"
    }
   ],
   "source": [
    "y_pred_proba7 = rf_tfidf.predict_proba(X_test7)[::,1]\n",
    "fpr7, tpr7, _ = metrics.roc_curve(y_test7,  y_pred_proba7)\n",
    "plt.rcParams.update({'figure.figsize': (8, 6.0)})\n",
    "#create ROC curve\n",
    "plt.plot(fpr7,tpr7)\n",
    "plt.plot([0, 1], [0, 1],'r--')\n",
    "plt.title(\"ROC_AUC CURVE Random Forest with TF-IDF Vectorizer - Text Only\")\n",
    "plt.ylabel('True Positive Rate')\n",
    "plt.xlabel('False Positive Rate')\n",
    "plt.tight_layout()\n",
    "plt.savefig('ROC_AUC Curve Random Forest with TF-IDF_text_only.png')"
   ]
  },
  {
   "cell_type": "markdown",
   "id": "72cc602e",
   "metadata": {},
   "source": [
    "# Random Forest - TF-IDF All Features"
   ]
  },
  {
   "cell_type": "code",
   "execution_count": 111,
   "id": "f3fd3aae",
   "metadata": {},
   "outputs": [
    {
     "name": "stderr",
     "output_type": "stream",
     "text": [
      "C:\\Users\\BETH&A~1\\AppData\\Local\\Temp/ipykernel_3544/695355491.py:7: FutureWarning: Support for multi-dimensional indexing (e.g. `obj[:, None]`) is deprecated and will be removed in a future version.  Convert to a numpy array before indexing instead.\n",
      "  reading_level = scaled_features_df['flesch_kincaid'][:, None]\n",
      "C:\\Users\\BETH&A~1\\AppData\\Local\\Temp/ipykernel_3544/695355491.py:8: FutureWarning: Support for multi-dimensional indexing (e.g. `obj[:, None]`) is deprecated and will be removed in a future version.  Convert to a numpy array before indexing instead.\n",
      "  repetition = scaled_features_df['repetition'][:, None]\n"
     ]
    }
   ],
   "source": [
    "from sklearn.feature_extraction.text import TfidfVectorizer\n",
    "vectorizor_tfid = TfidfVectorizer(min_df=0)\n",
    "text_matrix8 = vectorizor_tfid.fit_transform(df['text'])\n",
    "text_matrix8 = text_matrix8.tocsc() \n",
    "length = scaled_features_df['length'].values[:, None]\n",
    "sentiment = scaled_features_df['sentiment'].values[:, None]\n",
    "reading_level = scaled_features_df['flesch_kincaid'][:, None]\n",
    "repetition = scaled_features_df['repetition'][:, None]\n",
    "first = hstack((text_matrix8, length))\n",
    "second = hstack((first, sentiment))\n",
    "third = hstack((second, reading_level))\n",
    "X_tfid8 = hstack((third, sentiment))\n",
    "\n",
    "y_tfid8 = df['class']"
   ]
  },
  {
   "cell_type": "code",
   "execution_count": 112,
   "id": "fefb4d3f",
   "metadata": {},
   "outputs": [],
   "source": [
    "X_train8, X_test8, y_train8, y_test8 = train_test_split(X_tfid8, y_tfid8, test_size=0.25, random_state=12)"
   ]
  },
  {
   "cell_type": "code",
   "execution_count": 113,
   "id": "931081fd",
   "metadata": {},
   "outputs": [
    {
     "name": "stderr",
     "output_type": "stream",
     "text": [
      "C:\\Users\\BETH&A~1\\AppData\\Local\\Temp/ipykernel_3544/2177902670.py:7: FutureWarning: Support for multi-dimensional indexing (e.g. `obj[:, None]`) is deprecated and will be removed in a future version.  Convert to a numpy array before indexing instead.\n",
      "  reading_level = scaled_features_df['flesch_kincaid'].head(1000)[:, None]\n",
      "C:\\Users\\BETH&A~1\\AppData\\Local\\Temp/ipykernel_3544/2177902670.py:8: FutureWarning: Support for multi-dimensional indexing (e.g. `obj[:, None]`) is deprecated and will be removed in a future version.  Convert to a numpy array before indexing instead.\n",
      "  repetition = scaled_features_df['repetition'].head(1000)[:, None]\n"
     ]
    }
   ],
   "source": [
    "from sklearn.feature_extraction.text import TfidfVectorizer\n",
    "vectorizor_tfid = TfidfVectorizer(min_df=0)\n",
    "text_matrix8 = vectorizor_tfid.fit_transform(df['text'].head(1000))\n",
    "text_matrix8 = text_matrix8.tocsc() \n",
    "length = scaled_features_df['length'].head(1000).values[:, None]\n",
    "sentiment = scaled_features_df['sentiment'].head(1000).values[:, None]\n",
    "reading_level = scaled_features_df['flesch_kincaid'].head(1000)[:, None]\n",
    "repetition = scaled_features_df['repetition'].head(1000)[:, None]\n",
    "first = hstack((text_matrix8, length))\n",
    "second = hstack((first, sentiment))\n",
    "third = hstack((second, reading_level))\n",
    "X_param8 = hstack((third, sentiment))\n",
    "\n",
    "y_param8 = df['class'].head(1000)\n"
   ]
  },
  {
   "cell_type": "code",
   "execution_count": 114,
   "id": "c4cdfdb2",
   "metadata": {},
   "outputs": [],
   "source": [
    "X_train_param8, X_test_param8, y_train_param8, y_test_param8 = train_test_split(X_param8, y_param8, test_size=0.25, random_state=12)"
   ]
  },
  {
   "cell_type": "code",
   "execution_count": 115,
   "id": "22500ef9",
   "metadata": {},
   "outputs": [
    {
     "data": {
      "text/html": [
       "<style>#sk-container-id-14 {color: black;background-color: white;}#sk-container-id-14 pre{padding: 0;}#sk-container-id-14 div.sk-toggleable {background-color: white;}#sk-container-id-14 label.sk-toggleable__label {cursor: pointer;display: block;width: 100%;margin-bottom: 0;padding: 0.3em;box-sizing: border-box;text-align: center;}#sk-container-id-14 label.sk-toggleable__label-arrow:before {content: \"▸\";float: left;margin-right: 0.25em;color: #696969;}#sk-container-id-14 label.sk-toggleable__label-arrow:hover:before {color: black;}#sk-container-id-14 div.sk-estimator:hover label.sk-toggleable__label-arrow:before {color: black;}#sk-container-id-14 div.sk-toggleable__content {max-height: 0;max-width: 0;overflow: hidden;text-align: left;background-color: #f0f8ff;}#sk-container-id-14 div.sk-toggleable__content pre {margin: 0.2em;color: black;border-radius: 0.25em;background-color: #f0f8ff;}#sk-container-id-14 input.sk-toggleable__control:checked~div.sk-toggleable__content {max-height: 200px;max-width: 100%;overflow: auto;}#sk-container-id-14 input.sk-toggleable__control:checked~label.sk-toggleable__label-arrow:before {content: \"▾\";}#sk-container-id-14 div.sk-estimator input.sk-toggleable__control:checked~label.sk-toggleable__label {background-color: #d4ebff;}#sk-container-id-14 div.sk-label input.sk-toggleable__control:checked~label.sk-toggleable__label {background-color: #d4ebff;}#sk-container-id-14 input.sk-hidden--visually {border: 0;clip: rect(1px 1px 1px 1px);clip: rect(1px, 1px, 1px, 1px);height: 1px;margin: -1px;overflow: hidden;padding: 0;position: absolute;width: 1px;}#sk-container-id-14 div.sk-estimator {font-family: monospace;background-color: #f0f8ff;border: 1px dotted black;border-radius: 0.25em;box-sizing: border-box;margin-bottom: 0.5em;}#sk-container-id-14 div.sk-estimator:hover {background-color: #d4ebff;}#sk-container-id-14 div.sk-parallel-item::after {content: \"\";width: 100%;border-bottom: 1px solid gray;flex-grow: 1;}#sk-container-id-14 div.sk-label:hover label.sk-toggleable__label {background-color: #d4ebff;}#sk-container-id-14 div.sk-serial::before {content: \"\";position: absolute;border-left: 1px solid gray;box-sizing: border-box;top: 0;bottom: 0;left: 50%;z-index: 0;}#sk-container-id-14 div.sk-serial {display: flex;flex-direction: column;align-items: center;background-color: white;padding-right: 0.2em;padding-left: 0.2em;position: relative;}#sk-container-id-14 div.sk-item {position: relative;z-index: 1;}#sk-container-id-14 div.sk-parallel {display: flex;align-items: stretch;justify-content: center;background-color: white;position: relative;}#sk-container-id-14 div.sk-item::before, #sk-container-id-14 div.sk-parallel-item::before {content: \"\";position: absolute;border-left: 1px solid gray;box-sizing: border-box;top: 0;bottom: 0;left: 50%;z-index: -1;}#sk-container-id-14 div.sk-parallel-item {display: flex;flex-direction: column;z-index: 1;position: relative;background-color: white;}#sk-container-id-14 div.sk-parallel-item:first-child::after {align-self: flex-end;width: 50%;}#sk-container-id-14 div.sk-parallel-item:last-child::after {align-self: flex-start;width: 50%;}#sk-container-id-14 div.sk-parallel-item:only-child::after {width: 0;}#sk-container-id-14 div.sk-dashed-wrapped {border: 1px dashed gray;margin: 0 0.4em 0.5em 0.4em;box-sizing: border-box;padding-bottom: 0.4em;background-color: white;}#sk-container-id-14 div.sk-label label {font-family: monospace;font-weight: bold;display: inline-block;line-height: 1.2em;}#sk-container-id-14 div.sk-label-container {text-align: center;}#sk-container-id-14 div.sk-container {/* jupyter's `normalize.less` sets `[hidden] { display: none; }` but bootstrap.min.css set `[hidden] { display: none !important; }` so we also need the `!important` here to be able to override the default hidden behavior on the sphinx rendered scikit-learn.org. See: https://github.com/scikit-learn/scikit-learn/issues/21755 */display: inline-block !important;position: relative;}#sk-container-id-14 div.sk-text-repr-fallback {display: none;}</style><div id=\"sk-container-id-14\" class=\"sk-top-container\"><div class=\"sk-text-repr-fallback\"><pre>GridSearchCV(cv=5, estimator=RandomForestClassifier(random_state=1519),\n",
       "             param_grid={&#x27;max_depth&#x27;: [10, 28, 46, 64, 82, 100],\n",
       "                         &#x27;n_estimators&#x27;: [158, 595, 2238, 8413, 31622]})</pre><b>In a Jupyter environment, please rerun this cell to show the HTML representation or trust the notebook. <br />On GitHub, the HTML representation is unable to render, please try loading this page with nbviewer.org.</b></div><div class=\"sk-container\" hidden><div class=\"sk-item sk-dashed-wrapped\"><div class=\"sk-label-container\"><div class=\"sk-label sk-toggleable\"><input class=\"sk-toggleable__control sk-hidden--visually\" id=\"sk-estimator-id-22\" type=\"checkbox\" ><label for=\"sk-estimator-id-22\" class=\"sk-toggleable__label sk-toggleable__label-arrow\">GridSearchCV</label><div class=\"sk-toggleable__content\"><pre>GridSearchCV(cv=5, estimator=RandomForestClassifier(random_state=1519),\n",
       "             param_grid={&#x27;max_depth&#x27;: [10, 28, 46, 64, 82, 100],\n",
       "                         &#x27;n_estimators&#x27;: [158, 595, 2238, 8413, 31622]})</pre></div></div></div><div class=\"sk-parallel\"><div class=\"sk-parallel-item\"><div class=\"sk-item\"><div class=\"sk-label-container\"><div class=\"sk-label sk-toggleable\"><input class=\"sk-toggleable__control sk-hidden--visually\" id=\"sk-estimator-id-23\" type=\"checkbox\" ><label for=\"sk-estimator-id-23\" class=\"sk-toggleable__label sk-toggleable__label-arrow\">estimator: RandomForestClassifier</label><div class=\"sk-toggleable__content\"><pre>RandomForestClassifier(random_state=1519)</pre></div></div></div><div class=\"sk-serial\"><div class=\"sk-item\"><div class=\"sk-estimator sk-toggleable\"><input class=\"sk-toggleable__control sk-hidden--visually\" id=\"sk-estimator-id-24\" type=\"checkbox\" ><label for=\"sk-estimator-id-24\" class=\"sk-toggleable__label sk-toggleable__label-arrow\">RandomForestClassifier</label><div class=\"sk-toggleable__content\"><pre>RandomForestClassifier(random_state=1519)</pre></div></div></div></div></div></div></div></div></div></div>"
      ],
      "text/plain": [
       "GridSearchCV(cv=5, estimator=RandomForestClassifier(random_state=1519),\n",
       "             param_grid={'max_depth': [10, 28, 46, 64, 82, 100],\n",
       "                         'n_estimators': [158, 595, 2238, 8413, 31622]})"
      ]
     },
     "execution_count": 115,
     "metadata": {},
     "output_type": "execute_result"
    }
   ],
   "source": [
    "n_est = [int(n) for n in np.logspace(start=2.2, stop=4.5, num=5)]\n",
    "depth = [int(x) for x in np.linspace(10, 100, num = 6)]\n",
    "param_grid = {'n_estimators': n_est, 'max_depth' : depth}\n",
    "rf1 = RandomForestClassifier(random_state = 1519)\n",
    "rf_cv = GridSearchCV(rf1, param_grid, cv = 5)\n",
    "rf_cv.fit(X_train_param8, y_train_param8)"
   ]
  },
  {
   "cell_type": "code",
   "execution_count": 116,
   "id": "63afe0e5",
   "metadata": {},
   "outputs": [
    {
     "data": {
      "text/plain": [
       "[158, 595, 2238, 8413, 31622]"
      ]
     },
     "execution_count": 116,
     "metadata": {},
     "output_type": "execute_result"
    }
   ],
   "source": [
    "n_est = [int(n) for n in np.logspace(start=2.2, stop=4.5, num=5)]\n",
    "n_est"
   ]
  },
  {
   "cell_type": "code",
   "execution_count": 117,
   "id": "706681f9",
   "metadata": {},
   "outputs": [
    {
     "name": "stdout",
     "output_type": "stream",
     "text": [
      "Best Score:0.8226666666666667\n",
      "Best Parameters: {'max_depth': 64, 'n_estimators': 8413}\n"
     ]
    }
   ],
   "source": [
    "print(\"Best Score:\" + str(rf_cv.best_score_))\n",
    "print(\"Best Parameters: \" + str(rf_cv.best_params_))"
   ]
  },
  {
   "cell_type": "code",
   "execution_count": null,
   "id": "8a64094e",
   "metadata": {},
   "outputs": [],
   "source": [
    "rf_tfidfi = RandomForestClassifier(max_depth = 64, n_estimators = 8413)\n",
    "rf_tfidfi.fit(X_train8, y_train8)"
   ]
  },
  {
   "cell_type": "code",
   "execution_count": null,
   "id": "2c8c65d0",
   "metadata": {},
   "outputs": [],
   "source": [
    "y_train_pred8 = rf_tfidfi.predict(X_train8)\n",
    "y_pred8 = rf_tfidfi.predict(X_test8)"
   ]
  },
  {
   "cell_type": "code",
   "execution_count": null,
   "id": "47e3a6df",
   "metadata": {},
   "outputs": [],
   "source": [
    "training_accuracy_rf_tfidi = rf_tfidfi.score(X_train8, y_train8)\n",
    "test_accuracy_rf_tfidi = rf_tfidfi.score(X_test8, y_test8)"
   ]
  },
  {
   "cell_type": "code",
   "execution_count": null,
   "id": "22e99c9d",
   "metadata": {},
   "outputs": [],
   "source": [
    "print(\"Accuracy on training data: {:2f}\".format(training_accuracy_rf_tfidi))\n",
    "print(\"Accuracy on test data:     {:2f}\".format(test_accuracy_rf_tfidi))"
   ]
  },
  {
   "cell_type": "code",
   "execution_count": null,
   "id": "4a315107",
   "metadata": {},
   "outputs": [],
   "source": [
    "\n",
    "accuracy_rf_tfidfi = metrics.accuracy_score(y_test8,y_pred8)\n",
    "balanced_accuracy_rf_tfidfi = metrics.balanced_accuracy_score(y_test8,y_pred8)\n",
    "precision_rf_tfidfi = metrics.precision_score(y_test8,y_pred8, pos_label = 1)\n",
    "recall_rf_tfidfi = metrics.recall_score(y_test8,y_pred8, pos_label = 1)\n",
    "f1_rf_tfidfi = metrics.f1_score(y_test8, y_pred8, pos_label = 1)\n",
    "roc_auc_rf_tfidfi = metrics.roc_auc_score(y_tes8, y_pred8)\n",
    "print(\"Accuracy:\", accuracy_rf_tfidfi)\n",
    "print(\"Balanced accuracy:\", balanced_accuracy_rf_tfidfi)\n",
    "print('Precision score' , precision_rf_tfidfi)\n",
    "print('Recall score' , recall_rf_tfidfi)\n",
    "print('F1 score' , f1_rf_tfidfi)\n",
    "print('ROC_AUC Score' , roc_auc_rf_tfidfi)\n"
   ]
  },
  {
   "cell_type": "code",
   "execution_count": null,
   "id": "690555d7",
   "metadata": {},
   "outputs": [],
   "source": [
    "from sklearn.metrics import confusion_matrix\n",
    "tn_rf_tfidi, fp_rf_tfidi, fn_rf_tfidi, tp_rf_tfidi = confusion_matrix(y_test8, y_pred8).ravel()\n",
    "print(f'True Suicide: {tp_rf_tfidi}')\n",
    "print(f'False Suicide: {fp_rf_tfidi}')\n",
    "print(f'True Non-Suicide: {tn_rf_tfidi}')\n",
    "print(f'False Non-Suicide: {fn_rf_tfidi}')"
   ]
  },
  {
   "cell_type": "code",
   "execution_count": null,
   "id": "ff2ced81",
   "metadata": {},
   "outputs": [],
   "source": [
    "pd.DataFrame(confusion_matrix(y_test8, y_pred8), columns=['Predicted Non-Suicide', \"Predicted Suicide\"], index=['Actual Non-Suicide', 'Actual Suicide'])"
   ]
  },
  {
   "cell_type": "code",
   "execution_count": null,
   "id": "2ce134fc",
   "metadata": {},
   "outputs": [],
   "source": [
    "y_pred_proba8 = rf_tfidfi.predict_proba(X_test8)[::,1]\n",
    "fpr8, tpr8, _ = metrics.roc_curve(y_test8,  y_pred_proba8)\n",
    "plt.rcParams.update({'figure.figsize': (8, 6.0)})\n",
    "#create ROC curve\n",
    "plt.plot(fpr8,tpr8)\n",
    "plt.plot([0, 1], [0, 1],'r--')\n",
    "plt.title(\"ROC_AUC CURVE Random Forest with TF-IDF Vectorizer All Features\")\n",
    "plt.ylabel('True Positive Rate')\n",
    "plt.xlabel('False Positive Rate')\n",
    "plt.tight_layout()\n",
    "plt.savefig('ROC_AUC Curve Random Forest with TF-IDF.ALL_Features.png')"
   ]
  },
  {
   "cell_type": "markdown",
   "id": "34bb8c5f",
   "metadata": {},
   "source": [
    "# Logistic Regression - Count Vectorizer - Text Only"
   ]
  },
  {
   "cell_type": "code",
   "execution_count": null,
   "id": "0ea0582a",
   "metadata": {},
   "outputs": [],
   "source": [
    "vectorizer = CountVectorizer(min_df=3)\n",
    "X = vectorizer.fit_transform(df['clean_text'])\n",
    "X = X.tocsc() \n",
    "y = df['class']"
   ]
  },
  {
   "cell_type": "code",
   "execution_count": null,
   "id": "6c50986e",
   "metadata": {},
   "outputs": [],
   "source": [
    "X_train9, X_test9, y_train9, y_test9 = train_test_split(X, y, test_size=0.25, random_state=12)"
   ]
  },
  {
   "cell_type": "code",
   "execution_count": null,
   "id": "7d919c19",
   "metadata": {},
   "outputs": [],
   "source": [
    "from sklearn.linear_model import LogisticRegression\n",
    "lr = LogisticRegression()\n",
    "lr.fit(X_train9, y_train9)"
   ]
  },
  {
   "cell_type": "code",
   "execution_count": null,
   "id": "f869cfc6",
   "metadata": {},
   "outputs": [],
   "source": [
    "penalty = ['none', 'l1', 'l2', 'elasticnet']\n",
    "c_values = [100, 10, 1.0, 0.1, 0.01]\n",
    "param_grid = {'penalty': penalty, 'C' : c_values}\n",
    "lr = LogisticRegression(random_state = 0)\n",
    "lr_cv = GridSearchCV(lr, param_grid, cv = 5)\n",
    "lr_cv.fit(X_train9, y_train9)"
   ]
  },
  {
   "cell_type": "code",
   "execution_count": null,
   "id": "55ebe8eb",
   "metadata": {},
   "outputs": [],
   "source": [
    "print(\"Best Score:\" + str(lr_cv.best_score_))\n",
    "print(\"Best Parameters: \" + str(lr_cv.best_params_))"
   ]
  },
  {
   "cell_type": "code",
   "execution_count": null,
   "id": "35a82a1f",
   "metadata": {},
   "outputs": [],
   "source": [
    "lr = LogisticRegression(C = 1.0, penalty = 'l2')\n",
    "lr.fit(X_train9, y_train9)"
   ]
  },
  {
   "cell_type": "code",
   "execution_count": null,
   "id": "0bbdd4ce",
   "metadata": {},
   "outputs": [],
   "source": [
    "y_train_pred = lr.predict(X_train9)\n",
    "y_pred = lr.predict(X_test9)"
   ]
  },
  {
   "cell_type": "code",
   "execution_count": null,
   "id": "70aa173d",
   "metadata": {},
   "outputs": [],
   "source": [
    "training_accuracy_lrcv = lr.score(X_train9, y_train9)\n",
    "test_accuracy_lrcv = lr.score(X_test9, y_test9)"
   ]
  },
  {
   "cell_type": "code",
   "execution_count": null,
   "id": "b6efef82",
   "metadata": {},
   "outputs": [],
   "source": [
    "print(\"Accuracy on training data: {:2f}\".format(training_accuracy_lrcv))\n",
    "print(\"Accuracy on test data:     {:2f}\".format(test_accuracy_lrcv))"
   ]
  },
  {
   "cell_type": "code",
   "execution_count": null,
   "id": "b56fe089",
   "metadata": {},
   "outputs": [],
   "source": [
    "from sklearn import tree, metrics\n",
    "\n",
    "accuracy_lrcv = metrics.accuracy_score(y_test9,y_pred9)\n",
    "balanced_accuracy_lrcv = metrics.balanced_accuracy_score(y_test9,y_pred9)\n",
    "precision_lrcv = metrics.precision_score(y_test9,y_pred9, pos_label = 1)\n",
    "recall_lrcv = metrics.recall_score(y_test9,y_pred9, pos_label = 1)\n",
    "f1_lrcv = metrics.f1_score(y_test9, y_pred9, pos_label = 1)\n",
    "roc_auc_lrcv = metrics.roc_auc_score(y_test9, y_pred9)\n",
    "print(\"Accuracy:\", accuracy_lrcv)\n",
    "print(\"Balanced accuracy:\", balanced_accuracy_lrcv)\n",
    "print('Precision score' , precision_lrcv)\n",
    "print('Recall score' , recall_lrcv)\n",
    "print('F1 score' , f1_lrcv)\n",
    "print('ROC_AUC Score' , roc_auc_lrcv)\n"
   ]
  },
  {
   "cell_type": "code",
   "execution_count": null,
   "id": "a0a146b6",
   "metadata": {},
   "outputs": [],
   "source": [
    "from sklearn.metrics import confusion_matrix\n",
    "tn_lrcv, fp_lrcv, fn_lrcv, tp_lrcv = confusion_matrix(y_test9, y_pred9).ravel()\n",
    "print(f'True Suicide: {tp_lrcv}')\n",
    "print(f'False Suicide: {fp_lrcv}')\n",
    "print(f'True Non-Suicide: {tn_lrcv}')\n",
    "print(f'False Non-Suicide: {fn_lrcv}')"
   ]
  },
  {
   "cell_type": "code",
   "execution_count": null,
   "id": "3e0d37c3",
   "metadata": {},
   "outputs": [],
   "source": [
    "pd.DataFrame(confusion_matrix(y_test9, y_pred9), columns=['Predicted Non-Suicide', \"Predicted Suicide\"], index=['Actual Non-Suicide', 'Actual Suicide'])"
   ]
  },
  {
   "cell_type": "code",
   "execution_count": null,
   "id": "ef1f15a3",
   "metadata": {},
   "outputs": [],
   "source": [
    "y_pred_proba9 = lr.predict_proba9(X_test9)[::,1]\n",
    "fpr9, tpr9, _ = metrics.roc_curve(y_test9,  y_pred_proba9)\n",
    "plt.rcParams.update({'figure.figsize': (8, 6.0)})\n",
    "#create ROC curve\n",
    "plt.plot(fpr9,tpr9)\n",
    "plt.plot([0, 1], [0, 1],'r--')\n",
    "plt.title(\"ROC_AUC CURVE Logistic Regression with Count Vectorizer - Text Only\")\n",
    "plt.ylabel('True Positive Rate')\n",
    "plt.xlabel('False Positive Rate')\n",
    "plt.tight_layout()\n",
    "plt.savefig('ROC_AUC CURVE Logistic Regression with Count Vectorizer_TextOnly.png')"
   ]
  },
  {
   "cell_type": "markdown",
   "id": "714301c0",
   "metadata": {},
   "source": [
    "# Logistic Regression - Count Vectorizer - All Features"
   ]
  },
  {
   "cell_type": "code",
   "execution_count": null,
   "id": "bb4340b5",
   "metadata": {},
   "outputs": [],
   "source": [
    "from scipy.sparse import hstack\n",
    "vectorizer = CountVectorizer(min_df=3)\n",
    "text_matrix = vectorizer.fit_transform(df['clean_text'])\n",
    "text_matrix = text_matrix.tocsc() \n",
    "length = scaled_features_df['length'].values[:, None]\n",
    "sentiment = scaled_features_df['sentiment'].values[:, None]\n",
    "reading_level = scaled_features_df['flesch_kincaid'][:, None]\n",
    "repetition = scaled_features_df['repetition'][:, None]\n",
    "first = hstack((text_matrix, length))\n",
    "second = hstack((first, sentiment))\n",
    "third = hstack((second, reading_level))\n",
    "X = hstack((third, sentiment))\n",
    "\n",
    "y = df['class']"
   ]
  },
  {
   "cell_type": "code",
   "execution_count": null,
   "id": "e98d0aeb",
   "metadata": {},
   "outputs": [],
   "source": [
    "X_train10, X_test10, y_train10, y_test10 = train_test_split(X, y, test_size=0.25, random_state=12)"
   ]
  },
  {
   "cell_type": "code",
   "execution_count": null,
   "id": "1ea446b3",
   "metadata": {},
   "outputs": [],
   "source": [
    "penalty = ['none', 'l1', 'l2', 'elasticnet']\n",
    "c_values = [100, 10, 1.0, 0.1, 0.01]\n",
    "param_grid = {'penalty': penalty, 'C' : c_values}\n",
    "lr = LogisticRegression(random_state = 0)\n",
    "lr_cv = GridSearchCV(lr, param_grid, cv = 5)\n",
    "lr_cv.fit(X_train10, y_train10)"
   ]
  },
  {
   "cell_type": "code",
   "execution_count": null,
   "id": "cb72ebe8",
   "metadata": {},
   "outputs": [],
   "source": [
    "print(\"Best Score:\" + str(lr_cv.best_score_))\n",
    "print(\"Best Parameters: \" + str(lr_cv.best_params_))"
   ]
  },
  {
   "cell_type": "code",
   "execution_count": null,
   "id": "7cbb28b3",
   "metadata": {},
   "outputs": [],
   "source": [
    "lrcvi = LogisticRegression(C = , penalty = 'l2')\n",
    "lrcvi.fit(X_train9, y_train9)"
   ]
  },
  {
   "cell_type": "code",
   "execution_count": null,
   "id": "0a2920e2",
   "metadata": {},
   "outputs": [],
   "source": [
    "y_train_pred10 = lrcvi.predict(X_train10)\n",
    "y_pred10 = lrcvi.predict(X_test10)"
   ]
  },
  {
   "cell_type": "code",
   "execution_count": null,
   "id": "c14336ee",
   "metadata": {},
   "outputs": [],
   "source": [
    "training_accuracy_lrcvi = lr.score(X_train10, y_train10)\n",
    "test_accuracy_lrcvi = lr.score(X_test10, y_test10)"
   ]
  },
  {
   "cell_type": "code",
   "execution_count": null,
   "id": "2b5be95a",
   "metadata": {},
   "outputs": [],
   "source": [
    "print(\"Accuracy on training data: {:2f}\".format(training_accuracy_lrcvi))\n",
    "print(\"Accuracy on test data:     {:2f}\".format(test_accuracy_lrciv))"
   ]
  },
  {
   "cell_type": "code",
   "execution_count": null,
   "id": "0ca02904",
   "metadata": {},
   "outputs": [],
   "source": [
    "accuracy_lrcvi = metrics.accuracy_score(y_test10,y_pred10)\n",
    "balanced_accuracy_lrcvi = metrics.balanced_accuracy_score(y_test10,y_pred10)\n",
    "precision_lrcvi = metrics.precision_score(y_test10,y_pred10, pos_label = 1)\n",
    "recall_lrcvi = metrics.recall_score(y_test10,y_pred10, pos_label = 1)\n",
    "f1_lrcvi = metrics.f1_score(y_test10, y_pred10, pos_label = 1)\n",
    "roc_auc_lrcvi = metrics.roc_auc_score(y_test10, y_pred10)\n",
    "print(\"Accuracy:\", accuracy_lrcvi)\n",
    "print(\"Balanced accuracy:\", balanced_accuracy_lrcvi)\n",
    "print('Precision score' , precision_lrcvi)\n",
    "print('Recall score' , recall_lrcvi)\n",
    "print('F1 score' , f1_lrcvi)\n",
    "print('ROC_AUC Score' , roc_auc_lrcvi)\n"
   ]
  },
  {
   "cell_type": "code",
   "execution_count": null,
   "id": "2a8348da",
   "metadata": {},
   "outputs": [],
   "source": [
    "from sklearn.metrics import confusion_matrix\n",
    "tn_lrcvi, fp_lrcvi, fn_lrcvi, tp_lrcvi = confusion_matrix(y_test10, y_pred10).ravel()\n",
    "print(f'True Suicide: {tp_lrcvi}')\n",
    "print(f'False Suicide: {fp_lrcvi}')\n",
    "print(f'True Non-Suicide: {tn_lrcvi}')\n",
    "print(f'False Non-Suicide: {fn_lrcvi}')"
   ]
  },
  {
   "cell_type": "code",
   "execution_count": null,
   "id": "03e8edc9",
   "metadata": {},
   "outputs": [],
   "source": [
    "pd.DataFrame(confusion_matrix(y_test10, y_pred10), columns=['Predicted Non-Suicide', \"Predicted Suicide\"], index=['Actual Non-Suicide', 'Actual Suicide'])"
   ]
  },
  {
   "cell_type": "code",
   "execution_count": null,
   "id": "3bc5af9a",
   "metadata": {},
   "outputs": [],
   "source": [
    "y_pred_proba10 = lr.predict_proba9(X_test10)[::,1]\n",
    "fpr10, tpr10, _ = metrics.roc_curve(y_test10,  y_pred_proba10)\n",
    "plt.rcParams.update({'figure.figsize': (8, 6.0)})\n",
    "#create ROC curve\n",
    "plt.plot(fpr10,tpr10)\n",
    "plt.plot([0, 1], [0, 1],'r--')\n",
    "plt.title(\"ROC_AUC CURVE Logistic Regression with Count Vectorizer - All Features\")\n",
    "plt.ylabel('True Positive Rate')\n",
    "plt.xlabel('False Positive Rate')\n",
    "plt.tight_layout()\n",
    "plt.savefig('ROC_AUC CURVE Logistic Regression with Count Vectorizer All Features.png')"
   ]
  },
  {
   "cell_type": "code",
   "execution_count": null,
   "id": "4ffa96c9",
   "metadata": {},
   "outputs": [],
   "source": []
  },
  {
   "cell_type": "markdown",
   "id": "348e6d94",
   "metadata": {},
   "source": [
    "# Logistic Regression - TF-IDF - Text Only"
   ]
  },
  {
   "cell_type": "code",
   "execution_count": null,
   "id": "a29d45f4",
   "metadata": {},
   "outputs": [],
   "source": [
    "vectorizor_tfid = TfidfVectorizer(min_df=0)\n",
    "X = vectorizor_tfid.fit_transform(df['text'])\n",
    "X_tfid11 = X.tocsc() \n",
    "\n",
    "y_tfid11 = df['class']"
   ]
  },
  {
   "cell_type": "code",
   "execution_count": null,
   "id": "1d24cd89",
   "metadata": {},
   "outputs": [],
   "source": [
    "X_train11, X_test11, y_train11, y_test11 = train_test_split(X_tfid11, y_tfid11, test_size=0.25, random_state=12)"
   ]
  },
  {
   "cell_type": "code",
   "execution_count": null,
   "id": "bd04d3ac",
   "metadata": {},
   "outputs": [],
   "source": [
    "penalty = ['none', 'l1', 'l2', 'elasticnet']\n",
    "c_values = [100, 10, 1.0, 0.1, 0.01]\n",
    "param_grid = {'penalty': penalty, 'C' : c_values}\n",
    "lr_tfid = LogisticRegression(random_state = 0)\n",
    "lr_tfid_cv = GridSearchCV(lr_tfid, param_grid, cv = 5)\n",
    "lr_tfid_cv.fit(X_train11, y_train11)"
   ]
  },
  {
   "cell_type": "code",
   "execution_count": null,
   "id": "472310ce",
   "metadata": {},
   "outputs": [],
   "source": [
    "print(\"Best Score:\" + str(lr_tfid_cv.best_score_))\n",
    "print(\"Best Parameters: \" + str(lr_tfid_cv.best_params_))"
   ]
  },
  {
   "cell_type": "code",
   "execution_count": null,
   "id": "fc61ef89",
   "metadata": {},
   "outputs": [],
   "source": [
    "lr_tfid = LogisticRegression(C = 10 , penalty = 'l2')\n",
    "lr_tfid.fit(X_test11, y_test11)"
   ]
  },
  {
   "cell_type": "code",
   "execution_count": null,
   "id": "07a83434",
   "metadata": {},
   "outputs": [],
   "source": [
    "y_train_pred11 = lr_tfid.predict(X_train11)\n",
    "y_pred11 = lr_tfid.predict(X_test11)"
   ]
  },
  {
   "cell_type": "code",
   "execution_count": null,
   "id": "fe58162c",
   "metadata": {},
   "outputs": [],
   "source": [
    "training_accuracy = lr_tfid.score(X_train11, y_train11)\n",
    "test_accuracy = lr_tfid.score(X_test11, y_test11)"
   ]
  },
  {
   "cell_type": "code",
   "execution_count": null,
   "id": "fde4552b",
   "metadata": {},
   "outputs": [],
   "source": [
    "print(\"Accuracy on training data: {:2f}\".format(training_accuracy))\n",
    "print(\"Accuracy on test data:     {:2f}\".format(test_accuracy))"
   ]
  },
  {
   "cell_type": "code",
   "execution_count": null,
   "id": "037dd0d9",
   "metadata": {},
   "outputs": [],
   "source": [
    "accuracy_lr_tfidf = metrics.accuracy_score(y_test11,y_pred11)\n",
    "balanced_accuracy_lr_tfidf = metrics.balanced_accuracy_score(y_test11,y_pred11)\n",
    "precision_lr_tfidf = metrics.precision_score(y_test11,y_pred11, pos_label = 1)\n",
    "recall_lr_tfidf = metrics.recall_score(y_test11,y_pred11, pos_label = 1)\n",
    "f1_lr_tfidf = metrics.f1_score(y_test11, y_pred11, pos_label = 1)\n",
    "roc_auc_lr_tfidf = metrics.roc_auc_score(y_test11, y_pred11)\n",
    "print(\"Accuracy:\", accuracy_lr_tfidf)\n",
    "print(\"Balanced accuracy:\", balanced_accuracy_lr_tfidf)\n",
    "print('Precision score' , precision_lr_tfidf)\n",
    "print('Recall score' , recall_lr_tfidf)\n",
    "print('F1 score' , f1_lr_tfidf)\n",
    "print('ROC_AUC Score' , roc_auc_lr_tfidf)\n",
    "\n"
   ]
  },
  {
   "cell_type": "code",
   "execution_count": null,
   "id": "cae01620",
   "metadata": {},
   "outputs": [],
   "source": [
    "from sklearn.metrics import confusion_matrix\n",
    "tn_lr_tfid, fp_lr_tfid, fn_lr_tfid, tp_lr_tfid = confusion_matrix(y_test11, y_pred11).ravel()\n",
    "print(f'True Suicide: {tp_lr_tfid}')\n",
    "print(f'False Suicide: {fp_lr_tfid}')\n",
    "print(f'True Non-Suicide: {tn_lr_tfid}')\n",
    "print(f'False Non-Suicide: {fn_lr_tfid}')"
   ]
  },
  {
   "cell_type": "code",
   "execution_count": null,
   "id": "3179a477",
   "metadata": {},
   "outputs": [],
   "source": [
    "pd.DataFrame(confusion_matrix(y_test11, y_pred11), columns=['Predicted Non-Suicide', \"Predicted Suicide\"], index=['Actual Non-Suicide', 'Actual Suicide'])"
   ]
  },
  {
   "cell_type": "code",
   "execution_count": null,
   "id": "40820e75",
   "metadata": {},
   "outputs": [],
   "source": [
    "y_pred_proba11 = lr_tfid.predict_proba(X_test11)[::,1]\n",
    "fpr11, tpr11, _ = metrics.roc_curve(y_test11,  y_pred_proba11)\n",
    "plt.rcParams.update({'figure.figsize': (8, 6.0)})\n",
    "#create ROC curve\n",
    "plt.plot(fpr11,tpr11)\n",
    "plt.plot([0, 1], [0, 1],'r--')\n",
    "plt.title(\"ROC_AUC CURVE Logistic Regression with TF-IDF Vectorizer - Text Only\")\n",
    "plt.ylabel('True Positive Rate')\n",
    "plt.xlabel('False Positive Rate')\n",
    "plt.tight_layout()\n",
    "plt.savefig('ROC_AUC CURVE Logistic Regression with TF-IDF Vectorizer_Text_Only.png')"
   ]
  },
  {
   "cell_type": "markdown",
   "id": "d779f5f9",
   "metadata": {},
   "source": [
    "# Logistic Regression - TF-IDF - All Features"
   ]
  },
  {
   "cell_type": "code",
   "execution_count": null,
   "id": "1f44d8ea",
   "metadata": {},
   "outputs": [],
   "source": [
    "from sklearn.feature_extraction.text import TfidfVectorizer\n",
    "vectorizor_tfid = TfidfVectorizer(min_df=0)\n",
    "text_matrix12 = vectorizor_tfid.fit_transform(df['text'])\n",
    "text_matrix12 = text_matrix12.tocsc() \n",
    "length = scaled_features_df['length'].values[:, None]\n",
    "sentiment = scaled_features_df['sentiment'].values[:, None]\n",
    "reading_level = scaled_features_df['flesch_kincaid'][:, None]\n",
    "repetition = scaled_features_df['repetition'][:, None]\n",
    "first = hstack((text_matrix12, length))\n",
    "second = hstack((first, sentiment))\n",
    "third = hstack((second, reading_level))\n",
    "X_tfid12 = hstack((third, sentiment))\n",
    "\n",
    "y_tfid12 = df['class']"
   ]
  },
  {
   "cell_type": "code",
   "execution_count": null,
   "id": "959e51a3",
   "metadata": {},
   "outputs": [],
   "source": [
    "X_train12, X_test12, y_train12, y_test12 = train_test_split(X_tfid12, y_tfid12, test_size=0.25, random_state=12)"
   ]
  },
  {
   "cell_type": "code",
   "execution_count": null,
   "id": "2cc6654d",
   "metadata": {},
   "outputs": [],
   "source": [
    "penalty = ['none', 'l1', 'l2', 'elasticnet']\n",
    "c_values = [100, 10, 1.0, 0.1, 0.01]\n",
    "param_grid = {'penalty': penalty, 'C' : c_values}\n",
    "lr_tfid = LogisticRegression(random_state = 0)\n",
    "lr_tfid_cvi = GridSearchCV(lr_tfid, param_grid, cv = 5)\n",
    "lr_tfid_cvi.fit(X_train12, y_train12)"
   ]
  },
  {
   "cell_type": "code",
   "execution_count": null,
   "id": "49327245",
   "metadata": {},
   "outputs": [],
   "source": [
    "print(\"Best Score:\" + str(lr_tfid_cvi.best_score_))\n",
    "print(\"Best Parameters: \" + str(lr_tfid_cvi.best_params_))"
   ]
  },
  {
   "cell_type": "code",
   "execution_count": null,
   "id": "53213664",
   "metadata": {},
   "outputs": [],
   "source": [
    "lr_tfidi = LogisticRegression(C =  , penalty = '')\n",
    "lr_tfidi.fit(X_test12, y_test12)"
   ]
  },
  {
   "cell_type": "code",
   "execution_count": null,
   "id": "a92a3fd0",
   "metadata": {},
   "outputs": [],
   "source": [
    "y_train_pred12 = lr_tfidi.predict(X_train12)\n",
    "y_pred12 = lr_tfidi.predict(X_test12)"
   ]
  },
  {
   "cell_type": "code",
   "execution_count": null,
   "id": "40b9532d",
   "metadata": {},
   "outputs": [],
   "source": [
    "training_accuracy = lr_tfidi.score(X_train12, y_train12)\n",
    "test_accuracy = lr_tfidi.score(X_test12, y_test12)"
   ]
  },
  {
   "cell_type": "code",
   "execution_count": null,
   "id": "f93493fe",
   "metadata": {},
   "outputs": [],
   "source": [
    "print(\"Accuracy on training data: {:2f}\".format(training_accuracy))\n",
    "print(\"Accuracy on test data:     {:2f}\".format(test_accuracy))"
   ]
  },
  {
   "cell_type": "code",
   "execution_count": null,
   "id": "1b64398c",
   "metadata": {},
   "outputs": [],
   "source": [
    "accuracy_lr_tfidfi = metrics.accuracy_score(y_test12,y_pred12)\n",
    "balanced_accuracy_lr_tfidfi = metrics.balanced_accuracy_score(y_test12,y_pred12)\n",
    "precision_lr_tfidfi = metrics.precision_score(y_test12,y_pred12, pos_label = 1)\n",
    "recall_lr_tfidfi = metrics.recall_score(y_test12,y_pred12, pos_label = 1)\n",
    "f1_lr_tfidfi = metrics.f1_score(y_test12, y_pred12, pos_label = 1)\n",
    "roc_auc_lr_tfidfi = metrics.roc_auc_score(y_test12, y_pred12)\n",
    "print(\"Accuracy:\", accuracy_lr_tfidfi)\n",
    "print(\"Balanced accuracy:\", balanced_accuracy_lr_tfidfi)\n",
    "print('Precision score' , precision_lr_tfidfi)\n",
    "print('Recall score' , recall_lr_tfidfi)\n",
    "print('F1 score' , f1_lr_tfidfi)\n",
    "print('ROC_AUC Score' , roc_auc_lr_tfidfi)\n"
   ]
  },
  {
   "cell_type": "code",
   "execution_count": null,
   "id": "403962f2",
   "metadata": {},
   "outputs": [],
   "source": [
    "from sklearn.metrics import confusion_matrix\n",
    "tn_lr_tfidi, fp_lr_tfidi, fn_lr_tfidi, tp_lr_tfidi = confusion_matrix(y_test12, y_pred12).ravel()\n",
    "print(f'True Suicide: {tp_lr_tfidi}')\n",
    "print(f'False Suicide: {fp_lr_tfidi}')\n",
    "print(f'True Non-Suicide: {tn_lr_tfidi}')\n",
    "print(f'False Non-Suicide: {fn_lr_tfidi}')"
   ]
  },
  {
   "cell_type": "code",
   "execution_count": null,
   "id": "e2afdde0",
   "metadata": {},
   "outputs": [],
   "source": [
    "pd.DataFrame(confusion_matrix(y_test12, y_pred12), columns=['Predicted Non-Suicide', \"Predicted Suicide\"], index=['Actual Non-Suicide', 'Actual Suicide'])"
   ]
  },
  {
   "cell_type": "code",
   "execution_count": null,
   "id": "fc88d849",
   "metadata": {},
   "outputs": [],
   "source": [
    "y_pred_proba12 = lr_tfidi.predict_proba(X_test12)[::,1]\n",
    "fpr12, tpr12, _ = metrics.roc_curve(y_test12,  y_pred_proba12)\n",
    "plt.rcParams.update({'figure.figsize': (8, 6.0)})\n",
    "#create ROC curve\n",
    "plt.plot(fpr12,tpr12)\n",
    "plt.plot([0, 1], [0, 1],'r--')\n",
    "plt.title(\"ROC_AUC CURVE Logistic Regression with TF-IDF Vectorizer - All Features\")\n",
    "plt.ylabel('True Positive Rate')\n",
    "plt.xlabel('False Positive Rate')\n",
    "plt.tight_layout()\n",
    "plt.savefig('ROC_AUC CURVE Logistic Regression with TF-IDF Vectorizer_All_Features.png')"
   ]
  },
  {
   "cell_type": "markdown",
   "id": "9b8c8e25",
   "metadata": {},
   "source": [
    "# Evaluate the models"
   ]
  },
  {
   "cell_type": "code",
   "execution_count": null,
   "id": "4bb510d3",
   "metadata": {},
   "outputs": [],
   "source": [
    "from tabulate import tabulate\n",
    "d = [ [\"Naive Bayes (Count Vectorizer - Text Only)\",round(accuracy_nbcv, 3), round(precision_nbcv, 3), round(recall_nbcv, 3), round(f1_nbcv, 3), round(roc_auc_nbcv, 3)], \n",
    "     [\"Naive Bayes (Count Vectorizer - All Features)\",round(accuracy_nbcvi, 3), round(precision_nbcvi, 3), round(recall_nbcvi, 3), round(f1_nbcvi, 3), round(roc_auc_nbcvi, 3)], \n",
    "     \n",
    "     [\"Naive Bayes (TF-IDF - Text Only)\",round(accuracy_nb_tfidf, 3), round(precision_nb_tfidf, 3), round(recall_nb_tfidf, 3), round(f1_nb_tfidf, 3), round(roc_auc_nb_tfidf, 3)],\n",
    "    [\"Naive Bayes (TF-IDF - All Features)\",round(accuracy_nb_tfidfi, 3), round(precision_nb_tfidfi, 3), round(recall_nb_tfidfi, 3), round(f1_nb_tfidfi, 3), round(roc_auc_nb_tfidfi, 3)], [\"\", \"\", \"\" ,\"\", \"\", \"\"],\n",
    "    [\"Random Forest (Count Vectorizer - Text Only)\",round(accuracy_rfcv, 3), round(precision_rfcv, 3), round(recall_rfcv, 3), round(f1_rfcv, 3), round(roc_auc_rfcv, 3)], \n",
    "    [\"Random Forest (Count Vectorizer - All Features)\",round(accuracy_rfcvi, 3), round(precision_rfcvi, 3), round(recall_rfcvi, 3), round(f1_rfcvi, 3), round(roc_auc_rfcvi, 3)], \n",
    "    [\"Random Forest (TF-IDF - Text Only)\",round(accuracy_rf_tfidf, 3), round(precision_rf_tfidf, 3), round(recall_rf_tfidf, 3), round(f1_rf_tfidf, 3), round(roc_auc_rf_tfidf, 3)], \n",
    "    [\"Random Forest (TF-IDF - All Features)\",round(accuracy_rf_tfidfi, 3), round(precision_rf_tfidfi, 3), round(recall_rf_tfidfi, 3), round(f1_rf_tfidfi, 3), round(roc_auc_rf_tfidfi, 3)], [\"\", \"\", \"\" ,\"\", \"\", \"\"],\n",
    "    [\"Logistic Regression (Count Vectorizer - Text Only)\",round(accuracy_lrcv, 3), round(precision_lrcv, 3), round(recall_lrcv, 3), round(f1_lrcv, 3), round(roc_auc_lrcv, 3)], \n",
    "    [\"Logistic Regression (Count Vectorizer - All Features)\",round(accuracy_lrcvi, 3), round(precision_lrcvi, 3), round(recall_lrcvi, 3), round(f1_lrcvi, 3), round(roc_auc_lrcvi, 3)], \n",
    "    [\"Logistic Regression (TF-IDF - Text Only)\",round(accuracy_lr_tfidf, 3), round(precision_lr_tfidf, 3), round(recall_lr_tfidf, 3), round(f1_lr_tfidf, 3), round(roc_auc_lr_tfidf, 3)], \n",
    "    [\"Logistic Regression (TF-IDF - All Features)\",round(accuracy_lr_tfidfi, 3), round(precision_lr_tfidfi, 3), round(recall_lr_tfidfi, 3), round(f1_lr_tfidfi, 3), round(roc_auc_lr_tfidfi, 3)], [\"\", \"\", \"\" ,\"\", \"\", \"\"]]\n",
    "print(\" \")\n",
    "print(\" \")\n",
    "datalist2 = tabulate(d, headers=[\"   Model  \", \"Accuracy Score\", \"Precision Score\", \"Recall Score\", \"F1 Score\", \"ROC_AUC Score\"])\n",
    "print(datalist2)"
   ]
  },
  {
   "cell_type": "code",
   "execution_count": null,
   "id": "fe3b30b9",
   "metadata": {},
   "outputs": [],
   "source": [
    "plt.figure(figsize=(12,8))\n",
    "\n",
    "plt.plot(fpr1, tpr1, lw=2, label='ROC - Naive Bayes (Count Vectorizer - Text Only)' + ' (area = %0.2f)' % roc_auc_nbcv)\n",
    "plt.plot(fpr2, tpr2, lw=2, label='ROC - Naive Bayes (Count Vectorizer - All Features)' + ' (area = %0.2f)' % roc_auc_nbcvi)\n",
    "plt.plot(fpr3, tpr3, lw=2, label='ROC - Naive Bayes (TF-IDF - Text Only)' + ' (area = %0.2f)' % roc_auc_nb_tfidf)\n",
    "plt.plot(fpr4, tpr4, lw=2, label='ROC - Naive Bayes (TF-IDF - All Features)' + ' (area = %0.2f)' % roc_auc_nb_tfidfi)\n",
    "plt.plot(fpr5, tpr5, lw=2, label='ROC - Random Forest (Count Vectorizer - Text Only)' + ' (area = %0.2f)' % roc_auc_rfcv)\n",
    "plt.plot(fpr6, tpr6, lw=2, label='ROC - Random Forest (Count Vectorizer - All Features)' + ' (area = %0.2f)' % roc_auc_rfcvi)\n",
    "plt.plot(fpr7, tpr7, lw=2, label='ROC - Random Forest (TF-IDF - Text Only)' + ' (area = %0.2f)' % roc_auc_rf_tfidf)\n",
    "plt.plot(fpr8, tpr8, lw=2, label='ROC - Random Forest (TF-IDF - All Features)' + ' (area = %0.2f)' % roc_auc_rf_tfidfi)\n",
    "plt.plot(fpr9, tpr9, lw=2, label='ROC - Logistic Regression (Count Vectorizer - Text Only)' + ' (area = %0.2f)' % roc_auc_lrcv)\n",
    "plt.plot(fpr10, tpr10, lw=2, label='ROC - Logistic Regression (Count Vectorizer - All Features)' + ' (area = %0.2f)' % roc_auc_lrcvi)\n",
    "plt.plot(fpr11, tpr11, lw=2, label='ROC - Logistic Regression (TF-IDF - Text Only)' + ' (area = %0.2f)' % roc_auc_lr_tfidf)\n",
    "plt.plot(fpr12, tpr12, lw=2, label='ROC - Logistic Regression (TF-IDF - All Features)' + ' (area = %0.2f)' % roc_auc_lr_tfidfi)\n",
    "plt.plot([0, 1], [0, 1],'r--')\n",
    "plt.title(\"ROC_AUC CURVE Comparison of Various Models\")\n",
    "plt.ylabel('True Positive Rate')\n",
    "plt.xlabel('False Positive Rate')\n",
    "plt.legend(loc=\"lower right\")\n",
    "plt.tight_layout()\n",
    "plt.savefig('ROC_AUC CURVE Model Comparison.png')"
   ]
  },
  {
   "cell_type": "code",
   "execution_count": null,
   "id": "8056b8b2",
   "metadata": {},
   "outputs": [],
   "source": [
    "d1 = [ [\"Naive Bayes (Count Vectorizer - Text Only)\",tp_nbcv, fp_nbcv, tn_nbcv, fn_nbcv], \n",
    "     [\"Naive Bayes (Count Vectorizer - All Features)\",tp_nbcvi, fp_nbcvi, tn_nbcvi, fn_nbcvi],      \n",
    "     [\"Naive Bayes (TF-IDF - Text Only)\",tp_nb_tfidf, fp_nb_tfidf, tn_nb_tfidf, fn_nb_tfidf],\n",
    "    [\"Naive Bayes (TF-IDF - All Features)\",tp_nb_tfidfi, fp_nb_tfidfi, tn_nb_tfidfi, fn_nb_tfidfi], [\"\", \"\", \"\" ,\"\", \"\", \"\"],\n",
    "    [\"Random Forest (Count Vectorizer - Text Only)\",tp_rfcv, tn_rfcv, fp_rfcv, fn_rfcv], \n",
    "    [\"Random Forest (Count Vectorizer - All Features)\",tp_rfcvi, tn_rfcvi, tn_rfcvi, fn_rfcvi], \n",
    "    [\"Random Forest (TF-IDF - Text Only)\",tp_rf_tfid, fp_rf_tfid, tn_rf_tfid, fn_rf_tfid], \n",
    "    [\"Random Forest (TF-IDF - All Features)\",tp_rf_tfidi, fp_rf_tfidi, tn_rf_tfidi, fn_rf_tfidi], [\"\", \"\", \"\" ,\"\", \"\", \"\"],\n",
    "    [\"Logistic Regression (Count Vectorizer - Text Only)\",tp_lrcv, fp_lrcv, tn_lrcv, fn_lrcv], \n",
    "    [\"Logistic Regression (Count Vectorizer - All Features)\",tp_lrcvi, fp_lrcvi, tn_lrcvi, fn_lrcvi], \n",
    "    [\"Logistic Regression (TF-IDF - Text Only)\",tp_lr_tfid, fp_lr_tfid, tn_lr_tfid, fn_lr_tfid], \n",
    "    [\"Logistic Regression (TF-IDF - All Features)\",tp_lr_tfidi, fp_lr_tfidi, tn_lr_tfidi, fn_lr_tfidi], [\"\", \"\", \"\" ,\"\", \"\", \"\"]]\n",
    "print(\" \")\n",
    "print(\" \")\n",
    "datalist3 = tabulate(d1, headers=[\"   Model  \", \"True Positive\", \"False Positive\", \"True Negative\", \"False Negative\"])\n",
    "print(datalist3)"
   ]
  },
  {
   "cell_type": "markdown",
   "id": "9e9573c2",
   "metadata": {},
   "source": [
    "# Look at Mis-Labeled Examples"
   ]
  },
  {
   "cell_type": "code",
   "execution_count": null,
   "id": "5e257eda",
   "metadata": {},
   "outputs": [],
   "source": [
    "dict1 = {'predict_proba':lr_tfid.predict_proba(X_test_tfid)[:, 1], 'prediction' : lr_tfid.predict(X_test_tfid), 'actual' :y_test_tfid}"
   ]
  },
  {
   "cell_type": "code",
   "execution_count": null,
   "id": "5bcffde4",
   "metadata": {},
   "outputs": [],
   "source": [
    "df_preds = pd.DataFrame(dict1)"
   ]
  },
  {
   "cell_type": "code",
   "execution_count": null,
   "id": "1be4f2c7",
   "metadata": {},
   "outputs": [],
   "source": [
    "df_preds['sum'] = df_preds['prediction'] + df_preds['actual']\n",
    "mixed = df_preds[df_preds['sum'] == 1].reset_index()\n",
    "mixed.head(10)"
   ]
  },
  {
   "cell_type": "code",
   "execution_count": null,
   "id": "57b63233",
   "metadata": {},
   "outputs": [],
   "source": [
    "mixed['string'] = ''"
   ]
  },
  {
   "cell_type": "code",
   "execution_count": null,
   "id": "2be97f3c",
   "metadata": {},
   "outputs": [],
   "source": [
    "for i in range(len(mixed)):\n",
    "    mixed['string'].iloc[i] = df['text'].iloc[mixed['index'].iloc[i]]"
   ]
  },
  {
   "cell_type": "code",
   "execution_count": null,
   "id": "9ae44456",
   "metadata": {},
   "outputs": [],
   "source": [
    "mixed.head(4)"
   ]
  },
  {
   "cell_type": "code",
   "execution_count": null,
   "id": "d72ec1b8",
   "metadata": {},
   "outputs": [],
   "source": [
    "false_positive = mixed[mixed['prediction'] == 1]\n",
    "false_negative = mixed[mixed['prediction'] == 0]"
   ]
  },
  {
   "cell_type": "code",
   "execution_count": null,
   "id": "b7af2c5c",
   "metadata": {},
   "outputs": [],
   "source": [
    "false_positive.head()"
   ]
  },
  {
   "cell_type": "code",
   "execution_count": null,
   "id": "ccb91f9d",
   "metadata": {},
   "outputs": [],
   "source": [
    "for i in range(0, 80):\n",
    "    if i%3 == 0:\n",
    "        print('iteration  ' , i , ' ', false_positive['string'].iloc[i])\n",
    "        print('')"
   ]
  },
  {
   "cell_type": "code",
   "execution_count": null,
   "id": "6f49e560",
   "metadata": {},
   "outputs": [],
   "source": [
    "false_negative.head()"
   ]
  },
  {
   "cell_type": "code",
   "execution_count": null,
   "id": "1045bcd0",
   "metadata": {},
   "outputs": [],
   "source": [
    "for i in range(0, 80):\n",
    "    if i%3 == 0:\n",
    "        print('iteration  ' , i , ' ', false_negative['string'].iloc[i])\n",
    "        print('')"
   ]
  },
  {
   "cell_type": "markdown",
   "id": "03b0aabf",
   "metadata": {},
   "source": [
    "# Test Cases of New Text"
   ]
  },
  {
   "cell_type": "markdown",
   "id": "37952f81",
   "metadata": {},
   "source": [
    "# Everybody Hurts by REM"
   ]
  },
  {
   "cell_type": "markdown",
   "id": "c85cd165",
   "metadata": {},
   "source": [
    "Is the classic song 'Everybody Hurts' about suicide?"
   ]
  },
  {
   "cell_type": "code",
   "execution_count": null,
   "id": "3ea1d04a",
   "metadata": {},
   "outputs": [],
   "source": [
    "everybody_hurts ='when your day is long and the night the night is yours alone when you are sure you have had enough of this life well hang on do not let yourself go because everybody cries everybody hurts sometimes ometimes everything is wrong now its time to sing along when your day is night alone hold on hold on if you feel like letting go hold on if you think you have had too much of this life well hang on because everybody hurts take comfort in your friends everybody hurts do not throw your hand oh no do not throw your hand if you feel like you are alone no no no you are not alone if you are on your own in this life the days and nights are long when you think you have had too much of this life to hang on well everybody hurts sometimes everybody cries everybody hurts sometimes and everybody hurts sometimes so hold on hold on hold on hold on hold on hold on hold on hold on everybody hurts'"
   ]
  },
  {
   "cell_type": "code",
   "execution_count": null,
   "id": "0ef6bd84",
   "metadata": {},
   "outputs": [],
   "source": [
    "eh = {'song': everybody_hurts}\n"
   ]
  },
  {
   "cell_type": "code",
   "execution_count": null,
   "id": "d6ff3a18",
   "metadata": {},
   "outputs": [],
   "source": [
    "df_eh = pd.DataFrame(eh, index=[0])\n",
    "df_eh['class'] = 0"
   ]
  },
  {
   "cell_type": "code",
   "execution_count": null,
   "id": "06711b78",
   "metadata": {},
   "outputs": [],
   "source": [
    "X_song = vectorizor_tfid.transform(df_eh['song'])\n",
    "X_song = X_song.tocsc()  \n",
    "y_song = df_eh['class']"
   ]
  },
  {
   "cell_type": "code",
   "execution_count": null,
   "id": "a8208bc8",
   "metadata": {},
   "outputs": [],
   "source": [
    "#clf.fit(XX)\n",
    "lr_tfid.predict(X_song)"
   ]
  },
  {
   "cell_type": "code",
   "execution_count": null,
   "id": "67381cef",
   "metadata": {},
   "outputs": [],
   "source": [
    "lr_tfid.predict_proba(X_song)"
   ]
  },
  {
   "cell_type": "markdown",
   "id": "1bda253f",
   "metadata": {},
   "source": [
    "   # Fire and Rain by James Taylor"
   ]
  },
  {
   "cell_type": "markdown",
   "id": "d5329822",
   "metadata": {},
   "source": [
    "This song is supposed to be about his friend who killed herself...what does the model say?"
   ]
  },
  {
   "cell_type": "code",
   "execution_count": null,
   "id": "04f8f46c",
   "metadata": {},
   "outputs": [],
   "source": [
    "fire_rain ='just yesterday morning they let me know you were gone suzanne the plans they made put an end to you i walked out this morning and i wrote down this song i just can not remember who to send it to i have seen fire and I have seen rain i have seen sunny days that i thought would never endi have seen lonely times when i could not find a friend but i always thought that i would see you again will you not look down upon me jesus you have got to help me make a stand you have just got to see me through another day my body is aching and my time is at hand and i will not make it any other way oh  i have seen fire and i have seen rain i have seen sunny days that i thought would never end i have seen lonely times when i could not find a friend but i always thought that i would see you again been walking my mind to an easy time my back turned towards the sun lord knows, when the cold wind blows it will turn your head around well there is hours of time on the telephone line to talk about things to come sweet dreams and flying machines in pieces on the ground oh i have seen fire and I have seen rain i  have seen sunny days that i thought would never end i have seen lonely times when i could not find a friend but i always thought that I would see you baby one more time again now thought i would see you one more time again there is just a few things coming my way this time around now thought i would see you thought I would see you fire and rain now'"
   ]
  },
  {
   "cell_type": "code",
   "execution_count": null,
   "id": "6bb7c99c",
   "metadata": {},
   "outputs": [],
   "source": [
    "fr = {'song': fire_rain}"
   ]
  },
  {
   "cell_type": "code",
   "execution_count": null,
   "id": "024ad3bc",
   "metadata": {},
   "outputs": [],
   "source": [
    "df_fr = pd.DataFrame(fr, index=[0])\n",
    "df_fr['class'] = 0"
   ]
  },
  {
   "cell_type": "code",
   "execution_count": null,
   "id": "88896546",
   "metadata": {},
   "outputs": [],
   "source": [
    "X_song1 = vectorizor_tfid.transform(df_fr['song'])\n",
    "X_song1 = X_song1.tocsc() \n",
    "y_song1 = df_fr['class']"
   ]
  },
  {
   "cell_type": "code",
   "execution_count": null,
   "id": "1526c20f",
   "metadata": {},
   "outputs": [],
   "source": [
    "lr_tfid.predict(X_song1)"
   ]
  },
  {
   "cell_type": "code",
   "execution_count": null,
   "id": "824bb76b",
   "metadata": {},
   "outputs": [],
   "source": [
    "lr_tfid.predict_proba(X_song1)"
   ]
  },
  {
   "cell_type": "markdown",
   "id": "f0a3ea61",
   "metadata": {},
   "source": [
    "preliminary  model shows this song IS about suicide"
   ]
  },
  {
   "cell_type": "markdown",
   "id": "3166bf50",
   "metadata": {},
   "source": [
    "# Happy and you know it"
   ]
  },
  {
   "cell_type": "markdown",
   "id": "382d5491",
   "metadata": {},
   "source": [
    "is this song about suicide?"
   ]
  },
  {
   "cell_type": "code",
   "execution_count": null,
   "id": "e0ff2a93",
   "metadata": {},
   "outputs": [],
   "source": [
    "happy_know_it = 'if you are happy and you know it clap your hands if you are happy and you know it then your face will surely show it if you are happy and you know if clap your hands'"
   ]
  },
  {
   "cell_type": "code",
   "execution_count": null,
   "id": "696fbe1d",
   "metadata": {},
   "outputs": [],
   "source": [
    "hap = {'song': happy_know_it}"
   ]
  },
  {
   "cell_type": "code",
   "execution_count": null,
   "id": "fb948e95",
   "metadata": {},
   "outputs": [],
   "source": [
    "df_hap = pd.DataFrame(hap, index=[0])\n",
    "df_hap['class'] = 0"
   ]
  },
  {
   "cell_type": "code",
   "execution_count": null,
   "id": "9fd81438",
   "metadata": {},
   "outputs": [],
   "source": [
    "X_songh = vectorizor_tfid.transform(df_hap['song'])\n",
    "X_songh = X_songh.tocsc() \n",
    "y_songh = df_hap['class']"
   ]
  },
  {
   "cell_type": "code",
   "execution_count": null,
   "id": "a385425f",
   "metadata": {},
   "outputs": [],
   "source": [
    "lr_tfid.predict(X_songh)"
   ]
  },
  {
   "cell_type": "code",
   "execution_count": null,
   "id": "fd107069",
   "metadata": {},
   "outputs": [],
   "source": [
    "lr_tfid.predict_proba(X_songh)"
   ]
  },
  {
   "cell_type": "markdown",
   "id": "d23bd6ff",
   "metadata": {},
   "source": [
    "# Wonderful World\n"
   ]
  },
  {
   "cell_type": "code",
   "execution_count": null,
   "id": "0efa1a30",
   "metadata": {},
   "outputs": [],
   "source": [
    "wonderful_world = 'i see trees of green red roses too i see them bloom for me and you and i think to myself what a wonderful world i see skies of blue and clouds of white the bright blessed day the dark sacred night and i think to myself what a wonderful world the colors of the rainbow so pretty in the sky are also on the faces of people going by i see friends shaking hands saying how do you do they are really saying i love you i hear babies crying i watch them grow they willl learn much more than i will ever know and i think to myself what a wonderful world yes i think to myself what a wonderful world ooh yes'"
   ]
  },
  {
   "cell_type": "code",
   "execution_count": null,
   "id": "1df060a6",
   "metadata": {},
   "outputs": [],
   "source": [
    "ww = {'song': wonderful_world}"
   ]
  },
  {
   "cell_type": "code",
   "execution_count": null,
   "id": "a4f90ee0",
   "metadata": {},
   "outputs": [],
   "source": []
  },
  {
   "cell_type": "code",
   "execution_count": null,
   "id": "45af281a",
   "metadata": {},
   "outputs": [],
   "source": [
    "df_ww = pd.DataFrame(ww, index=[0])\n",
    "df_ww['class'] = 0"
   ]
  },
  {
   "cell_type": "code",
   "execution_count": null,
   "id": "79dbede7",
   "metadata": {},
   "outputs": [],
   "source": [
    "X_song2 = vectorizor_tfid.transform(df_ww['song'])\n",
    "X_song2 = X_song2.tocsc() \n",
    "y_song2 = df_ww['class']"
   ]
  },
  {
   "cell_type": "code",
   "execution_count": null,
   "id": "a26fae55",
   "metadata": {},
   "outputs": [],
   "source": [
    "lr_tfid.predict(X_song2)"
   ]
  },
  {
   "cell_type": "code",
   "execution_count": null,
   "id": "7b6d9f68",
   "metadata": {},
   "outputs": [],
   "source": [
    "lr_tfid.predict_proba(X_song2)"
   ]
  },
  {
   "cell_type": "markdown",
   "id": "681ea6da",
   "metadata": {},
   "source": [
    "# Misidentified (Rickrolled)"
   ]
  },
  {
   "cell_type": "code",
   "execution_count": null,
   "id": "06aa7110",
   "metadata": {},
   "outputs": [],
   "source": [
    "r_roll = 'we are no strangers to love you know the rules and so do i a full commitment is what i am thinking of you would not get this from any other guy i just wanna tell you how i am feeling gotta make you understand never gonna give you up never gonna let you down never gonna run around and desert you never gonna make you cry never gonna say goodbye never gonna tell a lie and hurt you we have known each other for so long your heart has been aching but you are too shy to say it inside we both know what has been going on we know the game and we are gonna play it and if you ask me how i am feeling do not tell me you are too blind to see never gonna give you up never gonna let you down  never gonna run around and desert you never gonna make you cry never gonna say goodbye  never gonna tell a lie and hurt you never gonna give you up never gonna let you down never gonna run around and desert you never gonna make you cry never gonna say goodbye never gonna tell a lie and hurt you we have known each other for so long your heart has been aching but you are too shy to say it inside we both know what has been going on we know the game and we are gonna play it i just wanna tell you how i am feeling gotta make you understand never gonna give you up never gonna let you down never gonna run around and desert you never gonna make you cry never gonna say goodbye never gonna tell a lie and hurt you never gonna give you up never gonna let you down never gonna run around and desert you never gonna make you cry never gonna say goodbye never gonna tell a lie and hurt you never gonna give you up never gonna let you down never gonna run around and desert you never gonna make you cry never gonna say goodbye never gonna tell a lie and hurt you '"
   ]
  },
  {
   "cell_type": "code",
   "execution_count": null,
   "id": "02394ce7",
   "metadata": {},
   "outputs": [],
   "source": [
    "rroll = {'song': r_roll}"
   ]
  },
  {
   "cell_type": "code",
   "execution_count": null,
   "id": "956c7fc4",
   "metadata": {},
   "outputs": [],
   "source": [
    "df_rroll = pd.DataFrame(rroll, index=[0])\n",
    "df_rroll['class'] = 0"
   ]
  },
  {
   "cell_type": "code",
   "execution_count": null,
   "id": "ffe7d4b5",
   "metadata": {},
   "outputs": [],
   "source": [
    "X_songrr = vectorizor_tfid.transform(df_rroll['song'])\n",
    "X_songrr = X_songrr.tocsc() \n",
    "y_songrr = df_rroll['class']"
   ]
  },
  {
   "cell_type": "code",
   "execution_count": null,
   "id": "901fc972",
   "metadata": {},
   "outputs": [],
   "source": [
    "lr_tfid.predict(X_songrr)"
   ]
  },
  {
   "cell_type": "code",
   "execution_count": null,
   "id": "be66c847",
   "metadata": {},
   "outputs": [],
   "source": [
    "lr_tfid.predict_proba(X_songrr)"
   ]
  }
 ],
 "metadata": {
  "kernelspec": {
   "display_name": "Python 3 (ipykernel)",
   "language": "python",
   "name": "python3"
  },
  "language_info": {
   "codemirror_mode": {
    "name": "ipython",
    "version": 3
   },
   "file_extension": ".py",
   "mimetype": "text/x-python",
   "name": "python",
   "nbconvert_exporter": "python",
   "pygments_lexer": "ipython3",
   "version": "3.9.7"
  }
 },
 "nbformat": 4,
 "nbformat_minor": 5
}
