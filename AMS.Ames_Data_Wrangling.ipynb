{
 "cells": [
  {
   "cell_type": "markdown",
   "id": "e12abd03",
   "metadata": {},
   "source": [
    "## Step 1:  Import "
   ]
  },
  {
   "cell_type": "code",
   "execution_count": 1,
   "id": "30c01f2b",
   "metadata": {},
   "outputs": [],
   "source": [
    "import pandas as pd\n",
    "import matplotlib.pyplot as plt\n",
    "import seaborn as sns\n",
    "import os\n",
    "\n",
    "import sys  \n",
    "sys.path.insert(0, 'C:/Users/Beth & Andrew/Documents/GitHub/DataScienceGuidedCapstone/Notebooks/library/')\n",
    "from sb_utils import save_file \n"
   ]
  },
  {
   "cell_type": "markdown",
   "id": "75a57760",
   "metadata": {},
   "source": [
    "## Step 2:  Load the Data"
   ]
  },
  {
   "cell_type": "code",
   "execution_count": 2,
   "id": "4156d141",
   "metadata": {},
   "outputs": [],
   "source": [
    "housing_data = pd.read_csv('C:/Users/Beth & Andrew/Documents/GitHub/Ames Housing/AmesHousing.csv')"
   ]
  },
  {
   "cell_type": "markdown",
   "id": "c67699b2",
   "metadata": {},
   "source": [
    "## Step 3:  Look at summary of data"
   ]
  },
  {
   "cell_type": "code",
   "execution_count": 3,
   "id": "bf8cd1cb",
   "metadata": {},
   "outputs": [
    {
     "data": {
      "text/plain": [
       "<bound method DataFrame.info of       Order        PID  MS SubClass MS Zoning  Lot Frontage  Lot Area Street  \\\n",
       "0         1  526301100           20        RL         141.0     31770   Pave   \n",
       "1         2  526350040           20        RH          80.0     11622   Pave   \n",
       "2         3  526351010           20        RL          81.0     14267   Pave   \n",
       "3         4  526353030           20        RL          93.0     11160   Pave   \n",
       "4         5  527105010           60        RL          74.0     13830   Pave   \n",
       "...     ...        ...          ...       ...           ...       ...    ...   \n",
       "2925   2926  923275080           80        RL          37.0      7937   Pave   \n",
       "2926   2927  923276100           20        RL           NaN      8885   Pave   \n",
       "2927   2928  923400125           85        RL          62.0     10441   Pave   \n",
       "2928   2929  924100070           20        RL          77.0     10010   Pave   \n",
       "2929   2930  924151050           60        RL          74.0      9627   Pave   \n",
       "\n",
       "     Alley Lot Shape Land Contour  ... Pool Area Pool QC  Fence Misc Feature  \\\n",
       "0      NaN       IR1          Lvl  ...         0     NaN    NaN          NaN   \n",
       "1      NaN       Reg          Lvl  ...         0     NaN  MnPrv          NaN   \n",
       "2      NaN       IR1          Lvl  ...         0     NaN    NaN         Gar2   \n",
       "3      NaN       Reg          Lvl  ...         0     NaN    NaN          NaN   \n",
       "4      NaN       IR1          Lvl  ...         0     NaN  MnPrv          NaN   \n",
       "...    ...       ...          ...  ...       ...     ...    ...          ...   \n",
       "2925   NaN       IR1          Lvl  ...         0     NaN  GdPrv          NaN   \n",
       "2926   NaN       IR1          Low  ...         0     NaN  MnPrv          NaN   \n",
       "2927   NaN       Reg          Lvl  ...         0     NaN  MnPrv         Shed   \n",
       "2928   NaN       Reg          Lvl  ...         0     NaN    NaN          NaN   \n",
       "2929   NaN       Reg          Lvl  ...         0     NaN    NaN          NaN   \n",
       "\n",
       "     Misc Val Mo Sold Yr Sold Sale Type  Sale Condition  SalePrice  \n",
       "0           0       5    2010       WD           Normal     215000  \n",
       "1           0       6    2010       WD           Normal     105000  \n",
       "2       12500       6    2010       WD           Normal     172000  \n",
       "3           0       4    2010       WD           Normal     244000  \n",
       "4           0       3    2010       WD           Normal     189900  \n",
       "...       ...     ...     ...       ...             ...        ...  \n",
       "2925        0       3    2006       WD           Normal     142500  \n",
       "2926        0       6    2006       WD           Normal     131000  \n",
       "2927      700       7    2006       WD           Normal     132000  \n",
       "2928        0       4    2006       WD           Normal     170000  \n",
       "2929        0      11    2006       WD           Normal     188000  \n",
       "\n",
       "[2930 rows x 82 columns]>"
      ]
     },
     "execution_count": 3,
     "metadata": {},
     "output_type": "execute_result"
    }
   ],
   "source": [
    "housing_data.info"
   ]
  },
  {
   "cell_type": "markdown",
   "id": "912cf237",
   "metadata": {},
   "source": [
    "we will be interested in the 'SalePrice' column.   the other columns are the features."
   ]
  },
  {
   "cell_type": "markdown",
   "id": "67705af4",
   "metadata": {},
   "source": [
    "## Step 4:  Call head of data \n",
    "#### This is to further familiarize ourselves with our data set."
   ]
  },
  {
   "cell_type": "code",
   "execution_count": 4,
   "id": "4dcae6a1",
   "metadata": {},
   "outputs": [
    {
     "data": {
      "text/html": [
       "<div>\n",
       "<style scoped>\n",
       "    .dataframe tbody tr th:only-of-type {\n",
       "        vertical-align: middle;\n",
       "    }\n",
       "\n",
       "    .dataframe tbody tr th {\n",
       "        vertical-align: top;\n",
       "    }\n",
       "\n",
       "    .dataframe thead th {\n",
       "        text-align: right;\n",
       "    }\n",
       "</style>\n",
       "<table border=\"1\" class=\"dataframe\">\n",
       "  <thead>\n",
       "    <tr style=\"text-align: right;\">\n",
       "      <th></th>\n",
       "      <th>Order</th>\n",
       "      <th>PID</th>\n",
       "      <th>MS SubClass</th>\n",
       "      <th>MS Zoning</th>\n",
       "      <th>Lot Frontage</th>\n",
       "      <th>Lot Area</th>\n",
       "      <th>Street</th>\n",
       "      <th>Alley</th>\n",
       "      <th>Lot Shape</th>\n",
       "      <th>Land Contour</th>\n",
       "      <th>...</th>\n",
       "      <th>Pool Area</th>\n",
       "      <th>Pool QC</th>\n",
       "      <th>Fence</th>\n",
       "      <th>Misc Feature</th>\n",
       "      <th>Misc Val</th>\n",
       "      <th>Mo Sold</th>\n",
       "      <th>Yr Sold</th>\n",
       "      <th>Sale Type</th>\n",
       "      <th>Sale Condition</th>\n",
       "      <th>SalePrice</th>\n",
       "    </tr>\n",
       "  </thead>\n",
       "  <tbody>\n",
       "    <tr>\n",
       "      <th>0</th>\n",
       "      <td>1</td>\n",
       "      <td>526301100</td>\n",
       "      <td>20</td>\n",
       "      <td>RL</td>\n",
       "      <td>141.0</td>\n",
       "      <td>31770</td>\n",
       "      <td>Pave</td>\n",
       "      <td>NaN</td>\n",
       "      <td>IR1</td>\n",
       "      <td>Lvl</td>\n",
       "      <td>...</td>\n",
       "      <td>0</td>\n",
       "      <td>NaN</td>\n",
       "      <td>NaN</td>\n",
       "      <td>NaN</td>\n",
       "      <td>0</td>\n",
       "      <td>5</td>\n",
       "      <td>2010</td>\n",
       "      <td>WD</td>\n",
       "      <td>Normal</td>\n",
       "      <td>215000</td>\n",
       "    </tr>\n",
       "    <tr>\n",
       "      <th>1</th>\n",
       "      <td>2</td>\n",
       "      <td>526350040</td>\n",
       "      <td>20</td>\n",
       "      <td>RH</td>\n",
       "      <td>80.0</td>\n",
       "      <td>11622</td>\n",
       "      <td>Pave</td>\n",
       "      <td>NaN</td>\n",
       "      <td>Reg</td>\n",
       "      <td>Lvl</td>\n",
       "      <td>...</td>\n",
       "      <td>0</td>\n",
       "      <td>NaN</td>\n",
       "      <td>MnPrv</td>\n",
       "      <td>NaN</td>\n",
       "      <td>0</td>\n",
       "      <td>6</td>\n",
       "      <td>2010</td>\n",
       "      <td>WD</td>\n",
       "      <td>Normal</td>\n",
       "      <td>105000</td>\n",
       "    </tr>\n",
       "    <tr>\n",
       "      <th>2</th>\n",
       "      <td>3</td>\n",
       "      <td>526351010</td>\n",
       "      <td>20</td>\n",
       "      <td>RL</td>\n",
       "      <td>81.0</td>\n",
       "      <td>14267</td>\n",
       "      <td>Pave</td>\n",
       "      <td>NaN</td>\n",
       "      <td>IR1</td>\n",
       "      <td>Lvl</td>\n",
       "      <td>...</td>\n",
       "      <td>0</td>\n",
       "      <td>NaN</td>\n",
       "      <td>NaN</td>\n",
       "      <td>Gar2</td>\n",
       "      <td>12500</td>\n",
       "      <td>6</td>\n",
       "      <td>2010</td>\n",
       "      <td>WD</td>\n",
       "      <td>Normal</td>\n",
       "      <td>172000</td>\n",
       "    </tr>\n",
       "    <tr>\n",
       "      <th>3</th>\n",
       "      <td>4</td>\n",
       "      <td>526353030</td>\n",
       "      <td>20</td>\n",
       "      <td>RL</td>\n",
       "      <td>93.0</td>\n",
       "      <td>11160</td>\n",
       "      <td>Pave</td>\n",
       "      <td>NaN</td>\n",
       "      <td>Reg</td>\n",
       "      <td>Lvl</td>\n",
       "      <td>...</td>\n",
       "      <td>0</td>\n",
       "      <td>NaN</td>\n",
       "      <td>NaN</td>\n",
       "      <td>NaN</td>\n",
       "      <td>0</td>\n",
       "      <td>4</td>\n",
       "      <td>2010</td>\n",
       "      <td>WD</td>\n",
       "      <td>Normal</td>\n",
       "      <td>244000</td>\n",
       "    </tr>\n",
       "    <tr>\n",
       "      <th>4</th>\n",
       "      <td>5</td>\n",
       "      <td>527105010</td>\n",
       "      <td>60</td>\n",
       "      <td>RL</td>\n",
       "      <td>74.0</td>\n",
       "      <td>13830</td>\n",
       "      <td>Pave</td>\n",
       "      <td>NaN</td>\n",
       "      <td>IR1</td>\n",
       "      <td>Lvl</td>\n",
       "      <td>...</td>\n",
       "      <td>0</td>\n",
       "      <td>NaN</td>\n",
       "      <td>MnPrv</td>\n",
       "      <td>NaN</td>\n",
       "      <td>0</td>\n",
       "      <td>3</td>\n",
       "      <td>2010</td>\n",
       "      <td>WD</td>\n",
       "      <td>Normal</td>\n",
       "      <td>189900</td>\n",
       "    </tr>\n",
       "  </tbody>\n",
       "</table>\n",
       "<p>5 rows × 82 columns</p>\n",
       "</div>"
      ],
      "text/plain": [
       "   Order        PID  MS SubClass MS Zoning  Lot Frontage  Lot Area Street  \\\n",
       "0      1  526301100           20        RL         141.0     31770   Pave   \n",
       "1      2  526350040           20        RH          80.0     11622   Pave   \n",
       "2      3  526351010           20        RL          81.0     14267   Pave   \n",
       "3      4  526353030           20        RL          93.0     11160   Pave   \n",
       "4      5  527105010           60        RL          74.0     13830   Pave   \n",
       "\n",
       "  Alley Lot Shape Land Contour  ... Pool Area Pool QC  Fence Misc Feature  \\\n",
       "0   NaN       IR1          Lvl  ...         0     NaN    NaN          NaN   \n",
       "1   NaN       Reg          Lvl  ...         0     NaN  MnPrv          NaN   \n",
       "2   NaN       IR1          Lvl  ...         0     NaN    NaN         Gar2   \n",
       "3   NaN       Reg          Lvl  ...         0     NaN    NaN          NaN   \n",
       "4   NaN       IR1          Lvl  ...         0     NaN  MnPrv          NaN   \n",
       "\n",
       "  Misc Val Mo Sold Yr Sold Sale Type  Sale Condition  SalePrice  \n",
       "0        0       5    2010       WD           Normal     215000  \n",
       "1        0       6    2010       WD           Normal     105000  \n",
       "2    12500       6    2010       WD           Normal     172000  \n",
       "3        0       4    2010       WD           Normal     244000  \n",
       "4        0       3    2010       WD           Normal     189900  \n",
       "\n",
       "[5 rows x 82 columns]"
      ]
     },
     "execution_count": 4,
     "metadata": {},
     "output_type": "execute_result"
    }
   ],
   "source": [
    "housing_data.head()"
   ]
  },
  {
   "cell_type": "markdown",
   "id": "94341898",
   "metadata": {},
   "source": [
    "basically looks good.  the column headers are informative. we can already see there is plenty of missing data."
   ]
  },
  {
   "cell_type": "markdown",
   "id": "907fed2b",
   "metadata": {},
   "source": [
    "## Step 5:  Lets look at categorical data.  "
   ]
  },
  {
   "cell_type": "code",
   "execution_count": 5,
   "id": "a9d2d2fa",
   "metadata": {},
   "outputs": [
    {
     "data": {
      "text/html": [
       "<div>\n",
       "<style scoped>\n",
       "    .dataframe tbody tr th:only-of-type {\n",
       "        vertical-align: middle;\n",
       "    }\n",
       "\n",
       "    .dataframe tbody tr th {\n",
       "        vertical-align: top;\n",
       "    }\n",
       "\n",
       "    .dataframe thead th {\n",
       "        text-align: right;\n",
       "    }\n",
       "</style>\n",
       "<table border=\"1\" class=\"dataframe\">\n",
       "  <thead>\n",
       "    <tr style=\"text-align: right;\">\n",
       "      <th></th>\n",
       "      <th>MS Zoning</th>\n",
       "      <th>Street</th>\n",
       "      <th>Alley</th>\n",
       "      <th>Lot Shape</th>\n",
       "      <th>Land Contour</th>\n",
       "      <th>Utilities</th>\n",
       "      <th>Lot Config</th>\n",
       "      <th>Land Slope</th>\n",
       "      <th>Neighborhood</th>\n",
       "      <th>Condition 1</th>\n",
       "      <th>...</th>\n",
       "      <th>Garage Type</th>\n",
       "      <th>Garage Finish</th>\n",
       "      <th>Garage Qual</th>\n",
       "      <th>Garage Cond</th>\n",
       "      <th>Paved Drive</th>\n",
       "      <th>Pool QC</th>\n",
       "      <th>Fence</th>\n",
       "      <th>Misc Feature</th>\n",
       "      <th>Sale Type</th>\n",
       "      <th>Sale Condition</th>\n",
       "    </tr>\n",
       "  </thead>\n",
       "  <tbody>\n",
       "    <tr>\n",
       "      <th>0</th>\n",
       "      <td>RL</td>\n",
       "      <td>Pave</td>\n",
       "      <td>NaN</td>\n",
       "      <td>IR1</td>\n",
       "      <td>Lvl</td>\n",
       "      <td>AllPub</td>\n",
       "      <td>Corner</td>\n",
       "      <td>Gtl</td>\n",
       "      <td>NAmes</td>\n",
       "      <td>Norm</td>\n",
       "      <td>...</td>\n",
       "      <td>Attchd</td>\n",
       "      <td>Fin</td>\n",
       "      <td>TA</td>\n",
       "      <td>TA</td>\n",
       "      <td>P</td>\n",
       "      <td>NaN</td>\n",
       "      <td>NaN</td>\n",
       "      <td>NaN</td>\n",
       "      <td>WD</td>\n",
       "      <td>Normal</td>\n",
       "    </tr>\n",
       "    <tr>\n",
       "      <th>1</th>\n",
       "      <td>RH</td>\n",
       "      <td>Pave</td>\n",
       "      <td>NaN</td>\n",
       "      <td>Reg</td>\n",
       "      <td>Lvl</td>\n",
       "      <td>AllPub</td>\n",
       "      <td>Inside</td>\n",
       "      <td>Gtl</td>\n",
       "      <td>NAmes</td>\n",
       "      <td>Feedr</td>\n",
       "      <td>...</td>\n",
       "      <td>Attchd</td>\n",
       "      <td>Unf</td>\n",
       "      <td>TA</td>\n",
       "      <td>TA</td>\n",
       "      <td>Y</td>\n",
       "      <td>NaN</td>\n",
       "      <td>MnPrv</td>\n",
       "      <td>NaN</td>\n",
       "      <td>WD</td>\n",
       "      <td>Normal</td>\n",
       "    </tr>\n",
       "    <tr>\n",
       "      <th>2</th>\n",
       "      <td>RL</td>\n",
       "      <td>Pave</td>\n",
       "      <td>NaN</td>\n",
       "      <td>IR1</td>\n",
       "      <td>Lvl</td>\n",
       "      <td>AllPub</td>\n",
       "      <td>Corner</td>\n",
       "      <td>Gtl</td>\n",
       "      <td>NAmes</td>\n",
       "      <td>Norm</td>\n",
       "      <td>...</td>\n",
       "      <td>Attchd</td>\n",
       "      <td>Unf</td>\n",
       "      <td>TA</td>\n",
       "      <td>TA</td>\n",
       "      <td>Y</td>\n",
       "      <td>NaN</td>\n",
       "      <td>NaN</td>\n",
       "      <td>Gar2</td>\n",
       "      <td>WD</td>\n",
       "      <td>Normal</td>\n",
       "    </tr>\n",
       "    <tr>\n",
       "      <th>3</th>\n",
       "      <td>RL</td>\n",
       "      <td>Pave</td>\n",
       "      <td>NaN</td>\n",
       "      <td>Reg</td>\n",
       "      <td>Lvl</td>\n",
       "      <td>AllPub</td>\n",
       "      <td>Corner</td>\n",
       "      <td>Gtl</td>\n",
       "      <td>NAmes</td>\n",
       "      <td>Norm</td>\n",
       "      <td>...</td>\n",
       "      <td>Attchd</td>\n",
       "      <td>Fin</td>\n",
       "      <td>TA</td>\n",
       "      <td>TA</td>\n",
       "      <td>Y</td>\n",
       "      <td>NaN</td>\n",
       "      <td>NaN</td>\n",
       "      <td>NaN</td>\n",
       "      <td>WD</td>\n",
       "      <td>Normal</td>\n",
       "    </tr>\n",
       "    <tr>\n",
       "      <th>4</th>\n",
       "      <td>RL</td>\n",
       "      <td>Pave</td>\n",
       "      <td>NaN</td>\n",
       "      <td>IR1</td>\n",
       "      <td>Lvl</td>\n",
       "      <td>AllPub</td>\n",
       "      <td>Inside</td>\n",
       "      <td>Gtl</td>\n",
       "      <td>Gilbert</td>\n",
       "      <td>Norm</td>\n",
       "      <td>...</td>\n",
       "      <td>Attchd</td>\n",
       "      <td>Fin</td>\n",
       "      <td>TA</td>\n",
       "      <td>TA</td>\n",
       "      <td>Y</td>\n",
       "      <td>NaN</td>\n",
       "      <td>MnPrv</td>\n",
       "      <td>NaN</td>\n",
       "      <td>WD</td>\n",
       "      <td>Normal</td>\n",
       "    </tr>\n",
       "    <tr>\n",
       "      <th>...</th>\n",
       "      <td>...</td>\n",
       "      <td>...</td>\n",
       "      <td>...</td>\n",
       "      <td>...</td>\n",
       "      <td>...</td>\n",
       "      <td>...</td>\n",
       "      <td>...</td>\n",
       "      <td>...</td>\n",
       "      <td>...</td>\n",
       "      <td>...</td>\n",
       "      <td>...</td>\n",
       "      <td>...</td>\n",
       "      <td>...</td>\n",
       "      <td>...</td>\n",
       "      <td>...</td>\n",
       "      <td>...</td>\n",
       "      <td>...</td>\n",
       "      <td>...</td>\n",
       "      <td>...</td>\n",
       "      <td>...</td>\n",
       "      <td>...</td>\n",
       "    </tr>\n",
       "    <tr>\n",
       "      <th>2925</th>\n",
       "      <td>RL</td>\n",
       "      <td>Pave</td>\n",
       "      <td>NaN</td>\n",
       "      <td>IR1</td>\n",
       "      <td>Lvl</td>\n",
       "      <td>AllPub</td>\n",
       "      <td>CulDSac</td>\n",
       "      <td>Gtl</td>\n",
       "      <td>Mitchel</td>\n",
       "      <td>Norm</td>\n",
       "      <td>...</td>\n",
       "      <td>Detchd</td>\n",
       "      <td>Unf</td>\n",
       "      <td>TA</td>\n",
       "      <td>TA</td>\n",
       "      <td>Y</td>\n",
       "      <td>NaN</td>\n",
       "      <td>GdPrv</td>\n",
       "      <td>NaN</td>\n",
       "      <td>WD</td>\n",
       "      <td>Normal</td>\n",
       "    </tr>\n",
       "    <tr>\n",
       "      <th>2926</th>\n",
       "      <td>RL</td>\n",
       "      <td>Pave</td>\n",
       "      <td>NaN</td>\n",
       "      <td>IR1</td>\n",
       "      <td>Low</td>\n",
       "      <td>AllPub</td>\n",
       "      <td>Inside</td>\n",
       "      <td>Mod</td>\n",
       "      <td>Mitchel</td>\n",
       "      <td>Norm</td>\n",
       "      <td>...</td>\n",
       "      <td>Attchd</td>\n",
       "      <td>Unf</td>\n",
       "      <td>TA</td>\n",
       "      <td>TA</td>\n",
       "      <td>Y</td>\n",
       "      <td>NaN</td>\n",
       "      <td>MnPrv</td>\n",
       "      <td>NaN</td>\n",
       "      <td>WD</td>\n",
       "      <td>Normal</td>\n",
       "    </tr>\n",
       "    <tr>\n",
       "      <th>2927</th>\n",
       "      <td>RL</td>\n",
       "      <td>Pave</td>\n",
       "      <td>NaN</td>\n",
       "      <td>Reg</td>\n",
       "      <td>Lvl</td>\n",
       "      <td>AllPub</td>\n",
       "      <td>Inside</td>\n",
       "      <td>Gtl</td>\n",
       "      <td>Mitchel</td>\n",
       "      <td>Norm</td>\n",
       "      <td>...</td>\n",
       "      <td>NaN</td>\n",
       "      <td>NaN</td>\n",
       "      <td>NaN</td>\n",
       "      <td>NaN</td>\n",
       "      <td>Y</td>\n",
       "      <td>NaN</td>\n",
       "      <td>MnPrv</td>\n",
       "      <td>Shed</td>\n",
       "      <td>WD</td>\n",
       "      <td>Normal</td>\n",
       "    </tr>\n",
       "    <tr>\n",
       "      <th>2928</th>\n",
       "      <td>RL</td>\n",
       "      <td>Pave</td>\n",
       "      <td>NaN</td>\n",
       "      <td>Reg</td>\n",
       "      <td>Lvl</td>\n",
       "      <td>AllPub</td>\n",
       "      <td>Inside</td>\n",
       "      <td>Mod</td>\n",
       "      <td>Mitchel</td>\n",
       "      <td>Norm</td>\n",
       "      <td>...</td>\n",
       "      <td>Attchd</td>\n",
       "      <td>RFn</td>\n",
       "      <td>TA</td>\n",
       "      <td>TA</td>\n",
       "      <td>Y</td>\n",
       "      <td>NaN</td>\n",
       "      <td>NaN</td>\n",
       "      <td>NaN</td>\n",
       "      <td>WD</td>\n",
       "      <td>Normal</td>\n",
       "    </tr>\n",
       "    <tr>\n",
       "      <th>2929</th>\n",
       "      <td>RL</td>\n",
       "      <td>Pave</td>\n",
       "      <td>NaN</td>\n",
       "      <td>Reg</td>\n",
       "      <td>Lvl</td>\n",
       "      <td>AllPub</td>\n",
       "      <td>Inside</td>\n",
       "      <td>Mod</td>\n",
       "      <td>Mitchel</td>\n",
       "      <td>Norm</td>\n",
       "      <td>...</td>\n",
       "      <td>Attchd</td>\n",
       "      <td>Fin</td>\n",
       "      <td>TA</td>\n",
       "      <td>TA</td>\n",
       "      <td>Y</td>\n",
       "      <td>NaN</td>\n",
       "      <td>NaN</td>\n",
       "      <td>NaN</td>\n",
       "      <td>WD</td>\n",
       "      <td>Normal</td>\n",
       "    </tr>\n",
       "  </tbody>\n",
       "</table>\n",
       "<p>2930 rows × 43 columns</p>\n",
       "</div>"
      ],
      "text/plain": [
       "     MS Zoning Street Alley Lot Shape Land Contour Utilities Lot Config  \\\n",
       "0           RL   Pave   NaN       IR1          Lvl    AllPub     Corner   \n",
       "1           RH   Pave   NaN       Reg          Lvl    AllPub     Inside   \n",
       "2           RL   Pave   NaN       IR1          Lvl    AllPub     Corner   \n",
       "3           RL   Pave   NaN       Reg          Lvl    AllPub     Corner   \n",
       "4           RL   Pave   NaN       IR1          Lvl    AllPub     Inside   \n",
       "...        ...    ...   ...       ...          ...       ...        ...   \n",
       "2925        RL   Pave   NaN       IR1          Lvl    AllPub    CulDSac   \n",
       "2926        RL   Pave   NaN       IR1          Low    AllPub     Inside   \n",
       "2927        RL   Pave   NaN       Reg          Lvl    AllPub     Inside   \n",
       "2928        RL   Pave   NaN       Reg          Lvl    AllPub     Inside   \n",
       "2929        RL   Pave   NaN       Reg          Lvl    AllPub     Inside   \n",
       "\n",
       "     Land Slope Neighborhood Condition 1  ... Garage Type Garage Finish  \\\n",
       "0           Gtl        NAmes        Norm  ...      Attchd           Fin   \n",
       "1           Gtl        NAmes       Feedr  ...      Attchd           Unf   \n",
       "2           Gtl        NAmes        Norm  ...      Attchd           Unf   \n",
       "3           Gtl        NAmes        Norm  ...      Attchd           Fin   \n",
       "4           Gtl      Gilbert        Norm  ...      Attchd           Fin   \n",
       "...         ...          ...         ...  ...         ...           ...   \n",
       "2925        Gtl      Mitchel        Norm  ...      Detchd           Unf   \n",
       "2926        Mod      Mitchel        Norm  ...      Attchd           Unf   \n",
       "2927        Gtl      Mitchel        Norm  ...         NaN           NaN   \n",
       "2928        Mod      Mitchel        Norm  ...      Attchd           RFn   \n",
       "2929        Mod      Mitchel        Norm  ...      Attchd           Fin   \n",
       "\n",
       "     Garage Qual Garage Cond Paved Drive Pool QC  Fence Misc Feature  \\\n",
       "0             TA          TA           P     NaN    NaN          NaN   \n",
       "1             TA          TA           Y     NaN  MnPrv          NaN   \n",
       "2             TA          TA           Y     NaN    NaN         Gar2   \n",
       "3             TA          TA           Y     NaN    NaN          NaN   \n",
       "4             TA          TA           Y     NaN  MnPrv          NaN   \n",
       "...          ...         ...         ...     ...    ...          ...   \n",
       "2925          TA          TA           Y     NaN  GdPrv          NaN   \n",
       "2926          TA          TA           Y     NaN  MnPrv          NaN   \n",
       "2927         NaN         NaN           Y     NaN  MnPrv         Shed   \n",
       "2928          TA          TA           Y     NaN    NaN          NaN   \n",
       "2929          TA          TA           Y     NaN    NaN          NaN   \n",
       "\n",
       "     Sale Type Sale Condition  \n",
       "0          WD          Normal  \n",
       "1          WD          Normal  \n",
       "2          WD          Normal  \n",
       "3          WD          Normal  \n",
       "4          WD          Normal  \n",
       "...        ...            ...  \n",
       "2925       WD          Normal  \n",
       "2926       WD          Normal  \n",
       "2927       WD          Normal  \n",
       "2928       WD          Normal  \n",
       "2929       WD          Normal  \n",
       "\n",
       "[2930 rows x 43 columns]"
      ]
     },
     "execution_count": 5,
     "metadata": {},
     "output_type": "execute_result"
    }
   ],
   "source": [
    "housing_data.select_dtypes('object')"
   ]
  },
  {
   "cell_type": "markdown",
   "id": "1ecfb86a",
   "metadata": {},
   "source": [
    "Quite a few variables have categorical features"
   ]
  },
  {
   "cell_type": "markdown",
   "id": "aefe4da0",
   "metadata": {},
   "source": [
    "## Step 6:  Identify duplicates"
   ]
  },
  {
   "cell_type": "code",
   "execution_count": 6,
   "id": "c99f18bd",
   "metadata": {},
   "outputs": [
    {
     "data": {
      "text/plain": [
       "526301100    1\n",
       "535375130    1\n",
       "535378080    1\n",
       "535379060    1\n",
       "535379110    1\n",
       "            ..\n",
       "923228150    1\n",
       "923228230    1\n",
       "923230200    1\n",
       "923252075    1\n",
       "924151050    1\n",
       "Name: PID, Length: 2930, dtype: int64"
      ]
     },
     "execution_count": 6,
     "metadata": {},
     "output_type": "execute_result"
    }
   ],
   "source": [
    "###  It is likely that there are duplicated sales price values so we see if there are duplicted parcel ids instead.\n",
    "housing_data['PID'].value_counts()"
   ]
  },
  {
   "cell_type": "markdown",
   "id": "3dfb7d2e",
   "metadata": {},
   "source": [
    "Looks like we do not have duplicated data (rows)"
   ]
  },
  {
   "cell_type": "markdown",
   "id": "849d41a0",
   "metadata": {},
   "source": [
    "## Step 7:  Location, Location, Location.  \n",
    "#### They say in real estate location is everything, so lets look at our neighborhood data."
   ]
  },
  {
   "cell_type": "code",
   "execution_count": 7,
   "id": "44992bf8",
   "metadata": {},
   "outputs": [
    {
     "data": {
      "text/plain": [
       "NAmes      443\n",
       "CollgCr    267\n",
       "OldTown    239\n",
       "Edwards    194\n",
       "Somerst    182\n",
       "NridgHt    166\n",
       "Gilbert    165\n",
       "Sawyer     151\n",
       "NWAmes     131\n",
       "SawyerW    125\n",
       "Mitchel    114\n",
       "BrkSide    108\n",
       "Crawfor    103\n",
       "IDOTRR      93\n",
       "Timber      72\n",
       "NoRidge     71\n",
       "StoneBr     51\n",
       "SWISU       48\n",
       "ClearCr     44\n",
       "MeadowV     37\n",
       "BrDale      30\n",
       "Blmngtn     28\n",
       "Veenker     24\n",
       "NPkVill     23\n",
       "Blueste     10\n",
       "Greens       8\n",
       "GrnHill      2\n",
       "Landmrk      1\n",
       "Name: Neighborhood, dtype: int64"
      ]
     },
     "execution_count": 7,
     "metadata": {},
     "output_type": "execute_result"
    }
   ],
   "source": [
    "# First in location we are looking at the number of sales by neighborhood.\n",
    "df_nb = housing_data['Neighborhood'].value_counts()\n",
    "df_nb"
   ]
  },
  {
   "cell_type": "code",
   "execution_count": 8,
   "id": "fbe9e565",
   "metadata": {},
   "outputs": [
    {
     "data": {
      "image/png": "[encoded data removed]",
      "text/plain": [
       "<Figure size 432x288 with 1 Axes>"
      ]
     },
     "metadata": {
      "needs_background": "light"
     },
     "output_type": "display_data"
    }
   ],
   "source": [
    "#  Lets graph sales by neighborhood\n",
    "df_nb.plot(kind = 'bar')\n",
    "plt.title(\"Number of Sales by Neighborhood\")\n",
    "plt.xlabel(\"Neighborhood\")\n",
    "plt.ylabel(\"Number of Sales\")\n",
    "plt.show()"
   ]
  },
  {
   "cell_type": "markdown",
   "id": "0b1a1273",
   "metadata": {},
   "source": [
    "Here we see a large number of sales NAmes neighborhood.  We also see very few sales in Landmrk and GrnHill neighborhoods.  Wonder if these two are exclusive neighborhoods or are outliers in sales price not just number of sales.\n"
   ]
  },
  {
   "cell_type": "code",
   "execution_count": 9,
   "id": "94da2260",
   "metadata": {},
   "outputs": [
    {
     "data": {
      "text/html": [
       "<div>\n",
       "<style scoped>\n",
       "    .dataframe tbody tr th:only-of-type {\n",
       "        vertical-align: middle;\n",
       "    }\n",
       "\n",
       "    .dataframe tbody tr th {\n",
       "        vertical-align: top;\n",
       "    }\n",
       "\n",
       "    .dataframe thead tr th {\n",
       "        text-align: left;\n",
       "    }\n",
       "\n",
       "    .dataframe thead tr:last-of-type th {\n",
       "        text-align: right;\n",
       "    }\n",
       "</style>\n",
       "<table border=\"1\" class=\"dataframe\">\n",
       "  <thead>\n",
       "    <tr>\n",
       "      <th></th>\n",
       "      <th colspan=\"2\" halign=\"left\">SalePrice</th>\n",
       "    </tr>\n",
       "    <tr>\n",
       "      <th></th>\n",
       "      <th>count</th>\n",
       "      <th>mean</th>\n",
       "    </tr>\n",
       "    <tr>\n",
       "      <th>Neighborhood</th>\n",
       "      <th></th>\n",
       "      <th></th>\n",
       "    </tr>\n",
       "  </thead>\n",
       "  <tbody>\n",
       "    <tr>\n",
       "      <th>NoRidge</th>\n",
       "      <td>71</td>\n",
       "      <td>330319.13</td>\n",
       "    </tr>\n",
       "    <tr>\n",
       "      <th>StoneBr</th>\n",
       "      <td>51</td>\n",
       "      <td>324229.20</td>\n",
       "    </tr>\n",
       "    <tr>\n",
       "      <th>NridgHt</th>\n",
       "      <td>166</td>\n",
       "      <td>322018.27</td>\n",
       "    </tr>\n",
       "    <tr>\n",
       "      <th>GrnHill</th>\n",
       "      <td>2</td>\n",
       "      <td>280000.00</td>\n",
       "    </tr>\n",
       "    <tr>\n",
       "      <th>Veenker</th>\n",
       "      <td>24</td>\n",
       "      <td>248314.58</td>\n",
       "    </tr>\n",
       "    <tr>\n",
       "      <th>Timber</th>\n",
       "      <td>72</td>\n",
       "      <td>246599.54</td>\n",
       "    </tr>\n",
       "    <tr>\n",
       "      <th>Somerst</th>\n",
       "      <td>182</td>\n",
       "      <td>229707.32</td>\n",
       "    </tr>\n",
       "    <tr>\n",
       "      <th>ClearCr</th>\n",
       "      <td>44</td>\n",
       "      <td>208662.09</td>\n",
       "    </tr>\n",
       "    <tr>\n",
       "      <th>Crawfor</th>\n",
       "      <td>103</td>\n",
       "      <td>207550.83</td>\n",
       "    </tr>\n",
       "    <tr>\n",
       "      <th>CollgCr</th>\n",
       "      <td>267</td>\n",
       "      <td>201803.43</td>\n",
       "    </tr>\n",
       "    <tr>\n",
       "      <th>Blmngtn</th>\n",
       "      <td>28</td>\n",
       "      <td>196661.68</td>\n",
       "    </tr>\n",
       "    <tr>\n",
       "      <th>Greens</th>\n",
       "      <td>8</td>\n",
       "      <td>193531.25</td>\n",
       "    </tr>\n",
       "    <tr>\n",
       "      <th>Gilbert</th>\n",
       "      <td>165</td>\n",
       "      <td>190646.58</td>\n",
       "    </tr>\n",
       "    <tr>\n",
       "      <th>NWAmes</th>\n",
       "      <td>131</td>\n",
       "      <td>188406.91</td>\n",
       "    </tr>\n",
       "    <tr>\n",
       "      <th>SawyerW</th>\n",
       "      <td>125</td>\n",
       "      <td>184070.18</td>\n",
       "    </tr>\n",
       "    <tr>\n",
       "      <th>Mitchel</th>\n",
       "      <td>114</td>\n",
       "      <td>162226.63</td>\n",
       "    </tr>\n",
       "    <tr>\n",
       "      <th>NAmes</th>\n",
       "      <td>443</td>\n",
       "      <td>145097.35</td>\n",
       "    </tr>\n",
       "    <tr>\n",
       "      <th>Blueste</th>\n",
       "      <td>10</td>\n",
       "      <td>143590.00</td>\n",
       "    </tr>\n",
       "    <tr>\n",
       "      <th>NPkVill</th>\n",
       "      <td>23</td>\n",
       "      <td>140710.87</td>\n",
       "    </tr>\n",
       "    <tr>\n",
       "      <th>Landmrk</th>\n",
       "      <td>1</td>\n",
       "      <td>137000.00</td>\n",
       "    </tr>\n",
       "    <tr>\n",
       "      <th>Sawyer</th>\n",
       "      <td>151</td>\n",
       "      <td>136751.15</td>\n",
       "    </tr>\n",
       "    <tr>\n",
       "      <th>SWISU</th>\n",
       "      <td>48</td>\n",
       "      <td>135071.94</td>\n",
       "    </tr>\n",
       "    <tr>\n",
       "      <th>Edwards</th>\n",
       "      <td>194</td>\n",
       "      <td>130843.38</td>\n",
       "    </tr>\n",
       "    <tr>\n",
       "      <th>BrkSide</th>\n",
       "      <td>108</td>\n",
       "      <td>124756.25</td>\n",
       "    </tr>\n",
       "    <tr>\n",
       "      <th>OldTown</th>\n",
       "      <td>239</td>\n",
       "      <td>123991.89</td>\n",
       "    </tr>\n",
       "    <tr>\n",
       "      <th>BrDale</th>\n",
       "      <td>30</td>\n",
       "      <td>105608.33</td>\n",
       "    </tr>\n",
       "    <tr>\n",
       "      <th>IDOTRR</th>\n",
       "      <td>93</td>\n",
       "      <td>103752.90</td>\n",
       "    </tr>\n",
       "    <tr>\n",
       "      <th>MeadowV</th>\n",
       "      <td>37</td>\n",
       "      <td>95756.49</td>\n",
       "    </tr>\n",
       "  </tbody>\n",
       "</table>\n",
       "</div>"
      ],
      "text/plain": [
       "             SalePrice           \n",
       "                 count       mean\n",
       "Neighborhood                     \n",
       "NoRidge             71  330319.13\n",
       "StoneBr             51  324229.20\n",
       "NridgHt            166  322018.27\n",
       "GrnHill              2  280000.00\n",
       "Veenker             24  248314.58\n",
       "Timber              72  246599.54\n",
       "Somerst            182  229707.32\n",
       "ClearCr             44  208662.09\n",
       "Crawfor            103  207550.83\n",
       "CollgCr            267  201803.43\n",
       "Blmngtn             28  196661.68\n",
       "Greens               8  193531.25\n",
       "Gilbert            165  190646.58\n",
       "NWAmes             131  188406.91\n",
       "SawyerW            125  184070.18\n",
       "Mitchel            114  162226.63\n",
       "NAmes              443  145097.35\n",
       "Blueste             10  143590.00\n",
       "NPkVill             23  140710.87\n",
       "Landmrk              1  137000.00\n",
       "Sawyer             151  136751.15\n",
       "SWISU               48  135071.94\n",
       "Edwards            194  130843.38\n",
       "BrkSide            108  124756.25\n",
       "OldTown            239  123991.89\n",
       "BrDale              30  105608.33\n",
       "IDOTRR              93  103752.90\n",
       "MeadowV             37   95756.49"
      ]
     },
     "execution_count": 9,
     "metadata": {},
     "output_type": "execute_result"
    }
   ],
   "source": [
    "#  Now we will pull in average sales price by neighborhood.\n",
    "\n",
    "df = housing_data[['Neighborhood', 'SalePrice']].groupby('Neighborhood').agg(['count', 'mean'])\n",
    "\n",
    "df1 = round(df, 2)\n",
    "\n",
    "df1.sort_values(by = ('SalePrice', 'mean'), ascending = False)\n"
   ]
  },
  {
   "cell_type": "markdown",
   "id": "eed0ab9f",
   "metadata": {},
   "source": [
    "Landmrk neighborhood has only one and Greens neighborhood has only 2 sales but neither seem outliers in terms of price.\n",
    "Here we can see average sales price in NoRidge neighborhood are more than 3x the avg sales price in MeadowV.  Given this finding it is likely the neighborhood will influence the sales price.  Lets look at this further. "
   ]
  },
  {
   "cell_type": "code",
   "execution_count": 10,
   "id": "84a2f31d",
   "metadata": {},
   "outputs": [
    {
     "data": {
      "text/html": [
       "<div>\n",
       "<style scoped>\n",
       "    .dataframe tbody tr th:only-of-type {\n",
       "        vertical-align: middle;\n",
       "    }\n",
       "\n",
       "    .dataframe tbody tr th {\n",
       "        vertical-align: top;\n",
       "    }\n",
       "\n",
       "    .dataframe thead th {\n",
       "        text-align: right;\n",
       "    }\n",
       "</style>\n",
       "<table border=\"1\" class=\"dataframe\">\n",
       "  <thead>\n",
       "    <tr style=\"text-align: right;\">\n",
       "      <th></th>\n",
       "      <th>SalePrice</th>\n",
       "    </tr>\n",
       "    <tr>\n",
       "      <th>Neighborhood</th>\n",
       "      <th></th>\n",
       "    </tr>\n",
       "  </thead>\n",
       "  <tbody>\n",
       "    <tr>\n",
       "      <th>NoRidge</th>\n",
       "      <td>330319.13</td>\n",
       "    </tr>\n",
       "    <tr>\n",
       "      <th>StoneBr</th>\n",
       "      <td>324229.20</td>\n",
       "    </tr>\n",
       "    <tr>\n",
       "      <th>NridgHt</th>\n",
       "      <td>322018.27</td>\n",
       "    </tr>\n",
       "    <tr>\n",
       "      <th>GrnHill</th>\n",
       "      <td>280000.00</td>\n",
       "    </tr>\n",
       "    <tr>\n",
       "      <th>Veenker</th>\n",
       "      <td>248314.58</td>\n",
       "    </tr>\n",
       "    <tr>\n",
       "      <th>Timber</th>\n",
       "      <td>246599.54</td>\n",
       "    </tr>\n",
       "    <tr>\n",
       "      <th>Somerst</th>\n",
       "      <td>229707.32</td>\n",
       "    </tr>\n",
       "    <tr>\n",
       "      <th>ClearCr</th>\n",
       "      <td>208662.09</td>\n",
       "    </tr>\n",
       "    <tr>\n",
       "      <th>Crawfor</th>\n",
       "      <td>207550.83</td>\n",
       "    </tr>\n",
       "    <tr>\n",
       "      <th>CollgCr</th>\n",
       "      <td>201803.43</td>\n",
       "    </tr>\n",
       "    <tr>\n",
       "      <th>Blmngtn</th>\n",
       "      <td>196661.68</td>\n",
       "    </tr>\n",
       "    <tr>\n",
       "      <th>Greens</th>\n",
       "      <td>193531.25</td>\n",
       "    </tr>\n",
       "    <tr>\n",
       "      <th>Gilbert</th>\n",
       "      <td>190646.58</td>\n",
       "    </tr>\n",
       "    <tr>\n",
       "      <th>NWAmes</th>\n",
       "      <td>188406.91</td>\n",
       "    </tr>\n",
       "    <tr>\n",
       "      <th>SawyerW</th>\n",
       "      <td>184070.18</td>\n",
       "    </tr>\n",
       "    <tr>\n",
       "      <th>Mitchel</th>\n",
       "      <td>162226.63</td>\n",
       "    </tr>\n",
       "    <tr>\n",
       "      <th>NAmes</th>\n",
       "      <td>145097.35</td>\n",
       "    </tr>\n",
       "    <tr>\n",
       "      <th>Blueste</th>\n",
       "      <td>143590.00</td>\n",
       "    </tr>\n",
       "    <tr>\n",
       "      <th>NPkVill</th>\n",
       "      <td>140710.87</td>\n",
       "    </tr>\n",
       "    <tr>\n",
       "      <th>Landmrk</th>\n",
       "      <td>137000.00</td>\n",
       "    </tr>\n",
       "    <tr>\n",
       "      <th>Sawyer</th>\n",
       "      <td>136751.15</td>\n",
       "    </tr>\n",
       "    <tr>\n",
       "      <th>SWISU</th>\n",
       "      <td>135071.94</td>\n",
       "    </tr>\n",
       "    <tr>\n",
       "      <th>Edwards</th>\n",
       "      <td>130843.38</td>\n",
       "    </tr>\n",
       "    <tr>\n",
       "      <th>BrkSide</th>\n",
       "      <td>124756.25</td>\n",
       "    </tr>\n",
       "    <tr>\n",
       "      <th>OldTown</th>\n",
       "      <td>123991.89</td>\n",
       "    </tr>\n",
       "    <tr>\n",
       "      <th>BrDale</th>\n",
       "      <td>105608.33</td>\n",
       "    </tr>\n",
       "    <tr>\n",
       "      <th>IDOTRR</th>\n",
       "      <td>103752.90</td>\n",
       "    </tr>\n",
       "    <tr>\n",
       "      <th>MeadowV</th>\n",
       "      <td>95756.49</td>\n",
       "    </tr>\n",
       "  </tbody>\n",
       "</table>\n",
       "</div>"
      ],
      "text/plain": [
       "              SalePrice\n",
       "Neighborhood           \n",
       "NoRidge       330319.13\n",
       "StoneBr       324229.20\n",
       "NridgHt       322018.27\n",
       "GrnHill       280000.00\n",
       "Veenker       248314.58\n",
       "Timber        246599.54\n",
       "Somerst       229707.32\n",
       "ClearCr       208662.09\n",
       "Crawfor       207550.83\n",
       "CollgCr       201803.43\n",
       "Blmngtn       196661.68\n",
       "Greens        193531.25\n",
       "Gilbert       190646.58\n",
       "NWAmes        188406.91\n",
       "SawyerW       184070.18\n",
       "Mitchel       162226.63\n",
       "NAmes         145097.35\n",
       "Blueste       143590.00\n",
       "NPkVill       140710.87\n",
       "Landmrk       137000.00\n",
       "Sawyer        136751.15\n",
       "SWISU         135071.94\n",
       "Edwards       130843.38\n",
       "BrkSide       124756.25\n",
       "OldTown       123991.89\n",
       "BrDale        105608.33\n",
       "IDOTRR        103752.90\n",
       "MeadowV        95756.49"
      ]
     },
     "execution_count": 10,
     "metadata": {},
     "output_type": "execute_result"
    }
   ],
   "source": [
    "#  For clarity lets look just at neighborhood and sales price.\n",
    "\n",
    "df2 = housing_data[['Neighborhood', 'SalePrice']].groupby('Neighborhood').agg('mean')\n",
    "\n",
    "df3 = round(df2, 2)\n",
    "df4 = df3.sort_values(by = 'SalePrice', ascending = False)\n",
    "df4"
   ]
  },
  {
   "cell_type": "code",
   "execution_count": 11,
   "id": "286c4bc1",
   "metadata": {},
   "outputs": [
    {
     "data": {
      "image/png": "[encoded data removed]",
      "text/plain": [
       "<Figure size 432x288 with 1 Axes>"
      ]
     },
     "metadata": {
      "needs_background": "light"
     },
     "output_type": "display_data"
    }
   ],
   "source": [
    "#  Lets have a look at sales price by neighborhood in a bar graph\n",
    "df4.plot(kind = 'bar')\n",
    "plt.title(\"Sales Price by Neighborhood\")\n",
    "plt.xlabel(\"Neighborhood\")\n",
    "plt.ylabel(\"Sales Price\")\n",
    "plt.show()"
   ]
  },
  {
   "cell_type": "markdown",
   "id": "8a1c7975",
   "metadata": {},
   "source": [
    "We have visual confirmation of the discrepency in average sales price by neighborhood."
   ]
  },
  {
   "cell_type": "code",
   "execution_count": 12,
   "id": "218d422d",
   "metadata": {},
   "outputs": [
    {
     "data": {
      "image/png": "[encoded data removed]",
      "text/plain": [
       "<Figure size 864x576 with 1 Axes>"
      ]
     },
     "metadata": {
      "needs_background": "light"
     },
     "output_type": "display_data"
    }
   ],
   "source": [
    "plt.subplots(figsize=(12, 8))\n",
    "sns.boxplot(x= housing_data['Neighborhood'], y=housing_data['SalePrice'], data=df4)\n",
    "plt.xticks(rotation='vertical')\n",
    "plt.ylabel('Sale Price')\n",
    "plt.xlabel('Neighborhood');"
   ]
  },
  {
   "cell_type": "markdown",
   "id": "022af954",
   "metadata": {},
   "source": [
    "One thing of note here would be the outliers in the NoRidge neighborhood.  This neighborhood had our highest average sales price but looks like the median is in line with other 'high-end' neighbohoods but might have more outliers.  Perhaps larger houses?  Should we look at home size?  What other variables shoud we examine? "
   ]
  },
  {
   "cell_type": "markdown",
   "id": "f4bc1dfb",
   "metadata": {},
   "source": [
    "## Step 8:  Review of more variables."
   ]
  },
  {
   "cell_type": "code",
   "execution_count": 13,
   "id": "6944eff9",
   "metadata": {},
   "outputs": [
    {
     "data": {
      "image/png": "[encoded data removed]",
      "text/plain": [
       "<Figure size 1080x720 with 42 Axes>"
      ]
     },
     "metadata": {
      "needs_background": "light"
     },
     "output_type": "display_data"
    }
   ],
   "source": [
    "housing_data.hist(figsize = (15,10))\n",
    "plt.subplots_adjust(hspace=0.5)"
   ]
  },
  {
   "cell_type": "markdown",
   "id": "4602014b",
   "metadata": {},
   "source": [
    "A few items of note from this cursary exmination of variables.  1)  There are a few outliers in terms of price and lot frontage but nothing strikes me as being obviously incorrect.\n",
    "2) There are some major outliers in Lot Area however this is a town in Iowa so there could be properties with large acreage that are still within the town limits.  3)  There are fewer sales in the year 2010.  There were subprime mortgage issues going on nationwide in this time frame so I wonder if fewer sales reflect a soft housing market and therefore lower sales price in this year or perhaps data was just collected partway through the year 2010."
   ]
  },
  {
   "cell_type": "markdown",
   "id": "c232ab27",
   "metadata": {},
   "source": [
    "## Step 9:  Further examination of Year Sold vs House price."
   ]
  },
  {
   "cell_type": "code",
   "execution_count": 14,
   "id": "247a48ad",
   "metadata": {},
   "outputs": [
    {
     "data": {
      "text/html": [
       "<div>\n",
       "<style scoped>\n",
       "    .dataframe tbody tr th:only-of-type {\n",
       "        vertical-align: middle;\n",
       "    }\n",
       "\n",
       "    .dataframe tbody tr th {\n",
       "        vertical-align: top;\n",
       "    }\n",
       "\n",
       "    .dataframe thead th {\n",
       "        text-align: right;\n",
       "    }\n",
       "</style>\n",
       "<table border=\"1\" class=\"dataframe\">\n",
       "  <thead>\n",
       "    <tr style=\"text-align: right;\">\n",
       "      <th></th>\n",
       "      <th>SalePrice</th>\n",
       "    </tr>\n",
       "    <tr>\n",
       "      <th>Yr Sold</th>\n",
       "      <th></th>\n",
       "    </tr>\n",
       "  </thead>\n",
       "  <tbody>\n",
       "    <tr>\n",
       "      <th>2010</th>\n",
       "      <td>172597.60</td>\n",
       "    </tr>\n",
       "    <tr>\n",
       "      <th>2009</th>\n",
       "      <td>181404.57</td>\n",
       "    </tr>\n",
       "    <tr>\n",
       "      <th>2008</th>\n",
       "      <td>178841.75</td>\n",
       "    </tr>\n",
       "    <tr>\n",
       "      <th>2007</th>\n",
       "      <td>185138.21</td>\n",
       "    </tr>\n",
       "    <tr>\n",
       "      <th>2006</th>\n",
       "      <td>181761.65</td>\n",
       "    </tr>\n",
       "  </tbody>\n",
       "</table>\n",
       "</div>"
      ],
      "text/plain": [
       "         SalePrice\n",
       "Yr Sold           \n",
       "2010     172597.60\n",
       "2009     181404.57\n",
       "2008     178841.75\n",
       "2007     185138.21\n",
       "2006     181761.65"
      ]
     },
     "execution_count": 14,
     "metadata": {},
     "output_type": "execute_result"
    }
   ],
   "source": [
    "#  Just for fun, lets look at sales price by year\n",
    "\n",
    "df_yr = housing_data[['Yr Sold', 'SalePrice']].groupby('Yr Sold').agg('mean')\n",
    "\n",
    "df_yr2 = round(df_yr, 2)\n",
    "df_yr3 = df_yr2.sort_values(by = 'Yr Sold', ascending = False)\n",
    "df_yr3"
   ]
  },
  {
   "cell_type": "code",
   "execution_count": 15,
   "id": "38640f98",
   "metadata": {},
   "outputs": [
    {
     "data": {
      "image/png": "[encoded data removed]",
      "text/plain": [
       "<Figure size 432x288 with 1 Axes>"
      ]
     },
     "metadata": {
      "needs_background": "light"
     },
     "output_type": "display_data"
    }
   ],
   "source": [
    "df_yr3.plot(kind = 'bar')\n",
    "plt.title(\"Sales Price by Year\")\n",
    "plt.xlabel(\"Year\")\n",
    "plt.ylabel(\"Sales Price\")\n",
    "plt.show()"
   ]
  },
  {
   "cell_type": "markdown",
   "id": "368a8650",
   "metadata": {},
   "source": [
    "Yeah perhaps we are seeing a soft market in the year 2010 as the average sales price is lower. 172K in 2010 vs 181k in 2009.   We will want to keep year sold in our analysis.  It does not look like such a wild disparity on the graph.\n"
   ]
  },
  {
   "cell_type": "markdown",
   "id": "10ac2c4c",
   "metadata": {},
   "source": [
    "## Step 10:  Does size matter?"
   ]
  },
  {
   "cell_type": "code",
   "execution_count": 16,
   "id": "89a90165",
   "metadata": {},
   "outputs": [
    {
     "data": {
      "image/png": "[encoded data removed]",
      "text/plain": [
       "<Figure size 432x288 with 1 Axes>"
      ]
     },
     "metadata": {
      "needs_background": "light"
     },
     "output_type": "display_data"
    }
   ],
   "source": [
    "housing_data.plot(x='Gr Liv Area', y='SalePrice', kind='scatter');\n",
    "plt.show()"
   ]
  },
  {
   "cell_type": "markdown",
   "id": "9e473292",
   "metadata": {},
   "source": [
    "A few observations here.  Generally there seems to be a relationship between Above Ground Living Area and Sales Price so this is likely another good explanatory variable.  There do seem to be 3 outliers but it is not unreasonable for these to be explained by other variables (neighborhood, condition, etc)"
   ]
  },
  {
   "cell_type": "markdown",
   "id": "a330b44a",
   "metadata": {},
   "source": [
    "It looks like we have already identified some variables that we can reasonably assume will help us build a model.  Are there any variables that we can safely remove?\n"
   ]
  },
  {
   "cell_type": "markdown",
   "id": "53c45497",
   "metadata": {},
   "source": [
    "## Step 11:  Get Rid of some data. "
   ]
  },
  {
   "cell_type": "code",
   "execution_count": 17,
   "id": "59951790",
   "metadata": {},
   "outputs": [
    {
     "data": {
      "text/html": [
       "<div>\n",
       "<style scoped>\n",
       "    .dataframe tbody tr th:only-of-type {\n",
       "        vertical-align: middle;\n",
       "    }\n",
       "\n",
       "    .dataframe tbody tr th {\n",
       "        vertical-align: top;\n",
       "    }\n",
       "\n",
       "    .dataframe thead th {\n",
       "        text-align: right;\n",
       "    }\n",
       "</style>\n",
       "<table border=\"1\" class=\"dataframe\">\n",
       "  <thead>\n",
       "    <tr style=\"text-align: right;\">\n",
       "      <th></th>\n",
       "      <th>count</th>\n",
       "      <th>%</th>\n",
       "    </tr>\n",
       "  </thead>\n",
       "  <tbody>\n",
       "    <tr>\n",
       "      <th>Pool QC</th>\n",
       "      <td>2917</td>\n",
       "      <td>99.556314</td>\n",
       "    </tr>\n",
       "    <tr>\n",
       "      <th>Misc Feature</th>\n",
       "      <td>2824</td>\n",
       "      <td>96.382253</td>\n",
       "    </tr>\n",
       "    <tr>\n",
       "      <th>Alley</th>\n",
       "      <td>2732</td>\n",
       "      <td>93.242321</td>\n",
       "    </tr>\n",
       "    <tr>\n",
       "      <th>Fence</th>\n",
       "      <td>2358</td>\n",
       "      <td>80.477816</td>\n",
       "    </tr>\n",
       "    <tr>\n",
       "      <th>Fireplace Qu</th>\n",
       "      <td>1422</td>\n",
       "      <td>48.532423</td>\n",
       "    </tr>\n",
       "    <tr>\n",
       "      <th>...</th>\n",
       "      <td>...</td>\n",
       "      <td>...</td>\n",
       "    </tr>\n",
       "    <tr>\n",
       "      <th>Mo Sold</th>\n",
       "      <td>0</td>\n",
       "      <td>0.000000</td>\n",
       "    </tr>\n",
       "    <tr>\n",
       "      <th>Yr Sold</th>\n",
       "      <td>0</td>\n",
       "      <td>0.000000</td>\n",
       "    </tr>\n",
       "    <tr>\n",
       "      <th>Sale Type</th>\n",
       "      <td>0</td>\n",
       "      <td>0.000000</td>\n",
       "    </tr>\n",
       "    <tr>\n",
       "      <th>Sale Condition</th>\n",
       "      <td>0</td>\n",
       "      <td>0.000000</td>\n",
       "    </tr>\n",
       "    <tr>\n",
       "      <th>SalePrice</th>\n",
       "      <td>0</td>\n",
       "      <td>0.000000</td>\n",
       "    </tr>\n",
       "  </tbody>\n",
       "</table>\n",
       "<p>82 rows × 2 columns</p>\n",
       "</div>"
      ],
      "text/plain": [
       "                count          %\n",
       "Pool QC          2917  99.556314\n",
       "Misc Feature     2824  96.382253\n",
       "Alley            2732  93.242321\n",
       "Fence            2358  80.477816\n",
       "Fireplace Qu     1422  48.532423\n",
       "...               ...        ...\n",
       "Mo Sold             0   0.000000\n",
       "Yr Sold             0   0.000000\n",
       "Sale Type           0   0.000000\n",
       "Sale Condition      0   0.000000\n",
       "SalePrice           0   0.000000\n",
       "\n",
       "[82 rows x 2 columns]"
      ]
     },
     "execution_count": 17,
     "metadata": {},
     "output_type": "execute_result"
    }
   ],
   "source": [
    "### How much data is missing\n",
    "missing = pd.concat([housing_data.isna().sum(), 100 * housing_data.isna().mean()], axis=1)\n",
    "missing.columns=['count', '%']\n",
    "missing_sort = missing.sort_values(by=['count', '%'], ascending = [False, False])\n",
    "missing_sort.head(82)\n"
   ]
  },
  {
   "cell_type": "markdown",
   "id": "8c260d5c",
   "metadata": {},
   "source": [
    "Pool QC has the most missing values.  However, I suspect the presence of a pool can still give us some clues for value.  Also, there are additional columns with pool data so we may be able to combine.  Therefore I do not want to get rid of pool qc quite yet.\n",
    "Lets dig deeper into 'Misc Feature', 'Alley' and 'Fence'"
   ]
  },
  {
   "cell_type": "markdown",
   "id": "1e03437c",
   "metadata": {},
   "source": [
    "### Misc Feature"
   ]
  },
  {
   "cell_type": "code",
   "execution_count": 18,
   "id": "1223536a",
   "metadata": {},
   "outputs": [
    {
     "data": {
      "text/plain": [
       "Shed    95\n",
       "Gar2     5\n",
       "Othr     4\n",
       "Elev     1\n",
       "TenC     1\n",
       "Name: Misc Feature, dtype: int64"
      ]
     },
     "execution_count": 18,
     "metadata": {},
     "output_type": "execute_result"
    }
   ],
   "source": [
    "df_misc = housing_data['Misc Feature'].value_counts()\n",
    "df_misc"
   ]
  },
  {
   "cell_type": "markdown",
   "id": "c166513b",
   "metadata": {},
   "source": [
    "Honestly I think we can ditch 'Misc Feature'.  Most of the values (96%) are missing and the remainder show the presence of a shed which I dont think is valuable information.  So lets drop Misc Feature."
   ]
  },
  {
   "cell_type": "code",
   "execution_count": 19,
   "id": "8c10ec68",
   "metadata": {},
   "outputs": [],
   "source": [
    "housing_data.drop(columns='Misc Feature', inplace=True)"
   ]
  },
  {
   "cell_type": "markdown",
   "id": "0bbf41c9",
   "metadata": {},
   "source": [
    "### Alley"
   ]
  },
  {
   "cell_type": "code",
   "execution_count": 20,
   "id": "d0b76870",
   "metadata": {},
   "outputs": [
    {
     "data": {
      "text/plain": [
       "Grvl    120\n",
       "Pave     78\n",
       "Name: Alley, dtype: int64"
      ]
     },
     "execution_count": 20,
     "metadata": {},
     "output_type": "execute_result"
    }
   ],
   "source": [
    "df_misc = housing_data['Alley'].value_counts()\n",
    "df_misc"
   ]
  },
  {
   "cell_type": "markdown",
   "id": "a26f7f90",
   "metadata": {},
   "source": [
    "Lets also drop the alley feature.  Most of the values (93%) are missing.  For the remaining 7% whether the alley is gravel or paved is probably a function of the neighborhood and will have multicolinearity with other variables.\n"
   ]
  },
  {
   "cell_type": "code",
   "execution_count": 21,
   "id": "6fc6598b",
   "metadata": {},
   "outputs": [],
   "source": [
    "housing_data.drop(columns='Alley', inplace=True)"
   ]
  },
  {
   "cell_type": "markdown",
   "id": "639edd59",
   "metadata": {},
   "source": [
    "### Fence"
   ]
  },
  {
   "cell_type": "code",
   "execution_count": 22,
   "id": "bb280dd2",
   "metadata": {},
   "outputs": [
    {
     "data": {
      "text/plain": [
       "MnPrv    330\n",
       "GdPrv    118\n",
       "GdWo     112\n",
       "MnWw      12\n",
       "Name: Fence, dtype: int64"
      ]
     },
     "execution_count": 22,
     "metadata": {},
     "output_type": "execute_result"
    }
   ],
   "source": [
    "df_misc = housing_data['Fence'].value_counts()\n",
    "df_misc"
   ]
  },
  {
   "cell_type": "markdown",
   "id": "e39f2afe",
   "metadata": {},
   "source": [
    "I am on the fence about this variable.  80% of values are missing but this is an expensive property specific item, so lets keep it for now."
   ]
  },
  {
   "cell_type": "markdown",
   "id": "d759339b",
   "metadata": {},
   "source": [
    "### Homogeneous data"
   ]
  },
  {
   "cell_type": "markdown",
   "id": "8f8bcf15",
   "metadata": {},
   "source": [
    "For the next step I did an inspection of the data in Excel and identified a number of variables where the data looked homogenous.  I will inspect the following columns in the next section:  \n",
    "     - Street, Utilities, Electrical, Roof Mat, Heating, Central Air, Misc Val\n",
    "        The above represent columns that appear very homogenous and which can be considered for removal\n",
    "The logic here is if all properties have a particular feature then it is not going to tell us much about the price."
   ]
  },
  {
   "cell_type": "markdown",
   "id": "b7883ff8",
   "metadata": {},
   "source": [
    "### Street"
   ]
  },
  {
   "cell_type": "code",
   "execution_count": 23,
   "id": "1ae190de",
   "metadata": {},
   "outputs": [
    {
     "data": {
      "text/plain": [
       "Pave    2918\n",
       "Grvl      12\n",
       "Name: Street, dtype: int64"
      ]
     },
     "execution_count": 23,
     "metadata": {},
     "output_type": "execute_result"
    }
   ],
   "source": [
    "#  Variable Street looks like the vast majority are on paved streets.  \n",
    "df_str = housing_data['Street'].value_counts()\n",
    "df_str"
   ]
  },
  {
   "cell_type": "markdown",
   "id": "b7914c41",
   "metadata": {},
   "source": [
    "I want to get rid of this variable.  only 12 are on gravel roads so this may not be telling us much.  the condition of the infrastructure (street) is also likely captured in the neighborhood variable."
   ]
  },
  {
   "cell_type": "code",
   "execution_count": 24,
   "id": "8b7e6031",
   "metadata": {},
   "outputs": [],
   "source": [
    "housing_data.drop(columns='Street', inplace=True)"
   ]
  },
  {
   "cell_type": "markdown",
   "id": "65076e51",
   "metadata": {},
   "source": [
    "### Utilities"
   ]
  },
  {
   "cell_type": "code",
   "execution_count": 25,
   "id": "b5db84b1",
   "metadata": {},
   "outputs": [
    {
     "data": {
      "text/plain": [
       "AllPub    2927\n",
       "NoSewr       2\n",
       "NoSeWa       1\n",
       "Name: Utilities, dtype: int64"
      ]
     },
     "execution_count": 25,
     "metadata": {},
     "output_type": "execute_result"
    }
   ],
   "source": [
    "#  Variable Utilities looks like the vast majority are on paved streets.  \n",
    "df_util = housing_data['Utilities'].value_counts()\n",
    "df_util"
   ]
  },
  {
   "cell_type": "markdown",
   "id": "1d637ea4",
   "metadata": {},
   "source": [
    "Here we see all but 3 properties have the same value.  I will eliminate this variable too."
   ]
  },
  {
   "cell_type": "code",
   "execution_count": 26,
   "id": "bdc996c4",
   "metadata": {},
   "outputs": [],
   "source": [
    "housing_data.drop(columns='Utilities', inplace=True)"
   ]
  },
  {
   "cell_type": "markdown",
   "id": "1ee20c9b",
   "metadata": {},
   "source": [
    "### Electrical"
   ]
  },
  {
   "cell_type": "code",
   "execution_count": 27,
   "id": "3736a44c",
   "metadata": {},
   "outputs": [
    {
     "data": {
      "text/plain": [
       "SBrkr    2682\n",
       "FuseA     188\n",
       "FuseF      50\n",
       "FuseP       8\n",
       "Mix         1\n",
       "Name: Electrical, dtype: int64"
      ]
     },
     "execution_count": 27,
     "metadata": {},
     "output_type": "execute_result"
    }
   ],
   "source": [
    "# Variable Elecgrical\n",
    "df_elec = housing_data['Electrical'].value_counts()\n",
    "df_elec"
   ]
  },
  {
   "cell_type": "markdown",
   "id": "dbf6ab29",
   "metadata": {},
   "source": [
    "I do not know very much about electrical.   My suspicion is that outdated electrical will be correlated with age of most recent remodel and age of the house.  Also most are homogenous so I bet we could get rid of this variable."
   ]
  },
  {
   "cell_type": "code",
   "execution_count": 28,
   "id": "601bcd5c",
   "metadata": {},
   "outputs": [],
   "source": [
    "housing_data.drop(columns='Electrical', inplace=True)"
   ]
  },
  {
   "cell_type": "markdown",
   "id": "1003ca7b",
   "metadata": {},
   "source": [
    "### Roof Material"
   ]
  },
  {
   "cell_type": "code",
   "execution_count": 29,
   "id": "7c1babd5",
   "metadata": {},
   "outputs": [
    {
     "data": {
      "text/plain": [
       "CompShg    2887\n",
       "Tar&Grv      23\n",
       "WdShake       9\n",
       "WdShngl       7\n",
       "Membran       1\n",
       "ClyTile       1\n",
       "Roll          1\n",
       "Metal         1\n",
       "Name: Roof Matl, dtype: int64"
      ]
     },
     "execution_count": 29,
     "metadata": {},
     "output_type": "execute_result"
    }
   ],
   "source": [
    "# Variable Roof Matl\n",
    "df_roof = housing_data['Roof Matl'].value_counts()\n",
    "df_roof"
   ]
  },
  {
   "cell_type": "markdown",
   "id": "0905f482",
   "metadata": {},
   "source": [
    "With so little variability in roof material I think it is safe to get rid of this.  A metal roof may be seen as a deficiency but there is only 1.  So lets eliminate this variable."
   ]
  },
  {
   "cell_type": "code",
   "execution_count": 30,
   "id": "39c26c70",
   "metadata": {},
   "outputs": [],
   "source": [
    "housing_data.drop(columns='Roof Matl', inplace=True)"
   ]
  },
  {
   "cell_type": "markdown",
   "id": "481f2648",
   "metadata": {},
   "source": [
    "### Heating"
   ]
  },
  {
   "cell_type": "code",
   "execution_count": 31,
   "id": "97538add",
   "metadata": {},
   "outputs": [
    {
     "data": {
      "text/plain": [
       "GasA     2885\n",
       "GasW       27\n",
       "Grav        9\n",
       "Wall        6\n",
       "OthW        2\n",
       "Floor       1\n",
       "Name: Heating, dtype: int64"
      ]
     },
     "execution_count": 31,
     "metadata": {},
     "output_type": "execute_result"
    }
   ],
   "source": [
    "# Variable Heating\n",
    "df_heat = housing_data['Heating'].value_counts()\n",
    "df_heat"
   ]
  },
  {
   "cell_type": "markdown",
   "id": "10a92ea6",
   "metadata": {},
   "source": [
    "This is homogeneous and I think we can get rid of it."
   ]
  },
  {
   "cell_type": "code",
   "execution_count": 32,
   "id": "db972c8b",
   "metadata": {},
   "outputs": [],
   "source": [
    "housing_data.drop(columns='Heating', inplace=True)"
   ]
  },
  {
   "cell_type": "markdown",
   "id": "f6b2d4a5",
   "metadata": {},
   "source": [
    "### Central Air"
   ]
  },
  {
   "cell_type": "code",
   "execution_count": 33,
   "id": "ef433678",
   "metadata": {},
   "outputs": [
    {
     "data": {
      "text/plain": [
       "Y    2734\n",
       "N     196\n",
       "Name: Central Air, dtype: int64"
      ]
     },
     "execution_count": 33,
     "metadata": {},
     "output_type": "execute_result"
    }
   ],
   "source": [
    "# Variable Central Air\n",
    "df_ac = housing_data['Central Air'].value_counts()\n",
    "df_ac"
   ]
  },
  {
   "cell_type": "markdown",
   "id": "b36621c6",
   "metadata": {},
   "source": [
    "Ok we need to keep this variable.  While most homes have central air, 196 in our survey do not have central air and that is a property specific deficiency that could impact home price.  While there is homogenity in this variable I am sure we should keep it."
   ]
  },
  {
   "cell_type": "markdown",
   "id": "677552f2",
   "metadata": {},
   "source": [
    "### Misc Val"
   ]
  },
  {
   "cell_type": "code",
   "execution_count": 34,
   "id": "9a3231d9",
   "metadata": {},
   "outputs": [
    {
     "data": {
      "text/plain": [
       "0        2827\n",
       "400        18\n",
       "500        13\n",
       "450         9\n",
       "600         8\n",
       "700         7\n",
       "2000        7\n",
       "1500        3\n",
       "1200        3\n",
       "650         3\n",
       "480         2\n",
       "3000        2\n",
       "2500        2\n",
       "4500        2\n",
       "455         1\n",
       "1512        1\n",
       "17000       1\n",
       "1000        1\n",
       "15500       1\n",
       "460         1\n",
       "8300        1\n",
       "1300        1\n",
       "560         1\n",
       "620         1\n",
       "900         1\n",
       "1150        1\n",
       "6500        1\n",
       "1400        1\n",
       "750         1\n",
       "800         1\n",
       "12500       1\n",
       "350         1\n",
       "490         1\n",
       "80          1\n",
       "54          1\n",
       "3500        1\n",
       "300         1\n",
       "420         1\n",
       "Name: Misc Val, dtype: int64"
      ]
     },
     "execution_count": 34,
     "metadata": {},
     "output_type": "execute_result"
    }
   ],
   "source": [
    "# Misc Val\n",
    "df_ac = housing_data['Misc Val'].value_counts()\n",
    "df_ac"
   ]
  },
  {
   "cell_type": "markdown",
   "id": "7a5435ed",
   "metadata": {},
   "source": [
    "Ok while this variable is homogeneous, it captures miscelaneous value.  This could be a vehicle or something that was transferred with the property that is going to help explain the value and we see a few that are pretty large so we will need to hang on to this column. "
   ]
  },
  {
   "cell_type": "markdown",
   "id": "e7587ec5",
   "metadata": {},
   "source": [
    "We were able to eliminate 7 variables that were either missing data or whose values were homogeneous and did not give us much information.\n"
   ]
  },
  {
   "cell_type": "code",
   "execution_count": 35,
   "id": "196a87d2",
   "metadata": {},
   "outputs": [
    {
     "data": {
      "text/plain": [
       "(2930, 75)"
      ]
     },
     "execution_count": 35,
     "metadata": {},
     "output_type": "execute_result"
    }
   ],
   "source": [
    "housing_data.shape"
   ]
  },
  {
   "cell_type": "markdown",
   "id": "7c63c4d5",
   "metadata": {},
   "source": [
    "## Step 12:  Save our file."
   ]
  },
  {
   "cell_type": "code",
   "execution_count": 36,
   "id": "634325cc",
   "metadata": {},
   "outputs": [
    {
     "name": "stdout",
     "output_type": "stream",
     "text": [
      "A file already exists with this name.\n",
      "\n",
      "Do you want to overwrite? (Y/N)y\n",
      "Writing file.  \"C:/Users/Beth & Andrew/Documents/GitHub/Ames Housing\\housing_data_cleaned.csv\"\n"
     ]
    }
   ],
   "source": [
    "# save the data to a new csv file\n",
    "datapath = 'C:/Users/Beth & Andrew/Documents/GitHub/Ames Housing'\n",
    "save_file(housing_data, 'housing_data_cleaned.csv', datapath)"
   ]
  },
  {
   "cell_type": "markdown",
   "id": "8cd06795",
   "metadata": {},
   "source": [
    "## Step 13:  Summary"
   ]
  },
  {
   "cell_type": "markdown",
   "id": "25e4eed2",
   "metadata": {},
   "source": [
    "In this notebook we wrangled our Ames Iowa Housing Data.  The process is outlined below \n",
    "\n",
    "#### Import the Data\n",
    "We imported our data and began to familiarize ourselves with the data set, looking at the column headers and basic information.\n",
    "\n",
    "#### Identifying Duplicata Data\n",
    "Fortunately we did not have duplicated data in our dataset \n",
    "\n",
    "#### Can we build a model with this data?\n",
    "We did a preliminary investigation into our data to see if it was going to be robust enough to build a data set.  In this process we identified three variables, 1) Neighborhood, 2) Year Sold and 3) Sq Ft that appear to be explanitory variables for price.  We will do more as we continue our investigation but we are satisfied that the data we imported will be adequate to build a model.\n",
    "\n",
    "#### Eliminate data of limited value\n",
    "We looked at missing data and eliminated a couple of columns with too many missing data points.\n",
    "We also reviewed our data for homogenous data and eliminated a few columns where most of the values were identical and were of limited value to us.\n",
    "\n",
    "#### Save the data\n",
    "Finally we saved our cleaned data into a new .csv file for further investigation.\n"
   ]
  }
 ],
 "metadata": {
  "kernelspec": {
   "display_name": "Python 3 (ipykernel)",
   "language": "python",
   "name": "python3"
  },
  "language_info": {
   "codemirror_mode": {
    "name": "ipython",
    "version": 3
   },
   "file_extension": ".py",
   "mimetype": "text/x-python",
   "name": "python",
   "nbconvert_exporter": "python",
   "pygments_lexer": "ipython3",
   "version": "3.9.7"
  }
 },
 "nbformat": 4,
 "nbformat_minor": 5
}
