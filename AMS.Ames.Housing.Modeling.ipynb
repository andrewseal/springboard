{
 "cells": [
  {
   "cell_type": "markdown",
   "id": "d6e16ea5",
   "metadata": {},
   "source": [
    "# Ames Housing Modeling"
   ]
  },
  {
   "cell_type": "markdown",
   "id": "5c923ab5",
   "metadata": {},
   "source": [
    "# Step 1:  Imports"
   ]
  },
  {
   "cell_type": "code",
   "execution_count": 1,
   "id": "d007a00a",
   "metadata": {},
   "outputs": [],
   "source": [
    "import pandas as pd\n",
    "import numpy as np\n",
    "import os\n",
    "import pickle\n",
    "import matplotlib.pyplot as plt\n",
    "import seaborn as sns\n",
    "from sklearn import __version__ as sklearn_version\n",
    "from sklearn.decomposition import PCA\n",
    "from sklearn.preprocessing import scale\n",
    "from sklearn.model_selection import train_test_split, cross_validate, GridSearchCV, learning_curve\n",
    "from sklearn.preprocessing import StandardScaler, MinMaxScaler, RobustScaler\n",
    "from sklearn.dummy import DummyRegressor\n",
    "from sklearn.linear_model import LinearRegression\n",
    "from sklearn.ensemble import RandomForestRegressor\n",
    "from sklearn.metrics import r2_score, mean_squared_error, mean_absolute_error\n",
    "from sklearn.pipeline import make_pipeline\n",
    "from sklearn.impute import SimpleImputer\n",
    "from sklearn.feature_selection import SelectKBest, f_regression\n",
    "import datetime\n",
    "from sklearn.ensemble import GradientBoostingRegressor\n",
    "from math import sqrt\n",
    "from tabulate import tabulate"
   ]
  },
  {
   "cell_type": "markdown",
   "id": "1056afb8",
   "metadata": {},
   "source": [
    "# Step 2:  Load the Data"
   ]
  },
  {
   "cell_type": "code",
   "execution_count": 2,
   "id": "ebd39e64",
   "metadata": {},
   "outputs": [],
   "source": [
    "housing_data = pd.read_csv('housing_data_cleaned.csv')"
   ]
  },
  {
   "cell_type": "markdown",
   "id": "431d572b",
   "metadata": {},
   "source": [
    "# Step 3: Impute Values"
   ]
  },
  {
   "cell_type": "code",
   "execution_count": 3,
   "id": "d43a1b3d",
   "metadata": {},
   "outputs": [],
   "source": [
    "fill_mean = ['Lot Frontage', 'Lot Area', 'Gr Liv Area']"
   ]
  },
  {
   "cell_type": "code",
   "execution_count": 4,
   "id": "b607c9cb",
   "metadata": {},
   "outputs": [],
   "source": [
    "fill_mode = ['PID', 'MS SubClass', 'MS Zoning', 'Lot Shape', 'Land Contour', 'Lot Config',\n",
    "       'Land Slope', 'Neighborhood', 'Condition 1', 'Condition 2', 'Bldg Type',\n",
    "       'House Style', 'Overall Qual', 'Overall Cond', 'Year Built',\n",
    "       'Year Remod/Add', 'Roof Style', 'Exterior 1st', 'Exterior 2nd',\n",
    "       'Mas Vnr Type', 'Mas Vnr Area', 'Exter Qual', 'Exter Cond',\n",
    "       'Foundation',   'Electrical', 'Full Bath',\n",
    "       'Half Bath', 'Bedroom AbvGr', 'Kitchen AbvGr', 'Kitchen Qual','Functional',  'Yr Sold']"
   ]
  },
  {
   "cell_type": "markdown",
   "id": "a1d3b3d8",
   "metadata": {},
   "source": [
    "#### note.  I am not imputing values regarding things like basement, pool, garage, air conditioning etc which may not be present .  "
   ]
  },
  {
   "cell_type": "code",
   "execution_count": 5,
   "id": "37458957",
   "metadata": {},
   "outputs": [],
   "source": [
    "for item in fill_mean:\n",
    "    housing_data[item].fillna(housing_data[item].mean(), inplace = True)"
   ]
  },
  {
   "cell_type": "code",
   "execution_count": 6,
   "id": "dc4b5852",
   "metadata": {},
   "outputs": [],
   "source": [
    "for thing in fill_mode:\n",
    "    housing_data[thing].fillna(housing_data[thing].mode(), inplace = True)"
   ]
  },
  {
   "cell_type": "markdown",
   "id": "0349995e",
   "metadata": {},
   "source": [
    "# Step 4: Create Dummy Variables"
   ]
  },
  {
   "cell_type": "markdown",
   "id": "6bb74130",
   "metadata": {},
   "source": [
    "#### If you recall from our EDA, our data had quite a few 'object' variables.  Here we are going to create Dummy Variables so we can analyze both our numeric and our object variables"
   ]
  },
  {
   "cell_type": "code",
   "execution_count": 7,
   "id": "1be738fd",
   "metadata": {},
   "outputs": [
    {
     "data": {
      "text/plain": [
       "(2930, 78)"
      ]
     },
     "execution_count": 7,
     "metadata": {},
     "output_type": "execute_result"
    }
   ],
   "source": [
    "housing_data.head()\n",
    "housing_data.shape"
   ]
  },
  {
   "cell_type": "code",
   "execution_count": 8,
   "id": "d472ef3b",
   "metadata": {},
   "outputs": [
    {
     "data": {
      "text/plain": [
       "(2747, 244)"
      ]
     },
     "execution_count": 8,
     "metadata": {},
     "output_type": "execute_result"
    }
   ],
   "source": [
    "df = pd.get_dummies(housing_data, drop_first = True)\n",
    "df = df.dropna()\n",
    "df = df.drop(columns=['Order'])\n",
    "df = df.drop(columns = ['Overall Qual'])\n",
    "df.shape\n"
   ]
  },
  {
   "cell_type": "markdown",
   "id": "de76bcfa",
   "metadata": {},
   "source": [
    "# Step 5:  Addressing Multi-Colinearity"
   ]
  },
  {
   "cell_type": "code",
   "execution_count": 9,
   "id": "27a32229",
   "metadata": {},
   "outputs": [
    {
     "name": "stdout",
     "output_type": "stream",
     "text": [
      "Top Absolute Correlations\n",
      "Sale Type_New         Sale Condition_Partial    0.985696\n",
      "Exterior 1st_CemntBd  Exterior 2nd_CmentBd      0.980893\n",
      "Exterior 1st_VinylSd  Exterior 2nd_VinylSd      0.978538\n",
      "Exterior 1st_MetalSd  Exterior 2nd_MetalSd      0.972056\n",
      "Roof Style_Gable      Roof Style_Hip            0.945156\n",
      "Exter Qual_Gd         Exter Qual_TA             0.906449\n",
      "Exter Cond_Gd         Exter Cond_TA             0.896934\n",
      "Exterior 1st_HdBoard  Exterior 2nd_HdBoard      0.891455\n",
      "Garage Qual_Fa        Garage Qual_TA            0.886101\n",
      "dtype: float64\n"
     ]
    }
   ],
   "source": [
    "###  These functions were adopted from an answer to a question on stack overflow\n",
    "### We are looking at high correlations \n",
    "### with the idea that we can eliminate variables that have extremely high correlation with another variable\n",
    "\n",
    "def get_redundant_pairs(df):\n",
    "    '''Get diagonal and lower triangular pairs of correlation matrix'''\n",
    "    pairs_to_drop = set()\n",
    "    cols = df.columns\n",
    "    for i in range(0, df.shape[1]):\n",
    "        for j in range(0, i+1):\n",
    "            pairs_to_drop.add((cols[i], cols[j]))\n",
    "    return pairs_to_drop\n",
    "\n",
    "def get_top_abs_correlations(df, n=5):\n",
    "    au_corr = df.corr().abs().unstack()\n",
    "    labels_to_drop = get_redundant_pairs(df)\n",
    "    au_corr = au_corr.drop(labels=labels_to_drop).sort_values(ascending=False)\n",
    "    return au_corr[0:n]\n",
    "\n",
    "print(\"Top Absolute Correlations\")\n",
    "print(get_top_abs_correlations(df, 9))"
   ]
  },
  {
   "cell_type": "code",
   "execution_count": 10,
   "id": "a74673a8",
   "metadata": {},
   "outputs": [],
   "source": [
    "#  It looks like there is a high (> .95) correlation betweeen a few of our variables.\n",
    "#  With that we are safe to drop the following variables:\n",
    "#  Sale  Contidion_Partial, Exterior 2nd_CmentD, Exterior 2nd_VinlySd, and Exterior 2nd_MetalSd\n",
    "# Lets go ahead and do that!"
   ]
  },
  {
   "cell_type": "code",
   "execution_count": 11,
   "id": "33eacdc5",
   "metadata": {},
   "outputs": [],
   "source": [
    "df = df.drop(columns=['Sale Condition_Partial', 'Exterior 2nd_CmentBd', 'Exterior 2nd_VinylSd', 'Exterior 2nd_MetalSd'])"
   ]
  },
  {
   "cell_type": "code",
   "execution_count": 12,
   "id": "cd1cea8c",
   "metadata": {},
   "outputs": [
    {
     "name": "stdout",
     "output_type": "stream",
     "text": [
      "Top Absolute Correlations\n",
      "Roof Style_Gable      Roof Style_Hip          0.945156\n",
      "Exter Qual_Gd         Exter Qual_TA           0.906449\n",
      "Exter Cond_Gd         Exter Cond_TA           0.896934\n",
      "Exterior 1st_HdBoard  Exterior 2nd_HdBoard    0.891455\n",
      "Garage Qual_Fa        Garage Qual_TA          0.886101\n",
      "MS Zoning_FV          Neighborhood_Somerst    0.869312\n",
      "Exterior 1st_Wd Sdng  Exterior 2nd_Wd Sdng    0.868191\n",
      "Garage Cars           Garage Area             0.845252\n",
      "Year Built            Garage Yr Blt           0.842375\n",
      "dtype: float64\n"
     ]
    }
   ],
   "source": [
    "print(\"Top Absolute Correlations\")\n",
    "print(get_top_abs_correlations(df, 9))"
   ]
  },
  {
   "cell_type": "code",
   "execution_count": 13,
   "id": "53ed0b10",
   "metadata": {},
   "outputs": [],
   "source": [
    "#  Now that we have addressed our high correlations, we can look at the multicolinearity in more detail using VIF. "
   ]
  },
  {
   "cell_type": "code",
   "execution_count": 14,
   "id": "7c66bde2",
   "metadata": {},
   "outputs": [],
   "source": [
    "from patsy import dmatrices\n",
    "import statsmodels.api as sm\n",
    "from statsmodels.stats.outliers_influence import variance_inflation_factor\n",
    "from statsmodels.tools.tools import add_constant"
   ]
  },
  {
   "cell_type": "code",
   "execution_count": 15,
   "id": "88e1a0fa",
   "metadata": {},
   "outputs": [
    {
     "name": "stderr",
     "output_type": "stream",
     "text": [
      "C:\\anaconda3\\lib\\site-packages\\statsmodels\\tsa\\tsatools.py:142: FutureWarning: In a future version of pandas all arguments of concat except for the argument 'objs' will be keyword-only\n",
      "  x = pd.concat(x[::order], 1)\n",
      "C:\\anaconda3\\lib\\site-packages\\statsmodels\\stats\\outliers_influence.py:193: RuntimeWarning: divide by zero encountered in double_scalars\n",
      "  vif = 1. / (1. - r_squared_i)\n",
      "C:\\anaconda3\\lib\\site-packages\\statsmodels\\regression\\linear_model.py:1715: RuntimeWarning: invalid value encountered in double_scalars\n",
      "  return 1 - self.ssr/self.centered_tss\n"
     ]
    },
    {
     "name": "stdout",
     "output_type": "stream",
     "text": [
      "BsmtFin SF 2                   inf\n",
      "Gr Liv Area                    inf\n",
      "Low Qual Fin SF                inf\n",
      "2nd Flr SF                     inf\n",
      "1st Flr SF                     inf\n",
      "Total Bsmt SF                  inf\n",
      "Bsmt Unf SF                    inf\n",
      "BsmtFin SF 1                   inf\n",
      "const                   2833808.89\n",
      "MS Zoning_RL               1928.48\n",
      "MS Zoning_RM               1458.30\n",
      "MS Zoning_FV                535.76\n",
      "Garage Qual_TA              108.05\n",
      "MS Zoning_RH                 93.68\n",
      "Garage Qual_Fa               88.95\n",
      "Garage Cond_TA               70.71\n",
      "MS Zoning_C (all)            64.65\n",
      "Garage Cond_Fa               51.54\n",
      "Roof Style_Gable             44.67\n",
      "Roof Style_Hip               42.66\n",
      "Garage Type_Attchd           36.03\n",
      "Mas Vnr Type_None            34.99\n",
      "Exter Cond_TA                31.94\n",
      "Garage Type_Detchd           31.30\n",
      "Mas Vnr Type_BrkFace         30.78\n",
      "MS SubClass                  27.82\n",
      "Exterior 1st_HdBoard         27.51\n",
      "Exter Cond_Gd                27.26\n",
      "Exterior 1st_VinylSd         25.86\n",
      "Bsmt Cond_TA                 22.85\n",
      "Neighborhood_NAmes           22.51\n",
      "Exterior 1st_Wd Sdng         21.43\n",
      "Neighborhood_OldTown         17.52\n",
      "Exter Qual_TA                17.49\n",
      "Garage Qual_Gd               17.49\n",
      "Neighborhood_CollgCr         16.20\n",
      "Year Built                   15.07\n",
      "Exterior 1st_Plywood         14.87\n",
      "Exterior 2nd_HdBoard         14.72\n",
      "Exterior 1st_MetalSd         14.31\n",
      "Bldg Type_TwnhsE             14.30\n",
      "Functional_Typ               13.88\n",
      "Exter Qual_Gd                13.21\n",
      "Mas Vnr Type_Stone           12.77\n",
      "Neighborhood_Somerst         12.65\n",
      "House Style_1Story           11.86\n",
      "BsmtFin Type 2_Unf           11.64\n",
      "Garage Cond_Po               11.57\n",
      "Garage Cond_Gd               11.37\n",
      "Neighborhood_Edwards         11.31\n",
      "Exterior 2nd_Wd Sdng         11.29\n",
      "PID                          11.25\n",
      "Garage Type_BuiltIn          11.19\n",
      "Bsmt Cond_Gd                 10.99\n",
      "Exterior 1st_CBlock          10.74\n",
      "Bsmt Qual_TA                 10.43\n",
      "Kitchen Qual_TA              10.39\n",
      "Neighborhood_Sawyer           9.95\n",
      "MS Zoning_I (all)             9.89\n",
      "dtype: float64\n"
     ]
    }
   ],
   "source": [
    "\n",
    "features = df.drop(columns=['SalePrice'])\n",
    "\n",
    "X = add_constant(features)\n",
    "vif = pd.Series([variance_inflation_factor(X.values, i) \n",
    "               for i in range(X.shape[1])], \n",
    "              index=X.columns)\n",
    "vif = vif.sort_values(ascending=False)\n",
    "vif = vif.round(2)\n",
    "\n",
    "print(vif.head(59))\n"
   ]
  },
  {
   "cell_type": "markdown",
   "id": "a4471bc1",
   "metadata": {},
   "source": [
    "#####  Ok I am going to take these VIF scores by groupings.  We see a handful of variables with a variety of square foot measurements.  Going back to our Feature Importance, one of our most important Features were Gr Liv Area ,BsmtFin SF 1, and Total Bsmt Sq Ft.  So we want to keep these variables and remove some other variables that are telling us the same information. "
   ]
  },
  {
   "cell_type": "code",
   "execution_count": 16,
   "id": "c4c7abd2",
   "metadata": {},
   "outputs": [],
   "source": [
    "df = df.drop(columns=['BsmtFin SF 2', 'Low Qual Fin SF', '2nd Flr SF', '1st Flr SF', 'Bsmt Unf SF'])"
   ]
  },
  {
   "cell_type": "markdown",
   "id": "0c5669dd",
   "metadata": {},
   "source": [
    "##### OK. Next lets tackle the zoning variables.  None of these variables were identified as particularly important in our feature importance so I am going to remove indiscriminantly.  "
   ]
  },
  {
   "cell_type": "code",
   "execution_count": 17,
   "id": "63e12ae2",
   "metadata": {},
   "outputs": [],
   "source": [
    "df = df.drop(columns=['MS Zoning_RL', 'MS Zoning_RM', 'MS Zoning_FV', 'MS Zoning_RH', 'MS Zoning_C (all)', 'MS Zoning_I (all)'])"
   ]
  },
  {
   "cell_type": "markdown",
   "id": "da3e082a",
   "metadata": {},
   "source": [
    "#####  Next we will try to identify area where there are two or more variables basically saying the opposite of each other ie condition fair or good and eliminate one of these"
   ]
  },
  {
   "cell_type": "code",
   "execution_count": 18,
   "id": "d851a7bf",
   "metadata": {},
   "outputs": [],
   "source": [
    "df = df.drop(columns =['Garage Qual_TA', 'Garage Qual_Fa', 'Garage Cond_TA', 'Roof Style_Hip', 'Mas Vnr Type_None', 'Exter Cond_TA', 'Garage Type_Detchd',\n",
    "'MS SubClass', 'Exter Cond_Gd', 'Exterior 1st_VinylSd', 'Bsmt Cond_TA', 'Exterior 1st_Wd Sdng', 'Garage Qual_Gd', 'Exterior 1st_Plywood'   ,\n",
    "'Exterior 2nd_HdBoard', 'Functional_Typ', 'Mas Vnr Type_Stone', 'House Style_1Story', 'BsmtFin Type 2_Unf', 'Garage Cond_Gd',\n",
    "'Neighborhood_Edwards', 'Exterior 2nd_Wd Sdng', 'Garage Type_BuiltIn', 'Exterior 1st_CBlock', 'Bsmt Qual_TA', 'Kitchen Qual_TA'])\n"
   ]
  },
  {
   "cell_type": "code",
   "execution_count": 19,
   "id": "0902bebf",
   "metadata": {},
   "outputs": [
    {
     "name": "stdout",
     "output_type": "stream",
     "text": [
      "const                 2735205.09\n",
      "Exter Qual_TA              15.07\n",
      "Year Built                 13.03\n",
      "Exter Qual_Gd              11.73\n",
      "Gr Liv Area                 9.19\n",
      "Condition 2_Norm            8.55\n",
      "Foundation_PConc            7.63\n",
      "PID                         7.53\n",
      "Neighborhood_NAmes          6.87\n",
      "Foundation_CBlock           6.21\n",
      "Pool Area                   6.00\n",
      "Garage Yr Blt               5.63\n",
      "Fireplaces                  5.43\n",
      "Garage Cars                 5.19\n",
      "Condition 1_Norm            5.19\n",
      "Garage Area                 5.14\n",
      "Total Bsmt SF               4.99\n",
      "Sale Type_WD                4.96\n",
      "TotRms AbvGrd               4.95\n",
      "dtype: float64\n"
     ]
    }
   ],
   "source": [
    "\n",
    "features = df.drop(columns=['SalePrice'])\n",
    "\n",
    "X = add_constant(features)\n",
    "vif = pd.Series([variance_inflation_factor(X.values, i) \n",
    "               for i in range(X.shape[1])], \n",
    "              index=X.columns)\n",
    "vif = vif.sort_values(ascending=False)\n",
    "vif = vif.round(2)\n",
    "\n",
    "print(vif.head(19))"
   ]
  },
  {
   "cell_type": "markdown",
   "id": "f1137620",
   "metadata": {},
   "source": [
    "##### This is interesting.  We got rid of the 'zoning' variables and it looks like that resulted in reduced multicolinearity with neighorhood variables\n",
    "With this done, lets look at the remaining variables"
   ]
  },
  {
   "cell_type": "code",
   "execution_count": 20,
   "id": "6d6bab40",
   "metadata": {},
   "outputs": [],
   "source": [
    "df = df.drop(columns=['Exter Qual_Gd', 'Foundation_PConc', 'Garage Yr Blt', 'Year Remod/Add'])"
   ]
  },
  {
   "cell_type": "code",
   "execution_count": 21,
   "id": "f1c4a1fb",
   "metadata": {},
   "outputs": [
    {
     "name": "stdout",
     "output_type": "stream",
     "text": [
      "const                 2714183.67\n",
      "Year Built                  9.98\n",
      "Gr Liv Area                 9.18\n",
      "Condition 2_Norm            8.54\n",
      "PID                         7.52\n",
      "Neighborhood_NAmes          6.86\n",
      "Pool Area                   5.98\n",
      "Fireplaces                  5.41\n",
      "Condition 1_Norm            5.19\n",
      "dtype: float64\n"
     ]
    }
   ],
   "source": [
    "features = df.drop(columns=['SalePrice'])\n",
    "\n",
    "X = add_constant(features)\n",
    "vif = pd.Series([variance_inflation_factor(X.values, i) \n",
    "               for i in range(X.shape[1])], \n",
    "              index=X.columns)\n",
    "vif = vif.sort_values(ascending=False)\n",
    "vif = vif.round(2)\n",
    "\n",
    "print(vif.head(9))"
   ]
  },
  {
   "cell_type": "markdown",
   "id": "df9418e5",
   "metadata": {},
   "source": [
    "###### ok.  this is good we have eliminated enough variables to keep our VIF below 10 for each remaining variable and have kept our important variables as indicated in our feature importance."
   ]
  },
  {
   "cell_type": "code",
   "execution_count": 22,
   "id": "c16ab167",
   "metadata": {},
   "outputs": [
    {
     "data": {
      "text/html": [
       "<div>\n",
       "<style scoped>\n",
       "    .dataframe tbody tr th:only-of-type {\n",
       "        vertical-align: middle;\n",
       "    }\n",
       "\n",
       "    .dataframe tbody tr th {\n",
       "        vertical-align: top;\n",
       "    }\n",
       "\n",
       "    .dataframe thead th {\n",
       "        text-align: right;\n",
       "    }\n",
       "</style>\n",
       "<table border=\"1\" class=\"dataframe\">\n",
       "  <thead>\n",
       "    <tr style=\"text-align: right;\">\n",
       "      <th></th>\n",
       "      <th>PID</th>\n",
       "      <th>Lot Frontage</th>\n",
       "      <th>Lot Area</th>\n",
       "      <th>Overall Cond</th>\n",
       "      <th>Year Built</th>\n",
       "      <th>Mas Vnr Area</th>\n",
       "      <th>BsmtFin SF 1</th>\n",
       "      <th>Total Bsmt SF</th>\n",
       "      <th>Gr Liv Area</th>\n",
       "      <th>Bsmt Full Bath</th>\n",
       "      <th>...</th>\n",
       "      <th>Sale Type_ConLI</th>\n",
       "      <th>Sale Type_ConLw</th>\n",
       "      <th>Sale Type_New</th>\n",
       "      <th>Sale Type_Oth</th>\n",
       "      <th>Sale Type_VWD</th>\n",
       "      <th>Sale Type_WD</th>\n",
       "      <th>Sale Condition_AdjLand</th>\n",
       "      <th>Sale Condition_Alloca</th>\n",
       "      <th>Sale Condition_Family</th>\n",
       "      <th>Sale Condition_Normal</th>\n",
       "    </tr>\n",
       "  </thead>\n",
       "  <tbody>\n",
       "    <tr>\n",
       "      <th>0</th>\n",
       "      <td>526301100</td>\n",
       "      <td>141.0</td>\n",
       "      <td>31770</td>\n",
       "      <td>5</td>\n",
       "      <td>1960</td>\n",
       "      <td>112.0</td>\n",
       "      <td>639.0</td>\n",
       "      <td>1080.0</td>\n",
       "      <td>1656</td>\n",
       "      <td>1.0</td>\n",
       "      <td>...</td>\n",
       "      <td>0</td>\n",
       "      <td>0</td>\n",
       "      <td>0</td>\n",
       "      <td>0</td>\n",
       "      <td>0</td>\n",
       "      <td>1</td>\n",
       "      <td>0</td>\n",
       "      <td>0</td>\n",
       "      <td>0</td>\n",
       "      <td>1</td>\n",
       "    </tr>\n",
       "    <tr>\n",
       "      <th>1</th>\n",
       "      <td>526350040</td>\n",
       "      <td>80.0</td>\n",
       "      <td>11622</td>\n",
       "      <td>6</td>\n",
       "      <td>1961</td>\n",
       "      <td>0.0</td>\n",
       "      <td>468.0</td>\n",
       "      <td>882.0</td>\n",
       "      <td>896</td>\n",
       "      <td>0.0</td>\n",
       "      <td>...</td>\n",
       "      <td>0</td>\n",
       "      <td>0</td>\n",
       "      <td>0</td>\n",
       "      <td>0</td>\n",
       "      <td>0</td>\n",
       "      <td>1</td>\n",
       "      <td>0</td>\n",
       "      <td>0</td>\n",
       "      <td>0</td>\n",
       "      <td>1</td>\n",
       "    </tr>\n",
       "    <tr>\n",
       "      <th>2</th>\n",
       "      <td>526351010</td>\n",
       "      <td>81.0</td>\n",
       "      <td>14267</td>\n",
       "      <td>6</td>\n",
       "      <td>1958</td>\n",
       "      <td>108.0</td>\n",
       "      <td>923.0</td>\n",
       "      <td>1329.0</td>\n",
       "      <td>1329</td>\n",
       "      <td>0.0</td>\n",
       "      <td>...</td>\n",
       "      <td>0</td>\n",
       "      <td>0</td>\n",
       "      <td>0</td>\n",
       "      <td>0</td>\n",
       "      <td>0</td>\n",
       "      <td>1</td>\n",
       "      <td>0</td>\n",
       "      <td>0</td>\n",
       "      <td>0</td>\n",
       "      <td>1</td>\n",
       "    </tr>\n",
       "    <tr>\n",
       "      <th>3</th>\n",
       "      <td>526353030</td>\n",
       "      <td>93.0</td>\n",
       "      <td>11160</td>\n",
       "      <td>5</td>\n",
       "      <td>1968</td>\n",
       "      <td>0.0</td>\n",
       "      <td>1065.0</td>\n",
       "      <td>2110.0</td>\n",
       "      <td>2110</td>\n",
       "      <td>1.0</td>\n",
       "      <td>...</td>\n",
       "      <td>0</td>\n",
       "      <td>0</td>\n",
       "      <td>0</td>\n",
       "      <td>0</td>\n",
       "      <td>0</td>\n",
       "      <td>1</td>\n",
       "      <td>0</td>\n",
       "      <td>0</td>\n",
       "      <td>0</td>\n",
       "      <td>1</td>\n",
       "    </tr>\n",
       "    <tr>\n",
       "      <th>4</th>\n",
       "      <td>527105010</td>\n",
       "      <td>74.0</td>\n",
       "      <td>13830</td>\n",
       "      <td>5</td>\n",
       "      <td>1997</td>\n",
       "      <td>0.0</td>\n",
       "      <td>791.0</td>\n",
       "      <td>928.0</td>\n",
       "      <td>1629</td>\n",
       "      <td>0.0</td>\n",
       "      <td>...</td>\n",
       "      <td>0</td>\n",
       "      <td>0</td>\n",
       "      <td>0</td>\n",
       "      <td>0</td>\n",
       "      <td>0</td>\n",
       "      <td>1</td>\n",
       "      <td>0</td>\n",
       "      <td>0</td>\n",
       "      <td>0</td>\n",
       "      <td>1</td>\n",
       "    </tr>\n",
       "  </tbody>\n",
       "</table>\n",
       "<p>5 rows × 199 columns</p>\n",
       "</div>"
      ],
      "text/plain": [
       "         PID  Lot Frontage  Lot Area  Overall Cond  Year Built  Mas Vnr Area  \\\n",
       "0  526301100         141.0     31770             5        1960         112.0   \n",
       "1  526350040          80.0     11622             6        1961           0.0   \n",
       "2  526351010          81.0     14267             6        1958         108.0   \n",
       "3  526353030          93.0     11160             5        1968           0.0   \n",
       "4  527105010          74.0     13830             5        1997           0.0   \n",
       "\n",
       "   BsmtFin SF 1  Total Bsmt SF  Gr Liv Area  Bsmt Full Bath  ...  \\\n",
       "0         639.0         1080.0         1656             1.0  ...   \n",
       "1         468.0          882.0          896             0.0  ...   \n",
       "2         923.0         1329.0         1329             0.0  ...   \n",
       "3        1065.0         2110.0         2110             1.0  ...   \n",
       "4         791.0          928.0         1629             0.0  ...   \n",
       "\n",
       "   Sale Type_ConLI  Sale Type_ConLw  Sale Type_New  Sale Type_Oth  \\\n",
       "0                0                0              0              0   \n",
       "1                0                0              0              0   \n",
       "2                0                0              0              0   \n",
       "3                0                0              0              0   \n",
       "4                0                0              0              0   \n",
       "\n",
       "   Sale Type_VWD  Sale Type_WD   Sale Condition_AdjLand  \\\n",
       "0              0              1                       0   \n",
       "1              0              1                       0   \n",
       "2              0              1                       0   \n",
       "3              0              1                       0   \n",
       "4              0              1                       0   \n",
       "\n",
       "   Sale Condition_Alloca  Sale Condition_Family  Sale Condition_Normal  \n",
       "0                      0                      0                      1  \n",
       "1                      0                      0                      1  \n",
       "2                      0                      0                      1  \n",
       "3                      0                      0                      1  \n",
       "4                      0                      0                      1  \n",
       "\n",
       "[5 rows x 199 columns]"
      ]
     },
     "execution_count": 22,
     "metadata": {},
     "output_type": "execute_result"
    }
   ],
   "source": [
    "df.head()"
   ]
  },
  {
   "cell_type": "markdown",
   "id": "971e393e",
   "metadata": {},
   "source": [
    "# Step 5:  Linear Regression Feature Coeficients\n"
   ]
  },
  {
   "cell_type": "markdown",
   "id": "aeeae896",
   "metadata": {},
   "source": [
    "### Step 5 part A:  Evaluate Coefficients WITHOUT scaling (not the best)"
   ]
  },
  {
   "cell_type": "code",
   "execution_count": 23,
   "id": "5c54938d",
   "metadata": {},
   "outputs": [],
   "source": [
    "# Import regression modules\n",
    "import statsmodels.api as sm\n",
    "from statsmodels.formula.api import ols"
   ]
  },
  {
   "cell_type": "code",
   "execution_count": 24,
   "id": "196df08f",
   "metadata": {},
   "outputs": [
    {
     "data": {
      "text/plain": [
       "Pool QC_Gd              331994.124866\n",
       "Pool QC_Fa              188326.499476\n",
       "Pool QC_TA              158684.213611\n",
       "Neighborhood_GrnHill    136051.193859\n",
       "Mas Vnr Type_CBlock      91966.406850\n",
       "Condition 2_PosA         90250.131444\n",
       "Condition 2_PosN         73622.193755\n",
       "Electrical_Mix           70502.849164\n",
       "Neighborhood_StoneBr     68781.758793\n",
       "Functional_Sev           59258.113277\n",
       "Neighborhood_NridgHt     57973.372031\n",
       "Neighborhood_NoRidge     49166.481241\n",
       "Kitchen Qual_Po          46818.007168\n",
       "Neighborhood_NPkVill     44535.190087\n",
       "Exterior 2nd_Other       39625.581074\n",
       "dtype: float64"
      ]
     },
     "execution_count": 24,
     "metadata": {},
     "output_type": "execute_result"
    }
   ],
   "source": [
    " \n",
    "y = df[['SalePrice']]\n",
    "X = df.drop(columns=['SalePrice'])\n",
    "results = sm.OLS(y, X).fit()\n",
    "\n",
    "coefs = results.params\n",
    "coefs = abs(coefs)\n",
    "coefs.sort_values(ascending=False).head(15)"
   ]
  },
  {
   "cell_type": "markdown",
   "id": "cc8ea1e9",
   "metadata": {},
   "source": [
    "##### Ok here we see a list of features with the highest coefficients.  They are not scaled so some features may have outsized impact on our model compared to if they had been scaled."
   ]
  },
  {
   "cell_type": "markdown",
   "id": "369cd06c",
   "metadata": {},
   "source": [
    "### Step 5 part B:  Evaluate Coefficients WITH scaling (better)"
   ]
  },
  {
   "cell_type": "code",
   "execution_count": 25,
   "id": "04d8f3a4",
   "metadata": {},
   "outputs": [],
   "source": [
    "scaler = RobustScaler()\n",
    "scaler.fit(df)\n",
    "df_scaled = scaler.transform(df)\n",
    "scaled_features_df = pd.DataFrame(df_scaled, index=df.index, columns=df.columns)"
   ]
  },
  {
   "cell_type": "code",
   "execution_count": 26,
   "id": "013328eb",
   "metadata": {},
   "outputs": [],
   "source": [
    "#note I am not scaling the dependent variable\n",
    "y = df[['SalePrice']]\n",
    "X = scaled_features_df.drop(columns=['SalePrice'])\n",
    "results = sm.OLS(y, X).fit()\n",
    "#print(results.summary())\n",
    "coefs = results.params\n",
    "coefs = abs(coefs)\n"
   ]
  },
  {
   "cell_type": "markdown",
   "id": "7cc5e8c0",
   "metadata": {},
   "source": [
    "##### Ok.  Well this is fascinating.  We have scaled our data and extracted the coefficients from an ordinary least squares regression.  Given the data is standardized the coefficients should be a reflection of the relative impact of the feature on the sales price.  What is interesting is that we do NOT see the same features as important when we compare this list to the list of important variables generated from the Random Forest Feature Importance we did earlier. "
   ]
  },
  {
   "cell_type": "code",
   "execution_count": 27,
   "id": "d410abbd",
   "metadata": {},
   "outputs": [
    {
     "name": "stdout",
     "output_type": "stream",
     "text": [
      "                                 OLS Regression Results                                \n",
      "=======================================================================================\n",
      "Dep. Variable:              SalePrice   R-squared (uncentered):                   0.974\n",
      "Model:                            OLS   Adj. R-squared (uncentered):              0.972\n",
      "Method:                 Least Squares   F-statistic:                              495.5\n",
      "Date:                Sun, 19 Jun 2022   Prob (F-statistic):                        0.00\n",
      "Time:                        23:07:39   Log-Likelihood:                         -32416.\n",
      "No. Observations:                2747   AIC:                                  6.522e+04\n",
      "Df Residuals:                    2552   BIC:                                  6.638e+04\n",
      "Df Model:                         195                                                  \n",
      "Covariance Type:            nonrobust                                                  \n",
      "==========================================================================================\n",
      "                             coef    std err          t      P>|t|      [0.025      0.975]\n",
      "------------------------------------------------------------------------------------------\n",
      "PID                     4.719e+04   3087.198     15.287      0.000    4.11e+04    5.32e+04\n",
      "Lot Frontage           -1162.6968    863.905     -1.346      0.178   -2856.724     531.330\n",
      "Lot Area                1945.0793    501.950      3.875      0.000     960.809    2929.350\n",
      "Overall Cond            1.028e+04    795.654     12.925      0.000    8723.842    1.18e+04\n",
      "Year Built              2.545e+04   3152.066      8.074      0.000    1.93e+04    3.16e+04\n",
      "Mas Vnr Area            3801.2217    940.625      4.041      0.000    1956.755    5645.688\n",
      "BsmtFin SF 1            1.071e+04   2109.214      5.080      0.000    6578.215    1.49e+04\n",
      "Total Bsmt SF           1.097e+04   1651.814      6.639      0.000    7727.067    1.42e+04\n",
      "Gr Liv Area             2.634e+04   2351.779     11.198      0.000    2.17e+04    3.09e+04\n",
      "Bsmt Full Bath          1.105e+04   1907.842      5.790      0.000    7305.616    1.48e+04\n",
      "Bsmt Half Bath          1293.4859   2964.008      0.436      0.663   -4518.619    7105.591\n",
      "Full Bath               1722.3510   2195.417      0.785      0.433   -2582.629    6027.331\n",
      "Half Bath               7042.0388   2066.080      3.408      0.001    2990.675    1.11e+04\n",
      "Bedroom AbvGr          -5683.7543   1365.926     -4.161      0.000   -8362.190   -3005.318\n",
      "Kitchen AbvGr           -2.15e+04   7461.729     -2.881      0.004   -3.61e+04   -6867.550\n",
      "TotRms AbvGrd           1.045e+04   1823.020      5.733      0.000    6876.037     1.4e+04\n",
      "Fireplaces             -1.502e+04   2126.505     -7.063      0.000   -1.92e+04   -1.08e+04\n",
      "Garage Cars             4275.9692   2222.955      1.924      0.055     -83.010    8634.949\n",
      "Garage Area             3602.4676   1650.099      2.183      0.029     366.798    6838.137\n",
      "Wood Deck SF            5847.4924    986.500      5.928      0.000    3913.071    7781.913\n",
      "Open Porch SF           -277.3935    836.706     -0.332      0.740   -1918.086    1363.299\n",
      "Enclosed Porch            16.1235     12.011      1.342      0.180      -7.429      39.676\n",
      "3Ssn Porch                10.8239     26.292      0.412      0.681     -40.732      62.379\n",
      "Screen Porch              79.0309     12.014      6.578      0.000      55.472     102.590\n",
      "Pool Area                380.0254     42.472      8.948      0.000     296.743     463.308\n",
      "Misc Val                  -7.3858      1.202     -6.145      0.000      -9.743      -5.029\n",
      "Mo Sold                -1657.9642    997.352     -1.662      0.097   -3613.665     297.736\n",
      "Yr Sold                -1305.6453   1040.510     -1.255      0.210   -3345.975     734.684\n",
      "Street_Pave             4.253e+04   1.29e+04      3.287      0.001    1.72e+04    6.79e+04\n",
      "Alley_Pave             -6971.7655   4844.600     -1.439      0.150   -1.65e+04    2527.981\n",
      "Lot Shape_IR2           1.071e+04   4305.133      2.487      0.013    2266.355    1.92e+04\n",
      "Lot Shape_IR3           -2.38e+04   9576.556     -2.486      0.013   -4.26e+04   -5025.779\n",
      "Lot Shape_Reg           -963.7004   1649.390     -0.584      0.559   -4197.979    2270.579\n",
      "Land Contour_HLS        1.859e+04   5136.952      3.619      0.000    8519.118    2.87e+04\n",
      "Land Contour_Low        2309.9458   6642.306      0.348      0.728   -1.07e+04    1.53e+04\n",
      "Land Contour_Lvl         1.12e+04   3836.468      2.918      0.004    3672.287    1.87e+04\n",
      "Lot Config_CulDSac      1792.6301   3380.591      0.530      0.596   -4836.351    8421.611\n",
      "Lot Config_FR2         -9589.1792   4356.511     -2.201      0.028   -1.81e+04   -1046.524\n",
      "Lot Config_FR3         -1.498e+04   9716.761     -1.542      0.123    -3.4e+04    4074.673\n",
      "Lot Config_Inside      -4502.4062   1859.114     -2.422      0.016   -8147.931    -856.881\n",
      "Land Slope_Mod          1543.1102   4056.937      0.380      0.704   -6412.114    9498.334\n",
      "Land Slope_Sev         -6868.6064   1.16e+04     -0.590      0.555   -2.97e+04    1.59e+04\n",
      "Neighborhood_Blueste    3.702e+04   1.19e+04      3.124      0.002    1.38e+04    6.03e+04\n",
      "Neighborhood_BrDale     8.553e+04   8856.600      9.657      0.000    6.82e+04    1.03e+05\n",
      "Neighborhood_BrkSide    4.914e+04   4915.767      9.996      0.000    3.95e+04    5.88e+04\n",
      "Neighborhood_ClearCr    3.791e+04   6526.267      5.809      0.000    2.51e+04    5.07e+04\n",
      "Neighborhood_CollgCr     4.19e+04   3997.417     10.483      0.000    3.41e+04    4.97e+04\n",
      "Neighborhood_Crawfor    6.006e+04   4674.425     12.849      0.000    5.09e+04    6.92e+04\n",
      "Neighborhood_Gilbert    9.191e+04   4692.705     19.586      0.000    8.27e+04    1.01e+05\n",
      "Neighborhood_Greens     9.452e+04   1.35e+04      7.004      0.000    6.81e+04    1.21e+05\n",
      "Neighborhood_GrnHill    1.519e+05   2.44e+04      6.229      0.000    1.04e+05       2e+05\n",
      "Neighborhood_IDOTRR     3.562e+04   5453.596      6.531      0.000    2.49e+04    4.63e+04\n",
      "Neighborhood_Landmrk     6.52e+04   3.43e+04      1.902      0.057   -2029.692    1.32e+05\n",
      "Neighborhood_MeadowV    2.247e+04   9144.936      2.458      0.014    4542.741    4.04e+04\n",
      "Neighborhood_Mitchel    3.846e+04   4474.670      8.596      0.000    2.97e+04    4.72e+04\n",
      "Neighborhood_NAmes       8.02e+04   3788.960     21.167      0.000    7.28e+04    8.76e+04\n",
      "Neighborhood_NPkVill    1.216e+05   1.45e+04      8.414      0.000    9.33e+04     1.5e+05\n",
      "Neighborhood_NWAmes      8.25e+04   4803.062     17.177      0.000    7.31e+04    9.19e+04\n",
      "Neighborhood_NoRidge    1.282e+05   6102.025     21.003      0.000    1.16e+05     1.4e+05\n",
      "Neighborhood_NridgHt    1.365e+05   4718.029     28.926      0.000    1.27e+05    1.46e+05\n",
      "Neighborhood_OldTown    4.292e+04   4180.019     10.269      0.000    3.47e+04    5.11e+04\n",
      "Neighborhood_SWISU      4.383e+04   6617.677      6.622      0.000    3.08e+04    5.68e+04\n",
      "Neighborhood_Sawyer     4.828e+04   4039.345     11.953      0.000    4.04e+04    5.62e+04\n",
      "Neighborhood_SawyerW     6.79e+04   4489.466     15.125      0.000    5.91e+04    7.67e+04\n",
      "Neighborhood_Somerst    1.125e+05   4727.657     23.794      0.000    1.03e+05    1.22e+05\n",
      "Neighborhood_StoneBr    1.393e+05   6341.556     21.968      0.000    1.27e+05    1.52e+05\n",
      "Neighborhood_Timber     4.644e+04   5325.159      8.722      0.000     3.6e+04    5.69e+04\n",
      "Neighborhood_Veenker    8.527e+04   8323.502     10.244      0.000    6.89e+04    1.02e+05\n",
      "Condition 1_Feedr       1530.3830   5176.152      0.296      0.768   -8619.503    1.17e+04\n",
      "Condition 1_Norm        1.099e+04   4258.955      2.581      0.010    2639.868    1.93e+04\n",
      "Condition 1_PosA        4596.7459   9277.411      0.495      0.620   -1.36e+04    2.28e+04\n",
      "Condition 1_PosN        2.758e+04   7305.689      3.775      0.000    1.33e+04    4.19e+04\n",
      "Condition 1_RRAe        3.047e+04   8627.257      3.532      0.000    1.36e+04    4.74e+04\n",
      "Condition 1_RRAn        9728.2038   7020.803      1.386      0.166   -4038.847    2.35e+04\n",
      "Condition 1_RRNe        1.689e+04   1.51e+04      1.122      0.262   -1.26e+04    4.64e+04\n",
      "Condition 1_RRNn         320.9585   1.26e+04      0.026      0.980   -2.43e+04     2.5e+04\n",
      "Condition 2_Feedr      -1.479e+04   2.07e+04     -0.715      0.475   -5.54e+04    2.58e+04\n",
      "Condition 2_Norm       -1.295e+04   1.86e+04     -0.697      0.486   -4.94e+04    2.35e+04\n",
      "Condition 2_PosA        7.675e+04   2.61e+04      2.937      0.003    2.55e+04    1.28e+05\n",
      "Condition 2_PosN       -9.271e+04    2.6e+04     -3.568      0.000   -1.44e+05   -4.18e+04\n",
      "Condition 2_RRAe        3.064e+04   4.62e+04      0.664      0.507   -5.99e+04    1.21e+05\n",
      "Condition 2_RRAn        -2.59e+04   3.91e+04     -0.662      0.508   -1.03e+05    5.09e+04\n",
      "Condition 2_RRNn       -2.238e+04   3.08e+04     -0.726      0.468   -8.28e+04    3.81e+04\n",
      "Bldg Type_2fmCon       -1.555e+04   6255.754     -2.485      0.013   -2.78e+04   -3280.216\n",
      "Bldg Type_Duplex        -1.75e+04   8142.483     -2.149      0.032   -3.35e+04   -1535.267\n",
      "Bldg Type_Twnhs        -3.001e+04   5568.493     -5.390      0.000   -4.09e+04   -1.91e+04\n",
      "Bldg Type_TwnhsE       -7610.5341   3503.576     -2.172      0.030   -1.45e+04    -740.394\n",
      "House Style_1.5Unf      9063.5677   9433.101      0.961      0.337   -9433.743    2.76e+04\n",
      "House Style_2.5Fin       1.39e+04    1.5e+04      0.928      0.353   -1.55e+04    4.33e+04\n",
      "House Style_2.5Unf      7891.6940   8220.584      0.960      0.337   -8227.999     2.4e+04\n",
      "House Style_2Story       585.3506   2654.247      0.221      0.825   -4619.346    5790.047\n",
      "House Style_SFoyer     -1.084e+04   5007.830     -2.165      0.031   -2.07e+04   -1020.347\n",
      "House Style_SLvl       -7564.9115   3674.748     -2.059      0.040   -1.48e+04    -359.121\n",
      "Roof Style_Gable       -9432.8890   1894.857     -4.978      0.000   -1.31e+04   -5717.276\n",
      "Roof Style_Gambrel     -1.277e+04   8323.333     -1.535      0.125   -2.91e+04    3546.717\n",
      "Roof Style_Mansard      -3.43e+04   1.23e+04     -2.795      0.005   -5.84e+04   -1.02e+04\n",
      "Roof Style_Shed         1.058e+04   2.15e+04      0.492      0.623   -3.16e+04    5.27e+04\n",
      "Exterior 1st_AsphShn    3.621e-11   6.91e-11      0.524      0.600   -9.93e-11    1.72e-10\n",
      "Exterior 1st_BrkComm    8290.0896   1.76e+04      0.470      0.638   -2.63e+04    4.29e+04\n",
      "Exterior 1st_BrkFace    3.002e+04   5556.859      5.402      0.000    1.91e+04    4.09e+04\n",
      "Exterior 1st_CemntBd    8387.4383   4181.700      2.006      0.045     187.569    1.66e+04\n",
      "Exterior 1st_HdBoard    -801.3488   2180.274     -0.368      0.713   -5076.636    3473.938\n",
      "Exterior 1st_ImStucc   -7500.6478   3.54e+04     -0.212      0.832    -7.7e+04     6.2e+04\n",
      "Exterior 1st_MetalSd    4032.5918   2116.511      1.905      0.057    -117.662    8182.846\n",
      "Exterior 1st_PreCast    7.294e-11   9.05e-11      0.806      0.420   -1.05e-10     2.5e-10\n",
      "Exterior 1st_Stone      1.328e+04   2.64e+04      0.503      0.615   -3.85e+04     6.5e+04\n",
      "Exterior 1st_Stucco     -470.3249   8448.478     -0.056      0.956    -1.7e+04    1.61e+04\n",
      "Exterior 1st_WdShing    9434.9070   6553.400      1.440      0.150   -3415.616    2.23e+04\n",
      "Exterior 2nd_AsphShn    1.421e+04   2.53e+04      0.561      0.575   -3.55e+04    6.39e+04\n",
      "Exterior 2nd_Brk Cmn   -2104.8610   1.54e+04     -0.136      0.891   -3.24e+04    2.81e+04\n",
      "Exterior 2nd_BrkFace   -1.117e+04   7388.042     -1.511      0.131   -2.57e+04    3320.490\n",
      "Exterior 2nd_CBlock     7.776e+04   3.56e+04      2.182      0.029    7889.906    1.48e+05\n",
      "Exterior 2nd_ImStucc    9583.0105   9517.012      1.007      0.314   -9078.841    2.82e+04\n",
      "Exterior 2nd_Other      -4.71e+04   3.43e+04     -1.374      0.169   -1.14e+05    2.01e+04\n",
      "Exterior 2nd_Plywood    2920.8230   2644.103      1.105      0.269   -2263.983    8105.630\n",
      "Exterior 2nd_PreCast   -3.072e-10   6.79e-11     -4.523      0.000    -4.4e-10   -1.74e-10\n",
      "Exterior 2nd_Stone      5205.7386   1.75e+04      0.297      0.767   -2.92e+04    3.96e+04\n",
      "Exterior 2nd_Stucco    -2410.8108   8162.687     -0.295      0.768   -1.84e+04    1.36e+04\n",
      "Exterior 2nd_Wd Shng   -2294.0661   5490.126     -0.418      0.676   -1.31e+04    8471.489\n",
      "Mas Vnr Type_BrkFace    2682.1399   1903.404      1.409      0.159   -1050.233    6414.513\n",
      "Mas Vnr Type_CBlock    -8.479e+04    4.1e+04     -2.066      0.039   -1.65e+05   -4308.726\n",
      "Exter Qual_Fa          -1.781e+04      1e+04     -1.779      0.075   -3.74e+04    1824.532\n",
      "Exter Qual_TA          -1.957e+04   2468.764     -7.926      0.000   -2.44e+04   -1.47e+04\n",
      "Exter Cond_Fa          -1352.6583   5703.464     -0.237      0.813   -1.25e+04    9831.230\n",
      "Exter Cond_Po           2489.5844   2.96e+04      0.084      0.933   -5.56e+04    6.06e+04\n",
      "Foundation_CBlock       9849.3627   2171.867      4.535      0.000    5590.562    1.41e+04\n",
      "Foundation_Slab         3.282e+04   7465.233      4.397      0.000    1.82e+04    4.75e+04\n",
      "Foundation_Stone        1.731e+04   1.18e+04      1.469      0.142   -5800.557    4.04e+04\n",
      "Foundation_Wood        -9196.2551   1.57e+04     -0.586      0.558   -3.99e+04    2.16e+04\n",
      "Bsmt Qual_Fa            5546.4176   4576.521      1.212      0.226   -3427.655    1.45e+04\n",
      "Bsmt Qual_Gd           -4166.1766   2012.831     -2.070      0.039   -8113.125    -219.228\n",
      "Bsmt Qual_Po           -1.293e+04   2.74e+04     -0.472      0.637   -6.67e+04    4.08e+04\n",
      "Bsmt Cond_Fa            4521.7019   4118.340      1.098      0.272   -3553.926    1.26e+04\n",
      "Bsmt Cond_Gd            2343.8684   3340.283      0.702      0.483   -4206.073    8893.810\n",
      "Bsmt Cond_Po           -2.366e+04   3.48e+04     -0.680      0.496   -9.18e+04    4.45e+04\n",
      "Bsmt Exposure_Gd        1.736e+04   2978.741      5.828      0.000    1.15e+04    2.32e+04\n",
      "Bsmt Exposure_Mn       -9643.8689   2982.406     -3.234      0.001   -1.55e+04   -3795.688\n",
      "Bsmt Exposure_No       -1.482e+04   2167.044     -6.837      0.000   -1.91e+04   -1.06e+04\n",
      "BsmtFin Type 1_BLQ      1.879e+04   2785.159      6.748      0.000    1.33e+04    2.43e+04\n",
      "BsmtFin Type 1_GLQ       2.55e+04   2458.412     10.374      0.000    2.07e+04    3.03e+04\n",
      "BsmtFin Type 1_LwQ      1.645e+04   3493.432      4.708      0.000    9595.190    2.33e+04\n",
      "BsmtFin Type 1_Rec      1.759e+04   2798.939      6.284      0.000    1.21e+04    2.31e+04\n",
      "BsmtFin Type 1_Unf      2.619e+04   2729.327      9.596      0.000    2.08e+04    3.15e+04\n",
      "BsmtFin Type 2_BLQ      5817.7233   4474.401      1.300      0.194   -2956.102    1.46e+04\n",
      "BsmtFin Type 2_GLQ      1.519e+04   6752.291      2.250      0.025    1953.955    2.84e+04\n",
      "BsmtFin Type 2_LwQ     -4598.4569   3919.673     -1.173      0.241   -1.23e+04    3087.607\n",
      "BsmtFin Type 2_Rec      1276.6791   3763.465      0.339      0.734   -6103.077    8656.435\n",
      "Heating QC_Fa           -202.7290   4638.823     -0.044      0.965   -9298.969    8893.511\n",
      "Heating QC_Gd            916.7812   2109.044      0.435      0.664   -3218.830    5052.393\n",
      "Heating QC_Po          -4.564e+04   2.39e+04     -1.907      0.057   -9.26e+04    1284.160\n",
      "Heating QC_TA           1156.3001   2048.234      0.565      0.572   -2860.070    5172.670\n",
      "Central Air_Y          -3881.5850   3880.733     -1.000      0.317   -1.15e+04    3728.121\n",
      "Electrical_FuseF        1929.5690   6577.839      0.293      0.769    -1.1e+04    1.48e+04\n",
      "Electrical_FuseP        1376.8661   1.66e+04      0.083      0.934   -3.11e+04    3.39e+04\n",
      "Electrical_Mix           3.25e+04   5.45e+04      0.596      0.551   -7.44e+04    1.39e+05\n",
      "Electrical_SBrkr       -2604.0946   3011.094     -0.865      0.387   -8508.530    3300.341\n",
      "Kitchen Qual_Fa          131.8733   5454.482      0.024      0.981   -1.06e+04    1.08e+04\n",
      "Kitchen Qual_Gd        -3126.6370   1829.120     -1.709      0.088   -6713.348     460.074\n",
      "Kitchen Qual_Po         3.263e+04   3.58e+04      0.912      0.362   -3.76e+04    1.03e+05\n",
      "Functional_Maj2        -4318.1267   1.44e+04     -0.299      0.765   -3.26e+04     2.4e+04\n",
      "Functional_Min1        -8364.9814   4615.581     -1.812      0.070   -1.74e+04     685.683\n",
      "Functional_Min2        -4712.2519   4581.426     -1.029      0.304   -1.37e+04    4271.438\n",
      "Functional_Mod         -5329.0229   6510.098     -0.819      0.413   -1.81e+04    7436.588\n",
      "Functional_Sal         -1.337e+04   3.11e+04     -0.430      0.667   -7.43e+04    4.76e+04\n",
      "Functional_Sev         -6.361e+04   3.61e+04     -1.762      0.078   -1.34e+05    7186.909\n",
      "Fireplace Qu_Fa         1.621e+04   4828.213      3.358      0.001    6744.016    2.57e+04\n",
      "Fireplace Qu_Gd         2.584e+04   2799.855      9.230      0.000    2.04e+04    3.13e+04\n",
      "Fireplace Qu_Po         2.076e+04   5804.459      3.576      0.000    9374.827    3.21e+04\n",
      "Fireplace Qu_TA         2.411e+04   2957.940      8.152      0.000    1.83e+04    2.99e+04\n",
      "Garage Type_Attchd     -5892.8647   1861.166     -3.166      0.002   -9542.414   -2243.316\n",
      "Garage Type_Basment     8746.1399   6274.891      1.394      0.163   -3558.257    2.11e+04\n",
      "Garage Type_CarPort    -9754.4632   9667.073     -1.009      0.313   -2.87e+04    9201.643\n",
      "Garage Finish_RFn       3109.0065   1935.961      1.606      0.108    -687.209    6905.222\n",
      "Garage Finish_Unf       1.083e+04   2251.877      4.810      0.000    6416.158    1.52e+04\n",
      "Garage Qual_Po          4369.2028   2.12e+04      0.206      0.837   -3.72e+04    4.59e+04\n",
      "Garage Cond_Fa           732.6981   4694.022      0.156      0.876   -8471.782    9937.178\n",
      "Garage Cond_Po         -1.013e+04   1.16e+04     -0.871      0.384   -3.29e+04    1.27e+04\n",
      "Paved Drive_P           -419.6799   5518.895     -0.076      0.939   -1.12e+04    1.04e+04\n",
      "Paved Drive_Y          -4629.4570   3677.481     -1.259      0.208   -1.18e+04    2581.694\n",
      "Pool QC_Fa             -2.122e+05   3.48e+04     -6.103      0.000    -2.8e+05   -1.44e+05\n",
      "Pool QC_Gd             -3.325e+05   3.25e+04    -10.240      0.000   -3.96e+05   -2.69e+05\n",
      "Pool QC_TA             -1.773e+05   2.79e+04     -6.350      0.000   -2.32e+05   -1.23e+05\n",
      "Fence_GdWo              4583.5979   3555.934      1.289      0.198   -2389.211    1.16e+04\n",
      "Fence_MnPrv             5222.1867   2227.627      2.344      0.019     854.046    9590.328\n",
      "Fence_MnWw             -3376.1756      1e+04     -0.337      0.736    -2.3e+04    1.63e+04\n",
      "Sale Type_CWD           5375.2148   1.08e+04      0.500      0.617   -1.57e+04    2.65e+04\n",
      "Sale Type_Con           3.745e+04   1.59e+04      2.359      0.018    6316.875    6.86e+04\n",
      "Sale Type_ConLD         1.969e+04   8732.666      2.255      0.024    2569.876    3.68e+04\n",
      "Sale Type_ConLI        -2999.9980   1.29e+04     -0.232      0.816   -2.83e+04    2.23e+04\n",
      "Sale Type_ConLw        -5614.7343   1.37e+04     -0.409      0.683   -3.26e+04    2.13e+04\n",
      "Sale Type_New           2.292e+04   5107.427      4.487      0.000    1.29e+04    3.29e+04\n",
      "Sale Type_Oth            2.92e+04   1.75e+04      1.671      0.095   -5074.624    6.35e+04\n",
      "Sale Type_VWD          -1.881e+04   3.46e+04     -0.543      0.587   -8.67e+04    4.91e+04\n",
      "Sale Type_WD            -514.5884   4167.275     -0.123      0.902   -8686.172    7656.996\n",
      "Sale Condition_AdjLand  2.922e+04   1.48e+04      1.976      0.048     216.698    5.82e+04\n",
      "Sale Condition_Alloca   5525.0601   9231.944      0.598      0.550   -1.26e+04    2.36e+04\n",
      "Sale Condition_Family   4644.3532   5914.199      0.785      0.432   -6952.764    1.62e+04\n",
      "Sale Condition_Normal   5151.1707   3061.118      1.683      0.093    -851.357    1.12e+04\n",
      "==============================================================================\n",
      "Omnibus:                      510.985   Durbin-Watson:                   1.569\n",
      "Prob(Omnibus):                  0.000   Jarque-Bera (JB):            13381.122\n",
      "Skew:                          -0.010   Prob(JB):                         0.00\n",
      "Kurtosis:                      13.812   Cond. No.                     5.96e+18\n",
      "==============================================================================\n",
      "\n",
      "Notes:\n",
      "[1] R² is computed without centering (uncentered) since the model does not contain a constant.\n",
      "[2] Standard Errors assume that the covariance matrix of the errors is correctly specified.\n",
      "[3] The smallest eigenvalue is 2.61e-29. This might indicate that there are\n",
      "strong multicollinearity problems or that the design matrix is singular.\n"
     ]
    }
   ],
   "source": [
    "print(results.summary())"
   ]
  },
  {
   "cell_type": "code",
   "execution_count": 28,
   "id": "2d593e03",
   "metadata": {},
   "outputs": [],
   "source": [
    "y_pred = results.fittedvalues"
   ]
  },
  {
   "cell_type": "code",
   "execution_count": 29,
   "id": "8a6abb3c",
   "metadata": {},
   "outputs": [
    {
     "data": {
      "text/plain": [
       "Text(0.5, 1.0, 'Relationship between predicted and actual Price')"
      ]
     },
     "execution_count": 29,
     "metadata": {},
     "output_type": "execute_result"
    },
    {
     "data": {
      "image/png": "[encoded data removed]",
      "text/plain": [
       "<Figure size 432x288 with 1 Axes>"
      ]
     },
     "metadata": {
      "needs_background": "light"
     },
     "output_type": "display_data"
    }
   ],
   "source": [
    "plt.scatter(y_pred, y)\n",
    "plt.xlabel(\"predicted price\")\n",
    "plt.ylabel(\"Housing Price\")\n",
    "plt.title(\"Relationship between predicted and actual Price\")"
   ]
  },
  {
   "cell_type": "code",
   "execution_count": 30,
   "id": "6ee55911",
   "metadata": {},
   "outputs": [],
   "source": [
    "coefs = pd.DataFrame(coefs)"
   ]
  },
  {
   "cell_type": "code",
   "execution_count": 31,
   "id": "27d4c9a9",
   "metadata": {},
   "outputs": [],
   "source": [
    "results.bse\n",
    "std_err = pd.DataFrame(results.bse)"
   ]
  },
  {
   "cell_type": "code",
   "execution_count": 32,
   "id": "ce9f35bc",
   "metadata": {},
   "outputs": [
    {
     "data": {
      "text/html": [
       "<div>\n",
       "<style scoped>\n",
       "    .dataframe tbody tr th:only-of-type {\n",
       "        vertical-align: middle;\n",
       "    }\n",
       "\n",
       "    .dataframe tbody tr th {\n",
       "        vertical-align: top;\n",
       "    }\n",
       "\n",
       "    .dataframe thead th {\n",
       "        text-align: right;\n",
       "    }\n",
       "</style>\n",
       "<table border=\"1\" class=\"dataframe\">\n",
       "  <thead>\n",
       "    <tr style=\"text-align: right;\">\n",
       "      <th></th>\n",
       "      <th>One</th>\n",
       "      <th>Coefs</th>\n",
       "      <th>BSE</th>\n",
       "    </tr>\n",
       "  </thead>\n",
       "  <tbody>\n",
       "    <tr>\n",
       "      <th>PID</th>\n",
       "      <td>47193.985920</td>\n",
       "      <td>47193.985920</td>\n",
       "      <td>3087.197760</td>\n",
       "    </tr>\n",
       "    <tr>\n",
       "      <th>Lot Frontage</th>\n",
       "      <td>1162.696768</td>\n",
       "      <td>1162.696768</td>\n",
       "      <td>863.905472</td>\n",
       "    </tr>\n",
       "    <tr>\n",
       "      <th>Lot Area</th>\n",
       "      <td>1945.079333</td>\n",
       "      <td>1945.079333</td>\n",
       "      <td>501.949741</td>\n",
       "    </tr>\n",
       "  </tbody>\n",
       "</table>\n",
       "</div>"
      ],
      "text/plain": [
       "                       One         Coefs          BSE\n",
       "PID           47193.985920  47193.985920  3087.197760\n",
       "Lot Frontage   1162.696768   1162.696768   863.905472\n",
       "Lot Area       1945.079333   1945.079333   501.949741"
      ]
     },
     "execution_count": 32,
     "metadata": {},
     "output_type": "execute_result"
    }
   ],
   "source": [
    "matrix = pd.concat([coefs, coefs, std_err], axis = 1)\n",
    "matrix.columns = ['One', 'Coefs', 'BSE']\n",
    "matrix.head(3)"
   ]
  },
  {
   "cell_type": "code",
   "execution_count": 33,
   "id": "972d34ed",
   "metadata": {},
   "outputs": [],
   "source": [
    "matrix = matrix.sort_values(by = 'Coefs', ascending = False)\n",
    "matrix = matrix.head(20)"
   ]
  },
  {
   "cell_type": "code",
   "execution_count": 34,
   "id": "2d4b45d1",
   "metadata": {},
   "outputs": [
    {
     "name": "stderr",
     "output_type": "stream",
     "text": [
      "C:\\Users\\BETH&A~1\\AppData\\Local\\Temp/ipykernel_4660/3007281566.py:8: UserWarning: FixedFormatter should only be used together with FixedLocator\n",
      "  ax.set_xticklabels(matrix.index, rotation = 90)\n"
     ]
    },
    {
     "data": {
      "image/png": "[encoded data removed]",
      "text/plain": [
       "<Figure size 864x576 with 1 Axes>"
      ]
     },
     "metadata": {
      "needs_background": "light"
     },
     "output_type": "display_data"
    }
   ],
   "source": [
    "fig, ax = plt.subplots()\n",
    "fig.set_figwidth(12)\n",
    "fig.set_figheight(8)\n",
    "ax.bar(matrix.index, matrix['Coefs'], yerr=matrix['BSE'], align='center', alpha=0.5, ecolor='black', capsize=10)\n",
    "ax.set_ylabel('Feature Impact')\n",
    "ax.set_title('Impact of Select Features on Price per OLS model')\n",
    "ax.yaxis.grid(True)\n",
    "ax.set_xticklabels(matrix.index, rotation = 90)\n",
    "#plt.tight_layout()\n",
    "\n",
    "plt.show()"
   ]
  },
  {
   "cell_type": "markdown",
   "id": "b0dce0e0",
   "metadata": {},
   "source": [
    "#### The above graph should represent the top 20 features in terms of their importance in predicting the Sales Price. These are not consistent with what we saw previously with the Random Forest Feature Importance.  Nor do they seem logically like the best variables.  I think we should look at a second method SHAP importance to see how that shakes out."
   ]
  },
  {
   "cell_type": "markdown",
   "id": "305611d7",
   "metadata": {},
   "source": [
    "# Step 6:  SHAP Feature Importance"
   ]
  },
  {
   "cell_type": "code",
   "execution_count": 35,
   "id": "e65ae0ef",
   "metadata": {},
   "outputs": [],
   "source": [
    "import shap\n",
    "from xgboost.sklearn import XGBRegressor"
   ]
  },
  {
   "cell_type": "code",
   "execution_count": 36,
   "id": "04ec0951",
   "metadata": {},
   "outputs": [
    {
     "data": {
      "text/plain": [
       "XGBRegressor(base_score=0.5, booster='gbtree', colsample_bylevel=1,\n",
       "             colsample_bynode=1, colsample_bytree=1, enable_categorical=False,\n",
       "             gamma=0, gpu_id=-1, importance_type=None,\n",
       "             interaction_constraints='', learning_rate=0.001, max_delta_step=0,\n",
       "             max_depth=10, min_child_weight=1, missing=nan,\n",
       "             monotone_constraints='()', n_estimators=1000, n_jobs=4,\n",
       "             num_parallel_tree=1, predictor='auto', random_state=0, reg_alpha=0,\n",
       "             reg_lambda=1, scale_pos_weight=1, subsample=1, tree_method='exact',\n",
       "             validate_parameters=1, verbosity=None)"
      ]
     },
     "execution_count": 36,
     "metadata": {},
     "output_type": "execute_result"
    }
   ],
   "source": [
    "model = XGBRegressor(n_estimators=1000, max_depth=10, learning_rate=0.001)\n",
    "y = df[['SalePrice']]\n",
    "X = scaled_features_df.drop(columns=['SalePrice'])\n",
    "# Fit the Model\n",
    "model.fit(X, y)"
   ]
  },
  {
   "cell_type": "code",
   "execution_count": 37,
   "id": "a1ca7aee",
   "metadata": {},
   "outputs": [
    {
     "name": "stderr",
     "output_type": "stream",
     "text": [
      "ntree_limit is deprecated, use `iteration_range` or model slicing instead.\n"
     ]
    },
    {
     "data": {
      "image/png": "[encoded data removed]",
      "text/plain": [
       "<Figure size 576x684 with 2 Axes>"
      ]
     },
     "metadata": {
      "needs_background": "light"
     },
     "output_type": "display_data"
    }
   ],
   "source": [
    "explainer = shap.TreeExplainer(model)\n",
    "shap_values = explainer.shap_values(X)\n",
    "\n",
    "shap.summary_plot(shap_values, features=X, feature_names=X.columns)"
   ]
  },
  {
   "cell_type": "code",
   "execution_count": 38,
   "id": "6219e106",
   "metadata": {},
   "outputs": [],
   "source": [
    "key_features = ['Gr Liv Area', 'Garage Cars', 'Year Built', 'Total Bsmt SF', 'Exter Qual_TA', 'BsmtFin SF 1', 'Lot Area', 'Overall Cond', 'PID', 'Fireplaces', 'Bsmt Qual_Gd', 'Garage Area', 'Garage Finish_Unf', 'Lot Frontage', 'Mas Vnr Area', 'Open Porch SF', 'Fireplace Qu_Gd', 'Wood Deck SF', 'Central Air_Y', 'Bsmt Exposure_Gd']\n"
   ]
  },
  {
   "cell_type": "code",
   "execution_count": 39,
   "id": "eac9c0e2",
   "metadata": {},
   "outputs": [],
   "source": [
    "##### Note here:  These features seem more consistent with the Random Forest Feature Importance that we did earlier. "
   ]
  },
  {
   "cell_type": "markdown",
   "id": "5a615b01",
   "metadata": {},
   "source": [
    "# Step 7: Train - Test Split"
   ]
  },
  {
   "cell_type": "code",
   "execution_count": 40,
   "id": "7c6a4def",
   "metadata": {},
   "outputs": [
    {
     "data": {
      "text/plain": [
       "(2747, 1)"
      ]
     },
     "execution_count": 40,
     "metadata": {},
     "output_type": "execute_result"
    }
   ],
   "source": [
    "df_y = df[['SalePrice']]\n",
    "df_y.shape"
   ]
  },
  {
   "cell_type": "code",
   "execution_count": 41,
   "id": "4f14829e",
   "metadata": {},
   "outputs": [
    {
     "data": {
      "text/plain": [
       "(2747, 198)"
      ]
     },
     "execution_count": 41,
     "metadata": {},
     "output_type": "execute_result"
    }
   ],
   "source": [
    "df_X = scaled_features_df.drop(columns=['SalePrice'])\n",
    "df_X.shape"
   ]
  },
  {
   "cell_type": "code",
   "execution_count": 42,
   "id": "ee9468d2",
   "metadata": {},
   "outputs": [],
   "source": [
    "X = df_X\n",
    "y = df_y\n",
    "X_train, X_test, y_train, y_test = train_test_split(X, y, test_size=0.25, random_state=12)"
   ]
  },
  {
   "cell_type": "markdown",
   "id": "d169d16c",
   "metadata": {},
   "source": [
    "#  Step 8: First Model is Random Forest"
   ]
  },
  {
   "cell_type": "markdown",
   "id": "297aa43b",
   "metadata": {},
   "source": [
    "#### We are just starting with a random forest model on our scaled data. "
   ]
  },
  {
   "cell_type": "code",
   "execution_count": 43,
   "id": "03dd58a9",
   "metadata": {},
   "outputs": [
    {
     "name": "stderr",
     "output_type": "stream",
     "text": [
      "A column-vector y was passed when a 1d array was expected. Please change the shape of y to (n_samples,), for example using ravel().\n"
     ]
    },
    {
     "data": {
      "text/plain": [
       "RandomForestRegressor()"
      ]
     },
     "execution_count": 43,
     "metadata": {},
     "output_type": "execute_result"
    }
   ],
   "source": [
    "rf = RandomForestRegressor(n_estimators=100)\n",
    "rf.fit(X_train, y_train)"
   ]
  },
  {
   "cell_type": "code",
   "execution_count": 44,
   "id": "d0ce0d86",
   "metadata": {},
   "outputs": [],
   "source": [
    "y_train_pred = rf.predict(X_train)\n",
    "y_test_pred = rf.predict(X_test)"
   ]
  },
  {
   "cell_type": "code",
   "execution_count": 45,
   "id": "682c0a43",
   "metadata": {},
   "outputs": [
    {
     "data": {
      "text/plain": [
       "(0.9819580112216354, 0.8610619671188334)"
      ]
     },
     "execution_count": 45,
     "metadata": {},
     "output_type": "execute_result"
    }
   ],
   "source": [
    "r2_score(y_train, y_train_pred), r2_score(y_test, y_test_pred)"
   ]
  },
  {
   "cell_type": "code",
   "execution_count": 46,
   "id": "ed83faf5",
   "metadata": {},
   "outputs": [
    {
     "data": {
      "text/plain": [
       "(6352.134012482663, 17920.51272613849)"
      ]
     },
     "execution_count": 46,
     "metadata": {},
     "output_type": "execute_result"
    }
   ],
   "source": [
    "mean_absolute_error(y_train, y_train_pred), mean_absolute_error(y_test, y_test_pred)"
   ]
  },
  {
   "cell_type": "code",
   "execution_count": 47,
   "id": "ff6e33fd",
   "metadata": {},
   "outputs": [
    {
     "data": {
      "text/plain": [
       "(10642.311183861573, 29902.105555520608)"
      ]
     },
     "execution_count": 47,
     "metadata": {},
     "output_type": "execute_result"
    }
   ],
   "source": [
    "from math import sqrt\n",
    "sqrt(mean_squared_error(y_train, y_train_pred)), sqrt(mean_squared_error(y_test, y_test_pred))"
   ]
  },
  {
   "cell_type": "markdown",
   "id": "ff54b733",
   "metadata": {},
   "source": [
    "##### We can try to use a Grid Search to improve our Random Forest Regression to see the optimal number of n_estimators"
   ]
  },
  {
   "cell_type": "code",
   "execution_count": 48,
   "id": "478d3e69",
   "metadata": {},
   "outputs": [
    {
     "name": "stderr",
     "output_type": "stream",
     "text": [
      "A column-vector y was passed when a 1d array was expected. Please change the shape of y to (n_samples,), for example using ravel().\n",
      "A column-vector y was passed when a 1d array was expected. Please change the shape of y to (n_samples,), for example using ravel().\n",
      "A column-vector y was passed when a 1d array was expected. Please change the shape of y to (n_samples,), for example using ravel().\n",
      "A column-vector y was passed when a 1d array was expected. Please change the shape of y to (n_samples,), for example using ravel().\n",
      "A column-vector y was passed when a 1d array was expected. Please change the shape of y to (n_samples,), for example using ravel().\n",
      "A column-vector y was passed when a 1d array was expected. Please change the shape of y to (n_samples,), for example using ravel().\n",
      "A column-vector y was passed when a 1d array was expected. Please change the shape of y to (n_samples,), for example using ravel().\n",
      "A column-vector y was passed when a 1d array was expected. Please change the shape of y to (n_samples,), for example using ravel().\n",
      "A column-vector y was passed when a 1d array was expected. Please change the shape of y to (n_samples,), for example using ravel().\n",
      "A column-vector y was passed when a 1d array was expected. Please change the shape of y to (n_samples,), for example using ravel().\n",
      "A column-vector y was passed when a 1d array was expected. Please change the shape of y to (n_samples,), for example using ravel().\n",
      "A column-vector y was passed when a 1d array was expected. Please change the shape of y to (n_samples,), for example using ravel().\n",
      "A column-vector y was passed when a 1d array was expected. Please change the shape of y to (n_samples,), for example using ravel().\n",
      "A column-vector y was passed when a 1d array was expected. Please change the shape of y to (n_samples,), for example using ravel().\n",
      "A column-vector y was passed when a 1d array was expected. Please change the shape of y to (n_samples,), for example using ravel().\n",
      "A column-vector y was passed when a 1d array was expected. Please change the shape of y to (n_samples,), for example using ravel().\n",
      "A column-vector y was passed when a 1d array was expected. Please change the shape of y to (n_samples,), for example using ravel().\n",
      "A column-vector y was passed when a 1d array was expected. Please change the shape of y to (n_samples,), for example using ravel().\n",
      "A column-vector y was passed when a 1d array was expected. Please change the shape of y to (n_samples,), for example using ravel().\n",
      "A column-vector y was passed when a 1d array was expected. Please change the shape of y to (n_samples,), for example using ravel().\n",
      "A column-vector y was passed when a 1d array was expected. Please change the shape of y to (n_samples,), for example using ravel().\n",
      "A column-vector y was passed when a 1d array was expected. Please change the shape of y to (n_samples,), for example using ravel().\n",
      "A column-vector y was passed when a 1d array was expected. Please change the shape of y to (n_samples,), for example using ravel().\n",
      "A column-vector y was passed when a 1d array was expected. Please change the shape of y to (n_samples,), for example using ravel().\n",
      "A column-vector y was passed when a 1d array was expected. Please change the shape of y to (n_samples,), for example using ravel().\n",
      "A column-vector y was passed when a 1d array was expected. Please change the shape of y to (n_samples,), for example using ravel().\n",
      "A column-vector y was passed when a 1d array was expected. Please change the shape of y to (n_samples,), for example using ravel().\n",
      "A column-vector y was passed when a 1d array was expected. Please change the shape of y to (n_samples,), for example using ravel().\n",
      "A column-vector y was passed when a 1d array was expected. Please change the shape of y to (n_samples,), for example using ravel().\n",
      "A column-vector y was passed when a 1d array was expected. Please change the shape of y to (n_samples,), for example using ravel().\n",
      "A column-vector y was passed when a 1d array was expected. Please change the shape of y to (n_samples,), for example using ravel().\n",
      "A column-vector y was passed when a 1d array was expected. Please change the shape of y to (n_samples,), for example using ravel().\n",
      "A column-vector y was passed when a 1d array was expected. Please change the shape of y to (n_samples,), for example using ravel().\n",
      "A column-vector y was passed when a 1d array was expected. Please change the shape of y to (n_samples,), for example using ravel().\n",
      "A column-vector y was passed when a 1d array was expected. Please change the shape of y to (n_samples,), for example using ravel().\n",
      "A column-vector y was passed when a 1d array was expected. Please change the shape of y to (n_samples,), for example using ravel().\n",
      "A column-vector y was passed when a 1d array was expected. Please change the shape of y to (n_samples,), for example using ravel().\n",
      "A column-vector y was passed when a 1d array was expected. Please change the shape of y to (n_samples,), for example using ravel().\n",
      "A column-vector y was passed when a 1d array was expected. Please change the shape of y to (n_samples,), for example using ravel().\n",
      "A column-vector y was passed when a 1d array was expected. Please change the shape of y to (n_samples,), for example using ravel().\n",
      "A column-vector y was passed when a 1d array was expected. Please change the shape of y to (n_samples,), for example using ravel().\n",
      "A column-vector y was passed when a 1d array was expected. Please change the shape of y to (n_samples,), for example using ravel().\n",
      "A column-vector y was passed when a 1d array was expected. Please change the shape of y to (n_samples,), for example using ravel().\n",
      "A column-vector y was passed when a 1d array was expected. Please change the shape of y to (n_samples,), for example using ravel().\n",
      "A column-vector y was passed when a 1d array was expected. Please change the shape of y to (n_samples,), for example using ravel().\n",
      "A column-vector y was passed when a 1d array was expected. Please change the shape of y to (n_samples,), for example using ravel().\n",
      "A column-vector y was passed when a 1d array was expected. Please change the shape of y to (n_samples,), for example using ravel().\n",
      "A column-vector y was passed when a 1d array was expected. Please change the shape of y to (n_samples,), for example using ravel().\n",
      "A column-vector y was passed when a 1d array was expected. Please change the shape of y to (n_samples,), for example using ravel().\n",
      "A column-vector y was passed when a 1d array was expected. Please change the shape of y to (n_samples,), for example using ravel().\n",
      "A column-vector y was passed when a 1d array was expected. Please change the shape of y to (n_samples,), for example using ravel().\n",
      "A column-vector y was passed when a 1d array was expected. Please change the shape of y to (n_samples,), for example using ravel().\n",
      "A column-vector y was passed when a 1d array was expected. Please change the shape of y to (n_samples,), for example using ravel().\n",
      "A column-vector y was passed when a 1d array was expected. Please change the shape of y to (n_samples,), for example using ravel().\n",
      "A column-vector y was passed when a 1d array was expected. Please change the shape of y to (n_samples,), for example using ravel().\n",
      "A column-vector y was passed when a 1d array was expected. Please change the shape of y to (n_samples,), for example using ravel().\n",
      "A column-vector y was passed when a 1d array was expected. Please change the shape of y to (n_samples,), for example using ravel().\n",
      "A column-vector y was passed when a 1d array was expected. Please change the shape of y to (n_samples,), for example using ravel().\n",
      "A column-vector y was passed when a 1d array was expected. Please change the shape of y to (n_samples,), for example using ravel().\n",
      "A column-vector y was passed when a 1d array was expected. Please change the shape of y to (n_samples,), for example using ravel().\n",
      "A column-vector y was passed when a 1d array was expected. Please change the shape of y to (n_samples,), for example using ravel().\n",
      "A column-vector y was passed when a 1d array was expected. Please change the shape of y to (n_samples,), for example using ravel().\n",
      "A column-vector y was passed when a 1d array was expected. Please change the shape of y to (n_samples,), for example using ravel().\n"
     ]
    },
    {
     "name": "stderr",
     "output_type": "stream",
     "text": [
      "A column-vector y was passed when a 1d array was expected. Please change the shape of y to (n_samples,), for example using ravel().\n",
      "A column-vector y was passed when a 1d array was expected. Please change the shape of y to (n_samples,), for example using ravel().\n",
      "A column-vector y was passed when a 1d array was expected. Please change the shape of y to (n_samples,), for example using ravel().\n",
      "A column-vector y was passed when a 1d array was expected. Please change the shape of y to (n_samples,), for example using ravel().\n",
      "A column-vector y was passed when a 1d array was expected. Please change the shape of y to (n_samples,), for example using ravel().\n",
      "A column-vector y was passed when a 1d array was expected. Please change the shape of y to (n_samples,), for example using ravel().\n",
      "A column-vector y was passed when a 1d array was expected. Please change the shape of y to (n_samples,), for example using ravel().\n",
      "A column-vector y was passed when a 1d array was expected. Please change the shape of y to (n_samples,), for example using ravel().\n",
      "A column-vector y was passed when a 1d array was expected. Please change the shape of y to (n_samples,), for example using ravel().\n",
      "A column-vector y was passed when a 1d array was expected. Please change the shape of y to (n_samples,), for example using ravel().\n",
      "A column-vector y was passed when a 1d array was expected. Please change the shape of y to (n_samples,), for example using ravel().\n",
      "A column-vector y was passed when a 1d array was expected. Please change the shape of y to (n_samples,), for example using ravel().\n",
      "A column-vector y was passed when a 1d array was expected. Please change the shape of y to (n_samples,), for example using ravel().\n",
      "A column-vector y was passed when a 1d array was expected. Please change the shape of y to (n_samples,), for example using ravel().\n",
      "A column-vector y was passed when a 1d array was expected. Please change the shape of y to (n_samples,), for example using ravel().\n",
      "A column-vector y was passed when a 1d array was expected. Please change the shape of y to (n_samples,), for example using ravel().\n",
      "A column-vector y was passed when a 1d array was expected. Please change the shape of y to (n_samples,), for example using ravel().\n",
      "A column-vector y was passed when a 1d array was expected. Please change the shape of y to (n_samples,), for example using ravel().\n",
      "A column-vector y was passed when a 1d array was expected. Please change the shape of y to (n_samples,), for example using ravel().\n",
      "A column-vector y was passed when a 1d array was expected. Please change the shape of y to (n_samples,), for example using ravel().\n",
      "A column-vector y was passed when a 1d array was expected. Please change the shape of y to (n_samples,), for example using ravel().\n",
      "A column-vector y was passed when a 1d array was expected. Please change the shape of y to (n_samples,), for example using ravel().\n",
      "A column-vector y was passed when a 1d array was expected. Please change the shape of y to (n_samples,), for example using ravel().\n",
      "A column-vector y was passed when a 1d array was expected. Please change the shape of y to (n_samples,), for example using ravel().\n",
      "A column-vector y was passed when a 1d array was expected. Please change the shape of y to (n_samples,), for example using ravel().\n",
      "A column-vector y was passed when a 1d array was expected. Please change the shape of y to (n_samples,), for example using ravel().\n",
      "A column-vector y was passed when a 1d array was expected. Please change the shape of y to (n_samples,), for example using ravel().\n",
      "A column-vector y was passed when a 1d array was expected. Please change the shape of y to (n_samples,), for example using ravel().\n",
      "A column-vector y was passed when a 1d array was expected. Please change the shape of y to (n_samples,), for example using ravel().\n",
      "A column-vector y was passed when a 1d array was expected. Please change the shape of y to (n_samples,), for example using ravel().\n",
      "A column-vector y was passed when a 1d array was expected. Please change the shape of y to (n_samples,), for example using ravel().\n",
      "A column-vector y was passed when a 1d array was expected. Please change the shape of y to (n_samples,), for example using ravel().\n",
      "A column-vector y was passed when a 1d array was expected. Please change the shape of y to (n_samples,), for example using ravel().\n",
      "A column-vector y was passed when a 1d array was expected. Please change the shape of y to (n_samples,), for example using ravel().\n",
      "A column-vector y was passed when a 1d array was expected. Please change the shape of y to (n_samples,), for example using ravel().\n",
      "A column-vector y was passed when a 1d array was expected. Please change the shape of y to (n_samples,), for example using ravel().\n",
      "A column-vector y was passed when a 1d array was expected. Please change the shape of y to (n_samples,), for example using ravel().\n",
      "A column-vector y was passed when a 1d array was expected. Please change the shape of y to (n_samples,), for example using ravel().\n"
     ]
    },
    {
     "data": {
      "text/plain": [
       "GridSearchCV(cv=5, estimator=RandomForestRegressor(random_state=1519),\n",
       "             param_grid={'n_estimators': [10, 12, 16, 20, 26, 33, 42, 54, 69,\n",
       "                                          88, 112, 143, 183, 233, 297, 379, 483,\n",
       "                                          615, 784, 1000]})"
      ]
     },
     "execution_count": 48,
     "metadata": {},
     "output_type": "execute_result"
    }
   ],
   "source": [
    "from sklearn.ensemble import RandomForestRegressor\n",
    "n_est = [int(n) for n in np.logspace(start=1, stop=3, num=20)]\n",
    "param_grid = {'n_estimators': n_est}\n",
    "rf1 = RandomForestRegressor(random_state = 1519)\n",
    "rf_cv = GridSearchCV(rf1, param_grid, cv = 5)\n",
    "rf_cv.fit(X_train, y_train)"
   ]
  },
  {
   "cell_type": "code",
   "execution_count": 49,
   "id": "14b8e929",
   "metadata": {},
   "outputs": [
    {
     "name": "stdout",
     "output_type": "stream",
     "text": [
      "Best Score:0.8719326371350888\n",
      "Best Parameters: {'n_estimators': 784}\n"
     ]
    }
   ],
   "source": [
    "print(\"Best Score:\" + str(rf_cv.best_score_))\n",
    "print(\"Best Parameters: \" + str(rf_cv.best_params_))"
   ]
  },
  {
   "cell_type": "markdown",
   "id": "032bbd64",
   "metadata": {},
   "source": [
    "##### The grid search suggested the best hyperparameter is n_estimator of 784  Therefore I will try again with n_estimators equal to 784 and see what happens."
   ]
  },
  {
   "cell_type": "code",
   "execution_count": 52,
   "id": "8181c710",
   "metadata": {},
   "outputs": [
    {
     "name": "stderr",
     "output_type": "stream",
     "text": [
      "A column-vector y was passed when a 1d array was expected. Please change the shape of y to (n_samples,), for example using ravel().\n"
     ]
    },
    {
     "data": {
      "text/plain": [
       "RandomForestRegressor(n_estimators=784)"
      ]
     },
     "execution_count": 52,
     "metadata": {},
     "output_type": "execute_result"
    }
   ],
   "source": [
    "rf = RandomForestRegressor(n_estimators=784)\n",
    "rf.fit(X_train, y_train)"
   ]
  },
  {
   "cell_type": "code",
   "execution_count": 53,
   "id": "05120fe4",
   "metadata": {},
   "outputs": [],
   "source": [
    "y_train_pred = rf.predict(X_train)\n",
    "y_test_pred = rf.predict(X_test)"
   ]
  },
  {
   "cell_type": "code",
   "execution_count": 54,
   "id": "649996bf",
   "metadata": {},
   "outputs": [
    {
     "data": {
      "text/plain": [
       "(0.9831962284913838, 0.8613399818224067)"
      ]
     },
     "execution_count": 54,
     "metadata": {},
     "output_type": "execute_result"
    }
   ],
   "source": [
    "r2_score_train_rf = r2_score(y_train, y_train_pred)\n",
    "r2_score_test_rf = r2_score(y_test, y_test_pred)\n",
    "r2_score_train_rf, r2_score_test_rf"
   ]
  },
  {
   "cell_type": "code",
   "execution_count": 55,
   "id": "5e571459",
   "metadata": {},
   "outputs": [
    {
     "data": {
      "text/plain": [
       "(6178.228027788786, 17887.460197397737)"
      ]
     },
     "execution_count": 55,
     "metadata": {},
     "output_type": "execute_result"
    }
   ],
   "source": [
    "MAE_train_rf = mean_absolute_error(y_train, y_train_pred)\n",
    "MAE_test_rf = mean_absolute_error(y_test, y_test_pred)\n",
    "MAE_train_rf, MAE_test_rf"
   ]
  },
  {
   "cell_type": "code",
   "execution_count": 56,
   "id": "259f22e6",
   "metadata": {},
   "outputs": [
    {
     "data": {
      "text/plain": [
       "(10270.631163988803, 29872.173550251606)"
      ]
     },
     "execution_count": 56,
     "metadata": {},
     "output_type": "execute_result"
    }
   ],
   "source": [
    "from math import sqrt\n",
    "rmse_train_rf = sqrt(mean_squared_error(y_train, y_train_pred))\n",
    "rmse_test_rf = sqrt(mean_squared_error(y_test, y_test_pred))\n",
    "rmse_train_rf, rmse_test_rf"
   ]
  },
  {
   "cell_type": "code",
   "execution_count": 57,
   "id": "40dce6cb",
   "metadata": {},
   "outputs": [
    {
     "data": {
      "text/plain": [
       "Text(0.5, 1.0, 'Relationship between predicted and actual Price of Training Set')"
      ]
     },
     "execution_count": 57,
     "metadata": {},
     "output_type": "execute_result"
    },
    {
     "data": {
      "image/png": "[encoded data removed]",
      "text/plain": [
       "<Figure size 432x288 with 1 Axes>"
      ]
     },
     "metadata": {
      "needs_background": "light"
     },
     "output_type": "display_data"
    }
   ],
   "source": [
    "plt.scatter(y_train_pred, y_train)\n",
    "plt.xlabel(\"predicted price\")\n",
    "plt.ylabel(\"Housing Price\")\n",
    "plt.title(\"Relationship between predicted and actual Price of Training Set\")"
   ]
  },
  {
   "cell_type": "markdown",
   "id": "de0a6677",
   "metadata": {},
   "source": [
    "##### This is not much of an improvement from n_est = 100, but it is a robust model we can compare to other models\n"
   ]
  },
  {
   "cell_type": "code",
   "execution_count": 58,
   "id": "61895193",
   "metadata": {},
   "outputs": [
    {
     "name": "stdout",
     "output_type": "stream",
     "text": [
      "Random Forest Evaluation Metrics           Metric\n",
      "-----------------------------------  ------------\n",
      "r2 Score Train                           0.983196\n",
      "r2 Score Test                            0.86134\n",
      "Mean Absolute Error (MAE) Train       6178.23\n",
      "Mean Absolute Error(MAE) Test        17887.5\n",
      "Root Mean Square Error (RMSE) Train  10270.6\n",
      "Root Mean Square Error (RMSE) Test   29872.2\n"
     ]
    }
   ],
   "source": [
    "# lets just summarize our findings from Random Forest model\n",
    "from tabulate import tabulate\n",
    "d = [ [\"r2 Score Train\", r2_score_train_rf], [\"r2 Score Test\", r2_score_test_rf], [\"Mean Absolute Error (MAE) Train\", MAE_train_rf],\n",
    "    [\"Mean Absolute Error(MAE) Test\", MAE_test_rf], [\"Root Mean Square Error (RMSE) Train\", rmse_train_rf], [\"Root Mean Square Error (RMSE) Test\", rmse_test_rf]]\n",
    "\n",
    "print(tabulate(d, headers=[\"Random Forest Evaluation Metrics\", \"Metric\"]))"
   ]
  },
  {
   "cell_type": "markdown",
   "id": "aeae576f",
   "metadata": {},
   "source": [
    "# Step 9: Second Model is Ridge Regression"
   ]
  },
  {
   "cell_type": "markdown",
   "id": "2c086658",
   "metadata": {},
   "source": [
    "##### Ridge Regression is useful when there is still  some multicolinearity among variables.  We will go ahead and use it here for our real estate model."
   ]
  },
  {
   "cell_type": "code",
   "execution_count": 59,
   "id": "e0c4f753",
   "metadata": {},
   "outputs": [],
   "source": [
    "from sklearn.linear_model import Ridge"
   ]
  },
  {
   "cell_type": "code",
   "execution_count": 60,
   "id": "71d463a9",
   "metadata": {},
   "outputs": [
    {
     "data": {
      "text/plain": [
       "Ridge(alpha=1)"
      ]
     },
     "execution_count": 60,
     "metadata": {},
     "output_type": "execute_result"
    }
   ],
   "source": [
    "ridge = Ridge(alpha = 1)\n",
    "ridge.fit(X_train, y_train)"
   ]
  },
  {
   "cell_type": "code",
   "execution_count": 61,
   "id": "33fe3fc0",
   "metadata": {},
   "outputs": [],
   "source": [
    "y_train_pred = ridge.predict(X_train)\n",
    "y_test_pred = ridge.predict(X_test)"
   ]
  },
  {
   "cell_type": "code",
   "execution_count": 62,
   "id": "0bbeff80",
   "metadata": {},
   "outputs": [
    {
     "data": {
      "text/plain": [
       "(0.8888101247352804, 0.8824299447327424)"
      ]
     },
     "execution_count": 62,
     "metadata": {},
     "output_type": "execute_result"
    }
   ],
   "source": [
    "r2_score(y_train, y_train_pred), r2_score(y_test, y_test_pred)"
   ]
  },
  {
   "cell_type": "code",
   "execution_count": 63,
   "id": "f75efd32",
   "metadata": {},
   "outputs": [
    {
     "data": {
      "text/plain": [
       "(17033.85094579416, 18283.62976919664)"
      ]
     },
     "execution_count": 63,
     "metadata": {},
     "output_type": "execute_result"
    }
   ],
   "source": [
    "mean_absolute_error(y_train, y_train_pred), mean_absolute_error(y_test, y_test_pred)\n"
   ]
  },
  {
   "cell_type": "code",
   "execution_count": 64,
   "id": "c7af8ade",
   "metadata": {},
   "outputs": [
    {
     "data": {
      "text/plain": [
       "(26419.608090625476, 27506.76762235471)"
      ]
     },
     "execution_count": 64,
     "metadata": {},
     "output_type": "execute_result"
    }
   ],
   "source": [
    "sqrt(mean_squared_error(y_train, y_train_pred)), sqrt(mean_squared_error(y_test, y_test_pred))\n"
   ]
  },
  {
   "cell_type": "markdown",
   "id": "2e3f6417",
   "metadata": {},
   "source": [
    "##### The initial model does not perform as well as the Random Forest so lets see if we can improve this by adjusting our hyperparameters."
   ]
  },
  {
   "cell_type": "code",
   "execution_count": 65,
   "id": "e9241469",
   "metadata": {},
   "outputs": [
    {
     "data": {
      "text/plain": [
       "GridSearchCV(cv=5, estimator=Ridge(),\n",
       "             param_grid={'alpha': [1, 1, 1, 2, 2, 3, 4, 5, 6, 8, 10, 13, 17, 22,\n",
       "                                   28, 35, 45, 57, 72, 92, 117, 148, 188, 239,\n",
       "                                   303, 385, 489, 621, 788, 1000]})"
      ]
     },
     "execution_count": 65,
     "metadata": {},
     "output_type": "execute_result"
    }
   ],
   "source": [
    "n_est = [int(n) for n in np.logspace(start=0, stop=3, num=30)]\n",
    "param_grid = {'alpha':n_est}\n",
    "ridge = Ridge()\n",
    "ridge_cv= GridSearchCV(ridge,param_grid,cv=5)\n",
    "ridge_cv.fit(X_train, y_train)"
   ]
  },
  {
   "cell_type": "code",
   "execution_count": 66,
   "id": "d1c76dc0",
   "metadata": {},
   "outputs": [
    {
     "name": "stdout",
     "output_type": "stream",
     "text": [
      "Best Score:0.7954374447135271\n",
      "Best Parameters: {'alpha': 6}\n"
     ]
    }
   ],
   "source": [
    "print(\"Best Score:\" + str(ridge_cv.best_score_))\n",
    "print(\"Best Parameters: \" + str(ridge_cv.best_params_))"
   ]
  },
  {
   "cell_type": "markdown",
   "id": "4c8248a1",
   "metadata": {},
   "source": [
    "#####  Ok our grid search indicated a much higher alpha so lets revisit with this higher alpha"
   ]
  },
  {
   "cell_type": "code",
   "execution_count": 67,
   "id": "b26bdc73",
   "metadata": {},
   "outputs": [
    {
     "data": {
      "text/plain": [
       "Ridge(alpha=6)"
      ]
     },
     "execution_count": 67,
     "metadata": {},
     "output_type": "execute_result"
    }
   ],
   "source": [
    "ridge = Ridge(alpha = 6)\n",
    "ridge.fit(X_train, y_train)"
   ]
  },
  {
   "cell_type": "code",
   "execution_count": 68,
   "id": "cf9b9672",
   "metadata": {},
   "outputs": [],
   "source": [
    "y_train_pred = ridge.predict(X_train)\n",
    "y_test_pred = ridge.predict(X_test)"
   ]
  },
  {
   "cell_type": "code",
   "execution_count": 69,
   "id": "d39fe44c",
   "metadata": {},
   "outputs": [
    {
     "data": {
      "text/plain": [
       "(0.8798255906175709, 0.8829770584813794)"
      ]
     },
     "execution_count": 69,
     "metadata": {},
     "output_type": "execute_result"
    }
   ],
   "source": [
    "r2_score_train_ridge = r2_score(y_train, y_train_pred)\n",
    "r2_score_test_ridge = r2_score(y_test, y_test_pred)\n",
    "r2_score_train_ridge, r2_score_test_ridge "
   ]
  },
  {
   "cell_type": "code",
   "execution_count": 70,
   "id": "ee922dd0",
   "metadata": {},
   "outputs": [
    {
     "data": {
      "text/plain": [
       "(17309.22082550729, 18166.598099278013)"
      ]
     },
     "execution_count": 70,
     "metadata": {},
     "output_type": "execute_result"
    }
   ],
   "source": [
    "MAE_train_ridge = mean_absolute_error(y_train, y_train_pred)\n",
    "MAE_test_ridge = mean_absolute_error(y_test, y_test_pred)\n",
    "MAE_train_ridge, MAE_test_ridge"
   ]
  },
  {
   "cell_type": "code",
   "execution_count": 71,
   "id": "f4e756ce",
   "metadata": {},
   "outputs": [
    {
     "data": {
      "text/plain": [
       "(27466.27396581779, 27442.691443979973)"
      ]
     },
     "execution_count": 71,
     "metadata": {},
     "output_type": "execute_result"
    }
   ],
   "source": [
    "rmse_train_ridge = sqrt(mean_squared_error(y_train, y_train_pred))\n",
    "rmse_test_ridge = sqrt(mean_squared_error(y_test, y_test_pred))\n",
    "rmse_train_ridge, rmse_test_ridge"
   ]
  },
  {
   "cell_type": "code",
   "execution_count": 72,
   "id": "78fff036",
   "metadata": {},
   "outputs": [],
   "source": [
    "### This seems like a modest improvement from our initial model. "
   ]
  },
  {
   "cell_type": "code",
   "execution_count": 73,
   "id": "1c849aaf",
   "metadata": {},
   "outputs": [
    {
     "data": {
      "text/plain": [
       "Text(0.5, 1.0, 'Relationship between predicted and actual Price of Training Set')"
      ]
     },
     "execution_count": 73,
     "metadata": {},
     "output_type": "execute_result"
    },
    {
     "data": {
      "image/png": "[encoded data removed]",
      "text/plain": [
       "<Figure size 432x288 with 1 Axes>"
      ]
     },
     "metadata": {
      "needs_background": "light"
     },
     "output_type": "display_data"
    }
   ],
   "source": [
    "plt.scatter(y_train_pred, y_train)\n",
    "plt.xlabel(\"predicted price\")\n",
    "plt.ylabel(\"Housing Price\")\n",
    "plt.title(\"Relationship between predicted and actual Price of Training Set\")"
   ]
  },
  {
   "cell_type": "code",
   "execution_count": 74,
   "id": "df545b27",
   "metadata": {},
   "outputs": [
    {
     "data": {
      "text/plain": [
       "Text(0.5, 1.0, 'Predicted Values vs Residuals of Training Set')"
      ]
     },
     "execution_count": 74,
     "metadata": {},
     "output_type": "execute_result"
    },
    {
     "data": {
      "image/png": "[encoded data removed]",
      "text/plain": [
       "<Figure size 432x288 with 1 Axes>"
      ]
     },
     "metadata": {
      "needs_background": "light"
     },
     "output_type": "display_data"
    }
   ],
   "source": [
    "plt.scatter(y_train_pred, (y_train_pred - y_train))\n",
    "plt.hlines(y=0, xmin = 0, xmax = 500000)\n",
    "plt.title(\"Predicted Values vs Residuals of Training Set\")"
   ]
  },
  {
   "cell_type": "code",
   "execution_count": 75,
   "id": "9e6b0ae0",
   "metadata": {},
   "outputs": [
    {
     "data": {
      "text/plain": [
       "Text(0.5, 1.0, 'Predicted Values vs Residuals of Training Set')"
      ]
     },
     "execution_count": 75,
     "metadata": {},
     "output_type": "execute_result"
    },
    {
     "data": {
      "image/png": "[encoded data removed]",
      "text/plain": [
       "<Figure size 432x288 with 1 Axes>"
      ]
     },
     "metadata": {
      "needs_background": "light"
     },
     "output_type": "display_data"
    }
   ],
   "source": [
    "plt.hist(y_train_pred - y_train, bins = 10)\n",
    "plt.title(\"Predicted Values vs Residuals of Training Set\")"
   ]
  },
  {
   "cell_type": "code",
   "execution_count": 76,
   "id": "881eaacd",
   "metadata": {},
   "outputs": [
    {
     "name": "stdout",
     "output_type": "stream",
     "text": [
      "Ridge Regression Evaluation Metrics          Metric\n",
      "-------------------------------------  ------------\n",
      "r2 Score Train                             0.879826\n",
      "r2 Score Test                              0.882977\n",
      "Mean Absolute Error (MAE) Train        17309.2\n",
      "Mean Absolute Error(MAE) Test          18166.6\n",
      "Root Mean Square Error (RMSE) Train    27466.3\n",
      "Root Mean Square Error (RMSE) Test     27442.7\n"
     ]
    }
   ],
   "source": [
    "# lets just summarize our findings from Ridge Regression \n",
    "from tabulate import tabulate\n",
    "d = [ [\"r2 Score Train\", r2_score_train_ridge], [\"r2 Score Test\", r2_score_test_ridge], [\"Mean Absolute Error (MAE) Train\", MAE_train_ridge],\n",
    "    [\"Mean Absolute Error(MAE) Test\", MAE_test_ridge], [\"Root Mean Square Error (RMSE) Train\", rmse_train_ridge], [\"Root Mean Square Error (RMSE) Test\", rmse_test_ridge]]\n",
    "\n",
    "print(tabulate(d, headers=[\"Ridge Regression Evaluation Metrics\", \"Metric\"]))"
   ]
  },
  {
   "cell_type": "markdown",
   "id": "35a2b014",
   "metadata": {},
   "source": [
    "# Step 9: Third Model is Linear Regression"
   ]
  },
  {
   "cell_type": "code",
   "execution_count": 77,
   "id": "0fbb8b05",
   "metadata": {},
   "outputs": [],
   "source": [
    "lm = LinearRegression().fit(X_train, y_train)"
   ]
  },
  {
   "cell_type": "code",
   "execution_count": 78,
   "id": "0e3a2861",
   "metadata": {},
   "outputs": [],
   "source": [
    "y_train_pred = lm.predict(X_train)\n",
    "y_test_pred = lm.predict(X_test)"
   ]
  },
  {
   "cell_type": "code",
   "execution_count": 79,
   "id": "5b729421",
   "metadata": {},
   "outputs": [
    {
     "data": {
      "text/plain": [
       "(0.8927714863897984, 0.8834806244192737)"
      ]
     },
     "execution_count": 79,
     "metadata": {},
     "output_type": "execute_result"
    }
   ],
   "source": [
    "r2_score_train_lm = r2_score(y_train, y_train_pred)\n",
    "r2_score_test_lm = r2_score(y_test, y_test_pred)\n",
    "r2_score_train_lm, r2_score_test_lm"
   ]
  },
  {
   "cell_type": "code",
   "execution_count": 80,
   "id": "3911b85b",
   "metadata": {},
   "outputs": [
    {
     "data": {
      "text/plain": [
       "(16841.535249403307, 18177.647340629206)"
      ]
     },
     "execution_count": 80,
     "metadata": {},
     "output_type": "execute_result"
    }
   ],
   "source": [
    "MAE_train_lm = mean_absolute_error(y_train, y_train_pred)\n",
    "MAE_test_lm = mean_absolute_error(y_test, y_test_pred)\n",
    "MAE_train_lm, MAE_test_lm"
   ]
  },
  {
   "cell_type": "code",
   "execution_count": 81,
   "id": "6ad54f11",
   "metadata": {},
   "outputs": [
    {
     "data": {
      "text/plain": [
       "(25944.714285445007, 27383.582934842165)"
      ]
     },
     "execution_count": 81,
     "metadata": {},
     "output_type": "execute_result"
    }
   ],
   "source": [
    "rmse_train_lm = sqrt(mean_squared_error(y_train, y_train_pred))\n",
    "rmse_test_lm = sqrt(mean_squared_error(y_test, y_test_pred))\n",
    "rmse_train_lm, rmse_test_lm"
   ]
  },
  {
   "cell_type": "code",
   "execution_count": 82,
   "id": "a210fb65",
   "metadata": {},
   "outputs": [
    {
     "data": {
      "text/plain": [
       "Text(0.5, 1.0, 'Relationship between predicted and actual Price of Training Set')"
      ]
     },
     "execution_count": 82,
     "metadata": {},
     "output_type": "execute_result"
    },
    {
     "data": {
      "image/png": "[encoded data removed]",
      "text/plain": [
       "<Figure size 432x288 with 1 Axes>"
      ]
     },
     "metadata": {
      "needs_background": "light"
     },
     "output_type": "display_data"
    }
   ],
   "source": [
    "plt.scatter(y_train_pred, y_train)\n",
    "plt.xlabel(\"predicted price\")\n",
    "plt.ylabel(\"Housing Price\")\n",
    "plt.title(\"Relationship between predicted and actual Price of Training Set\")"
   ]
  },
  {
   "cell_type": "code",
   "execution_count": 83,
   "id": "dda8b341",
   "metadata": {},
   "outputs": [
    {
     "data": {
      "text/plain": [
       "Text(0.5, 1.0, 'Predicted Values vs Residuals of Training Set')"
      ]
     },
     "execution_count": 83,
     "metadata": {},
     "output_type": "execute_result"
    },
    {
     "data": {
      "image/png": "[encoded data removed]",
      "text/plain": [
       "<Figure size 432x288 with 1 Axes>"
      ]
     },
     "metadata": {
      "needs_background": "light"
     },
     "output_type": "display_data"
    }
   ],
   "source": [
    "plt.scatter(y_train_pred, (y_train_pred - y_train))\n",
    "plt.hlines(y=0, xmin = 0, xmax = 500000)\n",
    "plt.title(\"Predicted Values vs Residuals of Training Set\")"
   ]
  },
  {
   "cell_type": "code",
   "execution_count": 84,
   "id": "04176c61",
   "metadata": {},
   "outputs": [
    {
     "data": {
      "text/plain": [
       "Text(0.5, 1.0, 'Predicted Values vs Residuals of Training Set')"
      ]
     },
     "execution_count": 84,
     "metadata": {},
     "output_type": "execute_result"
    },
    {
     "data": {
      "image/png": "[encoded data removed]",
      "text/plain": [
       "<Figure size 432x288 with 1 Axes>"
      ]
     },
     "metadata": {
      "needs_background": "light"
     },
     "output_type": "display_data"
    }
   ],
   "source": [
    "plt.hist(y_train_pred - y_train, bins = 10)\n",
    "plt.title(\"Predicted Values vs Residuals of Training Set\")"
   ]
  },
  {
   "cell_type": "code",
   "execution_count": 85,
   "id": "dfc8c0b5",
   "metadata": {},
   "outputs": [],
   "source": [
    "##### Lets see if we can improve upon this result by limiting our variables"
   ]
  },
  {
   "cell_type": "code",
   "execution_count": 86,
   "id": "32efbe38",
   "metadata": {},
   "outputs": [],
   "source": [
    "df_y = df[['SalePrice']]\n",
    "df_X = scaled_features_df[key_features]\n"
   ]
  },
  {
   "cell_type": "code",
   "execution_count": 87,
   "id": "320873c9",
   "metadata": {},
   "outputs": [],
   "source": [
    "\n",
    "X_train_prime, X_test_prime, y_train_prime, y_test_prime = train_test_split(df_X, df_y, test_size=0.25, random_state=12)"
   ]
  },
  {
   "cell_type": "code",
   "execution_count": 88,
   "id": "6b599c34",
   "metadata": {},
   "outputs": [],
   "source": [
    "lm = LinearRegression().fit(X_train_prime, y_train_prime)"
   ]
  },
  {
   "cell_type": "code",
   "execution_count": 89,
   "id": "4d3fa65a",
   "metadata": {},
   "outputs": [],
   "source": [
    "y_train_pred_prime = lm.predict(X_train_prime)\n",
    "y_test_pred_prime = lm.predict(X_test_prime)"
   ]
  },
  {
   "cell_type": "code",
   "execution_count": 90,
   "id": "dfb7e9d1",
   "metadata": {},
   "outputs": [
    {
     "data": {
      "text/plain": [
       "(0.7896651159156057, 0.8289214922385626)"
      ]
     },
     "execution_count": 90,
     "metadata": {},
     "output_type": "execute_result"
    }
   ],
   "source": [
    "r2_score(y_train_prime, y_train_pred_prime), r2_score(y_test_prime, y_test_pred_prime)"
   ]
  },
  {
   "cell_type": "code",
   "execution_count": 91,
   "id": "beb82c8a",
   "metadata": {},
   "outputs": [
    {
     "data": {
      "text/plain": [
       "(22687.08238072378, 22533.772460033284)"
      ]
     },
     "execution_count": 91,
     "metadata": {},
     "output_type": "execute_result"
    }
   ],
   "source": [
    "mean_absolute_error(y_train_prime, y_train_pred_prime), mean_absolute_error(y_test_prime, y_test_pred_prime)"
   ]
  },
  {
   "cell_type": "code",
   "execution_count": 92,
   "id": "a0698032",
   "metadata": {},
   "outputs": [
    {
     "data": {
      "text/plain": [
       "(36337.027930759, 33180.95825033062)"
      ]
     },
     "execution_count": 92,
     "metadata": {},
     "output_type": "execute_result"
    }
   ],
   "source": [
    "sqrt(mean_squared_error(y_train_prime, y_train_pred_prime)), sqrt(mean_squared_error(y_test_prime, y_test_pred_prime))"
   ]
  },
  {
   "cell_type": "markdown",
   "id": "fae56ca1",
   "metadata": {},
   "source": [
    "#####  When we limit the features the predictive power of our model declines and our rmse increases so we will report the results of our original model in the summary below"
   ]
  },
  {
   "cell_type": "code",
   "execution_count": 93,
   "id": "3a5d3c17",
   "metadata": {},
   "outputs": [
    {
     "name": "stdout",
     "output_type": "stream",
     "text": [
      "Linear Regression Evaluation Metrics          Metric\n",
      "--------------------------------------  ------------\n",
      "r2 Score Train                              0.892771\n",
      "r2 Score Test                               0.883481\n",
      "Mean Absolute Error (MAE) Train         16841.5\n",
      "Mean Absolute Error(MAE) Test           18177.6\n",
      "Root Mean Square Error (RMSE) Train     25944.7\n",
      "Root Mean Square Error (RMSE) Test      27383.6\n"
     ]
    }
   ],
   "source": [
    "# lets summarize our data for plain vanilla linear regression\n",
    "d = [ [\"r2 Score Train\", r2_score_train_lm], [\"r2 Score Test\", r2_score_test_lm], [\"Mean Absolute Error (MAE) Train\", MAE_train_lm],\n",
    "    [\"Mean Absolute Error(MAE) Test\", MAE_test_lm], [\"Root Mean Square Error (RMSE) Train\", rmse_train_lm], [\"Root Mean Square Error (RMSE) Test\", rmse_test_lm]]\n",
    "\n",
    "print(tabulate(d, headers=[\"Linear Regression Evaluation Metrics\", \"Metric\"]))"
   ]
  },
  {
   "cell_type": "markdown",
   "id": "60aab50c",
   "metadata": {},
   "source": [
    "##### So our results are not meaningfully different from the ridge regression.  Therefore lets do one final model."
   ]
  },
  {
   "cell_type": "markdown",
   "id": "6bb8d69a",
   "metadata": {},
   "source": [
    "# Step 9: Fourth Model is Gradient Boosting"
   ]
  },
  {
   "cell_type": "code",
   "execution_count": 94,
   "id": "bfcfeece",
   "metadata": {},
   "outputs": [
    {
     "name": "stderr",
     "output_type": "stream",
     "text": [
      "A column-vector y was passed when a 1d array was expected. Please change the shape of y to (n_samples, ), for example using ravel().\n"
     ]
    },
    {
     "data": {
      "text/plain": [
       "GradientBoostingRegressor()"
      ]
     },
     "execution_count": 94,
     "metadata": {},
     "output_type": "execute_result"
    }
   ],
   "source": [
    "gb = GradientBoostingRegressor()\n",
    "gb.fit(X_train, y_train)"
   ]
  },
  {
   "cell_type": "code",
   "execution_count": 95,
   "id": "4910db95",
   "metadata": {},
   "outputs": [],
   "source": [
    "y_train_pred = gb.predict(X_train)\n",
    "y_test_pred = gb.predict(X_test)"
   ]
  },
  {
   "cell_type": "code",
   "execution_count": 96,
   "id": "827e2337",
   "metadata": {},
   "outputs": [
    {
     "data": {
      "text/plain": [
       "(0.955194084017098, 0.8939536174809101)"
      ]
     },
     "execution_count": 96,
     "metadata": {},
     "output_type": "execute_result"
    }
   ],
   "source": [
    "r2_score(y_train, y_train_pred), r2_score(y_test, y_test_pred)"
   ]
  },
  {
   "cell_type": "code",
   "execution_count": 97,
   "id": "a44fa2bd",
   "metadata": {},
   "outputs": [
    {
     "data": {
      "text/plain": [
       "(12262.237437234682, 17306.067138844457)"
      ]
     },
     "execution_count": 97,
     "metadata": {},
     "output_type": "execute_result"
    }
   ],
   "source": [
    "mean_absolute_error(y_train, y_train_pred), mean_absolute_error(y_test, y_test_pred)"
   ]
  },
  {
   "cell_type": "code",
   "execution_count": 98,
   "id": "81d33df0",
   "metadata": {},
   "outputs": [
    {
     "data": {
      "text/plain": [
       "(16771.09540746859, 26123.967002919842)"
      ]
     },
     "execution_count": 98,
     "metadata": {},
     "output_type": "execute_result"
    }
   ],
   "source": [
    "sqrt(mean_squared_error(y_train, y_train_pred)), sqrt(mean_squared_error(y_test, y_test_pred))"
   ]
  },
  {
   "cell_type": "code",
   "execution_count": 99,
   "id": "bbcc2e41",
   "metadata": {},
   "outputs": [],
   "source": [
    "### Once again we can try to optimize our hyperparameters.  This time the learning rate."
   ]
  },
  {
   "cell_type": "code",
   "execution_count": 100,
   "id": "62506ef1",
   "metadata": {},
   "outputs": [
    {
     "name": "stderr",
     "output_type": "stream",
     "text": [
      "A column-vector y was passed when a 1d array was expected. Please change the shape of y to (n_samples, ), for example using ravel().\n",
      "A column-vector y was passed when a 1d array was expected. Please change the shape of y to (n_samples, ), for example using ravel().\n",
      "A column-vector y was passed when a 1d array was expected. Please change the shape of y to (n_samples, ), for example using ravel().\n",
      "A column-vector y was passed when a 1d array was expected. Please change the shape of y to (n_samples, ), for example using ravel().\n",
      "A column-vector y was passed when a 1d array was expected. Please change the shape of y to (n_samples, ), for example using ravel().\n",
      "A column-vector y was passed when a 1d array was expected. Please change the shape of y to (n_samples, ), for example using ravel().\n",
      "A column-vector y was passed when a 1d array was expected. Please change the shape of y to (n_samples, ), for example using ravel().\n",
      "A column-vector y was passed when a 1d array was expected. Please change the shape of y to (n_samples, ), for example using ravel().\n",
      "A column-vector y was passed when a 1d array was expected. Please change the shape of y to (n_samples, ), for example using ravel().\n",
      "A column-vector y was passed when a 1d array was expected. Please change the shape of y to (n_samples, ), for example using ravel().\n",
      "A column-vector y was passed when a 1d array was expected. Please change the shape of y to (n_samples, ), for example using ravel().\n",
      "A column-vector y was passed when a 1d array was expected. Please change the shape of y to (n_samples, ), for example using ravel().\n",
      "A column-vector y was passed when a 1d array was expected. Please change the shape of y to (n_samples, ), for example using ravel().\n",
      "A column-vector y was passed when a 1d array was expected. Please change the shape of y to (n_samples, ), for example using ravel().\n",
      "A column-vector y was passed when a 1d array was expected. Please change the shape of y to (n_samples, ), for example using ravel().\n",
      "A column-vector y was passed when a 1d array was expected. Please change the shape of y to (n_samples, ), for example using ravel().\n",
      "A column-vector y was passed when a 1d array was expected. Please change the shape of y to (n_samples, ), for example using ravel().\n",
      "A column-vector y was passed when a 1d array was expected. Please change the shape of y to (n_samples, ), for example using ravel().\n",
      "A column-vector y was passed when a 1d array was expected. Please change the shape of y to (n_samples, ), for example using ravel().\n",
      "A column-vector y was passed when a 1d array was expected. Please change the shape of y to (n_samples, ), for example using ravel().\n",
      "A column-vector y was passed when a 1d array was expected. Please change the shape of y to (n_samples, ), for example using ravel().\n",
      "A column-vector y was passed when a 1d array was expected. Please change the shape of y to (n_samples, ), for example using ravel().\n",
      "A column-vector y was passed when a 1d array was expected. Please change the shape of y to (n_samples, ), for example using ravel().\n",
      "A column-vector y was passed when a 1d array was expected. Please change the shape of y to (n_samples, ), for example using ravel().\n",
      "A column-vector y was passed when a 1d array was expected. Please change the shape of y to (n_samples, ), for example using ravel().\n",
      "A column-vector y was passed when a 1d array was expected. Please change the shape of y to (n_samples, ), for example using ravel().\n",
      "A column-vector y was passed when a 1d array was expected. Please change the shape of y to (n_samples, ), for example using ravel().\n",
      "A column-vector y was passed when a 1d array was expected. Please change the shape of y to (n_samples, ), for example using ravel().\n",
      "A column-vector y was passed when a 1d array was expected. Please change the shape of y to (n_samples, ), for example using ravel().\n",
      "A column-vector y was passed when a 1d array was expected. Please change the shape of y to (n_samples, ), for example using ravel().\n",
      "A column-vector y was passed when a 1d array was expected. Please change the shape of y to (n_samples, ), for example using ravel().\n"
     ]
    },
    {
     "data": {
      "text/plain": [
       "GridSearchCV(cv=5, estimator=GradientBoostingRegressor(),\n",
       "             param_grid={'learning_rate': [0.05, 0.1, 0.25, 0.5, 0.75, 1]})"
      ]
     },
     "execution_count": 100,
     "metadata": {},
     "output_type": "execute_result"
    }
   ],
   "source": [
    "learning_rates = [0.05, 0.1, 0.25, 0.5, 0.75, 1]\n",
    "param_grid = {'learning_rate':learning_rates}\n",
    "gb = GradientBoostingRegressor()\n",
    "gb_cv= GridSearchCV(gb,param_grid,cv=5)\n",
    "gb_cv.fit(X_train, y_train)"
   ]
  },
  {
   "cell_type": "code",
   "execution_count": 101,
   "id": "666f21bb",
   "metadata": {},
   "outputs": [
    {
     "name": "stdout",
     "output_type": "stream",
     "text": [
      "Best Score:0.8842811647190736\n",
      "Best Parameters: {'learning_rate': 0.1}\n"
     ]
    }
   ],
   "source": [
    "print(\"Best Score:\" + str(gb_cv.best_score_))\n",
    "print(\"Best Parameters: \" + str(gb_cv.best_params_))"
   ]
  },
  {
   "cell_type": "code",
   "execution_count": 102,
   "id": "6188437f",
   "metadata": {},
   "outputs": [
    {
     "name": "stderr",
     "output_type": "stream",
     "text": [
      "A column-vector y was passed when a 1d array was expected. Please change the shape of y to (n_samples, ), for example using ravel().\n"
     ]
    },
    {
     "data": {
      "text/plain": [
       "GradientBoostingRegressor()"
      ]
     },
     "execution_count": 102,
     "metadata": {},
     "output_type": "execute_result"
    }
   ],
   "source": [
    "gb = GradientBoostingRegressor(learning_rate = 0.1)\n",
    "gb.fit(X_train, y_train)"
   ]
  },
  {
   "cell_type": "code",
   "execution_count": 103,
   "id": "ef316e06",
   "metadata": {},
   "outputs": [],
   "source": [
    "y_train_pred = gb.predict(X_train)\n",
    "y_test_pred = gb.predict(X_test)"
   ]
  },
  {
   "cell_type": "code",
   "execution_count": 104,
   "id": "eb120e25",
   "metadata": {},
   "outputs": [
    {
     "data": {
      "text/plain": [
       "(0.955194084017098, 0.8922261070744023)"
      ]
     },
     "execution_count": 104,
     "metadata": {},
     "output_type": "execute_result"
    }
   ],
   "source": [
    "r2_score_train_gb = r2_score(y_train, y_train_pred)\n",
    "r2_score_test_gb = r2_score(y_test, y_test_pred)\n",
    "r2_score_train_gb, r2_score_test_gb"
   ]
  },
  {
   "cell_type": "code",
   "execution_count": 105,
   "id": "6329be75",
   "metadata": {},
   "outputs": [
    {
     "data": {
      "text/plain": [
       "(12262.23743723468, 17358.292413238665)"
      ]
     },
     "execution_count": 105,
     "metadata": {},
     "output_type": "execute_result"
    }
   ],
   "source": [
    "MAE_train_gb = mean_absolute_error(y_train, y_train_pred)\n",
    "MAE_test_gb = mean_absolute_error(y_test, y_test_pred)\n",
    "MAE_train_gb, MAE_test_gb"
   ]
  },
  {
   "cell_type": "code",
   "execution_count": 106,
   "id": "f91bc0d5",
   "metadata": {},
   "outputs": [
    {
     "data": {
      "text/plain": [
       "(16771.09540746859, 26335.88896833832)"
      ]
     },
     "execution_count": 106,
     "metadata": {},
     "output_type": "execute_result"
    }
   ],
   "source": [
    "rmse_train_gb = sqrt(mean_squared_error(y_train, y_train_pred))\n",
    "rmse_test_gb = sqrt(mean_squared_error(y_test, y_test_pred))\n",
    "rmse_train_gb, rmse_test_gb"
   ]
  },
  {
   "cell_type": "code",
   "execution_count": 107,
   "id": "f51245b6",
   "metadata": {},
   "outputs": [
    {
     "data": {
      "text/plain": [
       "Text(0.5, 1.0, 'Relationship between predicted and actual Price of Training Set')"
      ]
     },
     "execution_count": 107,
     "metadata": {},
     "output_type": "execute_result"
    },
    {
     "data": {
      "image/png": "[encoded data removed]",
      "text/plain": [
       "<Figure size 432x288 with 1 Axes>"
      ]
     },
     "metadata": {
      "needs_background": "light"
     },
     "output_type": "display_data"
    }
   ],
   "source": [
    "plt.scatter(y_train_pred, y_train)\n",
    "plt.xlabel(\"predicted price\")\n",
    "plt.ylabel(\"Housing Price\")\n",
    "plt.title(\"Relationship between predicted and actual Price of Training Set\")"
   ]
  },
  {
   "cell_type": "code",
   "execution_count": 108,
   "id": "1c523244",
   "metadata": {},
   "outputs": [
    {
     "name": "stdout",
     "output_type": "stream",
     "text": [
      "Gradient Boosting Evaluation Metrics          Metric\n",
      "--------------------------------------  ------------\n",
      "r2 Score Train                              0.955194\n",
      "r2 Score Test                               0.892226\n",
      "Mean Absolute Error (MAE) Train         12262.2\n",
      "Mean Absolute Error(MAE) Test           17358.3\n",
      "Root Mean Square Error (RMSE) Train     16771.1\n",
      "Root Mean Square Error (RMSE) Test      26335.9\n"
     ]
    }
   ],
   "source": [
    "# lets summarize our data for gradient boosting\n",
    "d = [ [\"r2 Score Train\", r2_score_train_gb], [\"r2 Score Test\", r2_score_test_gb], [\"Mean Absolute Error (MAE) Train\", MAE_train_gb],\n",
    "    [\"Mean Absolute Error(MAE) Test\", MAE_test_gb], [\"Root Mean Square Error (RMSE) Train\", rmse_train_gb], [\"Root Mean Square Error (RMSE) Test\", rmse_test_gb]]\n",
    "\n",
    "print(tabulate(d, headers=[\"Gradient Boosting Evaluation Metrics\", \"Metric\"]))"
   ]
  },
  {
   "cell_type": "markdown",
   "id": "1793506e",
   "metadata": {},
   "source": [
    "# Step 10:  Comparing Our Models"
   ]
  },
  {
   "cell_type": "markdown",
   "id": "3a511f3d",
   "metadata": {},
   "source": [
    "In this notebook I have used four different regression algorithms to model the Ames, Iowa housing data with the objective of finding the best model to predect a dependent variable (Sales Price) based on the features of the property.  \n",
    "\n",
    "For each model, I used a grid search cross-validation to optimize the hyperparameters.  For our normal Linear Regression Model, no hyperparameter optimization was available, so I reduced the number of variables to just our top twenty variables as identified by our SHAP feature importance.  \n",
    "\n",
    "The table below outlines which hyperparameters were optimized for each model as well as the optimal hyperparameters as indicated by our grid search.\n",
    "\n"
   ]
  },
  {
   "cell_type": "code",
   "execution_count": 109,
   "id": "f5b5acfc",
   "metadata": {},
   "outputs": [
    {
     "name": "stdout",
     "output_type": "stream",
     "text": [
      " \n",
      " \n",
      "   Model             r2 Score (Test-Data)  Hyperparameter To Optimize    Optimal Hyperparameter\n",
      "-----------------  ----------------------  ----------------------------  ------------------------\n",
      "Random Forest                    0.86134   n_estimators                  n_estimators = 483\n",
      "Ridge Regression                 0.882977  Alpha                         Alpha = 6\n",
      "Linear Regression                0.883481  Number of Variables           Include All Variables\n",
      "Gradient Boosting                0.892226  Learning Rate                 Learning Rate = 0,1\n",
      "\n"
     ]
    }
   ],
   "source": [
    "d = [ [\"Random Forest\",r2_score_test_rf, \"n_estimators\", \"n_estimators = 483\"], [\"Ridge Regression\", r2_score_test_ridge, \"Alpha\", \"Alpha = 6\"], [\"Linear Regression\",r2_score_test_lm, \"Number of Variables\", \"Include All Variables\"],\n",
    "    [\"Gradient Boosting\",r2_score_test_gb, \"Learning Rate\", \"Learning Rate = 0,1\"]]\n",
    "print(\" \")\n",
    "print(\" \")\n",
    "print(tabulate(d, headers=[\"   Model  \", \"r2 Score (Test-Data)\", \"Hyperparameter To Optimize\", \"Optimal Hyperparameter\"]))\n",
    "print(\"\")"
   ]
  },
  {
   "cell_type": "markdown",
   "id": "0aba02b5",
   "metadata": {},
   "source": [
    "One metric we will examine is the R-squared which is the extent to which the variance in the independent variables influences the variance in our dependent variable.  This is referred to as the Goodness of Fit as it is an indication of how well the data fits the regression model.  So the higher R-squared will indicate a model that creates a better fit of our data.  \n",
    "Of our models, the two decision tree models (Gradient Boosting and Random Forest) give us the best R-Squared on the training data, and all of the models perform similarly on the test data.\n",
    "\n",
    "The other metric we might focus on is the Root Mean Square Error (RMSE) which is a measure of how far our predictions fall from our actual Sales Price.  The Root Mean Squared Error is in the same units as our Dependent Variable (USD) and is therfore a usefull measure.  It is our objective to minimize RMSE.  Here our decision tree based models perform better than our two other models.  \n"
   ]
  },
  {
   "cell_type": "code",
   "execution_count": 110,
   "id": "4aa28232",
   "metadata": {},
   "outputs": [
    {
     "name": "stdout",
     "output_type": "stream",
     "text": [
      "\n",
      "   Evaluation Metric                   Random Forest    Ridge Regression    Linear Regression    Gradient Boosting\n",
      "-----------------------------------  ---------------  ------------------  -------------------  -------------------\n",
      "r2 Score Train                              0.983196            0.879826             0.892771             0.955194\n",
      "r2 Score Test                               0.86134             0.882977             0.883481             0.892226\n",
      "Mean Absolute Error (MAE) Train          6178.23            17309.2              16841.5              12262.2\n",
      "Mean Absolute Error(MAE) Test           17887.5             18166.6              18177.6              17358.3\n",
      "Root Mean Square Error (RMSE) Train     10270.6             27466.3              25944.7              16771.1\n",
      "Root Mean Square Error (RMSE) Test      29872.2             27442.7              27383.6              26335.9\n"
     ]
    }
   ],
   "source": [
    "d = [ [\"r2 Score Train\",r2_score_train_rf, r2_score_train_ridge, r2_score_train_lm, r2_score_train_gb], [\"r2 Score Test\", r2_score_test_rf, r2_score_test_ridge, r2_score_test_lm, r2_score_test_gb], [\"Mean Absolute Error (MAE) Train\",MAE_train_rf, MAE_train_ridge, MAE_train_lm, MAE_train_gb],\n",
    "    [\"Mean Absolute Error(MAE) Test\",MAE_test_rf, MAE_test_ridge, MAE_test_lm, MAE_test_gb], [\"Root Mean Square Error (RMSE) Train\",rmse_train_rf, rmse_train_ridge, rmse_train_lm, rmse_train_gb], [\"Root Mean Square Error (RMSE) Test\",rmse_test_rf, rmse_test_ridge, rmse_test_lm, rmse_test_gb]]\n",
    "print(\"\")\n",
    "print(tabulate(d, headers=[\"   Evaluation Metric  \", \"Random Forest\", \"Ridge Regression\", \"Linear Regression\", \"Gradient Boosting\"]))"
   ]
  },
  {
   "cell_type": "markdown",
   "id": "f11b7a24",
   "metadata": {},
   "source": [
    "Between the Random Forest and the Gradient Boosting Models, I prefer the Gradient Boosting model.  \n",
    "This model does not perform as well as the Random Forest on the Training Set but performs better thatn the Random Forest both in the R-Squared and the RMSE when looking at the Test Data.  Based on this it is possible the Random Forest is overfitting to the training set.  \n",
    "\n",
    "The purpose of our model is to determine the price of a real estate offering where the sales price is unknown.  \n",
    "Given the superior performance on the training data I would expect the Gradinet Boosting Regressor to perform the best on a new data set.  \n",
    "\n",
    "Therefore I would recommend using the Gradient Boosting Model on this dataset.  \n",
    "\n"
   ]
  },
  {
   "cell_type": "markdown",
   "id": "b0c9ad01",
   "metadata": {},
   "source": [
    "# Step 11:  Use a model to predict sales price on a test case "
   ]
  },
  {
   "cell_type": "code",
   "execution_count": 111,
   "id": "7c561b08",
   "metadata": {},
   "outputs": [
    {
     "data": {
      "text/plain": [
       "(198,)"
      ]
     },
     "execution_count": 111,
     "metadata": {},
     "output_type": "execute_result"
    }
   ],
   "source": [
    "X_bm = X_test.iloc[25, :]\n",
    "\n",
    "X_bm.shape"
   ]
  },
  {
   "cell_type": "code",
   "execution_count": 112,
   "id": "d0aea601",
   "metadata": {},
   "outputs": [
    {
     "data": {
      "text/plain": [
       "(2060, 198)"
      ]
     },
     "execution_count": 112,
     "metadata": {},
     "output_type": "execute_result"
    }
   ],
   "source": [
    "X_train.shape"
   ]
  },
  {
   "cell_type": "code",
   "execution_count": 113,
   "id": "16468d9c",
   "metadata": {},
   "outputs": [
    {
     "data": {
      "text/plain": [
       "<bound method IndexOpsMixin.transpose of PID                      -0.002638\n",
       "Lot Frontage              0.567127\n",
       "Lot Area                  0.012352\n",
       "Overall Cond              1.000000\n",
       "Year Built               -0.347826\n",
       "                            ...   \n",
       "Sale Type_WD              0.000000\n",
       "Sale Condition_AdjLand    0.000000\n",
       "Sale Condition_Alloca     0.000000\n",
       "Sale Condition_Family     0.000000\n",
       "Sale Condition_Normal     0.000000\n",
       "Name: 611, Length: 198, dtype: float64>"
      ]
     },
     "execution_count": 113,
     "metadata": {},
     "output_type": "execute_result"
    }
   ],
   "source": [
    "X_bm = X_bm.transpose\n",
    "X_bm"
   ]
  },
  {
   "cell_type": "code",
   "execution_count": 114,
   "id": "cc4c2b42",
   "metadata": {},
   "outputs": [],
   "source": [
    "bm_pred = gb.predict(X_test.iloc[25, :].array.reshape(1, -1))"
   ]
  },
  {
   "cell_type": "code",
   "execution_count": 115,
   "id": "d696b75a",
   "metadata": {},
   "outputs": [
    {
     "data": {
      "text/plain": [
       "array([133746.08929957])"
      ]
     },
     "execution_count": 115,
     "metadata": {},
     "output_type": "execute_result"
    }
   ],
   "source": [
    "bm_pred"
   ]
  },
  {
   "cell_type": "code",
   "execution_count": 116,
   "id": "540f1bce",
   "metadata": {},
   "outputs": [
    {
     "data": {
      "text/plain": [
       "SalePrice    124500\n",
       "Name: 611, dtype: int64"
      ]
     },
     "execution_count": 116,
     "metadata": {},
     "output_type": "execute_result"
    }
   ],
   "source": [
    "y_test.iloc[25, :]"
   ]
  },
  {
   "cell_type": "markdown",
   "id": "9bf6ced0",
   "metadata": {},
   "source": [
    "Ok.  It looks like for this particular property, our model predicted a sales price of USD 133,746 when the actual sales price for this property was USD 124,500. "
   ]
  }
 ],
 "metadata": {
  "kernelspec": {
   "display_name": "Python 3 (ipykernel)",
   "language": "python",
   "name": "python3"
  },
  "language_info": {
   "codemirror_mode": {
    "name": "ipython",
    "version": 3
   },
   "file_extension": ".py",
   "mimetype": "text/x-python",
   "name": "python",
   "nbconvert_exporter": "python",
   "pygments_lexer": "ipython3",
   "version": "3.9.7"
  }
 },
 "nbformat": 4,
 "nbformat_minor": 5
}
